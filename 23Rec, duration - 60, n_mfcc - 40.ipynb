{
  "nbformat": 4,
  "nbformat_minor": 0,
  "metadata": {
    "colab": {
      "provenance": [],
      "collapsed_sections": []
    },
    "kernelspec": {
      "name": "python3",
      "display_name": "Python 3"
    },
    "language_info": {
      "name": "python"
    }
  },
  "cells": [
    {
      "cell_type": "code",
      "execution_count": 1,
      "metadata": {
        "colab": {
          "base_uri": "https://localhost:8080/"
        },
        "id": "YE2xW-seLhyb",
        "outputId": "d3c19b42-93f6-45c6-8d83-85dfd393b285"
      },
      "outputs": [
        {
          "output_type": "stream",
          "name": "stdout",
          "text": [
            "Looking in indexes: https://pypi.org/simple, https://us-python.pkg.dev/colab-wheels/public/simple/\n",
            "Collecting pydub\n",
            "  Downloading pydub-0.25.1-py2.py3-none-any.whl (32 kB)\n",
            "Installing collected packages: pydub\n",
            "Successfully installed pydub-0.25.1\n"
          ]
        }
      ],
      "source": [
        "pip install pydub"
      ]
    },
    {
      "cell_type": "code",
      "source": [
        "pip install ffmpeg"
      ],
      "metadata": {
        "colab": {
          "base_uri": "https://localhost:8080/"
        },
        "id": "abzGZsDWL7pV",
        "outputId": "dde3995e-e7b7-4974-b54e-d53f7f27b356"
      },
      "execution_count": 2,
      "outputs": [
        {
          "output_type": "stream",
          "name": "stdout",
          "text": [
            "Looking in indexes: https://pypi.org/simple, https://us-python.pkg.dev/colab-wheels/public/simple/\n",
            "Collecting ffmpeg\n",
            "  Downloading ffmpeg-1.4.tar.gz (5.1 kB)\n",
            "Building wheels for collected packages: ffmpeg\n",
            "  Building wheel for ffmpeg (setup.py) ... \u001b[?25l\u001b[?25hdone\n",
            "  Created wheel for ffmpeg: filename=ffmpeg-1.4-py3-none-any.whl size=6084 sha256=888b3d3f4c6ac453c8be8947e14bd6fc4f9ca4369467cbb4c6d8d22478167a16\n",
            "  Stored in directory: /root/.cache/pip/wheels/64/80/6e/caa3e16deb0267c3cbfd36862058a724144e19fdb9eb03af0f\n",
            "Successfully built ffmpeg\n",
            "Installing collected packages: ffmpeg\n",
            "Successfully installed ffmpeg-1.4\n"
          ]
        }
      ]
    },
    {
      "cell_type": "code",
      "source": [
        "pip install Ipython"
      ],
      "metadata": {
        "colab": {
          "base_uri": "https://localhost:8080/"
        },
        "id": "ywNS_PfxNDSS",
        "outputId": "3bda7c74-6bcd-418f-df1b-a87dfc1695f7"
      },
      "execution_count": 3,
      "outputs": [
        {
          "output_type": "stream",
          "name": "stdout",
          "text": [
            "Looking in indexes: https://pypi.org/simple, https://us-python.pkg.dev/colab-wheels/public/simple/\n",
            "Requirement already satisfied: Ipython in /usr/local/lib/python3.7/dist-packages (7.9.0)\n",
            "Requirement already satisfied: setuptools>=18.5 in /usr/local/lib/python3.7/dist-packages (from Ipython) (57.4.0)\n",
            "Collecting jedi>=0.10\n",
            "  Downloading jedi-0.18.1-py2.py3-none-any.whl (1.6 MB)\n",
            "\u001b[K     |████████████████████████████████| 1.6 MB 12.3 MB/s \n",
            "\u001b[?25hRequirement already satisfied: backcall in /usr/local/lib/python3.7/dist-packages (from Ipython) (0.2.0)\n",
            "Requirement already satisfied: prompt-toolkit<2.1.0,>=2.0.0 in /usr/local/lib/python3.7/dist-packages (from Ipython) (2.0.10)\n",
            "Requirement already satisfied: decorator in /usr/local/lib/python3.7/dist-packages (from Ipython) (4.4.2)\n",
            "Requirement already satisfied: traitlets>=4.2 in /usr/local/lib/python3.7/dist-packages (from Ipython) (5.1.1)\n",
            "Requirement already satisfied: pickleshare in /usr/local/lib/python3.7/dist-packages (from Ipython) (0.7.5)\n",
            "Requirement already satisfied: pygments in /usr/local/lib/python3.7/dist-packages (from Ipython) (2.6.1)\n",
            "Requirement already satisfied: pexpect in /usr/local/lib/python3.7/dist-packages (from Ipython) (4.8.0)\n",
            "Requirement already satisfied: parso<0.9.0,>=0.8.0 in /usr/local/lib/python3.7/dist-packages (from jedi>=0.10->Ipython) (0.8.3)\n",
            "Requirement already satisfied: six>=1.9.0 in /usr/local/lib/python3.7/dist-packages (from prompt-toolkit<2.1.0,>=2.0.0->Ipython) (1.15.0)\n",
            "Requirement already satisfied: wcwidth in /usr/local/lib/python3.7/dist-packages (from prompt-toolkit<2.1.0,>=2.0.0->Ipython) (0.2.5)\n",
            "Requirement already satisfied: ptyprocess>=0.5 in /usr/local/lib/python3.7/dist-packages (from pexpect->Ipython) (0.7.0)\n",
            "Installing collected packages: jedi\n",
            "Successfully installed jedi-0.18.1\n"
          ]
        }
      ]
    },
    {
      "cell_type": "code",
      "source": [
        "pip uninstall scikit-learn"
      ],
      "metadata": {
        "colab": {
          "base_uri": "https://localhost:8080/"
        },
        "id": "13HgY7BtNJVd",
        "outputId": "078b6c25-64e9-459f-cf60-dc38497a8c25"
      },
      "execution_count": 4,
      "outputs": [
        {
          "output_type": "stream",
          "name": "stdout",
          "text": [
            "Found existing installation: scikit-learn 1.0.2\n",
            "Uninstalling scikit-learn-1.0.2:\n",
            "  Would remove:\n",
            "    /usr/local/lib/python3.7/dist-packages/scikit_learn-1.0.2.dist-info/*\n",
            "    /usr/local/lib/python3.7/dist-packages/scikit_learn.libs/libgomp-a34b3233.so.1.0.0\n",
            "    /usr/local/lib/python3.7/dist-packages/sklearn/*\n",
            "Proceed (y/n)? y\n",
            "  Successfully uninstalled scikit-learn-1.0.2\n"
          ]
        }
      ]
    },
    {
      "cell_type": "code",
      "source": [
        "pip install scikit-learn"
      ],
      "metadata": {
        "colab": {
          "base_uri": "https://localhost:8080/"
        },
        "id": "M-_dDkMZNLPN",
        "outputId": "4d67712c-1784-49b9-d954-0c6ae97dfac7"
      },
      "execution_count": 5,
      "outputs": [
        {
          "output_type": "stream",
          "name": "stdout",
          "text": [
            "Looking in indexes: https://pypi.org/simple, https://us-python.pkg.dev/colab-wheels/public/simple/\n",
            "Collecting scikit-learn\n",
            "  Downloading scikit_learn-1.0.2-cp37-cp37m-manylinux_2_17_x86_64.manylinux2014_x86_64.whl (24.8 MB)\n",
            "\u001b[K     |████████████████████████████████| 24.8 MB 1.5 MB/s \n",
            "\u001b[?25hRequirement already satisfied: scipy>=1.1.0 in /usr/local/lib/python3.7/dist-packages (from scikit-learn) (1.7.3)\n",
            "Requirement already satisfied: joblib>=0.11 in /usr/local/lib/python3.7/dist-packages (from scikit-learn) (1.2.0)\n",
            "Requirement already satisfied: threadpoolctl>=2.0.0 in /usr/local/lib/python3.7/dist-packages (from scikit-learn) (3.1.0)\n",
            "Requirement already satisfied: numpy>=1.14.6 in /usr/local/lib/python3.7/dist-packages (from scikit-learn) (1.21.6)\n",
            "Installing collected packages: scikit-learn\n",
            "Successfully installed scikit-learn-1.0.2\n"
          ]
        }
      ]
    },
    {
      "cell_type": "code",
      "source": [
        "pip install librosa"
      ],
      "metadata": {
        "colab": {
          "base_uri": "https://localhost:8080/"
        },
        "id": "bxGhVTfiN6ge",
        "outputId": "03fd768c-355a-4216-c6d6-c99230da0506"
      },
      "execution_count": 6,
      "outputs": [
        {
          "output_type": "stream",
          "name": "stdout",
          "text": [
            "Looking in indexes: https://pypi.org/simple, https://us-python.pkg.dev/colab-wheels/public/simple/\n",
            "Requirement already satisfied: librosa in /usr/local/lib/python3.7/dist-packages (0.8.1)\n",
            "Requirement already satisfied: scipy>=1.0.0 in /usr/local/lib/python3.7/dist-packages (from librosa) (1.7.3)\n",
            "Requirement already satisfied: audioread>=2.0.0 in /usr/local/lib/python3.7/dist-packages (from librosa) (3.0.0)\n",
            "Requirement already satisfied: decorator>=3.0.0 in /usr/local/lib/python3.7/dist-packages (from librosa) (4.4.2)\n",
            "Requirement already satisfied: joblib>=0.14 in /usr/local/lib/python3.7/dist-packages (from librosa) (1.2.0)\n",
            "Requirement already satisfied: numba>=0.43.0 in /usr/local/lib/python3.7/dist-packages (from librosa) (0.56.3)\n",
            "Requirement already satisfied: scikit-learn!=0.19.0,>=0.14.0 in /usr/local/lib/python3.7/dist-packages (from librosa) (1.0.2)\n",
            "Requirement already satisfied: numpy>=1.15.0 in /usr/local/lib/python3.7/dist-packages (from librosa) (1.21.6)\n",
            "Requirement already satisfied: resampy>=0.2.2 in /usr/local/lib/python3.7/dist-packages (from librosa) (0.4.2)\n",
            "Requirement already satisfied: pooch>=1.0 in /usr/local/lib/python3.7/dist-packages (from librosa) (1.6.0)\n",
            "Requirement already satisfied: soundfile>=0.10.2 in /usr/local/lib/python3.7/dist-packages (from librosa) (0.11.0)\n",
            "Requirement already satisfied: packaging>=20.0 in /usr/local/lib/python3.7/dist-packages (from librosa) (21.3)\n",
            "Requirement already satisfied: importlib-metadata in /usr/local/lib/python3.7/dist-packages (from numba>=0.43.0->librosa) (4.13.0)\n",
            "Requirement already satisfied: llvmlite<0.40,>=0.39.0dev0 in /usr/local/lib/python3.7/dist-packages (from numba>=0.43.0->librosa) (0.39.1)\n",
            "Requirement already satisfied: setuptools in /usr/local/lib/python3.7/dist-packages (from numba>=0.43.0->librosa) (57.4.0)\n",
            "Requirement already satisfied: pyparsing!=3.0.5,>=2.0.2 in /usr/local/lib/python3.7/dist-packages (from packaging>=20.0->librosa) (3.0.9)\n",
            "Requirement already satisfied: requests>=2.19.0 in /usr/local/lib/python3.7/dist-packages (from pooch>=1.0->librosa) (2.23.0)\n",
            "Requirement already satisfied: appdirs>=1.3.0 in /usr/local/lib/python3.7/dist-packages (from pooch>=1.0->librosa) (1.4.4)\n",
            "Requirement already satisfied: urllib3!=1.25.0,!=1.25.1,<1.26,>=1.21.1 in /usr/local/lib/python3.7/dist-packages (from requests>=2.19.0->pooch>=1.0->librosa) (1.24.3)\n",
            "Requirement already satisfied: chardet<4,>=3.0.2 in /usr/local/lib/python3.7/dist-packages (from requests>=2.19.0->pooch>=1.0->librosa) (3.0.4)\n",
            "Requirement already satisfied: idna<3,>=2.5 in /usr/local/lib/python3.7/dist-packages (from requests>=2.19.0->pooch>=1.0->librosa) (2.10)\n",
            "Requirement already satisfied: certifi>=2017.4.17 in /usr/local/lib/python3.7/dist-packages (from requests>=2.19.0->pooch>=1.0->librosa) (2022.9.24)\n",
            "Requirement already satisfied: threadpoolctl>=2.0.0 in /usr/local/lib/python3.7/dist-packages (from scikit-learn!=0.19.0,>=0.14.0->librosa) (3.1.0)\n",
            "Requirement already satisfied: cffi>=1.0 in /usr/local/lib/python3.7/dist-packages (from soundfile>=0.10.2->librosa) (1.15.1)\n",
            "Requirement already satisfied: pycparser in /usr/local/lib/python3.7/dist-packages (from cffi>=1.0->soundfile>=0.10.2->librosa) (2.21)\n",
            "Requirement already satisfied: zipp>=0.5 in /usr/local/lib/python3.7/dist-packages (from importlib-metadata->numba>=0.43.0->librosa) (3.9.0)\n",
            "Requirement already satisfied: typing-extensions>=3.6.4 in /usr/local/lib/python3.7/dist-packages (from importlib-metadata->numba>=0.43.0->librosa) (4.1.1)\n"
          ]
        }
      ]
    },
    {
      "cell_type": "code",
      "source": [
        "pip install pyAudioProcessing"
      ],
      "metadata": {
        "colab": {
          "base_uri": "https://localhost:8080/",
          "height": 1000
        },
        "id": "HmHglC1fOD0q",
        "outputId": "a66ffaba-09d5-4ec5-fff4-815c2b7dca95"
      },
      "execution_count": 7,
      "outputs": [
        {
          "output_type": "stream",
          "name": "stdout",
          "text": [
            "Looking in indexes: https://pypi.org/simple, https://us-python.pkg.dev/colab-wheels/public/simple/\n",
            "Collecting pyAudioProcessing\n",
            "  Downloading pyAudioProcessing-1.1.13-py3-none-any.whl (1.0 MB)\n",
            "\u001b[K     |████████████████████████████████| 1.0 MB 14.0 MB/s \n",
            "\u001b[?25hRequirement already satisfied: pydub==0.25.1 in /usr/local/lib/python3.7/dist-packages (from pyAudioProcessing) (0.25.1)\n",
            "Collecting scipy==1.5.4\n",
            "  Downloading scipy-1.5.4-cp37-cp37m-manylinux1_x86_64.whl (25.9 MB)\n",
            "\u001b[K     |████████████████████████████████| 25.9 MB 1.4 MB/s \n",
            "\u001b[?25hCollecting pytest==6.2.3\n",
            "  Downloading pytest-6.2.3-py3-none-any.whl (280 kB)\n",
            "\u001b[K     |████████████████████████████████| 280 kB 57.1 MB/s \n",
            "\u001b[?25hRequirement already satisfied: ffmpeg==1.4 in /usr/local/lib/python3.7/dist-packages (from pyAudioProcessing) (1.4)\n",
            "Requirement already satisfied: numpy==1.21.6 in /usr/local/lib/python3.7/dist-packages (from pyAudioProcessing) (1.21.6)\n",
            "Collecting matplotlib==3.3.4\n",
            "  Downloading matplotlib-3.3.4-cp37-cp37m-manylinux1_x86_64.whl (11.5 MB)\n",
            "\u001b[K     |████████████████████████████████| 11.5 MB 23.9 MB/s \n",
            "\u001b[?25hCollecting scikit-learn==0.24.2\n",
            "  Downloading scikit_learn-0.24.2-cp37-cp37m-manylinux2010_x86_64.whl (22.3 MB)\n",
            "\u001b[K     |████████████████████████████████| 22.3 MB 1.4 MB/s \n",
            "\u001b[?25hRequirement already satisfied: kiwisolver>=1.0.1 in /usr/local/lib/python3.7/dist-packages (from matplotlib==3.3.4->pyAudioProcessing) (1.4.4)\n",
            "Requirement already satisfied: pillow>=6.2.0 in /usr/local/lib/python3.7/dist-packages (from matplotlib==3.3.4->pyAudioProcessing) (7.1.2)\n",
            "Requirement already satisfied: cycler>=0.10 in /usr/local/lib/python3.7/dist-packages (from matplotlib==3.3.4->pyAudioProcessing) (0.11.0)\n",
            "Requirement already satisfied: python-dateutil>=2.1 in /usr/local/lib/python3.7/dist-packages (from matplotlib==3.3.4->pyAudioProcessing) (2.8.2)\n",
            "Requirement already satisfied: pyparsing!=2.0.4,!=2.1.2,!=2.1.6,>=2.0.3 in /usr/local/lib/python3.7/dist-packages (from matplotlib==3.3.4->pyAudioProcessing) (3.0.9)\n",
            "Requirement already satisfied: importlib-metadata>=0.12 in /usr/local/lib/python3.7/dist-packages (from pytest==6.2.3->pyAudioProcessing) (4.13.0)\n",
            "Requirement already satisfied: packaging in /usr/local/lib/python3.7/dist-packages (from pytest==6.2.3->pyAudioProcessing) (21.3)\n",
            "Requirement already satisfied: attrs>=19.2.0 in /usr/local/lib/python3.7/dist-packages (from pytest==6.2.3->pyAudioProcessing) (22.1.0)\n",
            "Collecting pluggy<1.0.0a1,>=0.12\n",
            "  Downloading pluggy-0.13.1-py2.py3-none-any.whl (18 kB)\n",
            "Collecting iniconfig\n",
            "  Downloading iniconfig-1.1.1-py2.py3-none-any.whl (5.0 kB)\n",
            "Requirement already satisfied: py>=1.8.2 in /usr/local/lib/python3.7/dist-packages (from pytest==6.2.3->pyAudioProcessing) (1.11.0)\n",
            "Requirement already satisfied: toml in /usr/local/lib/python3.7/dist-packages (from pytest==6.2.3->pyAudioProcessing) (0.10.2)\n",
            "Requirement already satisfied: threadpoolctl>=2.0.0 in /usr/local/lib/python3.7/dist-packages (from scikit-learn==0.24.2->pyAudioProcessing) (3.1.0)\n",
            "Requirement already satisfied: joblib>=0.11 in /usr/local/lib/python3.7/dist-packages (from scikit-learn==0.24.2->pyAudioProcessing) (1.2.0)\n",
            "Requirement already satisfied: zipp>=0.5 in /usr/local/lib/python3.7/dist-packages (from importlib-metadata>=0.12->pytest==6.2.3->pyAudioProcessing) (3.9.0)\n",
            "Requirement already satisfied: typing-extensions>=3.6.4 in /usr/local/lib/python3.7/dist-packages (from importlib-metadata>=0.12->pytest==6.2.3->pyAudioProcessing) (4.1.1)\n",
            "Requirement already satisfied: six>=1.5 in /usr/local/lib/python3.7/dist-packages (from python-dateutil>=2.1->matplotlib==3.3.4->pyAudioProcessing) (1.15.0)\n",
            "Installing collected packages: scipy, pluggy, iniconfig, scikit-learn, pytest, matplotlib, pyAudioProcessing\n",
            "  Attempting uninstall: scipy\n",
            "    Found existing installation: scipy 1.7.3\n",
            "    Uninstalling scipy-1.7.3:\n",
            "      Successfully uninstalled scipy-1.7.3\n",
            "  Attempting uninstall: pluggy\n",
            "    Found existing installation: pluggy 0.7.1\n",
            "    Uninstalling pluggy-0.7.1:\n",
            "      Successfully uninstalled pluggy-0.7.1\n",
            "  Attempting uninstall: scikit-learn\n",
            "    Found existing installation: scikit-learn 1.0.2\n",
            "    Uninstalling scikit-learn-1.0.2:\n",
            "      Successfully uninstalled scikit-learn-1.0.2\n",
            "  Attempting uninstall: pytest\n",
            "    Found existing installation: pytest 3.6.4\n",
            "    Uninstalling pytest-3.6.4:\n",
            "      Successfully uninstalled pytest-3.6.4\n",
            "  Attempting uninstall: matplotlib\n",
            "    Found existing installation: matplotlib 3.2.2\n",
            "    Uninstalling matplotlib-3.2.2:\n",
            "      Successfully uninstalled matplotlib-3.2.2\n",
            "\u001b[31mERROR: pip's dependency resolver does not currently take into account all the packages that are installed. This behaviour is the source of the following dependency conflicts.\n",
            "yellowbrick 1.5 requires scikit-learn>=1.0.0, but you have scikit-learn 0.24.2 which is incompatible.\u001b[0m\n",
            "Successfully installed iniconfig-1.1.1 matplotlib-3.3.4 pluggy-0.13.1 pyAudioProcessing-1.1.13 pytest-6.2.3 scikit-learn-0.24.2 scipy-1.5.4\n"
          ]
        },
        {
          "output_type": "display_data",
          "data": {
            "application/vnd.colab-display-data+json": {
              "pip_warning": {
                "packages": [
                  "matplotlib",
                  "mpl_toolkits"
                ]
              }
            }
          },
          "metadata": {}
        }
      ]
    },
    {
      "cell_type": "code",
      "source": [
        "import numpy as np\n",
        "import pandas as pd\n",
        "import seaborn as sns\n",
        "import matplotlib as plt\n",
        "import itertools\n",
        "import os\n",
        "import sys\n",
        "import pywt\n",
        "import librosa\n",
        "import sklearn\n",
        "import scipy\n",
        "import scipy.io\n",
        "import scipy.io.wavfile\n",
        "from scipy import signal\n",
        "from scipy.stats import kurtosis, skew, tstd\n",
        "from scipy.signal import periodogram, welch, butter, lfilter, freqz\n",
        "from os import path\n",
        "from pydub import AudioSegment\n",
        "import tensorflow as tf\n",
        "from tensorflow import keras\n",
        "from keras import optimizers\n",
        "from keras.models import Model, load_model, Sequential\n",
        "from keras.layers import Input, Dense, Dropout, AlphaDropout, Activation, Flatten, LSTM\n",
        "from keras.callbacks import ModelCheckpoint, TensorBoard,EarlyStopping,ReduceLROnPlateau,ProgbarLogger\n",
        "from sklearn.model_selection import train_test_split, GridSearchCV\n",
        "from sklearn.metrics import confusion_matrix, precision_recall_curve, recall_score, classification_report, auc, roc_curve, precision_recall_fscore_support, f1_score, accuracy_score\n",
        "from sklearn.preprocessing import OneHotEncoder, MinMaxScaler, LabelEncoder\n",
        "from sklearn.linear_model import LogisticRegression\n",
        "from keras.utils import np_utils\n",
        "from keras.wrappers.scikit_learn import KerasClassifier\n",
        "from pyAudioProcessing.extract_features import get_features"
      ],
      "metadata": {
        "id": "qnSxOsNek_HZ"
      },
      "execution_count": 8,
      "outputs": []
    },
    {
      "cell_type": "code",
      "source": [
        "#List of Labels - 0 for normal, 1 for murmur\n",
        "labels = [0,0,0,0,0,1,1,1,1,1,1,1,1,0,1,1,1,0,0,0,1,1,1]\n",
        "len(labels)"
      ],
      "metadata": {
        "colab": {
          "base_uri": "https://localhost:8080/"
        },
        "id": "EVkWBerrOGYV",
        "outputId": "2daf98d7-af84-4f00-996d-e2972d67d7bd"
      },
      "execution_count": 9,
      "outputs": [
        {
          "output_type": "execute_result",
          "data": {
            "text/plain": [
              "23"
            ]
          },
          "metadata": {},
          "execution_count": 9
        }
      ]
    },
    {
      "cell_type": "code",
      "source": [
        "#They were originally named differently and I have renamed and numbered them for ease of access.\n",
        "#The michigan heart sound recordings are in mp3 format\n",
        "#The recordings are converted to wav format for easy processing as most python libraries require the audio format to be wav.\n",
        "\n",
        "def converttowav(filepath):\n",
        "  destinationpath = filepath.split('.')[0] + '.wav'\n",
        "  sound = AudioSegment.from_mp3(filepath)\n",
        "  sound.export(destinationpath, format = \"wav\")\n",
        "\n",
        "filepathslist = list()\n",
        "for i in range(23):\n",
        "  filepath = str(i+1) + '.mp3'\n",
        "  converttowav(filepath)\n",
        "  filepathslist.append(str(i+1)+'.wav')"
      ],
      "metadata": {
        "id": "ZLsrJmWijLMi"
      },
      "execution_count": 10,
      "outputs": []
    },
    {
      "cell_type": "code",
      "source": [
        "#Creating an empty dataframe with columns to store filenames and the respective labels\n",
        "dataframe = pd.DataFrame(columns = ['filename', 'labels'])"
      ],
      "metadata": {
        "id": "lmO-BEaqma9y"
      },
      "execution_count": 11,
      "outputs": []
    },
    {
      "cell_type": "code",
      "source": [
        "filepathslist"
      ],
      "metadata": {
        "colab": {
          "base_uri": "https://localhost:8080/"
        },
        "id": "pV5QoIa4tT8E",
        "outputId": "74303f6f-3ac3-4656-837d-54a4ee34f080"
      },
      "execution_count": 12,
      "outputs": [
        {
          "output_type": "execute_result",
          "data": {
            "text/plain": [
              "['1.wav',\n",
              " '2.wav',\n",
              " '3.wav',\n",
              " '4.wav',\n",
              " '5.wav',\n",
              " '6.wav',\n",
              " '7.wav',\n",
              " '8.wav',\n",
              " '9.wav',\n",
              " '10.wav',\n",
              " '11.wav',\n",
              " '12.wav',\n",
              " '13.wav',\n",
              " '14.wav',\n",
              " '15.wav',\n",
              " '16.wav',\n",
              " '17.wav',\n",
              " '18.wav',\n",
              " '19.wav',\n",
              " '20.wav',\n",
              " '21.wav',\n",
              " '22.wav',\n",
              " '23.wav']"
            ]
          },
          "metadata": {},
          "execution_count": 12
        }
      ]
    },
    {
      "cell_type": "code",
      "source": [
        "labels"
      ],
      "metadata": {
        "colab": {
          "base_uri": "https://localhost:8080/"
        },
        "id": "ByxRbYTMtVV1",
        "outputId": "d69b9351-02cf-4e07-e547-2c1919f5847d"
      },
      "execution_count": 13,
      "outputs": [
        {
          "output_type": "execute_result",
          "data": {
            "text/plain": [
              "[0, 0, 0, 0, 0, 1, 1, 1, 1, 1, 1, 1, 1, 0, 1, 1, 1, 0, 0, 0, 1, 1, 1]"
            ]
          },
          "metadata": {},
          "execution_count": 13
        }
      ]
    },
    {
      "cell_type": "code",
      "source": [
        "#Inserting filename and label values into dataframe\n",
        "dataframe['filename'] = filepathslist\n",
        "dataframe['labels'] = labels"
      ],
      "metadata": {
        "id": "mvJtQAqAtZV1"
      },
      "execution_count": 14,
      "outputs": []
    },
    {
      "cell_type": "code",
      "source": [
        "dataframe"
      ],
      "metadata": {
        "colab": {
          "base_uri": "https://localhost:8080/",
          "height": 770
        },
        "id": "--htr29DthpR",
        "outputId": "6ae45c97-c212-44f9-fe20-058a5b6634f5"
      },
      "execution_count": 15,
      "outputs": [
        {
          "output_type": "execute_result",
          "data": {
            "text/plain": [
              "   filename  labels\n",
              "0     1.wav       0\n",
              "1     2.wav       0\n",
              "2     3.wav       0\n",
              "3     4.wav       0\n",
              "4     5.wav       0\n",
              "5     6.wav       1\n",
              "6     7.wav       1\n",
              "7     8.wav       1\n",
              "8     9.wav       1\n",
              "9    10.wav       1\n",
              "10   11.wav       1\n",
              "11   12.wav       1\n",
              "12   13.wav       1\n",
              "13   14.wav       0\n",
              "14   15.wav       1\n",
              "15   16.wav       1\n",
              "16   17.wav       1\n",
              "17   18.wav       0\n",
              "18   19.wav       0\n",
              "19   20.wav       0\n",
              "20   21.wav       1\n",
              "21   22.wav       1\n",
              "22   23.wav       1"
            ],
            "text/html": [
              "\n",
              "  <div id=\"df-64e6dcef-79f1-4584-82ca-57c4d1b7d54b\">\n",
              "    <div class=\"colab-df-container\">\n",
              "      <div>\n",
              "<style scoped>\n",
              "    .dataframe tbody tr th:only-of-type {\n",
              "        vertical-align: middle;\n",
              "    }\n",
              "\n",
              "    .dataframe tbody tr th {\n",
              "        vertical-align: top;\n",
              "    }\n",
              "\n",
              "    .dataframe thead th {\n",
              "        text-align: right;\n",
              "    }\n",
              "</style>\n",
              "<table border=\"1\" class=\"dataframe\">\n",
              "  <thead>\n",
              "    <tr style=\"text-align: right;\">\n",
              "      <th></th>\n",
              "      <th>filename</th>\n",
              "      <th>labels</th>\n",
              "    </tr>\n",
              "  </thead>\n",
              "  <tbody>\n",
              "    <tr>\n",
              "      <th>0</th>\n",
              "      <td>1.wav</td>\n",
              "      <td>0</td>\n",
              "    </tr>\n",
              "    <tr>\n",
              "      <th>1</th>\n",
              "      <td>2.wav</td>\n",
              "      <td>0</td>\n",
              "    </tr>\n",
              "    <tr>\n",
              "      <th>2</th>\n",
              "      <td>3.wav</td>\n",
              "      <td>0</td>\n",
              "    </tr>\n",
              "    <tr>\n",
              "      <th>3</th>\n",
              "      <td>4.wav</td>\n",
              "      <td>0</td>\n",
              "    </tr>\n",
              "    <tr>\n",
              "      <th>4</th>\n",
              "      <td>5.wav</td>\n",
              "      <td>0</td>\n",
              "    </tr>\n",
              "    <tr>\n",
              "      <th>5</th>\n",
              "      <td>6.wav</td>\n",
              "      <td>1</td>\n",
              "    </tr>\n",
              "    <tr>\n",
              "      <th>6</th>\n",
              "      <td>7.wav</td>\n",
              "      <td>1</td>\n",
              "    </tr>\n",
              "    <tr>\n",
              "      <th>7</th>\n",
              "      <td>8.wav</td>\n",
              "      <td>1</td>\n",
              "    </tr>\n",
              "    <tr>\n",
              "      <th>8</th>\n",
              "      <td>9.wav</td>\n",
              "      <td>1</td>\n",
              "    </tr>\n",
              "    <tr>\n",
              "      <th>9</th>\n",
              "      <td>10.wav</td>\n",
              "      <td>1</td>\n",
              "    </tr>\n",
              "    <tr>\n",
              "      <th>10</th>\n",
              "      <td>11.wav</td>\n",
              "      <td>1</td>\n",
              "    </tr>\n",
              "    <tr>\n",
              "      <th>11</th>\n",
              "      <td>12.wav</td>\n",
              "      <td>1</td>\n",
              "    </tr>\n",
              "    <tr>\n",
              "      <th>12</th>\n",
              "      <td>13.wav</td>\n",
              "      <td>1</td>\n",
              "    </tr>\n",
              "    <tr>\n",
              "      <th>13</th>\n",
              "      <td>14.wav</td>\n",
              "      <td>0</td>\n",
              "    </tr>\n",
              "    <tr>\n",
              "      <th>14</th>\n",
              "      <td>15.wav</td>\n",
              "      <td>1</td>\n",
              "    </tr>\n",
              "    <tr>\n",
              "      <th>15</th>\n",
              "      <td>16.wav</td>\n",
              "      <td>1</td>\n",
              "    </tr>\n",
              "    <tr>\n",
              "      <th>16</th>\n",
              "      <td>17.wav</td>\n",
              "      <td>1</td>\n",
              "    </tr>\n",
              "    <tr>\n",
              "      <th>17</th>\n",
              "      <td>18.wav</td>\n",
              "      <td>0</td>\n",
              "    </tr>\n",
              "    <tr>\n",
              "      <th>18</th>\n",
              "      <td>19.wav</td>\n",
              "      <td>0</td>\n",
              "    </tr>\n",
              "    <tr>\n",
              "      <th>19</th>\n",
              "      <td>20.wav</td>\n",
              "      <td>0</td>\n",
              "    </tr>\n",
              "    <tr>\n",
              "      <th>20</th>\n",
              "      <td>21.wav</td>\n",
              "      <td>1</td>\n",
              "    </tr>\n",
              "    <tr>\n",
              "      <th>21</th>\n",
              "      <td>22.wav</td>\n",
              "      <td>1</td>\n",
              "    </tr>\n",
              "    <tr>\n",
              "      <th>22</th>\n",
              "      <td>23.wav</td>\n",
              "      <td>1</td>\n",
              "    </tr>\n",
              "  </tbody>\n",
              "</table>\n",
              "</div>\n",
              "      <button class=\"colab-df-convert\" onclick=\"convertToInteractive('df-64e6dcef-79f1-4584-82ca-57c4d1b7d54b')\"\n",
              "              title=\"Convert this dataframe to an interactive table.\"\n",
              "              style=\"display:none;\">\n",
              "        \n",
              "  <svg xmlns=\"http://www.w3.org/2000/svg\" height=\"24px\"viewBox=\"0 0 24 24\"\n",
              "       width=\"24px\">\n",
              "    <path d=\"M0 0h24v24H0V0z\" fill=\"none\"/>\n",
              "    <path d=\"M18.56 5.44l.94 2.06.94-2.06 2.06-.94-2.06-.94-.94-2.06-.94 2.06-2.06.94zm-11 1L8.5 8.5l.94-2.06 2.06-.94-2.06-.94L8.5 2.5l-.94 2.06-2.06.94zm10 10l.94 2.06.94-2.06 2.06-.94-2.06-.94-.94-2.06-.94 2.06-2.06.94z\"/><path d=\"M17.41 7.96l-1.37-1.37c-.4-.4-.92-.59-1.43-.59-.52 0-1.04.2-1.43.59L10.3 9.45l-7.72 7.72c-.78.78-.78 2.05 0 2.83L4 21.41c.39.39.9.59 1.41.59.51 0 1.02-.2 1.41-.59l7.78-7.78 2.81-2.81c.8-.78.8-2.07 0-2.86zM5.41 20L4 18.59l7.72-7.72 1.47 1.35L5.41 20z\"/>\n",
              "  </svg>\n",
              "      </button>\n",
              "      \n",
              "  <style>\n",
              "    .colab-df-container {\n",
              "      display:flex;\n",
              "      flex-wrap:wrap;\n",
              "      gap: 12px;\n",
              "    }\n",
              "\n",
              "    .colab-df-convert {\n",
              "      background-color: #E8F0FE;\n",
              "      border: none;\n",
              "      border-radius: 50%;\n",
              "      cursor: pointer;\n",
              "      display: none;\n",
              "      fill: #1967D2;\n",
              "      height: 32px;\n",
              "      padding: 0 0 0 0;\n",
              "      width: 32px;\n",
              "    }\n",
              "\n",
              "    .colab-df-convert:hover {\n",
              "      background-color: #E2EBFA;\n",
              "      box-shadow: 0px 1px 2px rgba(60, 64, 67, 0.3), 0px 1px 3px 1px rgba(60, 64, 67, 0.15);\n",
              "      fill: #174EA6;\n",
              "    }\n",
              "\n",
              "    [theme=dark] .colab-df-convert {\n",
              "      background-color: #3B4455;\n",
              "      fill: #D2E3FC;\n",
              "    }\n",
              "\n",
              "    [theme=dark] .colab-df-convert:hover {\n",
              "      background-color: #434B5C;\n",
              "      box-shadow: 0px 1px 3px 1px rgba(0, 0, 0, 0.15);\n",
              "      filter: drop-shadow(0px 1px 2px rgba(0, 0, 0, 0.3));\n",
              "      fill: #FFFFFF;\n",
              "    }\n",
              "  </style>\n",
              "\n",
              "      <script>\n",
              "        const buttonEl =\n",
              "          document.querySelector('#df-64e6dcef-79f1-4584-82ca-57c4d1b7d54b button.colab-df-convert');\n",
              "        buttonEl.style.display =\n",
              "          google.colab.kernel.accessAllowed ? 'block' : 'none';\n",
              "\n",
              "        async function convertToInteractive(key) {\n",
              "          const element = document.querySelector('#df-64e6dcef-79f1-4584-82ca-57c4d1b7d54b');\n",
              "          const dataTable =\n",
              "            await google.colab.kernel.invokeFunction('convertToInteractive',\n",
              "                                                     [key], {});\n",
              "          if (!dataTable) return;\n",
              "\n",
              "          const docLinkHtml = 'Like what you see? Visit the ' +\n",
              "            '<a target=\"_blank\" href=https://colab.research.google.com/notebooks/data_table.ipynb>data table notebook</a>'\n",
              "            + ' to learn more about interactive tables.';\n",
              "          element.innerHTML = '';\n",
              "          dataTable['output_type'] = 'display_data';\n",
              "          await google.colab.output.renderOutput(dataTable, element);\n",
              "          const docLink = document.createElement('div');\n",
              "          docLink.innerHTML = docLinkHtml;\n",
              "          element.appendChild(docLink);\n",
              "        }\n",
              "      </script>\n",
              "    </div>\n",
              "  </div>\n",
              "  "
            ]
          },
          "metadata": {},
          "execution_count": 15
        }
      ]
    },
    {
      "cell_type": "code",
      "source": [
        "X_train, X_test, y_Train, y_Test = train_test_split(dataframe['filename'], labels, train_size=0.8, shuffle=True)"
      ],
      "metadata": {
        "id": "kq_Zq06vFTvw"
      },
      "execution_count": 16,
      "outputs": []
    },
    {
      "cell_type": "code",
      "source": [
        "X_train"
      ],
      "metadata": {
        "colab": {
          "base_uri": "https://localhost:8080/"
        },
        "id": "PLm19edPFde2",
        "outputId": "e8cc9abc-9da4-410f-de65-3024d57e137d"
      },
      "execution_count": 17,
      "outputs": [
        {
          "output_type": "execute_result",
          "data": {
            "text/plain": [
              "8      9.wav\n",
              "11    12.wav\n",
              "22    23.wav\n",
              "18    19.wav\n",
              "17    18.wav\n",
              "7      8.wav\n",
              "21    22.wav\n",
              "4      5.wav\n",
              "10    11.wav\n",
              "5      6.wav\n",
              "12    13.wav\n",
              "14    15.wav\n",
              "20    21.wav\n",
              "3      4.wav\n",
              "19    20.wav\n",
              "9     10.wav\n",
              "0      1.wav\n",
              "16    17.wav\n",
              "Name: filename, dtype: object"
            ]
          },
          "metadata": {},
          "execution_count": 17
        }
      ]
    },
    {
      "cell_type": "code",
      "source": [
        "X_test"
      ],
      "metadata": {
        "colab": {
          "base_uri": "https://localhost:8080/"
        },
        "id": "rZSOp2-eFgLB",
        "outputId": "899735c1-8d33-4c3a-8aa3-71b363752156"
      },
      "execution_count": 18,
      "outputs": [
        {
          "output_type": "execute_result",
          "data": {
            "text/plain": [
              "1      2.wav\n",
              "2      3.wav\n",
              "13    14.wav\n",
              "15    16.wav\n",
              "6      7.wav\n",
              "Name: filename, dtype: object"
            ]
          },
          "metadata": {},
          "execution_count": 18
        }
      ]
    },
    {
      "cell_type": "code",
      "source": [
        "#Computing Features - \n",
        "\n",
        "#Discrete Wavelet Transform\n",
        "def computeDWTs(x):\n",
        "    #approximation and detail coefficients\n",
        "    res = np.array([])\n",
        "    ca, cd = pywt.dwt(x, 'db8')\n",
        "    #Compute mean, stdev, skew, kurtosis\n",
        "    camean = np.mean(ca)\n",
        "    res = np.hstack((res,camean))\n",
        "    castdev = tstd(ca)\n",
        "    res = np.hstack((res,castdev))\n",
        "    caskew = skew(ca)\n",
        "    res = np.hstack((res,caskew))\n",
        "    cakurtosis = kurtosis(ca)\n",
        "    res = np.hstack((res,cakurtosis))\n",
        "    cdmean = np.mean(cd)\n",
        "    res = np.hstack((res,cdmean))\n",
        "    cdstdev = tstd(cd)\n",
        "    res = np.hstack((res,cdstdev))\n",
        "    cdskew = skew(cd)\n",
        "    res = np.hstack((res,cdskew))\n",
        "    cdkurtosis = kurtosis(cd)\n",
        "    res = np.hstack((res, cdkurtosis))\n",
        "    return res\n",
        "\n",
        "#Computing the Spectral Entropy of the signal - Shannon Entropy of the Power Spectral Density (PSD) of the data\n",
        "def SpectralEntropy(Signal, SampleRate, method = 'fft', nperseg = None, normalize = False):\n",
        "    Signal = np.array(Signal)\n",
        "    if method == 'fft':\n",
        "      _, psd = periodogram(Signal, SampleRate)\n",
        "    elif method == 'welch':\n",
        "      _, psd = welch(Signal, SampleRate, nperseg=nperseg)\n",
        "    psd_norm = np.divide(psd, psd.sum())\n",
        "    se = -np.multiply(psd_norm, np.log2(psd_norm)).sum()\n",
        "    if normalize:\n",
        "        se /= np.log2(psd_norm.size)\n",
        "    return se\n",
        "\n",
        "#Computing the Power Spectral Density(PSD) of signal - \n",
        "def computepsd(x):\n",
        "    freq, psd = signal.welch(x)\n",
        "    return psd\n",
        "\n",
        "#Computing Mel-frequency cepstral coefficients, Gammatone frequency cepstral coefficients, RMS Energy, Zero-crossing rate, mean, variance, skew, and kurtosis of the signal\n",
        "def computeMFCC(x, sr):\n",
        "    mfccs = np.mean(librosa.feature.mfcc(y = x, sr = sr, n_mfcc = 40).T, axis = 0)\n",
        "    return mfccs\n",
        "\n",
        "def computeGFCC(file_name):\n",
        "    gfcc = get_features(file=file_name, feature_names=[\"gfcc\"])\n",
        "    gfcc = np.array(gfcc['audio'][file_name]['features'])\n",
        "    return gfcc\n",
        "\n",
        "def computeRMSEn(x):\n",
        "    rmsen = np.mean(librosa.feature.rms(x, frame_length=2048, hop_length=1024, center=True).T, axis = 0)\n",
        "    return rmsen\n",
        "\n",
        "def computeZCR(x):\n",
        "    zcr = np.mean(librosa.feature.zero_crossing_rate(y = x, frame_length=2048, hop_length=1024).T, axis = 0)\n",
        "    return zcr\n",
        "\n",
        "def computestats(x):\n",
        "#Mean, Variance, Skew, Kurtosis\n",
        "    stats = []\n",
        "    me = np.mean(x)\n",
        "    stats.append(me)\n",
        "    variance = np.var(x)\n",
        "    stats.append(variance)\n",
        "    sk = skew(x)\n",
        "    stats.append(sk)\n",
        "    kurt = kurtosis(x)\n",
        "    stats.append(kurt)\n",
        "    return stats"
      ],
      "metadata": {
        "id": "xeBRDwvYtjEZ"
      },
      "execution_count": 19,
      "outputs": []
    },
    {
      "cell_type": "code",
      "source": [
        "#Function to extract the required features\n",
        "def extractfeatures(file_name, x, sr, *, mfcc: bool = False, dwt: bool = False, spectral_entropy: bool = False, psd: bool = False, gfcc: bool = False, rmse: bool = False, zcr: bool = False, stats: bool = False):\n",
        "    finalfeatures = np.array([])\n",
        "    if mfcc:\n",
        "        mfccs = computeMFCC(x, sr)\n",
        "        finalfeatures = np.hstack((finalfeatures, mfccs))\n",
        "    if dwt:\n",
        "        dwtr = computeDWTs(x)\n",
        "        finalfeatures = np.hstack((finalfeatures, dwtr))\n",
        "    if spectral_entropy:\n",
        "        specen = SpectralEntropy(x, sr)\n",
        "        finalfeatures = np.hstack((finalfeatures,specen))\n",
        "    if psd:\n",
        "        psds = computepsd(x)\n",
        "        finalfeatures = np.hstack((finalfeatures, psds))\n",
        "    if gfcc:\n",
        "        gfccs = computeGFCC(file_name)\n",
        "        finalfeatures = np.hstack((finalfeatures, gfccs))\n",
        "    if rmse:\n",
        "        rmses = computeRMSEn(x)\n",
        "        finalfeatures = np.hstack((finalfeatures, rmses))\n",
        "    if zcr:\n",
        "        zcrs = computeZCR(x)\n",
        "        finalfeatures = np.hstack((finalfeatures, zcrs))\n",
        "    if stats:\n",
        "        stats1 = computestats(x)\n",
        "        finalfeatures = np.hstack((finalfeatures, stats1))\n",
        "    return finalfeatures"
      ],
      "metadata": {
        "id": "RLB-Pv-FuBgW"
      },
      "execution_count": 20,
      "outputs": []
    },
    {
      "cell_type": "code",
      "source": [
        "#loads audio and extracts required features\n",
        "def load_file_data(file_names, duration=60, sr = 4000):\n",
        "    input_length=sr*duration\n",
        "    notfeatures = []\n",
        "    for file_name in file_names:\n",
        "        try:\n",
        "            #sound_file = folder + '/' + file_name\n",
        "            sound_file = file_name\n",
        "            print (\"load file \",sound_file)\n",
        "            x, sr = librosa.load(sound_file,duration=duration,res_type='kaiser_fast')\n",
        "            dur = librosa.get_duration(y=x, sr=sr)\n",
        "            #Padding audio signal\n",
        "            if (round(dur) < duration):\n",
        "                print (\"fixing audio length:\", file_name)\n",
        "                y = librosa.util.fix_length(x, input_length)\n",
        "            feature = extractfeatures(sound_file, x, sr, mfcc = True, dwt = True, psd = True, gfcc = True, rmse = True, zcr = True,stats = True)\n",
        "            notfeatures.append(feature)           \n",
        "        except Exception as e:\n",
        "            print(e)\n",
        "            #notfeatures = np.asarray(features, dtype=np.float32)\n",
        "    return notfeatures"
      ],
      "metadata": {
        "id": "KMuJyDaMuShW"
      },
      "execution_count": 21,
      "outputs": []
    },
    {
      "cell_type": "code",
      "source": [
        "x_train = []\n",
        "x_test = []\n",
        "x_train = load_file_data(X_train)\n",
        "x_test = load_file_data(X_test)"
      ],
      "metadata": {
        "colab": {
          "base_uri": "https://localhost:8080/"
        },
        "id": "d1gjD-mGvUJv",
        "outputId": "611119bd-85d2-48fd-e8d5-86444e428b52"
      },
      "execution_count": 22,
      "outputs": [
        {
          "output_type": "stream",
          "name": "stdout",
          "text": [
            "load file  9.wav\n",
            "\n",
            "        \n",
            " Extracting features gfcc \n",
            "\n",
            "        \n",
            "Computing features for file 1 of 1 : 9.wav\n",
            "load file  12.wav\n",
            "\n",
            "        \n",
            " Extracting features gfcc \n",
            "\n",
            "        \n",
            "Computing features for file 1 of 1 : 12.wav\n",
            "load file  23.wav\n",
            "\n",
            "        \n",
            " Extracting features gfcc \n",
            "\n",
            "        \n",
            "Computing features for file 1 of 1 : 23.wav\n",
            "load file  19.wav\n",
            "\n",
            "        \n",
            " Extracting features gfcc \n",
            "\n",
            "        \n",
            "Computing features for file 1 of 1 : 19.wav\n",
            "load file  18.wav\n",
            "\n",
            "        \n",
            " Extracting features gfcc \n",
            "\n",
            "        \n",
            "Computing features for file 1 of 1 : 18.wav\n",
            "load file  8.wav\n",
            "\n",
            "        \n",
            " Extracting features gfcc \n",
            "\n",
            "        \n",
            "Computing features for file 1 of 1 : 8.wav\n",
            "load file  22.wav\n",
            "\n",
            "        \n",
            " Extracting features gfcc \n",
            "\n",
            "        \n",
            "Computing features for file 1 of 1 : 22.wav\n",
            "load file  5.wav\n",
            "\n",
            "        \n",
            " Extracting features gfcc \n",
            "\n",
            "        \n",
            "Computing features for file 1 of 1 : 5.wav\n",
            "load file  11.wav\n",
            "\n",
            "        \n",
            " Extracting features gfcc \n",
            "\n",
            "        \n",
            "Computing features for file 1 of 1 : 11.wav\n",
            "load file  6.wav\n",
            "\n",
            "        \n",
            " Extracting features gfcc \n",
            "\n",
            "        \n",
            "Computing features for file 1 of 1 : 6.wav\n",
            "load file  13.wav\n",
            "\n",
            "        \n",
            " Extracting features gfcc \n",
            "\n",
            "        \n",
            "Computing features for file 1 of 1 : 13.wav\n",
            "load file  15.wav\n",
            "\n",
            "        \n",
            " Extracting features gfcc \n",
            "\n",
            "        \n",
            "Computing features for file 1 of 1 : 15.wav\n",
            "load file  21.wav\n",
            "fixing audio length: 21.wav\n",
            "\n",
            "        \n",
            " Extracting features gfcc \n",
            "\n",
            "        \n",
            "Computing features for file 1 of 1 : 21.wav\n",
            "load file  4.wav\n",
            "\n",
            "        \n",
            " Extracting features gfcc \n",
            "\n",
            "        \n",
            "Computing features for file 1 of 1 : 4.wav\n",
            "load file  20.wav\n",
            "\n",
            "        \n",
            " Extracting features gfcc \n",
            "\n",
            "        \n",
            "Computing features for file 1 of 1 : 20.wav\n",
            "load file  10.wav\n",
            "\n",
            "        \n",
            " Extracting features gfcc \n",
            "\n",
            "        \n",
            "Computing features for file 1 of 1 : 10.wav\n",
            "load file  1.wav\n",
            "\n",
            "        \n",
            " Extracting features gfcc \n",
            "\n",
            "        \n",
            "Computing features for file 1 of 1 : 1.wav\n",
            "load file  17.wav\n",
            "\n",
            "        \n",
            " Extracting features gfcc \n",
            "\n",
            "        \n",
            "Computing features for file 1 of 1 : 17.wav\n",
            "load file  2.wav\n",
            "\n",
            "        \n",
            " Extracting features gfcc \n",
            "\n",
            "        \n",
            "Computing features for file 1 of 1 : 2.wav\n",
            "load file  3.wav\n",
            "\n",
            "        \n",
            " Extracting features gfcc \n",
            "\n",
            "        \n",
            "Computing features for file 1 of 1 : 3.wav\n",
            "load file  14.wav\n",
            "\n",
            "        \n",
            " Extracting features gfcc \n",
            "\n",
            "        \n",
            "Computing features for file 1 of 1 : 14.wav\n",
            "load file  16.wav\n",
            "\n",
            "        \n",
            " Extracting features gfcc \n",
            "\n",
            "        \n",
            "Computing features for file 1 of 1 : 16.wav\n",
            "load file  7.wav\n",
            "\n",
            "        \n",
            " Extracting features gfcc \n",
            "\n",
            "        \n",
            "Computing features for file 1 of 1 : 7.wav\n"
          ]
        }
      ]
    },
    {
      "cell_type": "code",
      "source": [
        "x_train = np.array(x_train)\n",
        "x_test = np.asarray(x_test)"
      ],
      "metadata": {
        "id": "5PWP-MYlya5Y"
      },
      "execution_count": 23,
      "outputs": []
    },
    {
      "cell_type": "code",
      "source": [
        "x_train.shape"
      ],
      "metadata": {
        "colab": {
          "base_uri": "https://localhost:8080/"
        },
        "id": "8e5oAH9jyd5y",
        "outputId": "398fe11b-0b5e-4eb5-c872-790132577f5a"
      },
      "execution_count": 24,
      "outputs": [
        {
          "output_type": "execute_result",
          "data": {
            "text/plain": [
              "(18, 227)"
            ]
          },
          "metadata": {},
          "execution_count": 24
        }
      ]
    },
    {
      "cell_type": "code",
      "source": [
        "x_train.dtype"
      ],
      "metadata": {
        "colab": {
          "base_uri": "https://localhost:8080/"
        },
        "id": "A0w0S_fJGU-c",
        "outputId": "bf7ff65c-1626-46a7-8434-1cba784fcbbc"
      },
      "execution_count": 25,
      "outputs": [
        {
          "output_type": "execute_result",
          "data": {
            "text/plain": [
              "dtype('float64')"
            ]
          },
          "metadata": {},
          "execution_count": 25
        }
      ]
    },
    {
      "cell_type": "code",
      "source": [
        "y_Train = np.asarray(y_Train)"
      ],
      "metadata": {
        "id": "JBnxKGd9TYyY"
      },
      "execution_count": 26,
      "outputs": []
    },
    {
      "cell_type": "code",
      "source": [
        "y_Test = np.asarray(y_Test)"
      ],
      "metadata": {
        "id": "pfNN82FhTZ4I"
      },
      "execution_count": 27,
      "outputs": []
    },
    {
      "cell_type": "code",
      "source": [
        "pip install keras-tuner"
      ],
      "metadata": {
        "colab": {
          "base_uri": "https://localhost:8080/"
        },
        "id": "3DPlh5hrzlAw",
        "outputId": "fa809ba6-7243-4ba6-a1be-b209eb94ab0f"
      },
      "execution_count": 28,
      "outputs": [
        {
          "output_type": "stream",
          "name": "stdout",
          "text": [
            "Looking in indexes: https://pypi.org/simple, https://us-python.pkg.dev/colab-wheels/public/simple/\n",
            "Collecting keras-tuner\n",
            "  Downloading keras_tuner-1.1.3-py3-none-any.whl (135 kB)\n",
            "\u001b[K     |████████████████████████████████| 135 kB 13.7 MB/s \n",
            "\u001b[?25hRequirement already satisfied: requests in /usr/local/lib/python3.7/dist-packages (from keras-tuner) (2.23.0)\n",
            "Requirement already satisfied: packaging in /usr/local/lib/python3.7/dist-packages (from keras-tuner) (21.3)\n",
            "Requirement already satisfied: tensorboard in /usr/local/lib/python3.7/dist-packages (from keras-tuner) (2.9.1)\n",
            "Collecting kt-legacy\n",
            "  Downloading kt_legacy-1.0.4-py3-none-any.whl (9.6 kB)\n",
            "Requirement already satisfied: ipython in /usr/local/lib/python3.7/dist-packages (from keras-tuner) (7.9.0)\n",
            "Requirement already satisfied: numpy in /usr/local/lib/python3.7/dist-packages (from keras-tuner) (1.21.6)\n",
            "Requirement already satisfied: backcall in /usr/local/lib/python3.7/dist-packages (from ipython->keras-tuner) (0.2.0)\n",
            "Requirement already satisfied: pygments in /usr/local/lib/python3.7/dist-packages (from ipython->keras-tuner) (2.6.1)\n",
            "Requirement already satisfied: traitlets>=4.2 in /usr/local/lib/python3.7/dist-packages (from ipython->keras-tuner) (5.1.1)\n",
            "Requirement already satisfied: jedi>=0.10 in /usr/local/lib/python3.7/dist-packages (from ipython->keras-tuner) (0.18.1)\n",
            "Requirement already satisfied: decorator in /usr/local/lib/python3.7/dist-packages (from ipython->keras-tuner) (4.4.2)\n",
            "Requirement already satisfied: setuptools>=18.5 in /usr/local/lib/python3.7/dist-packages (from ipython->keras-tuner) (57.4.0)\n",
            "Requirement already satisfied: prompt-toolkit<2.1.0,>=2.0.0 in /usr/local/lib/python3.7/dist-packages (from ipython->keras-tuner) (2.0.10)\n",
            "Requirement already satisfied: pickleshare in /usr/local/lib/python3.7/dist-packages (from ipython->keras-tuner) (0.7.5)\n",
            "Requirement already satisfied: pexpect in /usr/local/lib/python3.7/dist-packages (from ipython->keras-tuner) (4.8.0)\n",
            "Requirement already satisfied: parso<0.9.0,>=0.8.0 in /usr/local/lib/python3.7/dist-packages (from jedi>=0.10->ipython->keras-tuner) (0.8.3)\n",
            "Requirement already satisfied: six>=1.9.0 in /usr/local/lib/python3.7/dist-packages (from prompt-toolkit<2.1.0,>=2.0.0->ipython->keras-tuner) (1.15.0)\n",
            "Requirement already satisfied: wcwidth in /usr/local/lib/python3.7/dist-packages (from prompt-toolkit<2.1.0,>=2.0.0->ipython->keras-tuner) (0.2.5)\n",
            "Requirement already satisfied: pyparsing!=3.0.5,>=2.0.2 in /usr/local/lib/python3.7/dist-packages (from packaging->keras-tuner) (3.0.9)\n",
            "Requirement already satisfied: ptyprocess>=0.5 in /usr/local/lib/python3.7/dist-packages (from pexpect->ipython->keras-tuner) (0.7.0)\n",
            "Requirement already satisfied: urllib3!=1.25.0,!=1.25.1,<1.26,>=1.21.1 in /usr/local/lib/python3.7/dist-packages (from requests->keras-tuner) (1.24.3)\n",
            "Requirement already satisfied: chardet<4,>=3.0.2 in /usr/local/lib/python3.7/dist-packages (from requests->keras-tuner) (3.0.4)\n",
            "Requirement already satisfied: certifi>=2017.4.17 in /usr/local/lib/python3.7/dist-packages (from requests->keras-tuner) (2022.9.24)\n",
            "Requirement already satisfied: idna<3,>=2.5 in /usr/local/lib/python3.7/dist-packages (from requests->keras-tuner) (2.10)\n",
            "Requirement already satisfied: grpcio>=1.24.3 in /usr/local/lib/python3.7/dist-packages (from tensorboard->keras-tuner) (1.50.0)\n",
            "Requirement already satisfied: google-auth-oauthlib<0.5,>=0.4.1 in /usr/local/lib/python3.7/dist-packages (from tensorboard->keras-tuner) (0.4.6)\n",
            "Requirement already satisfied: google-auth<3,>=1.6.3 in /usr/local/lib/python3.7/dist-packages (from tensorboard->keras-tuner) (1.35.0)\n",
            "Requirement already satisfied: protobuf<3.20,>=3.9.2 in /usr/local/lib/python3.7/dist-packages (from tensorboard->keras-tuner) (3.17.3)\n",
            "Requirement already satisfied: werkzeug>=1.0.1 in /usr/local/lib/python3.7/dist-packages (from tensorboard->keras-tuner) (1.0.1)\n",
            "Requirement already satisfied: tensorboard-plugin-wit>=1.6.0 in /usr/local/lib/python3.7/dist-packages (from tensorboard->keras-tuner) (1.8.1)\n",
            "Requirement already satisfied: wheel>=0.26 in /usr/local/lib/python3.7/dist-packages (from tensorboard->keras-tuner) (0.37.1)\n",
            "Requirement already satisfied: tensorboard-data-server<0.7.0,>=0.6.0 in /usr/local/lib/python3.7/dist-packages (from tensorboard->keras-tuner) (0.6.1)\n",
            "Requirement already satisfied: absl-py>=0.4 in /usr/local/lib/python3.7/dist-packages (from tensorboard->keras-tuner) (1.3.0)\n",
            "Requirement already satisfied: markdown>=2.6.8 in /usr/local/lib/python3.7/dist-packages (from tensorboard->keras-tuner) (3.4.1)\n",
            "Requirement already satisfied: rsa<5,>=3.1.4 in /usr/local/lib/python3.7/dist-packages (from google-auth<3,>=1.6.3->tensorboard->keras-tuner) (4.9)\n",
            "Requirement already satisfied: pyasn1-modules>=0.2.1 in /usr/local/lib/python3.7/dist-packages (from google-auth<3,>=1.6.3->tensorboard->keras-tuner) (0.2.8)\n",
            "Requirement already satisfied: cachetools<5.0,>=2.0.0 in /usr/local/lib/python3.7/dist-packages (from google-auth<3,>=1.6.3->tensorboard->keras-tuner) (4.2.4)\n",
            "Requirement already satisfied: requests-oauthlib>=0.7.0 in /usr/local/lib/python3.7/dist-packages (from google-auth-oauthlib<0.5,>=0.4.1->tensorboard->keras-tuner) (1.3.1)\n",
            "Requirement already satisfied: importlib-metadata>=4.4 in /usr/local/lib/python3.7/dist-packages (from markdown>=2.6.8->tensorboard->keras-tuner) (4.13.0)\n",
            "Requirement already satisfied: typing-extensions>=3.6.4 in /usr/local/lib/python3.7/dist-packages (from importlib-metadata>=4.4->markdown>=2.6.8->tensorboard->keras-tuner) (4.1.1)\n",
            "Requirement already satisfied: zipp>=0.5 in /usr/local/lib/python3.7/dist-packages (from importlib-metadata>=4.4->markdown>=2.6.8->tensorboard->keras-tuner) (3.9.0)\n",
            "Requirement already satisfied: pyasn1<0.5.0,>=0.4.6 in /usr/local/lib/python3.7/dist-packages (from pyasn1-modules>=0.2.1->google-auth<3,>=1.6.3->tensorboard->keras-tuner) (0.4.8)\n",
            "Requirement already satisfied: oauthlib>=3.0.0 in /usr/local/lib/python3.7/dist-packages (from requests-oauthlib>=0.7.0->google-auth-oauthlib<0.5,>=0.4.1->tensorboard->keras-tuner) (3.2.2)\n",
            "Installing collected packages: kt-legacy, keras-tuner\n",
            "Successfully installed keras-tuner-1.1.3 kt-legacy-1.0.4\n"
          ]
        }
      ]
    },
    {
      "cell_type": "code",
      "source": [
        "import kerastuner\n",
        "from kerastuner.tuners import RandomSearch, Hyperband, BayesianOptimization\n",
        "def model_builder(hp):\n",
        "  model = Sequential()\n",
        "  hp_units1 = hp.Int('units_', min_value=2, max_value=64, step=4)\n",
        "  model.add(tf.keras.layers.Dense(units = hp_units1, input_dim = x_train.shape[1]))\n",
        "\n",
        "  # Tune the number of dense layers\n",
        "  for i in range(hp.Int('num_layers', 1, 5)):\n",
        "    \n",
        "    # Tune the number of units in the each dense layer\n",
        "    hp_units = hp.Int('units_'+str(i), min_value=2, max_value=64, step=4)\n",
        "    model.add(tf.keras.layers.Dense(units=hp_units, activation='relu'))\n",
        "    \n",
        "    # Tune the dropout rate in the each dense layer\n",
        "    hp_dropout = hp.Float('rate', min_value=0.0, max_value=0.5, step=0.1)\n",
        "    model.add(tf.keras.layers.Dropout(hp_dropout))\n",
        "    \n",
        "  # Add dense output layer\n",
        "  model.add(tf.keras.layers.Dense(1, activation='sigmoid'))\n",
        "\n",
        "  # Tune the learning rate for the optimizer\n",
        "  hp_learning_rate = hp.Choice('learning_rate', values=[1e-2, 1e-3, 1e-4])\n",
        "  model.compile(optimizer=tf.keras.optimizers.Adam(learning_rate=hp_learning_rate),loss='binary_crossentropy',\n",
        "                metrics=[tf.keras.metrics.Recall()])\n",
        "\n",
        "  return model\n",
        "\n",
        "#tuner = BayesianOptimization(model_builder,\n",
        "#max_trials=50,\n",
        "#objective='val_accuracy',\n",
        "#overwrite=True)\n",
        "\n",
        "tuner = Hyperband(model_builder,\n",
        "objective=kerastuner.Objective(\"val_recall\", direction=\"max\"),\n",
        "max_epochs=50,\n",
        "factor=3, overwrite = True)\n",
        "\n",
        "tuner.search(x_train,y_Train, epochs=50, validation_split=0.2)\n",
        "# Get the optimal hyperparameters\n",
        "best_hps=tuner.get_best_hyperparameters(num_trials=1)[0]\n",
        "\n",
        "model = tuner.hypermodel.build(best_hps)"
      ],
      "metadata": {
        "colab": {
          "base_uri": "https://localhost:8080/"
        },
        "id": "rLAig70EykgL",
        "outputId": "6a5cc021-6ff6-4287-912f-493fdf257f5e"
      },
      "execution_count": 29,
      "outputs": [
        {
          "output_type": "stream",
          "name": "stdout",
          "text": [
            "Trial 90 Complete [00h 00m 04s]\n",
            "val_recall: 1.0\n",
            "\n",
            "Best val_recall So Far: 1.0\n",
            "Total elapsed time: 00h 03m 28s\n"
          ]
        }
      ]
    },
    {
      "cell_type": "code",
      "source": [
        "history = model.fit(x_train, y_Train, batch_size = 10, epochs=50, validation_split = 0.2, verbose = 1)"
      ],
      "metadata": {
        "colab": {
          "base_uri": "https://localhost:8080/"
        },
        "id": "b9ODNrNyzjTP",
        "outputId": "506cc706-76bf-41fc-978f-cb8df3d25a14"
      },
      "execution_count": 30,
      "outputs": [
        {
          "output_type": "stream",
          "name": "stdout",
          "text": [
            "Epoch 1/50\n",
            "2/2 [==============================] - 1s 268ms/step - loss: 39.3679 - recall_1: 0.5000 - val_loss: 0.4425 - val_recall_1: 1.0000\n",
            "Epoch 2/50\n",
            "2/2 [==============================] - 0s 33ms/step - loss: 50.4407 - recall_1: 0.7000 - val_loss: 0.3719 - val_recall_1: 0.5000\n",
            "Epoch 3/50\n",
            "2/2 [==============================] - 0s 28ms/step - loss: 53.8056 - recall_1: 0.5000 - val_loss: 1.0837 - val_recall_1: 1.0000\n",
            "Epoch 4/50\n",
            "2/2 [==============================] - 0s 35ms/step - loss: 13.2052 - recall_1: 0.5000 - val_loss: 3.1382 - val_recall_1: 1.0000\n",
            "Epoch 5/50\n",
            "2/2 [==============================] - 0s 26ms/step - loss: 9.4490 - recall_1: 0.7000 - val_loss: 2.9589 - val_recall_1: 1.0000\n",
            "Epoch 6/50\n",
            "2/2 [==============================] - 0s 28ms/step - loss: 20.6679 - recall_1: 0.4000 - val_loss: 2.4118 - val_recall_1: 1.0000\n",
            "Epoch 7/50\n",
            "2/2 [==============================] - 0s 52ms/step - loss: 7.3946 - recall_1: 0.6000 - val_loss: 1.7245 - val_recall_1: 1.0000\n",
            "Epoch 8/50\n",
            "2/2 [==============================] - 0s 39ms/step - loss: 5.0908 - recall_1: 0.7000 - val_loss: 1.5514 - val_recall_1: 1.0000\n",
            "Epoch 9/50\n",
            "2/2 [==============================] - 0s 54ms/step - loss: 5.2702 - recall_1: 0.6000 - val_loss: 0.8289 - val_recall_1: 1.0000\n",
            "Epoch 10/50\n",
            "2/2 [==============================] - 0s 42ms/step - loss: 2.3166 - recall_1: 0.7000 - val_loss: 0.1886 - val_recall_1: 1.0000\n",
            "Epoch 11/50\n",
            "2/2 [==============================] - 0s 39ms/step - loss: 6.1353 - recall_1: 0.6000 - val_loss: 0.1219 - val_recall_1: 1.0000\n",
            "Epoch 12/50\n",
            "2/2 [==============================] - 0s 53ms/step - loss: 2.6035 - recall_1: 0.8000 - val_loss: 0.2065 - val_recall_1: 0.5000\n",
            "Epoch 13/50\n",
            "2/2 [==============================] - 0s 88ms/step - loss: 4.2518 - recall_1: 0.7000 - val_loss: 0.2788 - val_recall_1: 0.5000\n",
            "Epoch 14/50\n",
            "2/2 [==============================] - 0s 50ms/step - loss: 3.8665 - recall_1: 0.6000 - val_loss: 0.4221 - val_recall_1: 0.5000\n",
            "Epoch 15/50\n",
            "2/2 [==============================] - 0s 60ms/step - loss: 3.0680 - recall_1: 0.5000 - val_loss: 0.3521 - val_recall_1: 0.5000\n",
            "Epoch 16/50\n",
            "2/2 [==============================] - 0s 89ms/step - loss: 3.8901 - recall_1: 0.7000 - val_loss: 0.1633 - val_recall_1: 1.0000\n",
            "Epoch 17/50\n",
            "2/2 [==============================] - 0s 29ms/step - loss: 3.3992 - recall_1: 0.8000 - val_loss: 0.1611 - val_recall_1: 1.0000\n",
            "Epoch 18/50\n",
            "2/2 [==============================] - 0s 53ms/step - loss: 1.2745 - recall_1: 0.8000 - val_loss: 0.2338 - val_recall_1: 1.0000\n",
            "Epoch 19/50\n",
            "2/2 [==============================] - 0s 69ms/step - loss: 8.0508 - recall_1: 0.7000 - val_loss: 0.2430 - val_recall_1: 1.0000\n",
            "Epoch 20/50\n",
            "2/2 [==============================] - 0s 55ms/step - loss: 0.2444 - recall_1: 0.9000 - val_loss: 0.2339 - val_recall_1: 1.0000\n",
            "Epoch 21/50\n",
            "2/2 [==============================] - 0s 69ms/step - loss: 2.2531 - recall_1: 0.6000 - val_loss: 0.2605 - val_recall_1: 1.0000\n",
            "Epoch 22/50\n",
            "2/2 [==============================] - 0s 38ms/step - loss: 12.4132 - recall_1: 0.5000 - val_loss: 0.2627 - val_recall_1: 1.0000\n",
            "Epoch 23/50\n",
            "2/2 [==============================] - 0s 38ms/step - loss: 3.5658 - recall_1: 0.8000 - val_loss: 0.2592 - val_recall_1: 1.0000\n",
            "Epoch 24/50\n",
            "2/2 [==============================] - 0s 27ms/step - loss: 2.4110 - recall_1: 0.9000 - val_loss: 0.2502 - val_recall_1: 1.0000\n",
            "Epoch 25/50\n",
            "2/2 [==============================] - 0s 27ms/step - loss: 1.1464 - recall_1: 0.7000 - val_loss: 0.3084 - val_recall_1: 0.5000\n",
            "Epoch 26/50\n",
            "2/2 [==============================] - 0s 29ms/step - loss: 1.1509 - recall_1: 0.7000 - val_loss: 0.3417 - val_recall_1: 0.5000\n",
            "Epoch 27/50\n",
            "2/2 [==============================] - 0s 32ms/step - loss: 1.6276 - recall_1: 0.8000 - val_loss: 0.2958 - val_recall_1: 0.5000\n",
            "Epoch 28/50\n",
            "2/2 [==============================] - 0s 36ms/step - loss: 1.7935 - recall_1: 0.6000 - val_loss: 0.2272 - val_recall_1: 1.0000\n",
            "Epoch 29/50\n",
            "2/2 [==============================] - 0s 28ms/step - loss: 4.9128 - recall_1: 0.6000 - val_loss: 0.2275 - val_recall_1: 1.0000\n",
            "Epoch 30/50\n",
            "2/2 [==============================] - 0s 29ms/step - loss: 1.8996 - recall_1: 1.0000 - val_loss: 0.2455 - val_recall_1: 0.5000\n",
            "Epoch 31/50\n",
            "2/2 [==============================] - 0s 28ms/step - loss: 1.8839 - recall_1: 0.5000 - val_loss: 0.2107 - val_recall_1: 1.0000\n",
            "Epoch 32/50\n",
            "2/2 [==============================] - 0s 28ms/step - loss: 0.9840 - recall_1: 0.8000 - val_loss: 0.1640 - val_recall_1: 1.0000\n",
            "Epoch 33/50\n",
            "2/2 [==============================] - 0s 27ms/step - loss: 0.4210 - recall_1: 0.9000 - val_loss: 0.1470 - val_recall_1: 1.0000\n",
            "Epoch 34/50\n",
            "2/2 [==============================] - 0s 28ms/step - loss: 0.6151 - recall_1: 0.8000 - val_loss: 0.1344 - val_recall_1: 1.0000\n",
            "Epoch 35/50\n",
            "2/2 [==============================] - 0s 29ms/step - loss: 0.6573 - recall_1: 0.7000 - val_loss: 0.1313 - val_recall_1: 1.0000\n",
            "Epoch 36/50\n",
            "2/2 [==============================] - 0s 28ms/step - loss: 1.4045 - recall_1: 1.0000 - val_loss: 0.1326 - val_recall_1: 1.0000\n",
            "Epoch 37/50\n",
            "2/2 [==============================] - 0s 33ms/step - loss: 2.1172 - recall_1: 0.8000 - val_loss: 0.1505 - val_recall_1: 1.0000\n",
            "Epoch 38/50\n",
            "2/2 [==============================] - 0s 30ms/step - loss: 0.5911 - recall_1: 0.8000 - val_loss: 0.2013 - val_recall_1: 1.0000\n",
            "Epoch 39/50\n",
            "2/2 [==============================] - 0s 28ms/step - loss: 0.4395 - recall_1: 0.9000 - val_loss: 0.2751 - val_recall_1: 0.5000\n",
            "Epoch 40/50\n",
            "2/2 [==============================] - 0s 31ms/step - loss: 0.8277 - recall_1: 0.7000 - val_loss: 0.4427 - val_recall_1: 0.5000\n",
            "Epoch 41/50\n",
            "2/2 [==============================] - 0s 29ms/step - loss: 1.1457 - recall_1: 0.6000 - val_loss: 0.4512 - val_recall_1: 0.5000\n",
            "Epoch 42/50\n",
            "2/2 [==============================] - 0s 47ms/step - loss: 1.2464 - recall_1: 0.5000 - val_loss: 0.3604 - val_recall_1: 0.5000\n",
            "Epoch 43/50\n",
            "2/2 [==============================] - 0s 29ms/step - loss: 0.6635 - recall_1: 0.7000 - val_loss: 0.3007 - val_recall_1: 0.5000\n",
            "Epoch 44/50\n",
            "2/2 [==============================] - 0s 31ms/step - loss: 0.4522 - recall_1: 0.8000 - val_loss: 0.2866 - val_recall_1: 1.0000\n",
            "Epoch 45/50\n",
            "2/2 [==============================] - 0s 34ms/step - loss: 1.1124 - recall_1: 0.6000 - val_loss: 0.3026 - val_recall_1: 1.0000\n",
            "Epoch 46/50\n",
            "2/2 [==============================] - 0s 34ms/step - loss: 0.6293 - recall_1: 0.9000 - val_loss: 0.3104 - val_recall_1: 1.0000\n",
            "Epoch 47/50\n",
            "2/2 [==============================] - 0s 26ms/step - loss: 0.9932 - recall_1: 0.8000 - val_loss: 0.3278 - val_recall_1: 1.0000\n",
            "Epoch 48/50\n",
            "2/2 [==============================] - 0s 28ms/step - loss: 0.8003 - recall_1: 0.8000 - val_loss: 0.3480 - val_recall_1: 1.0000\n",
            "Epoch 49/50\n",
            "2/2 [==============================] - 0s 28ms/step - loss: 0.3137 - recall_1: 0.8000 - val_loss: 0.3552 - val_recall_1: 1.0000\n",
            "Epoch 50/50\n",
            "2/2 [==============================] - 0s 28ms/step - loss: 0.2216 - recall_1: 0.9000 - val_loss: 0.3644 - val_recall_1: 1.0000\n"
          ]
        }
      ]
    },
    {
      "cell_type": "code",
      "source": [
        "y_predict = np.argmax(model.predict(x_test), axis=-1)\n",
        "y_pred = model.predict(x_test)\n",
        "y_pred=np.argmax(y_pred, axis=1)"
      ],
      "metadata": {
        "colab": {
          "base_uri": "https://localhost:8080/"
        },
        "id": "Cx0OeOas7161",
        "outputId": "2036d242-f4c7-4a23-8a66-f961bf1d758a"
      },
      "execution_count": 31,
      "outputs": [
        {
          "output_type": "stream",
          "name": "stdout",
          "text": [
            "1/1 [==============================] - 0s 117ms/step\n",
            "1/1 [==============================] - 0s 20ms/step\n"
          ]
        }
      ]
    },
    {
      "cell_type": "code",
      "source": [
        "print(\"Classification Report : \\n\\n\", classification_report(y_Test, y_pred))"
      ],
      "metadata": {
        "colab": {
          "base_uri": "https://localhost:8080/"
        },
        "id": "2Hr27j_h8Klr",
        "outputId": "f1c5ae65-86d5-4a04-89bc-b2873bf08189"
      },
      "execution_count": 32,
      "outputs": [
        {
          "output_type": "stream",
          "name": "stdout",
          "text": [
            "Classification Report : \n",
            "\n",
            "               precision    recall  f1-score   support\n",
            "\n",
            "           0       0.60      1.00      0.75         3\n",
            "           1       0.00      0.00      0.00         2\n",
            "\n",
            "    accuracy                           0.60         5\n",
            "   macro avg       0.30      0.50      0.37         5\n",
            "weighted avg       0.36      0.60      0.45         5\n",
            "\n"
          ]
        }
      ]
    },
    {
      "cell_type": "code",
      "source": [
        "y_pred"
      ],
      "metadata": {
        "colab": {
          "base_uri": "https://localhost:8080/"
        },
        "id": "BpbsQP8-8UOP",
        "outputId": "3f8779aa-122f-4d9b-db4c-a33244c9dd67"
      },
      "execution_count": 33,
      "outputs": [
        {
          "output_type": "execute_result",
          "data": {
            "text/plain": [
              "array([0, 0, 0, 0, 0])"
            ]
          },
          "metadata": {},
          "execution_count": 33
        }
      ]
    },
    {
      "cell_type": "code",
      "source": [
        "y_Test"
      ],
      "metadata": {
        "colab": {
          "base_uri": "https://localhost:8080/"
        },
        "id": "Gfx5T2LTJR0l",
        "outputId": "fd3030d2-cd2b-494e-8d3c-e34b23cec670"
      },
      "execution_count": 34,
      "outputs": [
        {
          "output_type": "execute_result",
          "data": {
            "text/plain": [
              "array([0, 0, 0, 1, 1])"
            ]
          },
          "metadata": {},
          "execution_count": 34
        }
      ]
    },
    {
      "cell_type": "code",
      "source": [
        "df = pd.DataFrame({'Input':X_test, 'Real Values':y_Test, 'Predicted Values':y_pred})\n",
        "df"
      ],
      "metadata": {
        "colab": {
          "base_uri": "https://localhost:8080/",
          "height": 206
        },
        "id": "xGtMtodRC9En",
        "outputId": "f4da82e9-abef-4f2f-a760-a2a3cc8b943e"
      },
      "execution_count": 35,
      "outputs": [
        {
          "output_type": "execute_result",
          "data": {
            "text/plain": [
              "     Input  Real Values  Predicted Values\n",
              "1    2.wav            0                 0\n",
              "2    3.wav            0                 0\n",
              "13  14.wav            0                 0\n",
              "15  16.wav            1                 0\n",
              "6    7.wav            1                 0"
            ],
            "text/html": [
              "\n",
              "  <div id=\"df-eb62a5ee-1b3d-4a33-9ef3-343474666f88\">\n",
              "    <div class=\"colab-df-container\">\n",
              "      <div>\n",
              "<style scoped>\n",
              "    .dataframe tbody tr th:only-of-type {\n",
              "        vertical-align: middle;\n",
              "    }\n",
              "\n",
              "    .dataframe tbody tr th {\n",
              "        vertical-align: top;\n",
              "    }\n",
              "\n",
              "    .dataframe thead th {\n",
              "        text-align: right;\n",
              "    }\n",
              "</style>\n",
              "<table border=\"1\" class=\"dataframe\">\n",
              "  <thead>\n",
              "    <tr style=\"text-align: right;\">\n",
              "      <th></th>\n",
              "      <th>Input</th>\n",
              "      <th>Real Values</th>\n",
              "      <th>Predicted Values</th>\n",
              "    </tr>\n",
              "  </thead>\n",
              "  <tbody>\n",
              "    <tr>\n",
              "      <th>1</th>\n",
              "      <td>2.wav</td>\n",
              "      <td>0</td>\n",
              "      <td>0</td>\n",
              "    </tr>\n",
              "    <tr>\n",
              "      <th>2</th>\n",
              "      <td>3.wav</td>\n",
              "      <td>0</td>\n",
              "      <td>0</td>\n",
              "    </tr>\n",
              "    <tr>\n",
              "      <th>13</th>\n",
              "      <td>14.wav</td>\n",
              "      <td>0</td>\n",
              "      <td>0</td>\n",
              "    </tr>\n",
              "    <tr>\n",
              "      <th>15</th>\n",
              "      <td>16.wav</td>\n",
              "      <td>1</td>\n",
              "      <td>0</td>\n",
              "    </tr>\n",
              "    <tr>\n",
              "      <th>6</th>\n",
              "      <td>7.wav</td>\n",
              "      <td>1</td>\n",
              "      <td>0</td>\n",
              "    </tr>\n",
              "  </tbody>\n",
              "</table>\n",
              "</div>\n",
              "      <button class=\"colab-df-convert\" onclick=\"convertToInteractive('df-eb62a5ee-1b3d-4a33-9ef3-343474666f88')\"\n",
              "              title=\"Convert this dataframe to an interactive table.\"\n",
              "              style=\"display:none;\">\n",
              "        \n",
              "  <svg xmlns=\"http://www.w3.org/2000/svg\" height=\"24px\"viewBox=\"0 0 24 24\"\n",
              "       width=\"24px\">\n",
              "    <path d=\"M0 0h24v24H0V0z\" fill=\"none\"/>\n",
              "    <path d=\"M18.56 5.44l.94 2.06.94-2.06 2.06-.94-2.06-.94-.94-2.06-.94 2.06-2.06.94zm-11 1L8.5 8.5l.94-2.06 2.06-.94-2.06-.94L8.5 2.5l-.94 2.06-2.06.94zm10 10l.94 2.06.94-2.06 2.06-.94-2.06-.94-.94-2.06-.94 2.06-2.06.94z\"/><path d=\"M17.41 7.96l-1.37-1.37c-.4-.4-.92-.59-1.43-.59-.52 0-1.04.2-1.43.59L10.3 9.45l-7.72 7.72c-.78.78-.78 2.05 0 2.83L4 21.41c.39.39.9.59 1.41.59.51 0 1.02-.2 1.41-.59l7.78-7.78 2.81-2.81c.8-.78.8-2.07 0-2.86zM5.41 20L4 18.59l7.72-7.72 1.47 1.35L5.41 20z\"/>\n",
              "  </svg>\n",
              "      </button>\n",
              "      \n",
              "  <style>\n",
              "    .colab-df-container {\n",
              "      display:flex;\n",
              "      flex-wrap:wrap;\n",
              "      gap: 12px;\n",
              "    }\n",
              "\n",
              "    .colab-df-convert {\n",
              "      background-color: #E8F0FE;\n",
              "      border: none;\n",
              "      border-radius: 50%;\n",
              "      cursor: pointer;\n",
              "      display: none;\n",
              "      fill: #1967D2;\n",
              "      height: 32px;\n",
              "      padding: 0 0 0 0;\n",
              "      width: 32px;\n",
              "    }\n",
              "\n",
              "    .colab-df-convert:hover {\n",
              "      background-color: #E2EBFA;\n",
              "      box-shadow: 0px 1px 2px rgba(60, 64, 67, 0.3), 0px 1px 3px 1px rgba(60, 64, 67, 0.15);\n",
              "      fill: #174EA6;\n",
              "    }\n",
              "\n",
              "    [theme=dark] .colab-df-convert {\n",
              "      background-color: #3B4455;\n",
              "      fill: #D2E3FC;\n",
              "    }\n",
              "\n",
              "    [theme=dark] .colab-df-convert:hover {\n",
              "      background-color: #434B5C;\n",
              "      box-shadow: 0px 1px 3px 1px rgba(0, 0, 0, 0.15);\n",
              "      filter: drop-shadow(0px 1px 2px rgba(0, 0, 0, 0.3));\n",
              "      fill: #FFFFFF;\n",
              "    }\n",
              "  </style>\n",
              "\n",
              "      <script>\n",
              "        const buttonEl =\n",
              "          document.querySelector('#df-eb62a5ee-1b3d-4a33-9ef3-343474666f88 button.colab-df-convert');\n",
              "        buttonEl.style.display =\n",
              "          google.colab.kernel.accessAllowed ? 'block' : 'none';\n",
              "\n",
              "        async function convertToInteractive(key) {\n",
              "          const element = document.querySelector('#df-eb62a5ee-1b3d-4a33-9ef3-343474666f88');\n",
              "          const dataTable =\n",
              "            await google.colab.kernel.invokeFunction('convertToInteractive',\n",
              "                                                     [key], {});\n",
              "          if (!dataTable) return;\n",
              "\n",
              "          const docLinkHtml = 'Like what you see? Visit the ' +\n",
              "            '<a target=\"_blank\" href=https://colab.research.google.com/notebooks/data_table.ipynb>data table notebook</a>'\n",
              "            + ' to learn more about interactive tables.';\n",
              "          element.innerHTML = '';\n",
              "          dataTable['output_type'] = 'display_data';\n",
              "          await google.colab.output.renderOutput(dataTable, element);\n",
              "          const docLink = document.createElement('div');\n",
              "          docLink.innerHTML = docLinkHtml;\n",
              "          element.appendChild(docLink);\n",
              "        }\n",
              "      </script>\n",
              "    </div>\n",
              "  </div>\n",
              "  "
            ]
          },
          "metadata": {},
          "execution_count": 35
        }
      ]
    },
    {
      "cell_type": "code",
      "source": [
        "from sklearn.ensemble import AdaBoostClassifier\n",
        "from sklearn.datasets import make_classification\n",
        "clf = AdaBoostClassifier(n_estimators=100, random_state=0)\n",
        "clf.fit(x_train, y_Train)"
      ],
      "metadata": {
        "colab": {
          "base_uri": "https://localhost:8080/"
        },
        "id": "3VRoiiidJYyx",
        "outputId": "ac4bd68a-48b9-4476-883e-33017e26a622"
      },
      "execution_count": 36,
      "outputs": [
        {
          "output_type": "execute_result",
          "data": {
            "text/plain": [
              "AdaBoostClassifier(n_estimators=100, random_state=0)"
            ]
          },
          "metadata": {},
          "execution_count": 36
        }
      ]
    },
    {
      "cell_type": "code",
      "source": [
        "clf.score(x_test, y_Test)"
      ],
      "metadata": {
        "colab": {
          "base_uri": "https://localhost:8080/"
        },
        "id": "ZKLspsm5Kejh",
        "outputId": "f2abd5fe-3be2-448a-aff7-56e376da8662"
      },
      "execution_count": 37,
      "outputs": [
        {
          "output_type": "execute_result",
          "data": {
            "text/plain": [
              "0.8"
            ]
          },
          "metadata": {},
          "execution_count": 37
        }
      ]
    },
    {
      "cell_type": "code",
      "source": [
        "y_pred1 = clf.predict(x_test)\n",
        "print(\"Classification Report : \\n\\n\", classification_report(y_Test, y_pred1))"
      ],
      "metadata": {
        "colab": {
          "base_uri": "https://localhost:8080/"
        },
        "id": "VAaIYhFPKjSR",
        "outputId": "b7d4a76b-33f2-446a-8f23-0b993c319e08"
      },
      "execution_count": 38,
      "outputs": [
        {
          "output_type": "stream",
          "name": "stdout",
          "text": [
            "Classification Report : \n",
            "\n",
            "               precision    recall  f1-score   support\n",
            "\n",
            "           0       0.75      1.00      0.86         3\n",
            "           1       1.00      0.50      0.67         2\n",
            "\n",
            "    accuracy                           0.80         5\n",
            "   macro avg       0.88      0.75      0.76         5\n",
            "weighted avg       0.85      0.80      0.78         5\n",
            "\n"
          ]
        }
      ]
    },
    {
      "cell_type": "code",
      "source": [
        "df1 = pd.DataFrame({'Input':X_test, 'Real Values':y_Test, 'Predicted Values':y_pred1})\n",
        "df1"
      ],
      "metadata": {
        "colab": {
          "base_uri": "https://localhost:8080/",
          "height": 206
        },
        "id": "0e8rbA21DLCq",
        "outputId": "dd9b1ccb-9b2c-4d73-87de-b3f52e8be874"
      },
      "execution_count": 39,
      "outputs": [
        {
          "output_type": "execute_result",
          "data": {
            "text/plain": [
              "     Input  Real Values  Predicted Values\n",
              "1    2.wav            0                 0\n",
              "2    3.wav            0                 0\n",
              "13  14.wav            0                 0\n",
              "15  16.wav            1                 0\n",
              "6    7.wav            1                 1"
            ],
            "text/html": [
              "\n",
              "  <div id=\"df-2ac5804f-c570-496d-ae4a-1877baa4f58a\">\n",
              "    <div class=\"colab-df-container\">\n",
              "      <div>\n",
              "<style scoped>\n",
              "    .dataframe tbody tr th:only-of-type {\n",
              "        vertical-align: middle;\n",
              "    }\n",
              "\n",
              "    .dataframe tbody tr th {\n",
              "        vertical-align: top;\n",
              "    }\n",
              "\n",
              "    .dataframe thead th {\n",
              "        text-align: right;\n",
              "    }\n",
              "</style>\n",
              "<table border=\"1\" class=\"dataframe\">\n",
              "  <thead>\n",
              "    <tr style=\"text-align: right;\">\n",
              "      <th></th>\n",
              "      <th>Input</th>\n",
              "      <th>Real Values</th>\n",
              "      <th>Predicted Values</th>\n",
              "    </tr>\n",
              "  </thead>\n",
              "  <tbody>\n",
              "    <tr>\n",
              "      <th>1</th>\n",
              "      <td>2.wav</td>\n",
              "      <td>0</td>\n",
              "      <td>0</td>\n",
              "    </tr>\n",
              "    <tr>\n",
              "      <th>2</th>\n",
              "      <td>3.wav</td>\n",
              "      <td>0</td>\n",
              "      <td>0</td>\n",
              "    </tr>\n",
              "    <tr>\n",
              "      <th>13</th>\n",
              "      <td>14.wav</td>\n",
              "      <td>0</td>\n",
              "      <td>0</td>\n",
              "    </tr>\n",
              "    <tr>\n",
              "      <th>15</th>\n",
              "      <td>16.wav</td>\n",
              "      <td>1</td>\n",
              "      <td>0</td>\n",
              "    </tr>\n",
              "    <tr>\n",
              "      <th>6</th>\n",
              "      <td>7.wav</td>\n",
              "      <td>1</td>\n",
              "      <td>1</td>\n",
              "    </tr>\n",
              "  </tbody>\n",
              "</table>\n",
              "</div>\n",
              "      <button class=\"colab-df-convert\" onclick=\"convertToInteractive('df-2ac5804f-c570-496d-ae4a-1877baa4f58a')\"\n",
              "              title=\"Convert this dataframe to an interactive table.\"\n",
              "              style=\"display:none;\">\n",
              "        \n",
              "  <svg xmlns=\"http://www.w3.org/2000/svg\" height=\"24px\"viewBox=\"0 0 24 24\"\n",
              "       width=\"24px\">\n",
              "    <path d=\"M0 0h24v24H0V0z\" fill=\"none\"/>\n",
              "    <path d=\"M18.56 5.44l.94 2.06.94-2.06 2.06-.94-2.06-.94-.94-2.06-.94 2.06-2.06.94zm-11 1L8.5 8.5l.94-2.06 2.06-.94-2.06-.94L8.5 2.5l-.94 2.06-2.06.94zm10 10l.94 2.06.94-2.06 2.06-.94-2.06-.94-.94-2.06-.94 2.06-2.06.94z\"/><path d=\"M17.41 7.96l-1.37-1.37c-.4-.4-.92-.59-1.43-.59-.52 0-1.04.2-1.43.59L10.3 9.45l-7.72 7.72c-.78.78-.78 2.05 0 2.83L4 21.41c.39.39.9.59 1.41.59.51 0 1.02-.2 1.41-.59l7.78-7.78 2.81-2.81c.8-.78.8-2.07 0-2.86zM5.41 20L4 18.59l7.72-7.72 1.47 1.35L5.41 20z\"/>\n",
              "  </svg>\n",
              "      </button>\n",
              "      \n",
              "  <style>\n",
              "    .colab-df-container {\n",
              "      display:flex;\n",
              "      flex-wrap:wrap;\n",
              "      gap: 12px;\n",
              "    }\n",
              "\n",
              "    .colab-df-convert {\n",
              "      background-color: #E8F0FE;\n",
              "      border: none;\n",
              "      border-radius: 50%;\n",
              "      cursor: pointer;\n",
              "      display: none;\n",
              "      fill: #1967D2;\n",
              "      height: 32px;\n",
              "      padding: 0 0 0 0;\n",
              "      width: 32px;\n",
              "    }\n",
              "\n",
              "    .colab-df-convert:hover {\n",
              "      background-color: #E2EBFA;\n",
              "      box-shadow: 0px 1px 2px rgba(60, 64, 67, 0.3), 0px 1px 3px 1px rgba(60, 64, 67, 0.15);\n",
              "      fill: #174EA6;\n",
              "    }\n",
              "\n",
              "    [theme=dark] .colab-df-convert {\n",
              "      background-color: #3B4455;\n",
              "      fill: #D2E3FC;\n",
              "    }\n",
              "\n",
              "    [theme=dark] .colab-df-convert:hover {\n",
              "      background-color: #434B5C;\n",
              "      box-shadow: 0px 1px 3px 1px rgba(0, 0, 0, 0.15);\n",
              "      filter: drop-shadow(0px 1px 2px rgba(0, 0, 0, 0.3));\n",
              "      fill: #FFFFFF;\n",
              "    }\n",
              "  </style>\n",
              "\n",
              "      <script>\n",
              "        const buttonEl =\n",
              "          document.querySelector('#df-2ac5804f-c570-496d-ae4a-1877baa4f58a button.colab-df-convert');\n",
              "        buttonEl.style.display =\n",
              "          google.colab.kernel.accessAllowed ? 'block' : 'none';\n",
              "\n",
              "        async function convertToInteractive(key) {\n",
              "          const element = document.querySelector('#df-2ac5804f-c570-496d-ae4a-1877baa4f58a');\n",
              "          const dataTable =\n",
              "            await google.colab.kernel.invokeFunction('convertToInteractive',\n",
              "                                                     [key], {});\n",
              "          if (!dataTable) return;\n",
              "\n",
              "          const docLinkHtml = 'Like what you see? Visit the ' +\n",
              "            '<a target=\"_blank\" href=https://colab.research.google.com/notebooks/data_table.ipynb>data table notebook</a>'\n",
              "            + ' to learn more about interactive tables.';\n",
              "          element.innerHTML = '';\n",
              "          dataTable['output_type'] = 'display_data';\n",
              "          await google.colab.output.renderOutput(dataTable, element);\n",
              "          const docLink = document.createElement('div');\n",
              "          docLink.innerHTML = docLinkHtml;\n",
              "          element.appendChild(docLink);\n",
              "        }\n",
              "      </script>\n",
              "    </div>\n",
              "  </div>\n",
              "  "
            ]
          },
          "metadata": {},
          "execution_count": 39
        }
      ]
    },
    {
      "cell_type": "code",
      "source": [
        "from sklearn.ensemble import GradientBoostingClassifier\n",
        "from sklearn.ensemble import RandomForestClassifier\n",
        "from sklearn.linear_model import SGDClassifier\n",
        "from sklearn.svm import LinearSVC\n",
        "from sklearn.svm import SVC"
      ],
      "metadata": {
        "id": "-CdkIHBvKwY0"
      },
      "execution_count": 40,
      "outputs": []
    },
    {
      "cell_type": "code",
      "source": [
        "clf2 = LinearSVC(penalty='l2', loss='hinge')\n",
        "clf2.fit(x_train, y_Train)\n",
        "clf2.score(x_test, y_Test)"
      ],
      "metadata": {
        "colab": {
          "base_uri": "https://localhost:8080/"
        },
        "id": "_ngbxGLFB4HK",
        "outputId": "ed6cc5fd-1c65-4c66-e31f-89d30be52e6a"
      },
      "execution_count": 41,
      "outputs": [
        {
          "output_type": "execute_result",
          "data": {
            "text/plain": [
              "1.0"
            ]
          },
          "metadata": {},
          "execution_count": 41
        }
      ]
    },
    {
      "cell_type": "code",
      "source": [
        "y_pred2 = clf2.predict(x_test)\n",
        "print(\"Classification Report : \\n\\n\", classification_report(y_Test, y_pred2))"
      ],
      "metadata": {
        "colab": {
          "base_uri": "https://localhost:8080/"
        },
        "id": "WRIR32oVCxuF",
        "outputId": "7e45f0cd-90b7-48c2-8025-2098cf8b3675"
      },
      "execution_count": 42,
      "outputs": [
        {
          "output_type": "stream",
          "name": "stdout",
          "text": [
            "Classification Report : \n",
            "\n",
            "               precision    recall  f1-score   support\n",
            "\n",
            "           0       1.00      1.00      1.00         3\n",
            "           1       1.00      1.00      1.00         2\n",
            "\n",
            "    accuracy                           1.00         5\n",
            "   macro avg       1.00      1.00      1.00         5\n",
            "weighted avg       1.00      1.00      1.00         5\n",
            "\n"
          ]
        }
      ]
    },
    {
      "cell_type": "code",
      "source": [
        "df2 = pd.DataFrame({'Input':X_test, 'Real Values':y_Test, 'Predicted Values':y_pred2})\n",
        "df2"
      ],
      "metadata": {
        "colab": {
          "base_uri": "https://localhost:8080/",
          "height": 206
        },
        "id": "pJ2DJWqZDSkh",
        "outputId": "e4b2d808-693c-49f9-bda3-1758d978ede5"
      },
      "execution_count": 43,
      "outputs": [
        {
          "output_type": "execute_result",
          "data": {
            "text/plain": [
              "     Input  Real Values  Predicted Values\n",
              "1    2.wav            0                 0\n",
              "2    3.wav            0                 0\n",
              "13  14.wav            0                 0\n",
              "15  16.wav            1                 1\n",
              "6    7.wav            1                 1"
            ],
            "text/html": [
              "\n",
              "  <div id=\"df-e7368084-b77c-488f-9ba5-beac8e1a7d06\">\n",
              "    <div class=\"colab-df-container\">\n",
              "      <div>\n",
              "<style scoped>\n",
              "    .dataframe tbody tr th:only-of-type {\n",
              "        vertical-align: middle;\n",
              "    }\n",
              "\n",
              "    .dataframe tbody tr th {\n",
              "        vertical-align: top;\n",
              "    }\n",
              "\n",
              "    .dataframe thead th {\n",
              "        text-align: right;\n",
              "    }\n",
              "</style>\n",
              "<table border=\"1\" class=\"dataframe\">\n",
              "  <thead>\n",
              "    <tr style=\"text-align: right;\">\n",
              "      <th></th>\n",
              "      <th>Input</th>\n",
              "      <th>Real Values</th>\n",
              "      <th>Predicted Values</th>\n",
              "    </tr>\n",
              "  </thead>\n",
              "  <tbody>\n",
              "    <tr>\n",
              "      <th>1</th>\n",
              "      <td>2.wav</td>\n",
              "      <td>0</td>\n",
              "      <td>0</td>\n",
              "    </tr>\n",
              "    <tr>\n",
              "      <th>2</th>\n",
              "      <td>3.wav</td>\n",
              "      <td>0</td>\n",
              "      <td>0</td>\n",
              "    </tr>\n",
              "    <tr>\n",
              "      <th>13</th>\n",
              "      <td>14.wav</td>\n",
              "      <td>0</td>\n",
              "      <td>0</td>\n",
              "    </tr>\n",
              "    <tr>\n",
              "      <th>15</th>\n",
              "      <td>16.wav</td>\n",
              "      <td>1</td>\n",
              "      <td>1</td>\n",
              "    </tr>\n",
              "    <tr>\n",
              "      <th>6</th>\n",
              "      <td>7.wav</td>\n",
              "      <td>1</td>\n",
              "      <td>1</td>\n",
              "    </tr>\n",
              "  </tbody>\n",
              "</table>\n",
              "</div>\n",
              "      <button class=\"colab-df-convert\" onclick=\"convertToInteractive('df-e7368084-b77c-488f-9ba5-beac8e1a7d06')\"\n",
              "              title=\"Convert this dataframe to an interactive table.\"\n",
              "              style=\"display:none;\">\n",
              "        \n",
              "  <svg xmlns=\"http://www.w3.org/2000/svg\" height=\"24px\"viewBox=\"0 0 24 24\"\n",
              "       width=\"24px\">\n",
              "    <path d=\"M0 0h24v24H0V0z\" fill=\"none\"/>\n",
              "    <path d=\"M18.56 5.44l.94 2.06.94-2.06 2.06-.94-2.06-.94-.94-2.06-.94 2.06-2.06.94zm-11 1L8.5 8.5l.94-2.06 2.06-.94-2.06-.94L8.5 2.5l-.94 2.06-2.06.94zm10 10l.94 2.06.94-2.06 2.06-.94-2.06-.94-.94-2.06-.94 2.06-2.06.94z\"/><path d=\"M17.41 7.96l-1.37-1.37c-.4-.4-.92-.59-1.43-.59-.52 0-1.04.2-1.43.59L10.3 9.45l-7.72 7.72c-.78.78-.78 2.05 0 2.83L4 21.41c.39.39.9.59 1.41.59.51 0 1.02-.2 1.41-.59l7.78-7.78 2.81-2.81c.8-.78.8-2.07 0-2.86zM5.41 20L4 18.59l7.72-7.72 1.47 1.35L5.41 20z\"/>\n",
              "  </svg>\n",
              "      </button>\n",
              "      \n",
              "  <style>\n",
              "    .colab-df-container {\n",
              "      display:flex;\n",
              "      flex-wrap:wrap;\n",
              "      gap: 12px;\n",
              "    }\n",
              "\n",
              "    .colab-df-convert {\n",
              "      background-color: #E8F0FE;\n",
              "      border: none;\n",
              "      border-radius: 50%;\n",
              "      cursor: pointer;\n",
              "      display: none;\n",
              "      fill: #1967D2;\n",
              "      height: 32px;\n",
              "      padding: 0 0 0 0;\n",
              "      width: 32px;\n",
              "    }\n",
              "\n",
              "    .colab-df-convert:hover {\n",
              "      background-color: #E2EBFA;\n",
              "      box-shadow: 0px 1px 2px rgba(60, 64, 67, 0.3), 0px 1px 3px 1px rgba(60, 64, 67, 0.15);\n",
              "      fill: #174EA6;\n",
              "    }\n",
              "\n",
              "    [theme=dark] .colab-df-convert {\n",
              "      background-color: #3B4455;\n",
              "      fill: #D2E3FC;\n",
              "    }\n",
              "\n",
              "    [theme=dark] .colab-df-convert:hover {\n",
              "      background-color: #434B5C;\n",
              "      box-shadow: 0px 1px 3px 1px rgba(0, 0, 0, 0.15);\n",
              "      filter: drop-shadow(0px 1px 2px rgba(0, 0, 0, 0.3));\n",
              "      fill: #FFFFFF;\n",
              "    }\n",
              "  </style>\n",
              "\n",
              "      <script>\n",
              "        const buttonEl =\n",
              "          document.querySelector('#df-e7368084-b77c-488f-9ba5-beac8e1a7d06 button.colab-df-convert');\n",
              "        buttonEl.style.display =\n",
              "          google.colab.kernel.accessAllowed ? 'block' : 'none';\n",
              "\n",
              "        async function convertToInteractive(key) {\n",
              "          const element = document.querySelector('#df-e7368084-b77c-488f-9ba5-beac8e1a7d06');\n",
              "          const dataTable =\n",
              "            await google.colab.kernel.invokeFunction('convertToInteractive',\n",
              "                                                     [key], {});\n",
              "          if (!dataTable) return;\n",
              "\n",
              "          const docLinkHtml = 'Like what you see? Visit the ' +\n",
              "            '<a target=\"_blank\" href=https://colab.research.google.com/notebooks/data_table.ipynb>data table notebook</a>'\n",
              "            + ' to learn more about interactive tables.';\n",
              "          element.innerHTML = '';\n",
              "          dataTable['output_type'] = 'display_data';\n",
              "          await google.colab.output.renderOutput(dataTable, element);\n",
              "          const docLink = document.createElement('div');\n",
              "          docLink.innerHTML = docLinkHtml;\n",
              "          element.appendChild(docLink);\n",
              "        }\n",
              "      </script>\n",
              "    </div>\n",
              "  </div>\n",
              "  "
            ]
          },
          "metadata": {},
          "execution_count": 43
        }
      ]
    },
    {
      "cell_type": "code",
      "source": [
        "clf3 = SVC(kernel = 'rbf', random_state = 0)\n",
        "clf3.fit(x_train, y_Train)"
      ],
      "metadata": {
        "colab": {
          "base_uri": "https://localhost:8080/"
        },
        "id": "174ArgEp7ByI",
        "outputId": "7b092c9e-4430-442e-a668-f4ed112c0294"
      },
      "execution_count": 44,
      "outputs": [
        {
          "output_type": "execute_result",
          "data": {
            "text/plain": [
              "SVC(random_state=0)"
            ]
          },
          "metadata": {},
          "execution_count": 44
        }
      ]
    },
    {
      "cell_type": "code",
      "source": [
        "clf3.score(x_test, y_Test)"
      ],
      "metadata": {
        "colab": {
          "base_uri": "https://localhost:8080/"
        },
        "id": "UhL1IlBaBgSL",
        "outputId": "9fb7235a-ba56-43cd-b390-cf4be2b77003"
      },
      "execution_count": 45,
      "outputs": [
        {
          "output_type": "execute_result",
          "data": {
            "text/plain": [
              "0.4"
            ]
          },
          "metadata": {},
          "execution_count": 45
        }
      ]
    },
    {
      "cell_type": "code",
      "source": [
        "y_pred3 = clf3.predict(x_test)\n",
        "print(\"Classification Report : \\n\\n\", classification_report(y_Test, y_pred3))"
      ],
      "metadata": {
        "colab": {
          "base_uri": "https://localhost:8080/"
        },
        "id": "R4MhgJCOBkrr",
        "outputId": "76292a24-a82f-48ed-f323-d34cb82c11b9"
      },
      "execution_count": 46,
      "outputs": [
        {
          "output_type": "stream",
          "name": "stdout",
          "text": [
            "Classification Report : \n",
            "\n",
            "               precision    recall  f1-score   support\n",
            "\n",
            "           0       0.00      0.00      0.00         3\n",
            "           1       0.40      1.00      0.57         2\n",
            "\n",
            "    accuracy                           0.40         5\n",
            "   macro avg       0.20      0.50      0.29         5\n",
            "weighted avg       0.16      0.40      0.23         5\n",
            "\n"
          ]
        }
      ]
    },
    {
      "cell_type": "code",
      "source": [
        "df3 = pd.DataFrame({'Input':X_test, 'Real Values':y_Test, 'Predicted Values':y_pred3})\n",
        "df3"
      ],
      "metadata": {
        "colab": {
          "base_uri": "https://localhost:8080/",
          "height": 206
        },
        "id": "h6I9-bQBBy_6",
        "outputId": "c66d1bae-4ea4-48ef-9ac4-a95cb0aba201"
      },
      "execution_count": 47,
      "outputs": [
        {
          "output_type": "execute_result",
          "data": {
            "text/plain": [
              "     Input  Real Values  Predicted Values\n",
              "1    2.wav            0                 1\n",
              "2    3.wav            0                 1\n",
              "13  14.wav            0                 1\n",
              "15  16.wav            1                 1\n",
              "6    7.wav            1                 1"
            ],
            "text/html": [
              "\n",
              "  <div id=\"df-a32cbd28-f572-438d-8a87-b8ee082ce22b\">\n",
              "    <div class=\"colab-df-container\">\n",
              "      <div>\n",
              "<style scoped>\n",
              "    .dataframe tbody tr th:only-of-type {\n",
              "        vertical-align: middle;\n",
              "    }\n",
              "\n",
              "    .dataframe tbody tr th {\n",
              "        vertical-align: top;\n",
              "    }\n",
              "\n",
              "    .dataframe thead th {\n",
              "        text-align: right;\n",
              "    }\n",
              "</style>\n",
              "<table border=\"1\" class=\"dataframe\">\n",
              "  <thead>\n",
              "    <tr style=\"text-align: right;\">\n",
              "      <th></th>\n",
              "      <th>Input</th>\n",
              "      <th>Real Values</th>\n",
              "      <th>Predicted Values</th>\n",
              "    </tr>\n",
              "  </thead>\n",
              "  <tbody>\n",
              "    <tr>\n",
              "      <th>1</th>\n",
              "      <td>2.wav</td>\n",
              "      <td>0</td>\n",
              "      <td>1</td>\n",
              "    </tr>\n",
              "    <tr>\n",
              "      <th>2</th>\n",
              "      <td>3.wav</td>\n",
              "      <td>0</td>\n",
              "      <td>1</td>\n",
              "    </tr>\n",
              "    <tr>\n",
              "      <th>13</th>\n",
              "      <td>14.wav</td>\n",
              "      <td>0</td>\n",
              "      <td>1</td>\n",
              "    </tr>\n",
              "    <tr>\n",
              "      <th>15</th>\n",
              "      <td>16.wav</td>\n",
              "      <td>1</td>\n",
              "      <td>1</td>\n",
              "    </tr>\n",
              "    <tr>\n",
              "      <th>6</th>\n",
              "      <td>7.wav</td>\n",
              "      <td>1</td>\n",
              "      <td>1</td>\n",
              "    </tr>\n",
              "  </tbody>\n",
              "</table>\n",
              "</div>\n",
              "      <button class=\"colab-df-convert\" onclick=\"convertToInteractive('df-a32cbd28-f572-438d-8a87-b8ee082ce22b')\"\n",
              "              title=\"Convert this dataframe to an interactive table.\"\n",
              "              style=\"display:none;\">\n",
              "        \n",
              "  <svg xmlns=\"http://www.w3.org/2000/svg\" height=\"24px\"viewBox=\"0 0 24 24\"\n",
              "       width=\"24px\">\n",
              "    <path d=\"M0 0h24v24H0V0z\" fill=\"none\"/>\n",
              "    <path d=\"M18.56 5.44l.94 2.06.94-2.06 2.06-.94-2.06-.94-.94-2.06-.94 2.06-2.06.94zm-11 1L8.5 8.5l.94-2.06 2.06-.94-2.06-.94L8.5 2.5l-.94 2.06-2.06.94zm10 10l.94 2.06.94-2.06 2.06-.94-2.06-.94-.94-2.06-.94 2.06-2.06.94z\"/><path d=\"M17.41 7.96l-1.37-1.37c-.4-.4-.92-.59-1.43-.59-.52 0-1.04.2-1.43.59L10.3 9.45l-7.72 7.72c-.78.78-.78 2.05 0 2.83L4 21.41c.39.39.9.59 1.41.59.51 0 1.02-.2 1.41-.59l7.78-7.78 2.81-2.81c.8-.78.8-2.07 0-2.86zM5.41 20L4 18.59l7.72-7.72 1.47 1.35L5.41 20z\"/>\n",
              "  </svg>\n",
              "      </button>\n",
              "      \n",
              "  <style>\n",
              "    .colab-df-container {\n",
              "      display:flex;\n",
              "      flex-wrap:wrap;\n",
              "      gap: 12px;\n",
              "    }\n",
              "\n",
              "    .colab-df-convert {\n",
              "      background-color: #E8F0FE;\n",
              "      border: none;\n",
              "      border-radius: 50%;\n",
              "      cursor: pointer;\n",
              "      display: none;\n",
              "      fill: #1967D2;\n",
              "      height: 32px;\n",
              "      padding: 0 0 0 0;\n",
              "      width: 32px;\n",
              "    }\n",
              "\n",
              "    .colab-df-convert:hover {\n",
              "      background-color: #E2EBFA;\n",
              "      box-shadow: 0px 1px 2px rgba(60, 64, 67, 0.3), 0px 1px 3px 1px rgba(60, 64, 67, 0.15);\n",
              "      fill: #174EA6;\n",
              "    }\n",
              "\n",
              "    [theme=dark] .colab-df-convert {\n",
              "      background-color: #3B4455;\n",
              "      fill: #D2E3FC;\n",
              "    }\n",
              "\n",
              "    [theme=dark] .colab-df-convert:hover {\n",
              "      background-color: #434B5C;\n",
              "      box-shadow: 0px 1px 3px 1px rgba(0, 0, 0, 0.15);\n",
              "      filter: drop-shadow(0px 1px 2px rgba(0, 0, 0, 0.3));\n",
              "      fill: #FFFFFF;\n",
              "    }\n",
              "  </style>\n",
              "\n",
              "      <script>\n",
              "        const buttonEl =\n",
              "          document.querySelector('#df-a32cbd28-f572-438d-8a87-b8ee082ce22b button.colab-df-convert');\n",
              "        buttonEl.style.display =\n",
              "          google.colab.kernel.accessAllowed ? 'block' : 'none';\n",
              "\n",
              "        async function convertToInteractive(key) {\n",
              "          const element = document.querySelector('#df-a32cbd28-f572-438d-8a87-b8ee082ce22b');\n",
              "          const dataTable =\n",
              "            await google.colab.kernel.invokeFunction('convertToInteractive',\n",
              "                                                     [key], {});\n",
              "          if (!dataTable) return;\n",
              "\n",
              "          const docLinkHtml = 'Like what you see? Visit the ' +\n",
              "            '<a target=\"_blank\" href=https://colab.research.google.com/notebooks/data_table.ipynb>data table notebook</a>'\n",
              "            + ' to learn more about interactive tables.';\n",
              "          element.innerHTML = '';\n",
              "          dataTable['output_type'] = 'display_data';\n",
              "          await google.colab.output.renderOutput(dataTable, element);\n",
              "          const docLink = document.createElement('div');\n",
              "          docLink.innerHTML = docLinkHtml;\n",
              "          element.appendChild(docLink);\n",
              "        }\n",
              "      </script>\n",
              "    </div>\n",
              "  </div>\n",
              "  "
            ]
          },
          "metadata": {},
          "execution_count": 47
        }
      ]
    },
    {
      "cell_type": "code",
      "source": [
        "clf4 = SGDClassifier(loss = 'hinge').fit(x_train, y_Train)"
      ],
      "metadata": {
        "id": "-RZmdLs9ONie"
      },
      "execution_count": 48,
      "outputs": []
    },
    {
      "cell_type": "code",
      "source": [
        "clf4.score(x_test, y_Test)"
      ],
      "metadata": {
        "colab": {
          "base_uri": "https://localhost:8080/"
        },
        "id": "vQdTWEMfOmRd",
        "outputId": "7affacdc-d797-492c-91f7-459b02235550"
      },
      "execution_count": 49,
      "outputs": [
        {
          "output_type": "execute_result",
          "data": {
            "text/plain": [
              "0.4"
            ]
          },
          "metadata": {},
          "execution_count": 49
        }
      ]
    },
    {
      "cell_type": "code",
      "source": [
        "y_pred4 = clf4.predict(x_test)\n",
        "#y_pred=np.argmax(y_pred, axis=1)\n",
        "print(\"Classification Report : \\n\\n\", classification_report(y_Test, y_pred4))"
      ],
      "metadata": {
        "colab": {
          "base_uri": "https://localhost:8080/"
        },
        "id": "Ssg51r4IOogK",
        "outputId": "89c5ffec-a432-4815-9fd4-a97ab1771f89"
      },
      "execution_count": 50,
      "outputs": [
        {
          "output_type": "stream",
          "name": "stdout",
          "text": [
            "Classification Report : \n",
            "\n",
            "               precision    recall  f1-score   support\n",
            "\n",
            "           0       0.00      0.00      0.00         3\n",
            "           1       0.40      1.00      0.57         2\n",
            "\n",
            "    accuracy                           0.40         5\n",
            "   macro avg       0.20      0.50      0.29         5\n",
            "weighted avg       0.16      0.40      0.23         5\n",
            "\n"
          ]
        }
      ]
    },
    {
      "cell_type": "code",
      "source": [
        "df4 = pd.DataFrame({'Input':X_test, 'Real Values':y_Test, 'Predicted Values':y_pred4})\n",
        "df4"
      ],
      "metadata": {
        "id": "HNTmSwFMOrvk",
        "colab": {
          "base_uri": "https://localhost:8080/",
          "height": 206
        },
        "outputId": "9a154641-6972-4618-b355-759ab4225202"
      },
      "execution_count": 51,
      "outputs": [
        {
          "output_type": "execute_result",
          "data": {
            "text/plain": [
              "     Input  Real Values  Predicted Values\n",
              "1    2.wav            0                 1\n",
              "2    3.wav            0                 1\n",
              "13  14.wav            0                 1\n",
              "15  16.wav            1                 1\n",
              "6    7.wav            1                 1"
            ],
            "text/html": [
              "\n",
              "  <div id=\"df-e7b2ec2b-2fee-444d-8206-8f88786e9913\">\n",
              "    <div class=\"colab-df-container\">\n",
              "      <div>\n",
              "<style scoped>\n",
              "    .dataframe tbody tr th:only-of-type {\n",
              "        vertical-align: middle;\n",
              "    }\n",
              "\n",
              "    .dataframe tbody tr th {\n",
              "        vertical-align: top;\n",
              "    }\n",
              "\n",
              "    .dataframe thead th {\n",
              "        text-align: right;\n",
              "    }\n",
              "</style>\n",
              "<table border=\"1\" class=\"dataframe\">\n",
              "  <thead>\n",
              "    <tr style=\"text-align: right;\">\n",
              "      <th></th>\n",
              "      <th>Input</th>\n",
              "      <th>Real Values</th>\n",
              "      <th>Predicted Values</th>\n",
              "    </tr>\n",
              "  </thead>\n",
              "  <tbody>\n",
              "    <tr>\n",
              "      <th>1</th>\n",
              "      <td>2.wav</td>\n",
              "      <td>0</td>\n",
              "      <td>1</td>\n",
              "    </tr>\n",
              "    <tr>\n",
              "      <th>2</th>\n",
              "      <td>3.wav</td>\n",
              "      <td>0</td>\n",
              "      <td>1</td>\n",
              "    </tr>\n",
              "    <tr>\n",
              "      <th>13</th>\n",
              "      <td>14.wav</td>\n",
              "      <td>0</td>\n",
              "      <td>1</td>\n",
              "    </tr>\n",
              "    <tr>\n",
              "      <th>15</th>\n",
              "      <td>16.wav</td>\n",
              "      <td>1</td>\n",
              "      <td>1</td>\n",
              "    </tr>\n",
              "    <tr>\n",
              "      <th>6</th>\n",
              "      <td>7.wav</td>\n",
              "      <td>1</td>\n",
              "      <td>1</td>\n",
              "    </tr>\n",
              "  </tbody>\n",
              "</table>\n",
              "</div>\n",
              "      <button class=\"colab-df-convert\" onclick=\"convertToInteractive('df-e7b2ec2b-2fee-444d-8206-8f88786e9913')\"\n",
              "              title=\"Convert this dataframe to an interactive table.\"\n",
              "              style=\"display:none;\">\n",
              "        \n",
              "  <svg xmlns=\"http://www.w3.org/2000/svg\" height=\"24px\"viewBox=\"0 0 24 24\"\n",
              "       width=\"24px\">\n",
              "    <path d=\"M0 0h24v24H0V0z\" fill=\"none\"/>\n",
              "    <path d=\"M18.56 5.44l.94 2.06.94-2.06 2.06-.94-2.06-.94-.94-2.06-.94 2.06-2.06.94zm-11 1L8.5 8.5l.94-2.06 2.06-.94-2.06-.94L8.5 2.5l-.94 2.06-2.06.94zm10 10l.94 2.06.94-2.06 2.06-.94-2.06-.94-.94-2.06-.94 2.06-2.06.94z\"/><path d=\"M17.41 7.96l-1.37-1.37c-.4-.4-.92-.59-1.43-.59-.52 0-1.04.2-1.43.59L10.3 9.45l-7.72 7.72c-.78.78-.78 2.05 0 2.83L4 21.41c.39.39.9.59 1.41.59.51 0 1.02-.2 1.41-.59l7.78-7.78 2.81-2.81c.8-.78.8-2.07 0-2.86zM5.41 20L4 18.59l7.72-7.72 1.47 1.35L5.41 20z\"/>\n",
              "  </svg>\n",
              "      </button>\n",
              "      \n",
              "  <style>\n",
              "    .colab-df-container {\n",
              "      display:flex;\n",
              "      flex-wrap:wrap;\n",
              "      gap: 12px;\n",
              "    }\n",
              "\n",
              "    .colab-df-convert {\n",
              "      background-color: #E8F0FE;\n",
              "      border: none;\n",
              "      border-radius: 50%;\n",
              "      cursor: pointer;\n",
              "      display: none;\n",
              "      fill: #1967D2;\n",
              "      height: 32px;\n",
              "      padding: 0 0 0 0;\n",
              "      width: 32px;\n",
              "    }\n",
              "\n",
              "    .colab-df-convert:hover {\n",
              "      background-color: #E2EBFA;\n",
              "      box-shadow: 0px 1px 2px rgba(60, 64, 67, 0.3), 0px 1px 3px 1px rgba(60, 64, 67, 0.15);\n",
              "      fill: #174EA6;\n",
              "    }\n",
              "\n",
              "    [theme=dark] .colab-df-convert {\n",
              "      background-color: #3B4455;\n",
              "      fill: #D2E3FC;\n",
              "    }\n",
              "\n",
              "    [theme=dark] .colab-df-convert:hover {\n",
              "      background-color: #434B5C;\n",
              "      box-shadow: 0px 1px 3px 1px rgba(0, 0, 0, 0.15);\n",
              "      filter: drop-shadow(0px 1px 2px rgba(0, 0, 0, 0.3));\n",
              "      fill: #FFFFFF;\n",
              "    }\n",
              "  </style>\n",
              "\n",
              "      <script>\n",
              "        const buttonEl =\n",
              "          document.querySelector('#df-e7b2ec2b-2fee-444d-8206-8f88786e9913 button.colab-df-convert');\n",
              "        buttonEl.style.display =\n",
              "          google.colab.kernel.accessAllowed ? 'block' : 'none';\n",
              "\n",
              "        async function convertToInteractive(key) {\n",
              "          const element = document.querySelector('#df-e7b2ec2b-2fee-444d-8206-8f88786e9913');\n",
              "          const dataTable =\n",
              "            await google.colab.kernel.invokeFunction('convertToInteractive',\n",
              "                                                     [key], {});\n",
              "          if (!dataTable) return;\n",
              "\n",
              "          const docLinkHtml = 'Like what you see? Visit the ' +\n",
              "            '<a target=\"_blank\" href=https://colab.research.google.com/notebooks/data_table.ipynb>data table notebook</a>'\n",
              "            + ' to learn more about interactive tables.';\n",
              "          element.innerHTML = '';\n",
              "          dataTable['output_type'] = 'display_data';\n",
              "          await google.colab.output.renderOutput(dataTable, element);\n",
              "          const docLink = document.createElement('div');\n",
              "          docLink.innerHTML = docLinkHtml;\n",
              "          element.appendChild(docLink);\n",
              "        }\n",
              "      </script>\n",
              "    </div>\n",
              "  </div>\n",
              "  "
            ]
          },
          "metadata": {},
          "execution_count": 51
        }
      ]
    }
  ]
}