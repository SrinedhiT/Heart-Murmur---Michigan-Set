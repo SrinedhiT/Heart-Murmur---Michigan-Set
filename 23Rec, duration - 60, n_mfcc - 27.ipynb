{
  "nbformat": 4,
  "nbformat_minor": 0,
  "metadata": {
    "colab": {
      "provenance": [],
      "collapsed_sections": []
    },
    "kernelspec": {
      "name": "python3",
      "display_name": "Python 3"
    },
    "language_info": {
      "name": "python"
    }
  },
  "cells": [
    {
      "cell_type": "code",
      "execution_count": 1,
      "metadata": {
        "colab": {
          "base_uri": "https://localhost:8080/"
        },
        "id": "YE2xW-seLhyb",
        "outputId": "19118327-5ccc-4d99-825b-ea2a456ad17f"
      },
      "outputs": [
        {
          "output_type": "stream",
          "name": "stdout",
          "text": [
            "Looking in indexes: https://pypi.org/simple, https://us-python.pkg.dev/colab-wheels/public/simple/\n",
            "Requirement already satisfied: pydub in /usr/local/lib/python3.7/dist-packages (0.25.1)\n"
          ]
        }
      ],
      "source": [
        "pip install pydub"
      ]
    },
    {
      "cell_type": "code",
      "source": [
        "pip install ffmpeg"
      ],
      "metadata": {
        "colab": {
          "base_uri": "https://localhost:8080/"
        },
        "id": "abzGZsDWL7pV",
        "outputId": "d0194879-2674-42db-f141-ea697d7574be"
      },
      "execution_count": 2,
      "outputs": [
        {
          "output_type": "stream",
          "name": "stdout",
          "text": [
            "Looking in indexes: https://pypi.org/simple, https://us-python.pkg.dev/colab-wheels/public/simple/\n",
            "Requirement already satisfied: ffmpeg in /usr/local/lib/python3.7/dist-packages (1.4)\n"
          ]
        }
      ]
    },
    {
      "cell_type": "code",
      "source": [
        "pip install Ipython"
      ],
      "metadata": {
        "colab": {
          "base_uri": "https://localhost:8080/"
        },
        "id": "ywNS_PfxNDSS",
        "outputId": "47338e97-8937-40d7-89ef-7752089c1bb7"
      },
      "execution_count": 3,
      "outputs": [
        {
          "output_type": "stream",
          "name": "stdout",
          "text": [
            "Looking in indexes: https://pypi.org/simple, https://us-python.pkg.dev/colab-wheels/public/simple/\n",
            "Requirement already satisfied: Ipython in /usr/local/lib/python3.7/dist-packages (7.9.0)\n",
            "Requirement already satisfied: pygments in /usr/local/lib/python3.7/dist-packages (from Ipython) (2.6.1)\n",
            "Requirement already satisfied: setuptools>=18.5 in /usr/local/lib/python3.7/dist-packages (from Ipython) (57.4.0)\n",
            "Requirement already satisfied: backcall in /usr/local/lib/python3.7/dist-packages (from Ipython) (0.2.0)\n",
            "Requirement already satisfied: pexpect in /usr/local/lib/python3.7/dist-packages (from Ipython) (4.8.0)\n",
            "Requirement already satisfied: traitlets>=4.2 in /usr/local/lib/python3.7/dist-packages (from Ipython) (5.1.1)\n",
            "Requirement already satisfied: prompt-toolkit<2.1.0,>=2.0.0 in /usr/local/lib/python3.7/dist-packages (from Ipython) (2.0.10)\n",
            "Requirement already satisfied: decorator in /usr/local/lib/python3.7/dist-packages (from Ipython) (4.4.2)\n",
            "Requirement already satisfied: jedi>=0.10 in /usr/local/lib/python3.7/dist-packages (from Ipython) (0.18.1)\n",
            "Requirement already satisfied: pickleshare in /usr/local/lib/python3.7/dist-packages (from Ipython) (0.7.5)\n",
            "Requirement already satisfied: parso<0.9.0,>=0.8.0 in /usr/local/lib/python3.7/dist-packages (from jedi>=0.10->Ipython) (0.8.3)\n",
            "Requirement already satisfied: wcwidth in /usr/local/lib/python3.7/dist-packages (from prompt-toolkit<2.1.0,>=2.0.0->Ipython) (0.2.5)\n",
            "Requirement already satisfied: six>=1.9.0 in /usr/local/lib/python3.7/dist-packages (from prompt-toolkit<2.1.0,>=2.0.0->Ipython) (1.15.0)\n",
            "Requirement already satisfied: ptyprocess>=0.5 in /usr/local/lib/python3.7/dist-packages (from pexpect->Ipython) (0.7.0)\n"
          ]
        }
      ]
    },
    {
      "cell_type": "code",
      "source": [
        "pip uninstall scikit-learn"
      ],
      "metadata": {
        "colab": {
          "base_uri": "https://localhost:8080/"
        },
        "id": "13HgY7BtNJVd",
        "outputId": "c457dea1-7e7b-4f74-92ad-fccdbc951bf9"
      },
      "execution_count": 4,
      "outputs": [
        {
          "output_type": "stream",
          "name": "stdout",
          "text": [
            "Found existing installation: scikit-learn 0.24.2\n",
            "Uninstalling scikit-learn-0.24.2:\n",
            "  Would remove:\n",
            "    /usr/local/lib/python3.7/dist-packages/scikit_learn-0.24.2.dist-info/*\n",
            "    /usr/local/lib/python3.7/dist-packages/scikit_learn.libs/libgomp-f7e03b3e.so.1.0.0\n",
            "    /usr/local/lib/python3.7/dist-packages/sklearn/*\n",
            "Proceed (y/n)? y\n",
            "  Successfully uninstalled scikit-learn-0.24.2\n"
          ]
        }
      ]
    },
    {
      "cell_type": "code",
      "source": [
        "pip install scikit-learn"
      ],
      "metadata": {
        "colab": {
          "base_uri": "https://localhost:8080/"
        },
        "id": "M-_dDkMZNLPN",
        "outputId": "0da1b3c7-f852-412f-cab8-d0eaa06568be"
      },
      "execution_count": 5,
      "outputs": [
        {
          "output_type": "stream",
          "name": "stdout",
          "text": [
            "Looking in indexes: https://pypi.org/simple, https://us-python.pkg.dev/colab-wheels/public/simple/\n",
            "Collecting scikit-learn\n",
            "  Using cached scikit_learn-1.0.2-cp37-cp37m-manylinux_2_17_x86_64.manylinux2014_x86_64.whl (24.8 MB)\n",
            "Requirement already satisfied: scipy>=1.1.0 in /usr/local/lib/python3.7/dist-packages (from scikit-learn) (1.5.4)\n",
            "Requirement already satisfied: joblib>=0.11 in /usr/local/lib/python3.7/dist-packages (from scikit-learn) (1.2.0)\n",
            "Requirement already satisfied: threadpoolctl>=2.0.0 in /usr/local/lib/python3.7/dist-packages (from scikit-learn) (3.1.0)\n",
            "Requirement already satisfied: numpy>=1.14.6 in /usr/local/lib/python3.7/dist-packages (from scikit-learn) (1.21.6)\n",
            "Installing collected packages: scikit-learn\n",
            "\u001b[31mERROR: pip's dependency resolver does not currently take into account all the packages that are installed. This behaviour is the source of the following dependency conflicts.\n",
            "pyaudioprocessing 1.1.13 requires scikit-learn==0.24.2; python_version <= \"3.7\", but you have scikit-learn 1.0.2 which is incompatible.\u001b[0m\n",
            "Successfully installed scikit-learn-1.0.2\n"
          ]
        }
      ]
    },
    {
      "cell_type": "code",
      "source": [
        "pip install librosa"
      ],
      "metadata": {
        "colab": {
          "base_uri": "https://localhost:8080/"
        },
        "id": "bxGhVTfiN6ge",
        "outputId": "94c3bba6-4042-4e9a-d0a4-7cac29741c94"
      },
      "execution_count": 6,
      "outputs": [
        {
          "output_type": "stream",
          "name": "stdout",
          "text": [
            "Looking in indexes: https://pypi.org/simple, https://us-python.pkg.dev/colab-wheels/public/simple/\n",
            "Requirement already satisfied: librosa in /usr/local/lib/python3.7/dist-packages (0.8.1)\n",
            "Requirement already satisfied: numpy>=1.15.0 in /usr/local/lib/python3.7/dist-packages (from librosa) (1.21.6)\n",
            "Requirement already satisfied: joblib>=0.14 in /usr/local/lib/python3.7/dist-packages (from librosa) (1.2.0)\n",
            "Requirement already satisfied: scikit-learn!=0.19.0,>=0.14.0 in /usr/local/lib/python3.7/dist-packages (from librosa) (1.0.2)\n",
            "Requirement already satisfied: numba>=0.43.0 in /usr/local/lib/python3.7/dist-packages (from librosa) (0.56.3)\n",
            "Requirement already satisfied: soundfile>=0.10.2 in /usr/local/lib/python3.7/dist-packages (from librosa) (0.11.0)\n",
            "Requirement already satisfied: pooch>=1.0 in /usr/local/lib/python3.7/dist-packages (from librosa) (1.6.0)\n",
            "Requirement already satisfied: resampy>=0.2.2 in /usr/local/lib/python3.7/dist-packages (from librosa) (0.4.2)\n",
            "Requirement already satisfied: decorator>=3.0.0 in /usr/local/lib/python3.7/dist-packages (from librosa) (4.4.2)\n",
            "Requirement already satisfied: packaging>=20.0 in /usr/local/lib/python3.7/dist-packages (from librosa) (21.3)\n",
            "Requirement already satisfied: scipy>=1.0.0 in /usr/local/lib/python3.7/dist-packages (from librosa) (1.5.4)\n",
            "Requirement already satisfied: audioread>=2.0.0 in /usr/local/lib/python3.7/dist-packages (from librosa) (3.0.0)\n",
            "Requirement already satisfied: setuptools in /usr/local/lib/python3.7/dist-packages (from numba>=0.43.0->librosa) (57.4.0)\n",
            "Requirement already satisfied: importlib-metadata in /usr/local/lib/python3.7/dist-packages (from numba>=0.43.0->librosa) (4.13.0)\n",
            "Requirement already satisfied: llvmlite<0.40,>=0.39.0dev0 in /usr/local/lib/python3.7/dist-packages (from numba>=0.43.0->librosa) (0.39.1)\n",
            "Requirement already satisfied: pyparsing!=3.0.5,>=2.0.2 in /usr/local/lib/python3.7/dist-packages (from packaging>=20.0->librosa) (3.0.9)\n",
            "Requirement already satisfied: appdirs>=1.3.0 in /usr/local/lib/python3.7/dist-packages (from pooch>=1.0->librosa) (1.4.4)\n",
            "Requirement already satisfied: requests>=2.19.0 in /usr/local/lib/python3.7/dist-packages (from pooch>=1.0->librosa) (2.23.0)\n",
            "Requirement already satisfied: certifi>=2017.4.17 in /usr/local/lib/python3.7/dist-packages (from requests>=2.19.0->pooch>=1.0->librosa) (2022.9.24)\n",
            "Requirement already satisfied: chardet<4,>=3.0.2 in /usr/local/lib/python3.7/dist-packages (from requests>=2.19.0->pooch>=1.0->librosa) (3.0.4)\n",
            "Requirement already satisfied: urllib3!=1.25.0,!=1.25.1,<1.26,>=1.21.1 in /usr/local/lib/python3.7/dist-packages (from requests>=2.19.0->pooch>=1.0->librosa) (1.24.3)\n",
            "Requirement already satisfied: idna<3,>=2.5 in /usr/local/lib/python3.7/dist-packages (from requests>=2.19.0->pooch>=1.0->librosa) (2.10)\n",
            "Requirement already satisfied: threadpoolctl>=2.0.0 in /usr/local/lib/python3.7/dist-packages (from scikit-learn!=0.19.0,>=0.14.0->librosa) (3.1.0)\n",
            "Requirement already satisfied: cffi>=1.0 in /usr/local/lib/python3.7/dist-packages (from soundfile>=0.10.2->librosa) (1.15.1)\n",
            "Requirement already satisfied: pycparser in /usr/local/lib/python3.7/dist-packages (from cffi>=1.0->soundfile>=0.10.2->librosa) (2.21)\n",
            "Requirement already satisfied: zipp>=0.5 in /usr/local/lib/python3.7/dist-packages (from importlib-metadata->numba>=0.43.0->librosa) (3.9.0)\n",
            "Requirement already satisfied: typing-extensions>=3.6.4 in /usr/local/lib/python3.7/dist-packages (from importlib-metadata->numba>=0.43.0->librosa) (4.1.1)\n"
          ]
        }
      ]
    },
    {
      "cell_type": "code",
      "source": [
        "pip install pyAudioProcessing"
      ],
      "metadata": {
        "colab": {
          "base_uri": "https://localhost:8080/"
        },
        "id": "HmHglC1fOD0q",
        "outputId": "22bfef5e-4c09-4568-c2ce-6b8059c49d8e"
      },
      "execution_count": 7,
      "outputs": [
        {
          "output_type": "stream",
          "name": "stdout",
          "text": [
            "Looking in indexes: https://pypi.org/simple, https://us-python.pkg.dev/colab-wheels/public/simple/\n",
            "Requirement already satisfied: pyAudioProcessing in /usr/local/lib/python3.7/dist-packages (1.1.13)\n",
            "Collecting scikit-learn==0.24.2\n",
            "  Using cached scikit_learn-0.24.2-cp37-cp37m-manylinux2010_x86_64.whl (22.3 MB)\n",
            "Requirement already satisfied: numpy==1.21.6 in /usr/local/lib/python3.7/dist-packages (from pyAudioProcessing) (1.21.6)\n",
            "Requirement already satisfied: pydub==0.25.1 in /usr/local/lib/python3.7/dist-packages (from pyAudioProcessing) (0.25.1)\n",
            "Requirement already satisfied: matplotlib==3.3.4 in /usr/local/lib/python3.7/dist-packages (from pyAudioProcessing) (3.3.4)\n",
            "Requirement already satisfied: pytest==6.2.3 in /usr/local/lib/python3.7/dist-packages (from pyAudioProcessing) (6.2.3)\n",
            "Requirement already satisfied: scipy==1.5.4 in /usr/local/lib/python3.7/dist-packages (from pyAudioProcessing) (1.5.4)\n",
            "Requirement already satisfied: ffmpeg==1.4 in /usr/local/lib/python3.7/dist-packages (from pyAudioProcessing) (1.4)\n",
            "Requirement already satisfied: python-dateutil>=2.1 in /usr/local/lib/python3.7/dist-packages (from matplotlib==3.3.4->pyAudioProcessing) (2.8.2)\n",
            "Requirement already satisfied: cycler>=0.10 in /usr/local/lib/python3.7/dist-packages (from matplotlib==3.3.4->pyAudioProcessing) (0.11.0)\n",
            "Requirement already satisfied: pillow>=6.2.0 in /usr/local/lib/python3.7/dist-packages (from matplotlib==3.3.4->pyAudioProcessing) (7.1.2)\n",
            "Requirement already satisfied: kiwisolver>=1.0.1 in /usr/local/lib/python3.7/dist-packages (from matplotlib==3.3.4->pyAudioProcessing) (1.4.4)\n",
            "Requirement already satisfied: pyparsing!=2.0.4,!=2.1.2,!=2.1.6,>=2.0.3 in /usr/local/lib/python3.7/dist-packages (from matplotlib==3.3.4->pyAudioProcessing) (3.0.9)\n",
            "Requirement already satisfied: packaging in /usr/local/lib/python3.7/dist-packages (from pytest==6.2.3->pyAudioProcessing) (21.3)\n",
            "Requirement already satisfied: importlib-metadata>=0.12 in /usr/local/lib/python3.7/dist-packages (from pytest==6.2.3->pyAudioProcessing) (4.13.0)\n",
            "Requirement already satisfied: attrs>=19.2.0 in /usr/local/lib/python3.7/dist-packages (from pytest==6.2.3->pyAudioProcessing) (22.1.0)\n",
            "Requirement already satisfied: toml in /usr/local/lib/python3.7/dist-packages (from pytest==6.2.3->pyAudioProcessing) (0.10.2)\n",
            "Requirement already satisfied: iniconfig in /usr/local/lib/python3.7/dist-packages (from pytest==6.2.3->pyAudioProcessing) (1.1.1)\n",
            "Requirement already satisfied: pluggy<1.0.0a1,>=0.12 in /usr/local/lib/python3.7/dist-packages (from pytest==6.2.3->pyAudioProcessing) (0.13.1)\n",
            "Requirement already satisfied: py>=1.8.2 in /usr/local/lib/python3.7/dist-packages (from pytest==6.2.3->pyAudioProcessing) (1.11.0)\n",
            "Requirement already satisfied: joblib>=0.11 in /usr/local/lib/python3.7/dist-packages (from scikit-learn==0.24.2->pyAudioProcessing) (1.2.0)\n",
            "Requirement already satisfied: threadpoolctl>=2.0.0 in /usr/local/lib/python3.7/dist-packages (from scikit-learn==0.24.2->pyAudioProcessing) (3.1.0)\n",
            "Requirement already satisfied: typing-extensions>=3.6.4 in /usr/local/lib/python3.7/dist-packages (from importlib-metadata>=0.12->pytest==6.2.3->pyAudioProcessing) (4.1.1)\n",
            "Requirement already satisfied: zipp>=0.5 in /usr/local/lib/python3.7/dist-packages (from importlib-metadata>=0.12->pytest==6.2.3->pyAudioProcessing) (3.9.0)\n",
            "Requirement already satisfied: six>=1.5 in /usr/local/lib/python3.7/dist-packages (from python-dateutil>=2.1->matplotlib==3.3.4->pyAudioProcessing) (1.15.0)\n",
            "Installing collected packages: scikit-learn\n",
            "  Attempting uninstall: scikit-learn\n",
            "    Found existing installation: scikit-learn 1.0.2\n",
            "    Uninstalling scikit-learn-1.0.2:\n",
            "      Successfully uninstalled scikit-learn-1.0.2\n",
            "\u001b[31mERROR: pip's dependency resolver does not currently take into account all the packages that are installed. This behaviour is the source of the following dependency conflicts.\n",
            "yellowbrick 1.5 requires scikit-learn>=1.0.0, but you have scikit-learn 0.24.2 which is incompatible.\u001b[0m\n",
            "Successfully installed scikit-learn-0.24.2\n"
          ]
        }
      ]
    },
    {
      "cell_type": "code",
      "source": [
        "import numpy as np\n",
        "import pandas as pd\n",
        "import seaborn as sns\n",
        "import matplotlib as plt\n",
        "import itertools\n",
        "import os\n",
        "import sys\n",
        "import pywt\n",
        "import librosa\n",
        "import sklearn\n",
        "import scipy\n",
        "import scipy.io\n",
        "import scipy.io.wavfile\n",
        "from scipy import signal\n",
        "from scipy.stats import kurtosis, skew, tstd\n",
        "from scipy.signal import periodogram, welch, butter, lfilter, freqz\n",
        "from os import path\n",
        "from pydub import AudioSegment\n",
        "import tensorflow as tf\n",
        "from tensorflow import keras\n",
        "from keras import optimizers\n",
        "from keras.models import Model, load_model, Sequential\n",
        "from keras.layers import Input, Dense, Dropout, AlphaDropout, Activation, Flatten, LSTM\n",
        "from keras.callbacks import ModelCheckpoint, TensorBoard,EarlyStopping,ReduceLROnPlateau,ProgbarLogger\n",
        "from sklearn.model_selection import train_test_split, GridSearchCV\n",
        "from sklearn.metrics import confusion_matrix, precision_recall_curve, recall_score, classification_report, auc, roc_curve, precision_recall_fscore_support, f1_score, accuracy_score\n",
        "from sklearn.preprocessing import OneHotEncoder, MinMaxScaler, LabelEncoder\n",
        "from sklearn.linear_model import LogisticRegression\n",
        "from keras.utils import np_utils\n",
        "from keras.wrappers.scikit_learn import KerasClassifier\n",
        "from pyAudioProcessing.extract_features import get_features"
      ],
      "metadata": {
        "id": "qnSxOsNek_HZ"
      },
      "execution_count": 8,
      "outputs": []
    },
    {
      "cell_type": "code",
      "source": [
        "#List of Labels - 0 for normal, 1 for murmur\n",
        "labels = [0,0,0,0,0,1,1,1,1,1,1,1,1,0,1,1,1,0,0,0,1,1,1]\n",
        "len(labels)"
      ],
      "metadata": {
        "colab": {
          "base_uri": "https://localhost:8080/"
        },
        "id": "EVkWBerrOGYV",
        "outputId": "d28dc7e9-8b60-4d1d-dac1-89c624f4703a"
      },
      "execution_count": 9,
      "outputs": [
        {
          "output_type": "execute_result",
          "data": {
            "text/plain": [
              "23"
            ]
          },
          "metadata": {},
          "execution_count": 9
        }
      ]
    },
    {
      "cell_type": "code",
      "source": [
        "#They were originally named differently and I have renamed and numbered them for ease of access.\n",
        "#The michigan heart sound recordings are in mp3 format\n",
        "#The recordings are converted to wav format for easy processing as most python libraries require the audio format to be wav.\n",
        "\n",
        "def converttowav(filepath):\n",
        "  destinationpath = filepath.split('.')[0] + '.wav'\n",
        "  sound = AudioSegment.from_mp3(filepath)\n",
        "  sound.export(destinationpath, format = \"wav\")\n",
        "\n",
        "filepathslist = list()\n",
        "for i in range(23):\n",
        "  filepath = str(i+1) + '.mp3'\n",
        "  converttowav(filepath)\n",
        "  filepathslist.append(str(i+1)+'.wav')"
      ],
      "metadata": {
        "id": "ZLsrJmWijLMi"
      },
      "execution_count": 10,
      "outputs": []
    },
    {
      "cell_type": "code",
      "source": [
        "#Creating an empty dataframe with columns to store filenames and the respective labels\n",
        "dataframe = pd.DataFrame(columns = ['filename', 'labels'])"
      ],
      "metadata": {
        "id": "lmO-BEaqma9y"
      },
      "execution_count": 11,
      "outputs": []
    },
    {
      "cell_type": "code",
      "source": [
        "filepathslist"
      ],
      "metadata": {
        "colab": {
          "base_uri": "https://localhost:8080/"
        },
        "id": "pV5QoIa4tT8E",
        "outputId": "4262c2e9-c836-47ff-89a1-9bdbd18625e1"
      },
      "execution_count": 12,
      "outputs": [
        {
          "output_type": "execute_result",
          "data": {
            "text/plain": [
              "['1.wav',\n",
              " '2.wav',\n",
              " '3.wav',\n",
              " '4.wav',\n",
              " '5.wav',\n",
              " '6.wav',\n",
              " '7.wav',\n",
              " '8.wav',\n",
              " '9.wav',\n",
              " '10.wav',\n",
              " '11.wav',\n",
              " '12.wav',\n",
              " '13.wav',\n",
              " '14.wav',\n",
              " '15.wav',\n",
              " '16.wav',\n",
              " '17.wav',\n",
              " '18.wav',\n",
              " '19.wav',\n",
              " '20.wav',\n",
              " '21.wav',\n",
              " '22.wav',\n",
              " '23.wav']"
            ]
          },
          "metadata": {},
          "execution_count": 12
        }
      ]
    },
    {
      "cell_type": "code",
      "source": [
        "labels"
      ],
      "metadata": {
        "colab": {
          "base_uri": "https://localhost:8080/"
        },
        "id": "ByxRbYTMtVV1",
        "outputId": "0370ec08-7b6b-412d-f3b3-c3ac50ae4ff4"
      },
      "execution_count": 13,
      "outputs": [
        {
          "output_type": "execute_result",
          "data": {
            "text/plain": [
              "[0, 0, 0, 0, 0, 1, 1, 1, 1, 1, 1, 1, 1, 0, 1, 1, 1, 0, 0, 0, 1, 1, 1]"
            ]
          },
          "metadata": {},
          "execution_count": 13
        }
      ]
    },
    {
      "cell_type": "code",
      "source": [
        "#Inserting filename and label values into dataframe\n",
        "dataframe['filename'] = filepathslist\n",
        "dataframe['labels'] = labels"
      ],
      "metadata": {
        "id": "mvJtQAqAtZV1"
      },
      "execution_count": 14,
      "outputs": []
    },
    {
      "cell_type": "code",
      "source": [
        "dataframe"
      ],
      "metadata": {
        "colab": {
          "base_uri": "https://localhost:8080/",
          "height": 770
        },
        "id": "--htr29DthpR",
        "outputId": "2a60fc0e-c445-4c08-8f0f-5352fc9f6d91"
      },
      "execution_count": 15,
      "outputs": [
        {
          "output_type": "execute_result",
          "data": {
            "text/plain": [
              "   filename  labels\n",
              "0     1.wav       0\n",
              "1     2.wav       0\n",
              "2     3.wav       0\n",
              "3     4.wav       0\n",
              "4     5.wav       0\n",
              "5     6.wav       1\n",
              "6     7.wav       1\n",
              "7     8.wav       1\n",
              "8     9.wav       1\n",
              "9    10.wav       1\n",
              "10   11.wav       1\n",
              "11   12.wav       1\n",
              "12   13.wav       1\n",
              "13   14.wav       0\n",
              "14   15.wav       1\n",
              "15   16.wav       1\n",
              "16   17.wav       1\n",
              "17   18.wav       0\n",
              "18   19.wav       0\n",
              "19   20.wav       0\n",
              "20   21.wav       1\n",
              "21   22.wav       1\n",
              "22   23.wav       1"
            ],
            "text/html": [
              "\n",
              "  <div id=\"df-e044a5f5-0cff-4e9e-b5ae-5a9f61738349\">\n",
              "    <div class=\"colab-df-container\">\n",
              "      <div>\n",
              "<style scoped>\n",
              "    .dataframe tbody tr th:only-of-type {\n",
              "        vertical-align: middle;\n",
              "    }\n",
              "\n",
              "    .dataframe tbody tr th {\n",
              "        vertical-align: top;\n",
              "    }\n",
              "\n",
              "    .dataframe thead th {\n",
              "        text-align: right;\n",
              "    }\n",
              "</style>\n",
              "<table border=\"1\" class=\"dataframe\">\n",
              "  <thead>\n",
              "    <tr style=\"text-align: right;\">\n",
              "      <th></th>\n",
              "      <th>filename</th>\n",
              "      <th>labels</th>\n",
              "    </tr>\n",
              "  </thead>\n",
              "  <tbody>\n",
              "    <tr>\n",
              "      <th>0</th>\n",
              "      <td>1.wav</td>\n",
              "      <td>0</td>\n",
              "    </tr>\n",
              "    <tr>\n",
              "      <th>1</th>\n",
              "      <td>2.wav</td>\n",
              "      <td>0</td>\n",
              "    </tr>\n",
              "    <tr>\n",
              "      <th>2</th>\n",
              "      <td>3.wav</td>\n",
              "      <td>0</td>\n",
              "    </tr>\n",
              "    <tr>\n",
              "      <th>3</th>\n",
              "      <td>4.wav</td>\n",
              "      <td>0</td>\n",
              "    </tr>\n",
              "    <tr>\n",
              "      <th>4</th>\n",
              "      <td>5.wav</td>\n",
              "      <td>0</td>\n",
              "    </tr>\n",
              "    <tr>\n",
              "      <th>5</th>\n",
              "      <td>6.wav</td>\n",
              "      <td>1</td>\n",
              "    </tr>\n",
              "    <tr>\n",
              "      <th>6</th>\n",
              "      <td>7.wav</td>\n",
              "      <td>1</td>\n",
              "    </tr>\n",
              "    <tr>\n",
              "      <th>7</th>\n",
              "      <td>8.wav</td>\n",
              "      <td>1</td>\n",
              "    </tr>\n",
              "    <tr>\n",
              "      <th>8</th>\n",
              "      <td>9.wav</td>\n",
              "      <td>1</td>\n",
              "    </tr>\n",
              "    <tr>\n",
              "      <th>9</th>\n",
              "      <td>10.wav</td>\n",
              "      <td>1</td>\n",
              "    </tr>\n",
              "    <tr>\n",
              "      <th>10</th>\n",
              "      <td>11.wav</td>\n",
              "      <td>1</td>\n",
              "    </tr>\n",
              "    <tr>\n",
              "      <th>11</th>\n",
              "      <td>12.wav</td>\n",
              "      <td>1</td>\n",
              "    </tr>\n",
              "    <tr>\n",
              "      <th>12</th>\n",
              "      <td>13.wav</td>\n",
              "      <td>1</td>\n",
              "    </tr>\n",
              "    <tr>\n",
              "      <th>13</th>\n",
              "      <td>14.wav</td>\n",
              "      <td>0</td>\n",
              "    </tr>\n",
              "    <tr>\n",
              "      <th>14</th>\n",
              "      <td>15.wav</td>\n",
              "      <td>1</td>\n",
              "    </tr>\n",
              "    <tr>\n",
              "      <th>15</th>\n",
              "      <td>16.wav</td>\n",
              "      <td>1</td>\n",
              "    </tr>\n",
              "    <tr>\n",
              "      <th>16</th>\n",
              "      <td>17.wav</td>\n",
              "      <td>1</td>\n",
              "    </tr>\n",
              "    <tr>\n",
              "      <th>17</th>\n",
              "      <td>18.wav</td>\n",
              "      <td>0</td>\n",
              "    </tr>\n",
              "    <tr>\n",
              "      <th>18</th>\n",
              "      <td>19.wav</td>\n",
              "      <td>0</td>\n",
              "    </tr>\n",
              "    <tr>\n",
              "      <th>19</th>\n",
              "      <td>20.wav</td>\n",
              "      <td>0</td>\n",
              "    </tr>\n",
              "    <tr>\n",
              "      <th>20</th>\n",
              "      <td>21.wav</td>\n",
              "      <td>1</td>\n",
              "    </tr>\n",
              "    <tr>\n",
              "      <th>21</th>\n",
              "      <td>22.wav</td>\n",
              "      <td>1</td>\n",
              "    </tr>\n",
              "    <tr>\n",
              "      <th>22</th>\n",
              "      <td>23.wav</td>\n",
              "      <td>1</td>\n",
              "    </tr>\n",
              "  </tbody>\n",
              "</table>\n",
              "</div>\n",
              "      <button class=\"colab-df-convert\" onclick=\"convertToInteractive('df-e044a5f5-0cff-4e9e-b5ae-5a9f61738349')\"\n",
              "              title=\"Convert this dataframe to an interactive table.\"\n",
              "              style=\"display:none;\">\n",
              "        \n",
              "  <svg xmlns=\"http://www.w3.org/2000/svg\" height=\"24px\"viewBox=\"0 0 24 24\"\n",
              "       width=\"24px\">\n",
              "    <path d=\"M0 0h24v24H0V0z\" fill=\"none\"/>\n",
              "    <path d=\"M18.56 5.44l.94 2.06.94-2.06 2.06-.94-2.06-.94-.94-2.06-.94 2.06-2.06.94zm-11 1L8.5 8.5l.94-2.06 2.06-.94-2.06-.94L8.5 2.5l-.94 2.06-2.06.94zm10 10l.94 2.06.94-2.06 2.06-.94-2.06-.94-.94-2.06-.94 2.06-2.06.94z\"/><path d=\"M17.41 7.96l-1.37-1.37c-.4-.4-.92-.59-1.43-.59-.52 0-1.04.2-1.43.59L10.3 9.45l-7.72 7.72c-.78.78-.78 2.05 0 2.83L4 21.41c.39.39.9.59 1.41.59.51 0 1.02-.2 1.41-.59l7.78-7.78 2.81-2.81c.8-.78.8-2.07 0-2.86zM5.41 20L4 18.59l7.72-7.72 1.47 1.35L5.41 20z\"/>\n",
              "  </svg>\n",
              "      </button>\n",
              "      \n",
              "  <style>\n",
              "    .colab-df-container {\n",
              "      display:flex;\n",
              "      flex-wrap:wrap;\n",
              "      gap: 12px;\n",
              "    }\n",
              "\n",
              "    .colab-df-convert {\n",
              "      background-color: #E8F0FE;\n",
              "      border: none;\n",
              "      border-radius: 50%;\n",
              "      cursor: pointer;\n",
              "      display: none;\n",
              "      fill: #1967D2;\n",
              "      height: 32px;\n",
              "      padding: 0 0 0 0;\n",
              "      width: 32px;\n",
              "    }\n",
              "\n",
              "    .colab-df-convert:hover {\n",
              "      background-color: #E2EBFA;\n",
              "      box-shadow: 0px 1px 2px rgba(60, 64, 67, 0.3), 0px 1px 3px 1px rgba(60, 64, 67, 0.15);\n",
              "      fill: #174EA6;\n",
              "    }\n",
              "\n",
              "    [theme=dark] .colab-df-convert {\n",
              "      background-color: #3B4455;\n",
              "      fill: #D2E3FC;\n",
              "    }\n",
              "\n",
              "    [theme=dark] .colab-df-convert:hover {\n",
              "      background-color: #434B5C;\n",
              "      box-shadow: 0px 1px 3px 1px rgba(0, 0, 0, 0.15);\n",
              "      filter: drop-shadow(0px 1px 2px rgba(0, 0, 0, 0.3));\n",
              "      fill: #FFFFFF;\n",
              "    }\n",
              "  </style>\n",
              "\n",
              "      <script>\n",
              "        const buttonEl =\n",
              "          document.querySelector('#df-e044a5f5-0cff-4e9e-b5ae-5a9f61738349 button.colab-df-convert');\n",
              "        buttonEl.style.display =\n",
              "          google.colab.kernel.accessAllowed ? 'block' : 'none';\n",
              "\n",
              "        async function convertToInteractive(key) {\n",
              "          const element = document.querySelector('#df-e044a5f5-0cff-4e9e-b5ae-5a9f61738349');\n",
              "          const dataTable =\n",
              "            await google.colab.kernel.invokeFunction('convertToInteractive',\n",
              "                                                     [key], {});\n",
              "          if (!dataTable) return;\n",
              "\n",
              "          const docLinkHtml = 'Like what you see? Visit the ' +\n",
              "            '<a target=\"_blank\" href=https://colab.research.google.com/notebooks/data_table.ipynb>data table notebook</a>'\n",
              "            + ' to learn more about interactive tables.';\n",
              "          element.innerHTML = '';\n",
              "          dataTable['output_type'] = 'display_data';\n",
              "          await google.colab.output.renderOutput(dataTable, element);\n",
              "          const docLink = document.createElement('div');\n",
              "          docLink.innerHTML = docLinkHtml;\n",
              "          element.appendChild(docLink);\n",
              "        }\n",
              "      </script>\n",
              "    </div>\n",
              "  </div>\n",
              "  "
            ]
          },
          "metadata": {},
          "execution_count": 15
        }
      ]
    },
    {
      "cell_type": "code",
      "source": [
        "X_train, X_test, y_Train, y_Test = train_test_split(dataframe['filename'], labels, train_size=0.8, shuffle=True)"
      ],
      "metadata": {
        "id": "kq_Zq06vFTvw"
      },
      "execution_count": 16,
      "outputs": []
    },
    {
      "cell_type": "code",
      "source": [
        "X_train"
      ],
      "metadata": {
        "colab": {
          "base_uri": "https://localhost:8080/"
        },
        "id": "PLm19edPFde2",
        "outputId": "8efefd51-1d0f-4613-c8d9-ccb6ee9a0ba0"
      },
      "execution_count": 17,
      "outputs": [
        {
          "output_type": "execute_result",
          "data": {
            "text/plain": [
              "19    20.wav\n",
              "5      6.wav\n",
              "10    11.wav\n",
              "13    14.wav\n",
              "3      4.wav\n",
              "8      9.wav\n",
              "16    17.wav\n",
              "18    19.wav\n",
              "11    12.wav\n",
              "6      7.wav\n",
              "14    15.wav\n",
              "7      8.wav\n",
              "1      2.wav\n",
              "2      3.wav\n",
              "4      5.wav\n",
              "15    16.wav\n",
              "9     10.wav\n",
              "17    18.wav\n",
              "Name: filename, dtype: object"
            ]
          },
          "metadata": {},
          "execution_count": 17
        }
      ]
    },
    {
      "cell_type": "code",
      "source": [
        "X_test"
      ],
      "metadata": {
        "colab": {
          "base_uri": "https://localhost:8080/"
        },
        "id": "rZSOp2-eFgLB",
        "outputId": "3e2fbd91-0226-4b54-8017-67949d13f547"
      },
      "execution_count": 18,
      "outputs": [
        {
          "output_type": "execute_result",
          "data": {
            "text/plain": [
              "0      1.wav\n",
              "20    21.wav\n",
              "12    13.wav\n",
              "21    22.wav\n",
              "22    23.wav\n",
              "Name: filename, dtype: object"
            ]
          },
          "metadata": {},
          "execution_count": 18
        }
      ]
    },
    {
      "cell_type": "code",
      "source": [
        "#Computing Features - \n",
        "\n",
        "#Discrete Wavelet Transform\n",
        "def computeDWTs(x):\n",
        "    #approximation and detail coefficients\n",
        "    res = np.array([])\n",
        "    ca, cd = pywt.dwt(x, 'db8')\n",
        "    #Compute mean, stdev, skew, kurtosis\n",
        "    camean = np.mean(ca)\n",
        "    res = np.hstack((res,camean))\n",
        "    castdev = tstd(ca)\n",
        "    res = np.hstack((res,castdev))\n",
        "    caskew = skew(ca)\n",
        "    res = np.hstack((res,caskew))\n",
        "    cakurtosis = kurtosis(ca)\n",
        "    res = np.hstack((res,cakurtosis))\n",
        "    cdmean = np.mean(cd)\n",
        "    res = np.hstack((res,cdmean))\n",
        "    cdstdev = tstd(cd)\n",
        "    res = np.hstack((res,cdstdev))\n",
        "    cdskew = skew(cd)\n",
        "    res = np.hstack((res,cdskew))\n",
        "    cdkurtosis = kurtosis(cd)\n",
        "    res = np.hstack((res, cdkurtosis))\n",
        "    return res\n",
        "\n",
        "#Computing the Spectral Entropy of the signal - Shannon Entropy of the Power Spectral Density (PSD) of the data\n",
        "def SpectralEntropy(Signal, SampleRate, method = 'fft', nperseg = None, normalize = False):\n",
        "    Signal = np.array(Signal)\n",
        "    if method == 'fft':\n",
        "      _, psd = periodogram(Signal, SampleRate)\n",
        "    elif method == 'welch':\n",
        "      _, psd = welch(Signal, SampleRate, nperseg=nperseg)\n",
        "    psd_norm = np.divide(psd, psd.sum())\n",
        "    se = -np.multiply(psd_norm, np.log2(psd_norm)).sum()\n",
        "    if normalize:\n",
        "        se /= np.log2(psd_norm.size)\n",
        "    return se\n",
        "\n",
        "#Computing the Power Spectral Density(PSD) of signal - \n",
        "def computepsd(x):\n",
        "    freq, psd = signal.welch(x)\n",
        "    return psd\n",
        "\n",
        "#Computing Mel-frequency cepstral coefficients, Gammatone frequency cepstral coefficients, RMS Energy, Zero-crossing rate, mean, variance, skew, and kurtosis of the signal\n",
        "def computeMFCC(x, sr):\n",
        "    mfccs = np.mean(librosa.feature.mfcc(y = x, sr = sr, n_mfcc = 27).T, axis = 0)\n",
        "    return mfccs\n",
        "\n",
        "def computeGFCC(file_name):\n",
        "    gfcc = get_features(file=file_name, feature_names=[\"gfcc\"])\n",
        "    gfcc = np.array(gfcc['audio'][file_name]['features'])\n",
        "    return gfcc\n",
        "\n",
        "def computeRMSEn(x):\n",
        "    rmsen = np.mean(librosa.feature.rms(x, frame_length=2048, hop_length=1024, center=True).T, axis = 0)\n",
        "    return rmsen\n",
        "\n",
        "def computeZCR(x):\n",
        "    zcr = np.mean(librosa.feature.zero_crossing_rate(y = x, frame_length=2048, hop_length=1024).T, axis = 0)\n",
        "    return zcr\n",
        "\n",
        "def computestats(x):\n",
        "#Mean, Variance, Skew, Kurtosis\n",
        "    stats = []\n",
        "    me = np.mean(x)\n",
        "    stats.append(me)\n",
        "    variance = np.var(x)\n",
        "    stats.append(variance)\n",
        "    sk = skew(x)\n",
        "    stats.append(sk)\n",
        "    kurt = kurtosis(x)\n",
        "    stats.append(kurt)\n",
        "    return stats"
      ],
      "metadata": {
        "id": "xeBRDwvYtjEZ"
      },
      "execution_count": 19,
      "outputs": []
    },
    {
      "cell_type": "code",
      "source": [
        "#Function to extract the required features\n",
        "def extractfeatures(file_name, x, sr, *, mfcc: bool = False, dwt: bool = False, spectral_entropy: bool = False, psd: bool = False, gfcc: bool = False, rmse: bool = False, zcr: bool = False, stats: bool = False):\n",
        "    finalfeatures = np.array([])\n",
        "    if mfcc:\n",
        "        mfccs = computeMFCC(x, sr)\n",
        "        finalfeatures = np.hstack((finalfeatures, mfccs))\n",
        "    if dwt:\n",
        "        dwtr = computeDWTs(x)\n",
        "        finalfeatures = np.hstack((finalfeatures, dwtr))\n",
        "    if spectral_entropy:\n",
        "        specen = SpectralEntropy(x, sr)\n",
        "        finalfeatures = np.hstack((finalfeatures,specen))\n",
        "    if psd:\n",
        "        psds = computepsd(x)\n",
        "        finalfeatures = np.hstack((finalfeatures, psds))\n",
        "    if gfcc:\n",
        "        gfccs = computeGFCC(file_name)\n",
        "        finalfeatures = np.hstack((finalfeatures, gfccs))\n",
        "    if rmse:\n",
        "        rmses = computeRMSEn(x)\n",
        "        finalfeatures = np.hstack((finalfeatures, rmses))\n",
        "    if zcr:\n",
        "        zcrs = computeZCR(x)\n",
        "        finalfeatures = np.hstack((finalfeatures, zcrs))\n",
        "    if stats:\n",
        "        stats1 = computestats(x)\n",
        "        finalfeatures = np.hstack((finalfeatures, stats1))\n",
        "    return finalfeatures"
      ],
      "metadata": {
        "id": "RLB-Pv-FuBgW"
      },
      "execution_count": 20,
      "outputs": []
    },
    {
      "cell_type": "code",
      "source": [
        "#loads audio and extracts required features\n",
        "def load_file_data(file_names, duration=60, sr = 4000):\n",
        "    input_length=sr*duration\n",
        "    notfeatures = []\n",
        "    for file_name in file_names:\n",
        "        try:\n",
        "            #sound_file = folder + '/' + file_name\n",
        "            sound_file = file_name\n",
        "            print (\"load file \",sound_file)\n",
        "            x, sr = librosa.load(sound_file,duration=duration,res_type='kaiser_fast')\n",
        "            dur = librosa.get_duration(y=x, sr=sr)\n",
        "            #Padding audio signal\n",
        "            if (round(dur) < duration):\n",
        "                print (\"fixing audio length:\", file_name)\n",
        "                y = librosa.util.fix_length(x, input_length)\n",
        "            feature = extractfeatures(sound_file, x, sr, mfcc = True, dwt = True, psd = True, gfcc = True, rmse = True, zcr = True,stats = True)\n",
        "            notfeatures.append(feature)           \n",
        "        except Exception as e:\n",
        "            print(e)\n",
        "            #notfeatures = np.asarray(features, dtype=np.float32)\n",
        "    return notfeatures"
      ],
      "metadata": {
        "id": "KMuJyDaMuShW"
      },
      "execution_count": 21,
      "outputs": []
    },
    {
      "cell_type": "code",
      "source": [
        "x_train = []\n",
        "x_test = []\n",
        "x_train = load_file_data(X_train)\n",
        "x_test = load_file_data(X_test)"
      ],
      "metadata": {
        "colab": {
          "base_uri": "https://localhost:8080/"
        },
        "id": "d1gjD-mGvUJv",
        "outputId": "4d2cf0f0-b1a9-4763-b280-4b495fc85cee"
      },
      "execution_count": 22,
      "outputs": [
        {
          "output_type": "stream",
          "name": "stdout",
          "text": [
            "load file  20.wav\n",
            "\n",
            "        \n",
            " Extracting features gfcc \n",
            "\n",
            "        \n",
            "Computing features for file 1 of 1 : 20.wav\n",
            "load file  6.wav\n",
            "\n",
            "        \n",
            " Extracting features gfcc \n",
            "\n",
            "        \n",
            "Computing features for file 1 of 1 : 6.wav\n",
            "load file  11.wav\n",
            "\n",
            "        \n",
            " Extracting features gfcc \n",
            "\n",
            "        \n",
            "Computing features for file 1 of 1 : 11.wav\n",
            "load file  14.wav\n",
            "\n",
            "        \n",
            " Extracting features gfcc \n",
            "\n",
            "        \n",
            "Computing features for file 1 of 1 : 14.wav\n",
            "load file  4.wav\n",
            "\n",
            "        \n",
            " Extracting features gfcc \n",
            "\n",
            "        \n",
            "Computing features for file 1 of 1 : 4.wav\n",
            "load file  9.wav\n",
            "\n",
            "        \n",
            " Extracting features gfcc \n",
            "\n",
            "        \n",
            "Computing features for file 1 of 1 : 9.wav\n",
            "load file  17.wav\n",
            "\n",
            "        \n",
            " Extracting features gfcc \n",
            "\n",
            "        \n",
            "Computing features for file 1 of 1 : 17.wav\n",
            "load file  19.wav\n",
            "\n",
            "        \n",
            " Extracting features gfcc \n",
            "\n",
            "        \n",
            "Computing features for file 1 of 1 : 19.wav\n",
            "load file  12.wav\n",
            "\n",
            "        \n",
            " Extracting features gfcc \n",
            "\n",
            "        \n",
            "Computing features for file 1 of 1 : 12.wav\n",
            "load file  7.wav\n",
            "\n",
            "        \n",
            " Extracting features gfcc \n",
            "\n",
            "        \n",
            "Computing features for file 1 of 1 : 7.wav\n",
            "load file  15.wav\n",
            "\n",
            "        \n",
            " Extracting features gfcc \n",
            "\n",
            "        \n",
            "Computing features for file 1 of 1 : 15.wav\n",
            "load file  8.wav\n",
            "\n",
            "        \n",
            " Extracting features gfcc \n",
            "\n",
            "        \n",
            "Computing features for file 1 of 1 : 8.wav\n",
            "load file  2.wav\n",
            "\n",
            "        \n",
            " Extracting features gfcc \n",
            "\n",
            "        \n",
            "Computing features for file 1 of 1 : 2.wav\n",
            "load file  3.wav\n",
            "\n",
            "        \n",
            " Extracting features gfcc \n",
            "\n",
            "        \n",
            "Computing features for file 1 of 1 : 3.wav\n",
            "load file  5.wav\n",
            "\n",
            "        \n",
            " Extracting features gfcc \n",
            "\n",
            "        \n",
            "Computing features for file 1 of 1 : 5.wav\n",
            "load file  16.wav\n",
            "\n",
            "        \n",
            " Extracting features gfcc \n",
            "\n",
            "        \n",
            "Computing features for file 1 of 1 : 16.wav\n",
            "load file  10.wav\n",
            "\n",
            "        \n",
            " Extracting features gfcc \n",
            "\n",
            "        \n",
            "Computing features for file 1 of 1 : 10.wav\n",
            "load file  18.wav\n",
            "\n",
            "        \n",
            " Extracting features gfcc \n",
            "\n",
            "        \n",
            "Computing features for file 1 of 1 : 18.wav\n",
            "load file  1.wav\n",
            "\n",
            "        \n",
            " Extracting features gfcc \n",
            "\n",
            "        \n",
            "Computing features for file 1 of 1 : 1.wav\n",
            "load file  21.wav\n",
            "fixing audio length: 21.wav\n",
            "\n",
            "        \n",
            " Extracting features gfcc \n",
            "\n",
            "        \n",
            "Computing features for file 1 of 1 : 21.wav\n",
            "load file  13.wav\n",
            "\n",
            "        \n",
            " Extracting features gfcc \n",
            "\n",
            "        \n",
            "Computing features for file 1 of 1 : 13.wav\n",
            "load file  22.wav\n",
            "\n",
            "        \n",
            " Extracting features gfcc \n",
            "\n",
            "        \n",
            "Computing features for file 1 of 1 : 22.wav\n",
            "load file  23.wav\n",
            "\n",
            "        \n",
            " Extracting features gfcc \n",
            "\n",
            "        \n",
            "Computing features for file 1 of 1 : 23.wav\n"
          ]
        }
      ]
    },
    {
      "cell_type": "code",
      "source": [
        "x_train = np.array(x_train)\n",
        "x_test = np.asarray(x_test)"
      ],
      "metadata": {
        "id": "5PWP-MYlya5Y"
      },
      "execution_count": 23,
      "outputs": []
    },
    {
      "cell_type": "code",
      "source": [
        "x_train.shape"
      ],
      "metadata": {
        "colab": {
          "base_uri": "https://localhost:8080/"
        },
        "id": "8e5oAH9jyd5y",
        "outputId": "369e40ed-dffb-4c90-e0df-6dadbbbac6b3"
      },
      "execution_count": 24,
      "outputs": [
        {
          "output_type": "execute_result",
          "data": {
            "text/plain": [
              "(18, 214)"
            ]
          },
          "metadata": {},
          "execution_count": 24
        }
      ]
    },
    {
      "cell_type": "code",
      "source": [
        "x_train.dtype"
      ],
      "metadata": {
        "colab": {
          "base_uri": "https://localhost:8080/"
        },
        "id": "A0w0S_fJGU-c",
        "outputId": "d569bd6d-53d1-4c6e-fe95-8b3e7e85b85f"
      },
      "execution_count": 25,
      "outputs": [
        {
          "output_type": "execute_result",
          "data": {
            "text/plain": [
              "dtype('float64')"
            ]
          },
          "metadata": {},
          "execution_count": 25
        }
      ]
    },
    {
      "cell_type": "code",
      "source": [
        "y_Train = np.asarray(y_Train)"
      ],
      "metadata": {
        "id": "JBnxKGd9TYyY"
      },
      "execution_count": 26,
      "outputs": []
    },
    {
      "cell_type": "code",
      "source": [
        "y_Test = np.asarray(y_Test)"
      ],
      "metadata": {
        "id": "pfNN82FhTZ4I"
      },
      "execution_count": 27,
      "outputs": []
    },
    {
      "cell_type": "code",
      "source": [
        "pip install keras-tuner"
      ],
      "metadata": {
        "colab": {
          "base_uri": "https://localhost:8080/"
        },
        "id": "3DPlh5hrzlAw",
        "outputId": "50f1f16b-b8d2-404e-bd24-192790caa7b1"
      },
      "execution_count": 28,
      "outputs": [
        {
          "output_type": "stream",
          "name": "stdout",
          "text": [
            "Looking in indexes: https://pypi.org/simple, https://us-python.pkg.dev/colab-wheels/public/simple/\n",
            "Requirement already satisfied: keras-tuner in /usr/local/lib/python3.7/dist-packages (1.1.3)\n",
            "Requirement already satisfied: requests in /usr/local/lib/python3.7/dist-packages (from keras-tuner) (2.23.0)\n",
            "Requirement already satisfied: ipython in /usr/local/lib/python3.7/dist-packages (from keras-tuner) (7.9.0)\n",
            "Requirement already satisfied: numpy in /usr/local/lib/python3.7/dist-packages (from keras-tuner) (1.21.6)\n",
            "Requirement already satisfied: tensorboard in /usr/local/lib/python3.7/dist-packages (from keras-tuner) (2.9.1)\n",
            "Requirement already satisfied: packaging in /usr/local/lib/python3.7/dist-packages (from keras-tuner) (21.3)\n",
            "Requirement already satisfied: kt-legacy in /usr/local/lib/python3.7/dist-packages (from keras-tuner) (1.0.4)\n",
            "Requirement already satisfied: setuptools>=18.5 in /usr/local/lib/python3.7/dist-packages (from ipython->keras-tuner) (57.4.0)\n",
            "Requirement already satisfied: pickleshare in /usr/local/lib/python3.7/dist-packages (from ipython->keras-tuner) (0.7.5)\n",
            "Requirement already satisfied: jedi>=0.10 in /usr/local/lib/python3.7/dist-packages (from ipython->keras-tuner) (0.18.1)\n",
            "Requirement already satisfied: decorator in /usr/local/lib/python3.7/dist-packages (from ipython->keras-tuner) (4.4.2)\n",
            "Requirement already satisfied: backcall in /usr/local/lib/python3.7/dist-packages (from ipython->keras-tuner) (0.2.0)\n",
            "Requirement already satisfied: pygments in /usr/local/lib/python3.7/dist-packages (from ipython->keras-tuner) (2.6.1)\n",
            "Requirement already satisfied: traitlets>=4.2 in /usr/local/lib/python3.7/dist-packages (from ipython->keras-tuner) (5.1.1)\n",
            "Requirement already satisfied: prompt-toolkit<2.1.0,>=2.0.0 in /usr/local/lib/python3.7/dist-packages (from ipython->keras-tuner) (2.0.10)\n",
            "Requirement already satisfied: pexpect in /usr/local/lib/python3.7/dist-packages (from ipython->keras-tuner) (4.8.0)\n",
            "Requirement already satisfied: parso<0.9.0,>=0.8.0 in /usr/local/lib/python3.7/dist-packages (from jedi>=0.10->ipython->keras-tuner) (0.8.3)\n",
            "Requirement already satisfied: six>=1.9.0 in /usr/local/lib/python3.7/dist-packages (from prompt-toolkit<2.1.0,>=2.0.0->ipython->keras-tuner) (1.15.0)\n",
            "Requirement already satisfied: wcwidth in /usr/local/lib/python3.7/dist-packages (from prompt-toolkit<2.1.0,>=2.0.0->ipython->keras-tuner) (0.2.5)\n",
            "Requirement already satisfied: pyparsing!=3.0.5,>=2.0.2 in /usr/local/lib/python3.7/dist-packages (from packaging->keras-tuner) (3.0.9)\n",
            "Requirement already satisfied: ptyprocess>=0.5 in /usr/local/lib/python3.7/dist-packages (from pexpect->ipython->keras-tuner) (0.7.0)\n",
            "Requirement already satisfied: chardet<4,>=3.0.2 in /usr/local/lib/python3.7/dist-packages (from requests->keras-tuner) (3.0.4)\n",
            "Requirement already satisfied: idna<3,>=2.5 in /usr/local/lib/python3.7/dist-packages (from requests->keras-tuner) (2.10)\n",
            "Requirement already satisfied: certifi>=2017.4.17 in /usr/local/lib/python3.7/dist-packages (from requests->keras-tuner) (2022.9.24)\n",
            "Requirement already satisfied: urllib3!=1.25.0,!=1.25.1,<1.26,>=1.21.1 in /usr/local/lib/python3.7/dist-packages (from requests->keras-tuner) (1.24.3)\n",
            "Requirement already satisfied: grpcio>=1.24.3 in /usr/local/lib/python3.7/dist-packages (from tensorboard->keras-tuner) (1.50.0)\n",
            "Requirement already satisfied: absl-py>=0.4 in /usr/local/lib/python3.7/dist-packages (from tensorboard->keras-tuner) (1.3.0)\n",
            "Requirement already satisfied: markdown>=2.6.8 in /usr/local/lib/python3.7/dist-packages (from tensorboard->keras-tuner) (3.4.1)\n",
            "Requirement already satisfied: werkzeug>=1.0.1 in /usr/local/lib/python3.7/dist-packages (from tensorboard->keras-tuner) (1.0.1)\n",
            "Requirement already satisfied: google-auth-oauthlib<0.5,>=0.4.1 in /usr/local/lib/python3.7/dist-packages (from tensorboard->keras-tuner) (0.4.6)\n",
            "Requirement already satisfied: google-auth<3,>=1.6.3 in /usr/local/lib/python3.7/dist-packages (from tensorboard->keras-tuner) (1.35.0)\n",
            "Requirement already satisfied: tensorboard-plugin-wit>=1.6.0 in /usr/local/lib/python3.7/dist-packages (from tensorboard->keras-tuner) (1.8.1)\n",
            "Requirement already satisfied: wheel>=0.26 in /usr/local/lib/python3.7/dist-packages (from tensorboard->keras-tuner) (0.37.1)\n",
            "Requirement already satisfied: tensorboard-data-server<0.7.0,>=0.6.0 in /usr/local/lib/python3.7/dist-packages (from tensorboard->keras-tuner) (0.6.1)\n",
            "Requirement already satisfied: protobuf<3.20,>=3.9.2 in /usr/local/lib/python3.7/dist-packages (from tensorboard->keras-tuner) (3.17.3)\n",
            "Requirement already satisfied: cachetools<5.0,>=2.0.0 in /usr/local/lib/python3.7/dist-packages (from google-auth<3,>=1.6.3->tensorboard->keras-tuner) (4.2.4)\n",
            "Requirement already satisfied: rsa<5,>=3.1.4 in /usr/local/lib/python3.7/dist-packages (from google-auth<3,>=1.6.3->tensorboard->keras-tuner) (4.9)\n",
            "Requirement already satisfied: pyasn1-modules>=0.2.1 in /usr/local/lib/python3.7/dist-packages (from google-auth<3,>=1.6.3->tensorboard->keras-tuner) (0.2.8)\n",
            "Requirement already satisfied: requests-oauthlib>=0.7.0 in /usr/local/lib/python3.7/dist-packages (from google-auth-oauthlib<0.5,>=0.4.1->tensorboard->keras-tuner) (1.3.1)\n",
            "Requirement already satisfied: importlib-metadata>=4.4 in /usr/local/lib/python3.7/dist-packages (from markdown>=2.6.8->tensorboard->keras-tuner) (4.13.0)\n",
            "Requirement already satisfied: zipp>=0.5 in /usr/local/lib/python3.7/dist-packages (from importlib-metadata>=4.4->markdown>=2.6.8->tensorboard->keras-tuner) (3.9.0)\n",
            "Requirement already satisfied: typing-extensions>=3.6.4 in /usr/local/lib/python3.7/dist-packages (from importlib-metadata>=4.4->markdown>=2.6.8->tensorboard->keras-tuner) (4.1.1)\n",
            "Requirement already satisfied: pyasn1<0.5.0,>=0.4.6 in /usr/local/lib/python3.7/dist-packages (from pyasn1-modules>=0.2.1->google-auth<3,>=1.6.3->tensorboard->keras-tuner) (0.4.8)\n",
            "Requirement already satisfied: oauthlib>=3.0.0 in /usr/local/lib/python3.7/dist-packages (from requests-oauthlib>=0.7.0->google-auth-oauthlib<0.5,>=0.4.1->tensorboard->keras-tuner) (3.2.2)\n"
          ]
        }
      ]
    },
    {
      "cell_type": "code",
      "source": [
        "import kerastuner\n",
        "from kerastuner.tuners import RandomSearch, Hyperband, BayesianOptimization\n",
        "def model_builder(hp):\n",
        "  model = Sequential()\n",
        "  hp_units1 = hp.Int('units_', min_value=2, max_value=64, step=4)\n",
        "  model.add(tf.keras.layers.Dense(units = hp_units1, input_dim = x_train.shape[1]))\n",
        "\n",
        "  # Tune the number of dense layers\n",
        "  for i in range(hp.Int('num_layers', 1, 5)):\n",
        "    \n",
        "    # Tune the number of units in the each dense layer\n",
        "    hp_units = hp.Int('units_'+str(i), min_value=2, max_value=64, step=4)\n",
        "    model.add(tf.keras.layers.Dense(units=hp_units, activation='relu'))\n",
        "    \n",
        "    # Tune the dropout rate in the each dense layer\n",
        "    hp_dropout = hp.Float('rate', min_value=0.0, max_value=0.5, step=0.1)\n",
        "    model.add(tf.keras.layers.Dropout(hp_dropout))\n",
        "    \n",
        "  # Add dense output layer\n",
        "  model.add(tf.keras.layers.Dense(1, activation='sigmoid'))\n",
        "\n",
        "  # Tune the learning rate for the optimizer\n",
        "  hp_learning_rate = hp.Choice('learning_rate', values=[1e-2, 1e-3, 1e-4])\n",
        "  model.compile(optimizer=tf.keras.optimizers.Adam(learning_rate=hp_learning_rate),loss='binary_crossentropy',\n",
        "                metrics=[tf.keras.metrics.Recall()])\n",
        "\n",
        "  return model\n",
        "\n",
        "#tuner = BayesianOptimization(model_builder,\n",
        "#max_trials=50,\n",
        "#objective='val_accuracy',\n",
        "#overwrite=True)\n",
        "\n",
        "tuner = Hyperband(model_builder,\n",
        "objective=kerastuner.Objective(\"val_recall\", direction=\"max\"),\n",
        "max_epochs=50,\n",
        "factor=3, overwrite = True)\n",
        "\n",
        "tuner.search(x_train,y_Train, epochs=50, validation_split=0.2)\n",
        "# Get the optimal hyperparameters\n",
        "best_hps=tuner.get_best_hyperparameters(num_trials=1)[0]\n",
        "\n",
        "model = tuner.hypermodel.build(best_hps)"
      ],
      "metadata": {
        "colab": {
          "base_uri": "https://localhost:8080/"
        },
        "id": "rLAig70EykgL",
        "outputId": "a45c7381-fadf-4493-dbea-e8ea20126ba4"
      },
      "execution_count": 29,
      "outputs": [
        {
          "output_type": "stream",
          "name": "stdout",
          "text": [
            "Trial 90 Complete [00h 00m 04s]\n",
            "val_recall: 1.0\n",
            "\n",
            "Best val_recall So Far: 1.0\n",
            "Total elapsed time: 00h 03m 19s\n"
          ]
        }
      ]
    },
    {
      "cell_type": "code",
      "source": [
        "history = model.fit(x_train, y_Train, batch_size = 10, epochs=50, validation_split = 0.2, verbose = 1)"
      ],
      "metadata": {
        "colab": {
          "base_uri": "https://localhost:8080/"
        },
        "id": "b9ODNrNyzjTP",
        "outputId": "ea776f7b-662c-4295-9804-96c9d73261e1"
      },
      "execution_count": 30,
      "outputs": [
        {
          "output_type": "stream",
          "name": "stdout",
          "text": [
            "Epoch 1/50\n",
            "2/2 [==============================] - 2s 737ms/step - loss: 14.0590 - recall_1: 0.3750 - val_loss: 0.6931 - val_recall_1: 1.0000\n",
            "Epoch 2/50\n",
            "2/2 [==============================] - 0s 27ms/step - loss: 0.6433 - recall_1: 1.0000 - val_loss: 0.6931 - val_recall_1: 0.0000e+00\n",
            "Epoch 3/50\n",
            "2/2 [==============================] - 0s 30ms/step - loss: 7.5400 - recall_1: 0.0000e+00 - val_loss: 0.6932 - val_recall_1: 0.0000e+00\n",
            "Epoch 4/50\n",
            "2/2 [==============================] - 0s 27ms/step - loss: 0.6939 - recall_1: 0.0000e+00 - val_loss: 0.6932 - val_recall_1: 0.0000e+00\n",
            "Epoch 5/50\n",
            "2/2 [==============================] - 0s 27ms/step - loss: 0.6940 - recall_1: 0.0000e+00 - val_loss: 0.6932 - val_recall_1: 0.0000e+00\n",
            "Epoch 6/50\n",
            "2/2 [==============================] - 0s 27ms/step - loss: 0.6939 - recall_1: 0.0000e+00 - val_loss: 0.6932 - val_recall_1: 0.0000e+00\n",
            "Epoch 7/50\n",
            "2/2 [==============================] - 0s 30ms/step - loss: 0.6937 - recall_1: 0.0000e+00 - val_loss: 0.6931 - val_recall_1: 0.0000e+00\n",
            "Epoch 8/50\n",
            "2/2 [==============================] - 0s 27ms/step - loss: 0.6933 - recall_1: 0.0000e+00 - val_loss: 0.6931 - val_recall_1: 1.0000\n",
            "Epoch 9/50\n",
            "2/2 [==============================] - 0s 37ms/step - loss: 0.6933 - recall_1: 1.0000 - val_loss: 0.6932 - val_recall_1: 1.0000\n",
            "Epoch 10/50\n",
            "2/2 [==============================] - 0s 29ms/step - loss: 0.6922 - recall_1: 1.0000 - val_loss: 0.6932 - val_recall_1: 1.0000\n",
            "Epoch 11/50\n",
            "2/2 [==============================] - 0s 27ms/step - loss: 0.6919 - recall_1: 1.0000 - val_loss: 0.6932 - val_recall_1: 1.0000\n",
            "Epoch 12/50\n",
            "2/2 [==============================] - 0s 28ms/step - loss: 0.6913 - recall_1: 1.0000 - val_loss: 0.6933 - val_recall_1: 1.0000\n",
            "Epoch 13/50\n",
            "2/2 [==============================] - 0s 29ms/step - loss: 0.6432 - recall_1: 1.0000 - val_loss: 0.6933 - val_recall_1: 1.0000\n",
            "Epoch 14/50\n",
            "2/2 [==============================] - 0s 29ms/step - loss: 0.6905 - recall_1: 1.0000 - val_loss: 0.6934 - val_recall_1: 1.0000\n",
            "Epoch 15/50\n",
            "2/2 [==============================] - 0s 30ms/step - loss: 0.6900 - recall_1: 1.0000 - val_loss: 0.6935 - val_recall_1: 1.0000\n",
            "Epoch 16/50\n",
            "2/2 [==============================] - 0s 31ms/step - loss: 0.6901 - recall_1: 1.0000 - val_loss: 0.6936 - val_recall_1: 1.0000\n",
            "Epoch 17/50\n",
            "2/2 [==============================] - 0s 29ms/step - loss: 0.6894 - recall_1: 1.0000 - val_loss: 0.6936 - val_recall_1: 1.0000\n",
            "Epoch 18/50\n",
            "2/2 [==============================] - 0s 29ms/step - loss: 0.6891 - recall_1: 1.0000 - val_loss: 0.6937 - val_recall_1: 1.0000\n",
            "Epoch 19/50\n",
            "2/2 [==============================] - 0s 27ms/step - loss: 0.6888 - recall_1: 1.0000 - val_loss: 0.6938 - val_recall_1: 1.0000\n",
            "Epoch 20/50\n",
            "2/2 [==============================] - 0s 26ms/step - loss: 0.6886 - recall_1: 1.0000 - val_loss: 0.6939 - val_recall_1: 1.0000\n",
            "Epoch 21/50\n",
            "2/2 [==============================] - 0s 27ms/step - loss: 0.6882 - recall_1: 1.0000 - val_loss: 0.6940 - val_recall_1: 1.0000\n",
            "Epoch 22/50\n",
            "2/2 [==============================] - 0s 29ms/step - loss: 0.6883 - recall_1: 1.0000 - val_loss: 0.6942 - val_recall_1: 1.0000\n",
            "Epoch 23/50\n",
            "2/2 [==============================] - 0s 28ms/step - loss: 0.6876 - recall_1: 1.0000 - val_loss: 0.6943 - val_recall_1: 1.0000\n",
            "Epoch 24/50\n",
            "2/2 [==============================] - 0s 27ms/step - loss: 0.6875 - recall_1: 1.0000 - val_loss: 0.6944 - val_recall_1: 1.0000\n",
            "Epoch 25/50\n",
            "2/2 [==============================] - 0s 30ms/step - loss: 0.6875 - recall_1: 1.0000 - val_loss: 0.6945 - val_recall_1: 1.0000\n",
            "Epoch 26/50\n",
            "2/2 [==============================] - 0s 28ms/step - loss: 0.6871 - recall_1: 1.0000 - val_loss: 0.6946 - val_recall_1: 1.0000\n",
            "Epoch 27/50\n",
            "2/2 [==============================] - 0s 42ms/step - loss: 0.6871 - recall_1: 1.0000 - val_loss: 0.6947 - val_recall_1: 1.0000\n",
            "Epoch 28/50\n",
            "2/2 [==============================] - 0s 28ms/step - loss: 0.6868 - recall_1: 1.0000 - val_loss: 0.6947 - val_recall_1: 1.0000\n",
            "Epoch 29/50\n",
            "2/2 [==============================] - 0s 31ms/step - loss: 0.6869 - recall_1: 1.0000 - val_loss: 0.6948 - val_recall_1: 1.0000\n",
            "Epoch 30/50\n",
            "2/2 [==============================] - 0s 30ms/step - loss: 0.6867 - recall_1: 1.0000 - val_loss: 0.6948 - val_recall_1: 1.0000\n",
            "Epoch 31/50\n",
            "2/2 [==============================] - 0s 28ms/step - loss: 0.6866 - recall_1: 1.0000 - val_loss: 0.6948 - val_recall_1: 1.0000\n",
            "Epoch 32/50\n",
            "2/2 [==============================] - 0s 36ms/step - loss: 0.6865 - recall_1: 1.0000 - val_loss: 0.6949 - val_recall_1: 1.0000\n",
            "Epoch 33/50\n",
            "2/2 [==============================] - 0s 31ms/step - loss: 0.6866 - recall_1: 1.0000 - val_loss: 0.6950 - val_recall_1: 1.0000\n",
            "Epoch 34/50\n",
            "2/2 [==============================] - 0s 29ms/step - loss: 0.6411 - recall_1: 1.0000 - val_loss: 0.6950 - val_recall_1: 1.0000\n",
            "Epoch 35/50\n",
            "2/2 [==============================] - 0s 26ms/step - loss: 0.6863 - recall_1: 1.0000 - val_loss: 0.6951 - val_recall_1: 1.0000\n",
            "Epoch 36/50\n",
            "2/2 [==============================] - 0s 28ms/step - loss: 0.6862 - recall_1: 1.0000 - val_loss: 0.6951 - val_recall_1: 1.0000\n",
            "Epoch 37/50\n",
            "2/2 [==============================] - 0s 27ms/step - loss: 0.6861 - recall_1: 1.0000 - val_loss: 0.6952 - val_recall_1: 1.0000\n",
            "Epoch 38/50\n",
            "2/2 [==============================] - 0s 27ms/step - loss: 0.6862 - recall_1: 1.0000 - val_loss: 0.6953 - val_recall_1: 1.0000\n",
            "Epoch 39/50\n",
            "2/2 [==============================] - 0s 29ms/step - loss: 0.6859 - recall_1: 1.0000 - val_loss: 0.6953 - val_recall_1: 1.0000\n",
            "Epoch 40/50\n",
            "2/2 [==============================] - 0s 28ms/step - loss: 0.6861 - recall_1: 1.0000 - val_loss: 0.6954 - val_recall_1: 1.0000\n",
            "Epoch 41/50\n",
            "2/2 [==============================] - 0s 33ms/step - loss: 0.6858 - recall_1: 1.0000 - val_loss: 0.6954 - val_recall_1: 1.0000\n",
            "Epoch 42/50\n",
            "2/2 [==============================] - 0s 29ms/step - loss: 0.6858 - recall_1: 1.0000 - val_loss: 0.6955 - val_recall_1: 1.0000\n",
            "Epoch 43/50\n",
            "2/2 [==============================] - 0s 28ms/step - loss: 0.6856 - recall_1: 1.0000 - val_loss: 0.6956 - val_recall_1: 1.0000\n",
            "Epoch 44/50\n",
            "2/2 [==============================] - 0s 29ms/step - loss: 0.6854 - recall_1: 1.0000 - val_loss: 0.6958 - val_recall_1: 1.0000\n",
            "Epoch 45/50\n",
            "2/2 [==============================] - 0s 31ms/step - loss: 0.6852 - recall_1: 1.0000 - val_loss: 0.6960 - val_recall_1: 1.0000\n",
            "Epoch 46/50\n",
            "2/2 [==============================] - 0s 30ms/step - loss: 0.6412 - recall_1: 1.0000 - val_loss: 0.6963 - val_recall_1: 1.0000\n",
            "Epoch 47/50\n",
            "2/2 [==============================] - 0s 28ms/step - loss: 0.6850 - recall_1: 1.0000 - val_loss: 0.6964 - val_recall_1: 1.0000\n",
            "Epoch 48/50\n",
            "2/2 [==============================] - 0s 30ms/step - loss: 0.6849 - recall_1: 1.0000 - val_loss: 0.6965 - val_recall_1: 1.0000\n",
            "Epoch 49/50\n",
            "2/2 [==============================] - 0s 34ms/step - loss: 0.6848 - recall_1: 1.0000 - val_loss: 0.6967 - val_recall_1: 1.0000\n",
            "Epoch 50/50\n",
            "2/2 [==============================] - 0s 29ms/step - loss: 2.1226 - recall_1: 1.0000 - val_loss: 0.6967 - val_recall_1: 1.0000\n"
          ]
        }
      ]
    },
    {
      "cell_type": "code",
      "source": [
        "y_predict = np.argmax(model.predict(x_test), axis=-1)\n",
        "y_pred = model.predict(x_test)\n",
        "y_pred=np.argmax(y_pred, axis=1)"
      ],
      "metadata": {
        "colab": {
          "base_uri": "https://localhost:8080/"
        },
        "id": "Cx0OeOas7161",
        "outputId": "997ceef9-17b3-4d20-e7d1-dc1f4a1841ba"
      },
      "execution_count": 31,
      "outputs": [
        {
          "output_type": "stream",
          "name": "stdout",
          "text": [
            "1/1 [==============================] - 0s 106ms/step\n",
            "1/1 [==============================] - 0s 23ms/step\n"
          ]
        }
      ]
    },
    {
      "cell_type": "code",
      "source": [
        "print(\"Classification Report : \\n\\n\", classification_report(y_Test, y_pred))"
      ],
      "metadata": {
        "colab": {
          "base_uri": "https://localhost:8080/"
        },
        "id": "2Hr27j_h8Klr",
        "outputId": "db598e27-9da6-49ab-cdd9-6c388aacaba6"
      },
      "execution_count": 32,
      "outputs": [
        {
          "output_type": "stream",
          "name": "stdout",
          "text": [
            "Classification Report : \n",
            "\n",
            "               precision    recall  f1-score   support\n",
            "\n",
            "           0       0.20      1.00      0.33         1\n",
            "           1       0.00      0.00      0.00         4\n",
            "\n",
            "    accuracy                           0.20         5\n",
            "   macro avg       0.10      0.50      0.17         5\n",
            "weighted avg       0.04      0.20      0.07         5\n",
            "\n"
          ]
        }
      ]
    },
    {
      "cell_type": "code",
      "source": [
        "y_pred"
      ],
      "metadata": {
        "colab": {
          "base_uri": "https://localhost:8080/"
        },
        "id": "BpbsQP8-8UOP",
        "outputId": "1369bd48-5244-4bbc-e881-9c4136f90b71"
      },
      "execution_count": 33,
      "outputs": [
        {
          "output_type": "execute_result",
          "data": {
            "text/plain": [
              "array([0, 0, 0, 0, 0])"
            ]
          },
          "metadata": {},
          "execution_count": 33
        }
      ]
    },
    {
      "cell_type": "code",
      "source": [
        "y_Test"
      ],
      "metadata": {
        "colab": {
          "base_uri": "https://localhost:8080/"
        },
        "id": "Gfx5T2LTJR0l",
        "outputId": "674d78a6-1069-44b9-c77d-3c80a4dbf33f"
      },
      "execution_count": 34,
      "outputs": [
        {
          "output_type": "execute_result",
          "data": {
            "text/plain": [
              "array([0, 1, 1, 1, 1])"
            ]
          },
          "metadata": {},
          "execution_count": 34
        }
      ]
    },
    {
      "cell_type": "code",
      "source": [
        "df = pd.DataFrame({'Input':X_test, 'Real Values':y_Test, 'Predicted Values':y_pred})\n",
        "df"
      ],
      "metadata": {
        "colab": {
          "base_uri": "https://localhost:8080/",
          "height": 206
        },
        "id": "xGtMtodRC9En",
        "outputId": "d20a7aeb-f2eb-4f80-87ab-9b53dc3ead4e"
      },
      "execution_count": 35,
      "outputs": [
        {
          "output_type": "execute_result",
          "data": {
            "text/plain": [
              "     Input  Real Values  Predicted Values\n",
              "0    1.wav            0                 0\n",
              "20  21.wav            1                 0\n",
              "12  13.wav            1                 0\n",
              "21  22.wav            1                 0\n",
              "22  23.wav            1                 0"
            ],
            "text/html": [
              "\n",
              "  <div id=\"df-98da4d8b-2da0-4faa-ab23-521a8a8045b9\">\n",
              "    <div class=\"colab-df-container\">\n",
              "      <div>\n",
              "<style scoped>\n",
              "    .dataframe tbody tr th:only-of-type {\n",
              "        vertical-align: middle;\n",
              "    }\n",
              "\n",
              "    .dataframe tbody tr th {\n",
              "        vertical-align: top;\n",
              "    }\n",
              "\n",
              "    .dataframe thead th {\n",
              "        text-align: right;\n",
              "    }\n",
              "</style>\n",
              "<table border=\"1\" class=\"dataframe\">\n",
              "  <thead>\n",
              "    <tr style=\"text-align: right;\">\n",
              "      <th></th>\n",
              "      <th>Input</th>\n",
              "      <th>Real Values</th>\n",
              "      <th>Predicted Values</th>\n",
              "    </tr>\n",
              "  </thead>\n",
              "  <tbody>\n",
              "    <tr>\n",
              "      <th>0</th>\n",
              "      <td>1.wav</td>\n",
              "      <td>0</td>\n",
              "      <td>0</td>\n",
              "    </tr>\n",
              "    <tr>\n",
              "      <th>20</th>\n",
              "      <td>21.wav</td>\n",
              "      <td>1</td>\n",
              "      <td>0</td>\n",
              "    </tr>\n",
              "    <tr>\n",
              "      <th>12</th>\n",
              "      <td>13.wav</td>\n",
              "      <td>1</td>\n",
              "      <td>0</td>\n",
              "    </tr>\n",
              "    <tr>\n",
              "      <th>21</th>\n",
              "      <td>22.wav</td>\n",
              "      <td>1</td>\n",
              "      <td>0</td>\n",
              "    </tr>\n",
              "    <tr>\n",
              "      <th>22</th>\n",
              "      <td>23.wav</td>\n",
              "      <td>1</td>\n",
              "      <td>0</td>\n",
              "    </tr>\n",
              "  </tbody>\n",
              "</table>\n",
              "</div>\n",
              "      <button class=\"colab-df-convert\" onclick=\"convertToInteractive('df-98da4d8b-2da0-4faa-ab23-521a8a8045b9')\"\n",
              "              title=\"Convert this dataframe to an interactive table.\"\n",
              "              style=\"display:none;\">\n",
              "        \n",
              "  <svg xmlns=\"http://www.w3.org/2000/svg\" height=\"24px\"viewBox=\"0 0 24 24\"\n",
              "       width=\"24px\">\n",
              "    <path d=\"M0 0h24v24H0V0z\" fill=\"none\"/>\n",
              "    <path d=\"M18.56 5.44l.94 2.06.94-2.06 2.06-.94-2.06-.94-.94-2.06-.94 2.06-2.06.94zm-11 1L8.5 8.5l.94-2.06 2.06-.94-2.06-.94L8.5 2.5l-.94 2.06-2.06.94zm10 10l.94 2.06.94-2.06 2.06-.94-2.06-.94-.94-2.06-.94 2.06-2.06.94z\"/><path d=\"M17.41 7.96l-1.37-1.37c-.4-.4-.92-.59-1.43-.59-.52 0-1.04.2-1.43.59L10.3 9.45l-7.72 7.72c-.78.78-.78 2.05 0 2.83L4 21.41c.39.39.9.59 1.41.59.51 0 1.02-.2 1.41-.59l7.78-7.78 2.81-2.81c.8-.78.8-2.07 0-2.86zM5.41 20L4 18.59l7.72-7.72 1.47 1.35L5.41 20z\"/>\n",
              "  </svg>\n",
              "      </button>\n",
              "      \n",
              "  <style>\n",
              "    .colab-df-container {\n",
              "      display:flex;\n",
              "      flex-wrap:wrap;\n",
              "      gap: 12px;\n",
              "    }\n",
              "\n",
              "    .colab-df-convert {\n",
              "      background-color: #E8F0FE;\n",
              "      border: none;\n",
              "      border-radius: 50%;\n",
              "      cursor: pointer;\n",
              "      display: none;\n",
              "      fill: #1967D2;\n",
              "      height: 32px;\n",
              "      padding: 0 0 0 0;\n",
              "      width: 32px;\n",
              "    }\n",
              "\n",
              "    .colab-df-convert:hover {\n",
              "      background-color: #E2EBFA;\n",
              "      box-shadow: 0px 1px 2px rgba(60, 64, 67, 0.3), 0px 1px 3px 1px rgba(60, 64, 67, 0.15);\n",
              "      fill: #174EA6;\n",
              "    }\n",
              "\n",
              "    [theme=dark] .colab-df-convert {\n",
              "      background-color: #3B4455;\n",
              "      fill: #D2E3FC;\n",
              "    }\n",
              "\n",
              "    [theme=dark] .colab-df-convert:hover {\n",
              "      background-color: #434B5C;\n",
              "      box-shadow: 0px 1px 3px 1px rgba(0, 0, 0, 0.15);\n",
              "      filter: drop-shadow(0px 1px 2px rgba(0, 0, 0, 0.3));\n",
              "      fill: #FFFFFF;\n",
              "    }\n",
              "  </style>\n",
              "\n",
              "      <script>\n",
              "        const buttonEl =\n",
              "          document.querySelector('#df-98da4d8b-2da0-4faa-ab23-521a8a8045b9 button.colab-df-convert');\n",
              "        buttonEl.style.display =\n",
              "          google.colab.kernel.accessAllowed ? 'block' : 'none';\n",
              "\n",
              "        async function convertToInteractive(key) {\n",
              "          const element = document.querySelector('#df-98da4d8b-2da0-4faa-ab23-521a8a8045b9');\n",
              "          const dataTable =\n",
              "            await google.colab.kernel.invokeFunction('convertToInteractive',\n",
              "                                                     [key], {});\n",
              "          if (!dataTable) return;\n",
              "\n",
              "          const docLinkHtml = 'Like what you see? Visit the ' +\n",
              "            '<a target=\"_blank\" href=https://colab.research.google.com/notebooks/data_table.ipynb>data table notebook</a>'\n",
              "            + ' to learn more about interactive tables.';\n",
              "          element.innerHTML = '';\n",
              "          dataTable['output_type'] = 'display_data';\n",
              "          await google.colab.output.renderOutput(dataTable, element);\n",
              "          const docLink = document.createElement('div');\n",
              "          docLink.innerHTML = docLinkHtml;\n",
              "          element.appendChild(docLink);\n",
              "        }\n",
              "      </script>\n",
              "    </div>\n",
              "  </div>\n",
              "  "
            ]
          },
          "metadata": {},
          "execution_count": 35
        }
      ]
    },
    {
      "cell_type": "code",
      "source": [
        "from sklearn.ensemble import AdaBoostClassifier\n",
        "from sklearn.datasets import make_classification\n",
        "clf = AdaBoostClassifier(n_estimators=100, random_state=0)\n",
        "clf.fit(x_train, y_Train)"
      ],
      "metadata": {
        "colab": {
          "base_uri": "https://localhost:8080/"
        },
        "id": "3VRoiiidJYyx",
        "outputId": "2ddf064c-09d7-4027-8b08-6ee5ac693be3"
      },
      "execution_count": 36,
      "outputs": [
        {
          "output_type": "execute_result",
          "data": {
            "text/plain": [
              "AdaBoostClassifier(n_estimators=100, random_state=0)"
            ]
          },
          "metadata": {},
          "execution_count": 36
        }
      ]
    },
    {
      "cell_type": "code",
      "source": [
        "clf.score(x_test, y_Test)"
      ],
      "metadata": {
        "colab": {
          "base_uri": "https://localhost:8080/"
        },
        "id": "ZKLspsm5Kejh",
        "outputId": "e633adaa-3560-4438-b778-e542d2374e78"
      },
      "execution_count": 37,
      "outputs": [
        {
          "output_type": "execute_result",
          "data": {
            "text/plain": [
              "0.6"
            ]
          },
          "metadata": {},
          "execution_count": 37
        }
      ]
    },
    {
      "cell_type": "code",
      "source": [
        "y_pred1 = clf.predict(x_test)\n",
        "print(\"Classification Report : \\n\\n\", classification_report(y_Test, y_pred1))"
      ],
      "metadata": {
        "colab": {
          "base_uri": "https://localhost:8080/"
        },
        "id": "VAaIYhFPKjSR",
        "outputId": "dc457291-27e0-4390-c54b-cbc7031f97d5"
      },
      "execution_count": 38,
      "outputs": [
        {
          "output_type": "stream",
          "name": "stdout",
          "text": [
            "Classification Report : \n",
            "\n",
            "               precision    recall  f1-score   support\n",
            "\n",
            "           0       0.33      1.00      0.50         1\n",
            "           1       1.00      0.50      0.67         4\n",
            "\n",
            "    accuracy                           0.60         5\n",
            "   macro avg       0.67      0.75      0.58         5\n",
            "weighted avg       0.87      0.60      0.63         5\n",
            "\n"
          ]
        }
      ]
    },
    {
      "cell_type": "code",
      "source": [
        "df1 = pd.DataFrame({'Input':X_test, 'Real Values':y_Test, 'Predicted Values':y_pred1})\n",
        "df1"
      ],
      "metadata": {
        "colab": {
          "base_uri": "https://localhost:8080/",
          "height": 206
        },
        "id": "0e8rbA21DLCq",
        "outputId": "9e3dc34f-ecf4-4cd4-ba9f-af973c8454cc"
      },
      "execution_count": 39,
      "outputs": [
        {
          "output_type": "execute_result",
          "data": {
            "text/plain": [
              "     Input  Real Values  Predicted Values\n",
              "0    1.wav            0                 0\n",
              "20  21.wav            1                 0\n",
              "12  13.wav            1                 0\n",
              "21  22.wav            1                 1\n",
              "22  23.wav            1                 1"
            ],
            "text/html": [
              "\n",
              "  <div id=\"df-e6f61cb5-50ab-4913-886d-2bc285b7b60f\">\n",
              "    <div class=\"colab-df-container\">\n",
              "      <div>\n",
              "<style scoped>\n",
              "    .dataframe tbody tr th:only-of-type {\n",
              "        vertical-align: middle;\n",
              "    }\n",
              "\n",
              "    .dataframe tbody tr th {\n",
              "        vertical-align: top;\n",
              "    }\n",
              "\n",
              "    .dataframe thead th {\n",
              "        text-align: right;\n",
              "    }\n",
              "</style>\n",
              "<table border=\"1\" class=\"dataframe\">\n",
              "  <thead>\n",
              "    <tr style=\"text-align: right;\">\n",
              "      <th></th>\n",
              "      <th>Input</th>\n",
              "      <th>Real Values</th>\n",
              "      <th>Predicted Values</th>\n",
              "    </tr>\n",
              "  </thead>\n",
              "  <tbody>\n",
              "    <tr>\n",
              "      <th>0</th>\n",
              "      <td>1.wav</td>\n",
              "      <td>0</td>\n",
              "      <td>0</td>\n",
              "    </tr>\n",
              "    <tr>\n",
              "      <th>20</th>\n",
              "      <td>21.wav</td>\n",
              "      <td>1</td>\n",
              "      <td>0</td>\n",
              "    </tr>\n",
              "    <tr>\n",
              "      <th>12</th>\n",
              "      <td>13.wav</td>\n",
              "      <td>1</td>\n",
              "      <td>0</td>\n",
              "    </tr>\n",
              "    <tr>\n",
              "      <th>21</th>\n",
              "      <td>22.wav</td>\n",
              "      <td>1</td>\n",
              "      <td>1</td>\n",
              "    </tr>\n",
              "    <tr>\n",
              "      <th>22</th>\n",
              "      <td>23.wav</td>\n",
              "      <td>1</td>\n",
              "      <td>1</td>\n",
              "    </tr>\n",
              "  </tbody>\n",
              "</table>\n",
              "</div>\n",
              "      <button class=\"colab-df-convert\" onclick=\"convertToInteractive('df-e6f61cb5-50ab-4913-886d-2bc285b7b60f')\"\n",
              "              title=\"Convert this dataframe to an interactive table.\"\n",
              "              style=\"display:none;\">\n",
              "        \n",
              "  <svg xmlns=\"http://www.w3.org/2000/svg\" height=\"24px\"viewBox=\"0 0 24 24\"\n",
              "       width=\"24px\">\n",
              "    <path d=\"M0 0h24v24H0V0z\" fill=\"none\"/>\n",
              "    <path d=\"M18.56 5.44l.94 2.06.94-2.06 2.06-.94-2.06-.94-.94-2.06-.94 2.06-2.06.94zm-11 1L8.5 8.5l.94-2.06 2.06-.94-2.06-.94L8.5 2.5l-.94 2.06-2.06.94zm10 10l.94 2.06.94-2.06 2.06-.94-2.06-.94-.94-2.06-.94 2.06-2.06.94z\"/><path d=\"M17.41 7.96l-1.37-1.37c-.4-.4-.92-.59-1.43-.59-.52 0-1.04.2-1.43.59L10.3 9.45l-7.72 7.72c-.78.78-.78 2.05 0 2.83L4 21.41c.39.39.9.59 1.41.59.51 0 1.02-.2 1.41-.59l7.78-7.78 2.81-2.81c.8-.78.8-2.07 0-2.86zM5.41 20L4 18.59l7.72-7.72 1.47 1.35L5.41 20z\"/>\n",
              "  </svg>\n",
              "      </button>\n",
              "      \n",
              "  <style>\n",
              "    .colab-df-container {\n",
              "      display:flex;\n",
              "      flex-wrap:wrap;\n",
              "      gap: 12px;\n",
              "    }\n",
              "\n",
              "    .colab-df-convert {\n",
              "      background-color: #E8F0FE;\n",
              "      border: none;\n",
              "      border-radius: 50%;\n",
              "      cursor: pointer;\n",
              "      display: none;\n",
              "      fill: #1967D2;\n",
              "      height: 32px;\n",
              "      padding: 0 0 0 0;\n",
              "      width: 32px;\n",
              "    }\n",
              "\n",
              "    .colab-df-convert:hover {\n",
              "      background-color: #E2EBFA;\n",
              "      box-shadow: 0px 1px 2px rgba(60, 64, 67, 0.3), 0px 1px 3px 1px rgba(60, 64, 67, 0.15);\n",
              "      fill: #174EA6;\n",
              "    }\n",
              "\n",
              "    [theme=dark] .colab-df-convert {\n",
              "      background-color: #3B4455;\n",
              "      fill: #D2E3FC;\n",
              "    }\n",
              "\n",
              "    [theme=dark] .colab-df-convert:hover {\n",
              "      background-color: #434B5C;\n",
              "      box-shadow: 0px 1px 3px 1px rgba(0, 0, 0, 0.15);\n",
              "      filter: drop-shadow(0px 1px 2px rgba(0, 0, 0, 0.3));\n",
              "      fill: #FFFFFF;\n",
              "    }\n",
              "  </style>\n",
              "\n",
              "      <script>\n",
              "        const buttonEl =\n",
              "          document.querySelector('#df-e6f61cb5-50ab-4913-886d-2bc285b7b60f button.colab-df-convert');\n",
              "        buttonEl.style.display =\n",
              "          google.colab.kernel.accessAllowed ? 'block' : 'none';\n",
              "\n",
              "        async function convertToInteractive(key) {\n",
              "          const element = document.querySelector('#df-e6f61cb5-50ab-4913-886d-2bc285b7b60f');\n",
              "          const dataTable =\n",
              "            await google.colab.kernel.invokeFunction('convertToInteractive',\n",
              "                                                     [key], {});\n",
              "          if (!dataTable) return;\n",
              "\n",
              "          const docLinkHtml = 'Like what you see? Visit the ' +\n",
              "            '<a target=\"_blank\" href=https://colab.research.google.com/notebooks/data_table.ipynb>data table notebook</a>'\n",
              "            + ' to learn more about interactive tables.';\n",
              "          element.innerHTML = '';\n",
              "          dataTable['output_type'] = 'display_data';\n",
              "          await google.colab.output.renderOutput(dataTable, element);\n",
              "          const docLink = document.createElement('div');\n",
              "          docLink.innerHTML = docLinkHtml;\n",
              "          element.appendChild(docLink);\n",
              "        }\n",
              "      </script>\n",
              "    </div>\n",
              "  </div>\n",
              "  "
            ]
          },
          "metadata": {},
          "execution_count": 39
        }
      ]
    },
    {
      "cell_type": "code",
      "source": [
        "from sklearn.ensemble import GradientBoostingClassifier\n",
        "from sklearn.ensemble import RandomForestClassifier\n",
        "from sklearn.linear_model import SGDClassifier\n",
        "from sklearn.svm import LinearSVC\n",
        "from sklearn.svm import SVC"
      ],
      "metadata": {
        "id": "-CdkIHBvKwY0"
      },
      "execution_count": 40,
      "outputs": []
    },
    {
      "cell_type": "code",
      "source": [
        "clf2 = LinearSVC(penalty='l2', loss='hinge')\n",
        "clf2.fit(x_train, y_Train)\n",
        "clf2.score(x_test, y_Test)"
      ],
      "metadata": {
        "colab": {
          "base_uri": "https://localhost:8080/"
        },
        "id": "_ngbxGLFB4HK",
        "outputId": "8aec97b6-52e9-4824-f419-31a07eceeb0a"
      },
      "execution_count": 41,
      "outputs": [
        {
          "output_type": "execute_result",
          "data": {
            "text/plain": [
              "0.8"
            ]
          },
          "metadata": {},
          "execution_count": 41
        }
      ]
    },
    {
      "cell_type": "code",
      "source": [
        "y_pred2 = clf2.predict(x_test)\n",
        "print(\"Classification Report : \\n\\n\", classification_report(y_Test, y_pred2))"
      ],
      "metadata": {
        "colab": {
          "base_uri": "https://localhost:8080/"
        },
        "id": "WRIR32oVCxuF",
        "outputId": "176d0948-a88b-47b8-9e5c-e1c2434d4680"
      },
      "execution_count": 42,
      "outputs": [
        {
          "output_type": "stream",
          "name": "stdout",
          "text": [
            "Classification Report : \n",
            "\n",
            "               precision    recall  f1-score   support\n",
            "\n",
            "           0       0.50      1.00      0.67         1\n",
            "           1       1.00      0.75      0.86         4\n",
            "\n",
            "    accuracy                           0.80         5\n",
            "   macro avg       0.75      0.88      0.76         5\n",
            "weighted avg       0.90      0.80      0.82         5\n",
            "\n"
          ]
        }
      ]
    },
    {
      "cell_type": "code",
      "source": [
        "df2 = pd.DataFrame({'Input':X_test, 'Real Values':y_Test, 'Predicted Values':y_pred2})\n",
        "df2"
      ],
      "metadata": {
        "colab": {
          "base_uri": "https://localhost:8080/",
          "height": 206
        },
        "id": "pJ2DJWqZDSkh",
        "outputId": "ff363625-fe6c-487b-e0da-1d0c084880f5"
      },
      "execution_count": 43,
      "outputs": [
        {
          "output_type": "execute_result",
          "data": {
            "text/plain": [
              "     Input  Real Values  Predicted Values\n",
              "0    1.wav            0                 0\n",
              "20  21.wav            1                 1\n",
              "12  13.wav            1                 1\n",
              "21  22.wav            1                 0\n",
              "22  23.wav            1                 1"
            ],
            "text/html": [
              "\n",
              "  <div id=\"df-02a66131-7d88-4176-a62b-92c6f1ec10e4\">\n",
              "    <div class=\"colab-df-container\">\n",
              "      <div>\n",
              "<style scoped>\n",
              "    .dataframe tbody tr th:only-of-type {\n",
              "        vertical-align: middle;\n",
              "    }\n",
              "\n",
              "    .dataframe tbody tr th {\n",
              "        vertical-align: top;\n",
              "    }\n",
              "\n",
              "    .dataframe thead th {\n",
              "        text-align: right;\n",
              "    }\n",
              "</style>\n",
              "<table border=\"1\" class=\"dataframe\">\n",
              "  <thead>\n",
              "    <tr style=\"text-align: right;\">\n",
              "      <th></th>\n",
              "      <th>Input</th>\n",
              "      <th>Real Values</th>\n",
              "      <th>Predicted Values</th>\n",
              "    </tr>\n",
              "  </thead>\n",
              "  <tbody>\n",
              "    <tr>\n",
              "      <th>0</th>\n",
              "      <td>1.wav</td>\n",
              "      <td>0</td>\n",
              "      <td>0</td>\n",
              "    </tr>\n",
              "    <tr>\n",
              "      <th>20</th>\n",
              "      <td>21.wav</td>\n",
              "      <td>1</td>\n",
              "      <td>1</td>\n",
              "    </tr>\n",
              "    <tr>\n",
              "      <th>12</th>\n",
              "      <td>13.wav</td>\n",
              "      <td>1</td>\n",
              "      <td>1</td>\n",
              "    </tr>\n",
              "    <tr>\n",
              "      <th>21</th>\n",
              "      <td>22.wav</td>\n",
              "      <td>1</td>\n",
              "      <td>0</td>\n",
              "    </tr>\n",
              "    <tr>\n",
              "      <th>22</th>\n",
              "      <td>23.wav</td>\n",
              "      <td>1</td>\n",
              "      <td>1</td>\n",
              "    </tr>\n",
              "  </tbody>\n",
              "</table>\n",
              "</div>\n",
              "      <button class=\"colab-df-convert\" onclick=\"convertToInteractive('df-02a66131-7d88-4176-a62b-92c6f1ec10e4')\"\n",
              "              title=\"Convert this dataframe to an interactive table.\"\n",
              "              style=\"display:none;\">\n",
              "        \n",
              "  <svg xmlns=\"http://www.w3.org/2000/svg\" height=\"24px\"viewBox=\"0 0 24 24\"\n",
              "       width=\"24px\">\n",
              "    <path d=\"M0 0h24v24H0V0z\" fill=\"none\"/>\n",
              "    <path d=\"M18.56 5.44l.94 2.06.94-2.06 2.06-.94-2.06-.94-.94-2.06-.94 2.06-2.06.94zm-11 1L8.5 8.5l.94-2.06 2.06-.94-2.06-.94L8.5 2.5l-.94 2.06-2.06.94zm10 10l.94 2.06.94-2.06 2.06-.94-2.06-.94-.94-2.06-.94 2.06-2.06.94z\"/><path d=\"M17.41 7.96l-1.37-1.37c-.4-.4-.92-.59-1.43-.59-.52 0-1.04.2-1.43.59L10.3 9.45l-7.72 7.72c-.78.78-.78 2.05 0 2.83L4 21.41c.39.39.9.59 1.41.59.51 0 1.02-.2 1.41-.59l7.78-7.78 2.81-2.81c.8-.78.8-2.07 0-2.86zM5.41 20L4 18.59l7.72-7.72 1.47 1.35L5.41 20z\"/>\n",
              "  </svg>\n",
              "      </button>\n",
              "      \n",
              "  <style>\n",
              "    .colab-df-container {\n",
              "      display:flex;\n",
              "      flex-wrap:wrap;\n",
              "      gap: 12px;\n",
              "    }\n",
              "\n",
              "    .colab-df-convert {\n",
              "      background-color: #E8F0FE;\n",
              "      border: none;\n",
              "      border-radius: 50%;\n",
              "      cursor: pointer;\n",
              "      display: none;\n",
              "      fill: #1967D2;\n",
              "      height: 32px;\n",
              "      padding: 0 0 0 0;\n",
              "      width: 32px;\n",
              "    }\n",
              "\n",
              "    .colab-df-convert:hover {\n",
              "      background-color: #E2EBFA;\n",
              "      box-shadow: 0px 1px 2px rgba(60, 64, 67, 0.3), 0px 1px 3px 1px rgba(60, 64, 67, 0.15);\n",
              "      fill: #174EA6;\n",
              "    }\n",
              "\n",
              "    [theme=dark] .colab-df-convert {\n",
              "      background-color: #3B4455;\n",
              "      fill: #D2E3FC;\n",
              "    }\n",
              "\n",
              "    [theme=dark] .colab-df-convert:hover {\n",
              "      background-color: #434B5C;\n",
              "      box-shadow: 0px 1px 3px 1px rgba(0, 0, 0, 0.15);\n",
              "      filter: drop-shadow(0px 1px 2px rgba(0, 0, 0, 0.3));\n",
              "      fill: #FFFFFF;\n",
              "    }\n",
              "  </style>\n",
              "\n",
              "      <script>\n",
              "        const buttonEl =\n",
              "          document.querySelector('#df-02a66131-7d88-4176-a62b-92c6f1ec10e4 button.colab-df-convert');\n",
              "        buttonEl.style.display =\n",
              "          google.colab.kernel.accessAllowed ? 'block' : 'none';\n",
              "\n",
              "        async function convertToInteractive(key) {\n",
              "          const element = document.querySelector('#df-02a66131-7d88-4176-a62b-92c6f1ec10e4');\n",
              "          const dataTable =\n",
              "            await google.colab.kernel.invokeFunction('convertToInteractive',\n",
              "                                                     [key], {});\n",
              "          if (!dataTable) return;\n",
              "\n",
              "          const docLinkHtml = 'Like what you see? Visit the ' +\n",
              "            '<a target=\"_blank\" href=https://colab.research.google.com/notebooks/data_table.ipynb>data table notebook</a>'\n",
              "            + ' to learn more about interactive tables.';\n",
              "          element.innerHTML = '';\n",
              "          dataTable['output_type'] = 'display_data';\n",
              "          await google.colab.output.renderOutput(dataTable, element);\n",
              "          const docLink = document.createElement('div');\n",
              "          docLink.innerHTML = docLinkHtml;\n",
              "          element.appendChild(docLink);\n",
              "        }\n",
              "      </script>\n",
              "    </div>\n",
              "  </div>\n",
              "  "
            ]
          },
          "metadata": {},
          "execution_count": 43
        }
      ]
    },
    {
      "cell_type": "code",
      "source": [
        "clf3 = SVC(kernel = 'rbf', random_state = 0)\n",
        "clf3.fit(x_train, y_Train)"
      ],
      "metadata": {
        "colab": {
          "base_uri": "https://localhost:8080/"
        },
        "id": "174ArgEp7ByI",
        "outputId": "f7c2bbae-3c7c-44d3-dd7f-ce47f0a5c1e0"
      },
      "execution_count": 44,
      "outputs": [
        {
          "output_type": "execute_result",
          "data": {
            "text/plain": [
              "SVC(random_state=0)"
            ]
          },
          "metadata": {},
          "execution_count": 44
        }
      ]
    },
    {
      "cell_type": "code",
      "source": [
        "clf3.score(x_test, y_Test)"
      ],
      "metadata": {
        "colab": {
          "base_uri": "https://localhost:8080/"
        },
        "id": "UhL1IlBaBgSL",
        "outputId": "a31f5dc9-62ce-41c3-abaa-4e0b37cbf0d2"
      },
      "execution_count": 45,
      "outputs": [
        {
          "output_type": "execute_result",
          "data": {
            "text/plain": [
              "0.8"
            ]
          },
          "metadata": {},
          "execution_count": 45
        }
      ]
    },
    {
      "cell_type": "code",
      "source": [
        "y_pred3 = clf3.predict(x_test)\n",
        "print(\"Classification Report : \\n\\n\", classification_report(y_Test, y_pred3))"
      ],
      "metadata": {
        "colab": {
          "base_uri": "https://localhost:8080/"
        },
        "id": "R4MhgJCOBkrr",
        "outputId": "dcc75b57-1884-4141-8005-028c4f7753b3"
      },
      "execution_count": 46,
      "outputs": [
        {
          "output_type": "stream",
          "name": "stdout",
          "text": [
            "Classification Report : \n",
            "\n",
            "               precision    recall  f1-score   support\n",
            "\n",
            "           0       0.00      0.00      0.00         1\n",
            "           1       0.80      1.00      0.89         4\n",
            "\n",
            "    accuracy                           0.80         5\n",
            "   macro avg       0.40      0.50      0.44         5\n",
            "weighted avg       0.64      0.80      0.71         5\n",
            "\n"
          ]
        }
      ]
    },
    {
      "cell_type": "code",
      "source": [
        "df3 = pd.DataFrame({'Input':X_test, 'Real Values':y_Test, 'Predicted Values':y_pred3})\n",
        "df3"
      ],
      "metadata": {
        "colab": {
          "base_uri": "https://localhost:8080/",
          "height": 206
        },
        "id": "h6I9-bQBBy_6",
        "outputId": "5fa28778-173d-4813-d0fe-371bffac82f1"
      },
      "execution_count": 47,
      "outputs": [
        {
          "output_type": "execute_result",
          "data": {
            "text/plain": [
              "     Input  Real Values  Predicted Values\n",
              "0    1.wav            0                 1\n",
              "20  21.wav            1                 1\n",
              "12  13.wav            1                 1\n",
              "21  22.wav            1                 1\n",
              "22  23.wav            1                 1"
            ],
            "text/html": [
              "\n",
              "  <div id=\"df-bcca97b7-9c58-49dc-ba72-66e38a54a2dc\">\n",
              "    <div class=\"colab-df-container\">\n",
              "      <div>\n",
              "<style scoped>\n",
              "    .dataframe tbody tr th:only-of-type {\n",
              "        vertical-align: middle;\n",
              "    }\n",
              "\n",
              "    .dataframe tbody tr th {\n",
              "        vertical-align: top;\n",
              "    }\n",
              "\n",
              "    .dataframe thead th {\n",
              "        text-align: right;\n",
              "    }\n",
              "</style>\n",
              "<table border=\"1\" class=\"dataframe\">\n",
              "  <thead>\n",
              "    <tr style=\"text-align: right;\">\n",
              "      <th></th>\n",
              "      <th>Input</th>\n",
              "      <th>Real Values</th>\n",
              "      <th>Predicted Values</th>\n",
              "    </tr>\n",
              "  </thead>\n",
              "  <tbody>\n",
              "    <tr>\n",
              "      <th>0</th>\n",
              "      <td>1.wav</td>\n",
              "      <td>0</td>\n",
              "      <td>1</td>\n",
              "    </tr>\n",
              "    <tr>\n",
              "      <th>20</th>\n",
              "      <td>21.wav</td>\n",
              "      <td>1</td>\n",
              "      <td>1</td>\n",
              "    </tr>\n",
              "    <tr>\n",
              "      <th>12</th>\n",
              "      <td>13.wav</td>\n",
              "      <td>1</td>\n",
              "      <td>1</td>\n",
              "    </tr>\n",
              "    <tr>\n",
              "      <th>21</th>\n",
              "      <td>22.wav</td>\n",
              "      <td>1</td>\n",
              "      <td>1</td>\n",
              "    </tr>\n",
              "    <tr>\n",
              "      <th>22</th>\n",
              "      <td>23.wav</td>\n",
              "      <td>1</td>\n",
              "      <td>1</td>\n",
              "    </tr>\n",
              "  </tbody>\n",
              "</table>\n",
              "</div>\n",
              "      <button class=\"colab-df-convert\" onclick=\"convertToInteractive('df-bcca97b7-9c58-49dc-ba72-66e38a54a2dc')\"\n",
              "              title=\"Convert this dataframe to an interactive table.\"\n",
              "              style=\"display:none;\">\n",
              "        \n",
              "  <svg xmlns=\"http://www.w3.org/2000/svg\" height=\"24px\"viewBox=\"0 0 24 24\"\n",
              "       width=\"24px\">\n",
              "    <path d=\"M0 0h24v24H0V0z\" fill=\"none\"/>\n",
              "    <path d=\"M18.56 5.44l.94 2.06.94-2.06 2.06-.94-2.06-.94-.94-2.06-.94 2.06-2.06.94zm-11 1L8.5 8.5l.94-2.06 2.06-.94-2.06-.94L8.5 2.5l-.94 2.06-2.06.94zm10 10l.94 2.06.94-2.06 2.06-.94-2.06-.94-.94-2.06-.94 2.06-2.06.94z\"/><path d=\"M17.41 7.96l-1.37-1.37c-.4-.4-.92-.59-1.43-.59-.52 0-1.04.2-1.43.59L10.3 9.45l-7.72 7.72c-.78.78-.78 2.05 0 2.83L4 21.41c.39.39.9.59 1.41.59.51 0 1.02-.2 1.41-.59l7.78-7.78 2.81-2.81c.8-.78.8-2.07 0-2.86zM5.41 20L4 18.59l7.72-7.72 1.47 1.35L5.41 20z\"/>\n",
              "  </svg>\n",
              "      </button>\n",
              "      \n",
              "  <style>\n",
              "    .colab-df-container {\n",
              "      display:flex;\n",
              "      flex-wrap:wrap;\n",
              "      gap: 12px;\n",
              "    }\n",
              "\n",
              "    .colab-df-convert {\n",
              "      background-color: #E8F0FE;\n",
              "      border: none;\n",
              "      border-radius: 50%;\n",
              "      cursor: pointer;\n",
              "      display: none;\n",
              "      fill: #1967D2;\n",
              "      height: 32px;\n",
              "      padding: 0 0 0 0;\n",
              "      width: 32px;\n",
              "    }\n",
              "\n",
              "    .colab-df-convert:hover {\n",
              "      background-color: #E2EBFA;\n",
              "      box-shadow: 0px 1px 2px rgba(60, 64, 67, 0.3), 0px 1px 3px 1px rgba(60, 64, 67, 0.15);\n",
              "      fill: #174EA6;\n",
              "    }\n",
              "\n",
              "    [theme=dark] .colab-df-convert {\n",
              "      background-color: #3B4455;\n",
              "      fill: #D2E3FC;\n",
              "    }\n",
              "\n",
              "    [theme=dark] .colab-df-convert:hover {\n",
              "      background-color: #434B5C;\n",
              "      box-shadow: 0px 1px 3px 1px rgba(0, 0, 0, 0.15);\n",
              "      filter: drop-shadow(0px 1px 2px rgba(0, 0, 0, 0.3));\n",
              "      fill: #FFFFFF;\n",
              "    }\n",
              "  </style>\n",
              "\n",
              "      <script>\n",
              "        const buttonEl =\n",
              "          document.querySelector('#df-bcca97b7-9c58-49dc-ba72-66e38a54a2dc button.colab-df-convert');\n",
              "        buttonEl.style.display =\n",
              "          google.colab.kernel.accessAllowed ? 'block' : 'none';\n",
              "\n",
              "        async function convertToInteractive(key) {\n",
              "          const element = document.querySelector('#df-bcca97b7-9c58-49dc-ba72-66e38a54a2dc');\n",
              "          const dataTable =\n",
              "            await google.colab.kernel.invokeFunction('convertToInteractive',\n",
              "                                                     [key], {});\n",
              "          if (!dataTable) return;\n",
              "\n",
              "          const docLinkHtml = 'Like what you see? Visit the ' +\n",
              "            '<a target=\"_blank\" href=https://colab.research.google.com/notebooks/data_table.ipynb>data table notebook</a>'\n",
              "            + ' to learn more about interactive tables.';\n",
              "          element.innerHTML = '';\n",
              "          dataTable['output_type'] = 'display_data';\n",
              "          await google.colab.output.renderOutput(dataTable, element);\n",
              "          const docLink = document.createElement('div');\n",
              "          docLink.innerHTML = docLinkHtml;\n",
              "          element.appendChild(docLink);\n",
              "        }\n",
              "      </script>\n",
              "    </div>\n",
              "  </div>\n",
              "  "
            ]
          },
          "metadata": {},
          "execution_count": 47
        }
      ]
    },
    {
      "cell_type": "code",
      "source": [
        "clf4 = SGDClassifier(loss = 'hinge').fit(x_train, y_Train)"
      ],
      "metadata": {
        "id": "-RZmdLs9ONie"
      },
      "execution_count": 48,
      "outputs": []
    },
    {
      "cell_type": "code",
      "source": [
        "clf4.score(x_test, y_Test)"
      ],
      "metadata": {
        "colab": {
          "base_uri": "https://localhost:8080/"
        },
        "id": "vQdTWEMfOmRd",
        "outputId": "2dcbd3ce-af17-4bdb-890e-314b0284dd20"
      },
      "execution_count": 49,
      "outputs": [
        {
          "output_type": "execute_result",
          "data": {
            "text/plain": [
              "0.4"
            ]
          },
          "metadata": {},
          "execution_count": 49
        }
      ]
    },
    {
      "cell_type": "code",
      "source": [
        "y_pred4 = clf4.predict(x_test)\n",
        "#y_pred=np.argmax(y_pred, axis=1)\n",
        "print(\"Classification Report : \\n\\n\", classification_report(y_Test, y_pred4))"
      ],
      "metadata": {
        "colab": {
          "base_uri": "https://localhost:8080/"
        },
        "id": "Ssg51r4IOogK",
        "outputId": "55aa156a-e282-4ba7-f774-c631c6c67f43"
      },
      "execution_count": 50,
      "outputs": [
        {
          "output_type": "stream",
          "name": "stdout",
          "text": [
            "Classification Report : \n",
            "\n",
            "               precision    recall  f1-score   support\n",
            "\n",
            "           0       0.25      1.00      0.40         1\n",
            "           1       1.00      0.25      0.40         4\n",
            "\n",
            "    accuracy                           0.40         5\n",
            "   macro avg       0.62      0.62      0.40         5\n",
            "weighted avg       0.85      0.40      0.40         5\n",
            "\n"
          ]
        }
      ]
    },
    {
      "cell_type": "code",
      "source": [
        "df4 = pd.DataFrame({'Input':X_test, 'Real Values':y_Test, 'Predicted Values':y_pred4})\n",
        "df4"
      ],
      "metadata": {
        "id": "HNTmSwFMOrvk",
        "colab": {
          "base_uri": "https://localhost:8080/",
          "height": 206
        },
        "outputId": "621ff169-1ab6-4d7a-86d9-b113c6f7012d"
      },
      "execution_count": 51,
      "outputs": [
        {
          "output_type": "execute_result",
          "data": {
            "text/plain": [
              "     Input  Real Values  Predicted Values\n",
              "0    1.wav            0                 0\n",
              "20  21.wav            1                 0\n",
              "12  13.wav            1                 0\n",
              "21  22.wav            1                 1\n",
              "22  23.wav            1                 0"
            ],
            "text/html": [
              "\n",
              "  <div id=\"df-b8107416-bfa3-4582-b443-df75b156f13d\">\n",
              "    <div class=\"colab-df-container\">\n",
              "      <div>\n",
              "<style scoped>\n",
              "    .dataframe tbody tr th:only-of-type {\n",
              "        vertical-align: middle;\n",
              "    }\n",
              "\n",
              "    .dataframe tbody tr th {\n",
              "        vertical-align: top;\n",
              "    }\n",
              "\n",
              "    .dataframe thead th {\n",
              "        text-align: right;\n",
              "    }\n",
              "</style>\n",
              "<table border=\"1\" class=\"dataframe\">\n",
              "  <thead>\n",
              "    <tr style=\"text-align: right;\">\n",
              "      <th></th>\n",
              "      <th>Input</th>\n",
              "      <th>Real Values</th>\n",
              "      <th>Predicted Values</th>\n",
              "    </tr>\n",
              "  </thead>\n",
              "  <tbody>\n",
              "    <tr>\n",
              "      <th>0</th>\n",
              "      <td>1.wav</td>\n",
              "      <td>0</td>\n",
              "      <td>0</td>\n",
              "    </tr>\n",
              "    <tr>\n",
              "      <th>20</th>\n",
              "      <td>21.wav</td>\n",
              "      <td>1</td>\n",
              "      <td>0</td>\n",
              "    </tr>\n",
              "    <tr>\n",
              "      <th>12</th>\n",
              "      <td>13.wav</td>\n",
              "      <td>1</td>\n",
              "      <td>0</td>\n",
              "    </tr>\n",
              "    <tr>\n",
              "      <th>21</th>\n",
              "      <td>22.wav</td>\n",
              "      <td>1</td>\n",
              "      <td>1</td>\n",
              "    </tr>\n",
              "    <tr>\n",
              "      <th>22</th>\n",
              "      <td>23.wav</td>\n",
              "      <td>1</td>\n",
              "      <td>0</td>\n",
              "    </tr>\n",
              "  </tbody>\n",
              "</table>\n",
              "</div>\n",
              "      <button class=\"colab-df-convert\" onclick=\"convertToInteractive('df-b8107416-bfa3-4582-b443-df75b156f13d')\"\n",
              "              title=\"Convert this dataframe to an interactive table.\"\n",
              "              style=\"display:none;\">\n",
              "        \n",
              "  <svg xmlns=\"http://www.w3.org/2000/svg\" height=\"24px\"viewBox=\"0 0 24 24\"\n",
              "       width=\"24px\">\n",
              "    <path d=\"M0 0h24v24H0V0z\" fill=\"none\"/>\n",
              "    <path d=\"M18.56 5.44l.94 2.06.94-2.06 2.06-.94-2.06-.94-.94-2.06-.94 2.06-2.06.94zm-11 1L8.5 8.5l.94-2.06 2.06-.94-2.06-.94L8.5 2.5l-.94 2.06-2.06.94zm10 10l.94 2.06.94-2.06 2.06-.94-2.06-.94-.94-2.06-.94 2.06-2.06.94z\"/><path d=\"M17.41 7.96l-1.37-1.37c-.4-.4-.92-.59-1.43-.59-.52 0-1.04.2-1.43.59L10.3 9.45l-7.72 7.72c-.78.78-.78 2.05 0 2.83L4 21.41c.39.39.9.59 1.41.59.51 0 1.02-.2 1.41-.59l7.78-7.78 2.81-2.81c.8-.78.8-2.07 0-2.86zM5.41 20L4 18.59l7.72-7.72 1.47 1.35L5.41 20z\"/>\n",
              "  </svg>\n",
              "      </button>\n",
              "      \n",
              "  <style>\n",
              "    .colab-df-container {\n",
              "      display:flex;\n",
              "      flex-wrap:wrap;\n",
              "      gap: 12px;\n",
              "    }\n",
              "\n",
              "    .colab-df-convert {\n",
              "      background-color: #E8F0FE;\n",
              "      border: none;\n",
              "      border-radius: 50%;\n",
              "      cursor: pointer;\n",
              "      display: none;\n",
              "      fill: #1967D2;\n",
              "      height: 32px;\n",
              "      padding: 0 0 0 0;\n",
              "      width: 32px;\n",
              "    }\n",
              "\n",
              "    .colab-df-convert:hover {\n",
              "      background-color: #E2EBFA;\n",
              "      box-shadow: 0px 1px 2px rgba(60, 64, 67, 0.3), 0px 1px 3px 1px rgba(60, 64, 67, 0.15);\n",
              "      fill: #174EA6;\n",
              "    }\n",
              "\n",
              "    [theme=dark] .colab-df-convert {\n",
              "      background-color: #3B4455;\n",
              "      fill: #D2E3FC;\n",
              "    }\n",
              "\n",
              "    [theme=dark] .colab-df-convert:hover {\n",
              "      background-color: #434B5C;\n",
              "      box-shadow: 0px 1px 3px 1px rgba(0, 0, 0, 0.15);\n",
              "      filter: drop-shadow(0px 1px 2px rgba(0, 0, 0, 0.3));\n",
              "      fill: #FFFFFF;\n",
              "    }\n",
              "  </style>\n",
              "\n",
              "      <script>\n",
              "        const buttonEl =\n",
              "          document.querySelector('#df-b8107416-bfa3-4582-b443-df75b156f13d button.colab-df-convert');\n",
              "        buttonEl.style.display =\n",
              "          google.colab.kernel.accessAllowed ? 'block' : 'none';\n",
              "\n",
              "        async function convertToInteractive(key) {\n",
              "          const element = document.querySelector('#df-b8107416-bfa3-4582-b443-df75b156f13d');\n",
              "          const dataTable =\n",
              "            await google.colab.kernel.invokeFunction('convertToInteractive',\n",
              "                                                     [key], {});\n",
              "          if (!dataTable) return;\n",
              "\n",
              "          const docLinkHtml = 'Like what you see? Visit the ' +\n",
              "            '<a target=\"_blank\" href=https://colab.research.google.com/notebooks/data_table.ipynb>data table notebook</a>'\n",
              "            + ' to learn more about interactive tables.';\n",
              "          element.innerHTML = '';\n",
              "          dataTable['output_type'] = 'display_data';\n",
              "          await google.colab.output.renderOutput(dataTable, element);\n",
              "          const docLink = document.createElement('div');\n",
              "          docLink.innerHTML = docLinkHtml;\n",
              "          element.appendChild(docLink);\n",
              "        }\n",
              "      </script>\n",
              "    </div>\n",
              "  </div>\n",
              "  "
            ]
          },
          "metadata": {},
          "execution_count": 51
        }
      ]
    }
  ]
}