{
  "cells": [
    {
      "cell_type": "code",
      "execution_count": 1,
      "metadata": {
        "colab": {
          "base_uri": "https://localhost:8080/"
        },
        "id": "HNwF0NQGLnE_",
        "outputId": "9f41dc5d-3110-4134-84a1-50ef2697023c"
      },
      "outputs": [
        {
          "output_type": "stream",
          "name": "stdout",
          "text": [
            "Mounted at /content/drive\n"
          ]
        }
      ],
      "source": [
        "from google.colab import drive\n",
        "drive.mount('/content/drive')"
      ]
    },
    {
      "cell_type": "code",
      "execution_count": 2,
      "metadata": {
        "id": "PH5ZfCAoLqb7"
      },
      "outputs": [],
      "source": [
        "import os\n",
        "os.environ['KAGGLE_USERNAME'] = \"lampe01\" # username from the json file\n",
        "os.environ['KAGGLE_KEY'] = \"0fe21bb583c2cd3230e9d928c96e27f7\" # key from the json file\n",
        "os.environ['KAGGLE_CONFIG_DIR'] = \"/content/drive/MyDrive/CirCor\""
      ]
    },
    {
      "cell_type": "code",
      "execution_count": 3,
      "metadata": {
        "colab": {
          "base_uri": "https://localhost:8080/"
        },
        "id": "Yq5gtIQlLq9W",
        "outputId": "672ea048-a64a-4c9c-ae5d-4aa2f32a9540"
      },
      "outputs": [
        {
          "output_type": "stream",
          "name": "stdout",
          "text": [
            "[Errno 2] No such file or directory: '/content/drive/MyDrive/CirCor'\n",
            "/content\n"
          ]
        }
      ],
      "source": [
        "%cd /content/drive/MyDrive/CirCor"
      ]
    },
    {
      "cell_type": "code",
      "execution_count": 4,
      "metadata": {
        "colab": {
          "base_uri": "https://localhost:8080/"
        },
        "id": "YE2xW-seLhyb",
        "outputId": "7114c549-01c4-48d9-c098-a2d4f5b02c2c"
      },
      "outputs": [
        {
          "output_type": "stream",
          "name": "stdout",
          "text": [
            "Looking in indexes: https://pypi.org/simple, https://us-python.pkg.dev/colab-wheels/public/simple/\n",
            "Collecting pydub\n",
            "  Downloading pydub-0.25.1-py2.py3-none-any.whl (32 kB)\n",
            "Installing collected packages: pydub\n",
            "Successfully installed pydub-0.25.1\n"
          ]
        }
      ],
      "source": [
        "pip install pydub"
      ]
    },
    {
      "cell_type": "code",
      "execution_count": 5,
      "metadata": {
        "colab": {
          "base_uri": "https://localhost:8080/"
        },
        "id": "abzGZsDWL7pV",
        "outputId": "68ef1ba4-24bf-46f6-8f54-7628e9edad54"
      },
      "outputs": [
        {
          "output_type": "stream",
          "name": "stdout",
          "text": [
            "Looking in indexes: https://pypi.org/simple, https://us-python.pkg.dev/colab-wheels/public/simple/\n",
            "Collecting ffmpeg\n",
            "  Downloading ffmpeg-1.4.tar.gz (5.1 kB)\n",
            "Building wheels for collected packages: ffmpeg\n",
            "  Building wheel for ffmpeg (setup.py) ... \u001b[?25l\u001b[?25hdone\n",
            "  Created wheel for ffmpeg: filename=ffmpeg-1.4-py3-none-any.whl size=6084 sha256=88607bd7ff8e60477cfb1ec575048657e185547265e074063a5fca891c050c35\n",
            "  Stored in directory: /root/.cache/pip/wheels/64/80/6e/caa3e16deb0267c3cbfd36862058a724144e19fdb9eb03af0f\n",
            "Successfully built ffmpeg\n",
            "Installing collected packages: ffmpeg\n",
            "Successfully installed ffmpeg-1.4\n"
          ]
        }
      ],
      "source": [
        "pip install ffmpeg"
      ]
    },
    {
      "cell_type": "code",
      "execution_count": 6,
      "metadata": {
        "colab": {
          "base_uri": "https://localhost:8080/"
        },
        "id": "ywNS_PfxNDSS",
        "outputId": "ea48c543-233c-453a-e0a8-b5c85972162a"
      },
      "outputs": [
        {
          "output_type": "stream",
          "name": "stdout",
          "text": [
            "Looking in indexes: https://pypi.org/simple, https://us-python.pkg.dev/colab-wheels/public/simple/\n",
            "Requirement already satisfied: Ipython in /usr/local/lib/python3.7/dist-packages (7.9.0)\n",
            "Requirement already satisfied: traitlets>=4.2 in /usr/local/lib/python3.7/dist-packages (from Ipython) (5.1.1)\n",
            "Requirement already satisfied: pickleshare in /usr/local/lib/python3.7/dist-packages (from Ipython) (0.7.5)\n",
            "Collecting jedi>=0.10\n",
            "  Downloading jedi-0.18.1-py2.py3-none-any.whl (1.6 MB)\n",
            "\u001b[K     |████████████████████████████████| 1.6 MB 6.6 MB/s \n",
            "\u001b[?25hRequirement already satisfied: setuptools>=18.5 in /usr/local/lib/python3.7/dist-packages (from Ipython) (57.4.0)\n",
            "Requirement already satisfied: backcall in /usr/local/lib/python3.7/dist-packages (from Ipython) (0.2.0)\n",
            "Requirement already satisfied: prompt-toolkit<2.1.0,>=2.0.0 in /usr/local/lib/python3.7/dist-packages (from Ipython) (2.0.10)\n",
            "Requirement already satisfied: pygments in /usr/local/lib/python3.7/dist-packages (from Ipython) (2.6.1)\n",
            "Requirement already satisfied: decorator in /usr/local/lib/python3.7/dist-packages (from Ipython) (4.4.2)\n",
            "Requirement already satisfied: pexpect in /usr/local/lib/python3.7/dist-packages (from Ipython) (4.8.0)\n",
            "Requirement already satisfied: parso<0.9.0,>=0.8.0 in /usr/local/lib/python3.7/dist-packages (from jedi>=0.10->Ipython) (0.8.3)\n",
            "Requirement already satisfied: six>=1.9.0 in /usr/local/lib/python3.7/dist-packages (from prompt-toolkit<2.1.0,>=2.0.0->Ipython) (1.15.0)\n",
            "Requirement already satisfied: wcwidth in /usr/local/lib/python3.7/dist-packages (from prompt-toolkit<2.1.0,>=2.0.0->Ipython) (0.2.5)\n",
            "Requirement already satisfied: ptyprocess>=0.5 in /usr/local/lib/python3.7/dist-packages (from pexpect->Ipython) (0.7.0)\n",
            "Installing collected packages: jedi\n",
            "Successfully installed jedi-0.18.1\n"
          ]
        }
      ],
      "source": [
        "pip install Ipython"
      ]
    },
    {
      "cell_type": "code",
      "execution_count": 7,
      "metadata": {
        "colab": {
          "base_uri": "https://localhost:8080/"
        },
        "id": "13HgY7BtNJVd",
        "outputId": "7bd9cb1a-0654-4595-a845-40939f0d84a6"
      },
      "outputs": [
        {
          "output_type": "stream",
          "name": "stdout",
          "text": [
            "Found existing installation: scikit-learn 1.0.2\n",
            "Uninstalling scikit-learn-1.0.2:\n",
            "  Would remove:\n",
            "    /usr/local/lib/python3.7/dist-packages/scikit_learn-1.0.2.dist-info/*\n",
            "    /usr/local/lib/python3.7/dist-packages/scikit_learn.libs/libgomp-a34b3233.so.1.0.0\n",
            "    /usr/local/lib/python3.7/dist-packages/sklearn/*\n",
            "Proceed (y/n)? y\n",
            "  Successfully uninstalled scikit-learn-1.0.2\n"
          ]
        }
      ],
      "source": [
        "pip uninstall scikit-learn"
      ]
    },
    {
      "cell_type": "code",
      "execution_count": 8,
      "metadata": {
        "colab": {
          "base_uri": "https://localhost:8080/"
        },
        "id": "M-_dDkMZNLPN",
        "outputId": "e7ae6342-6f7e-4703-e647-99585e63a126"
      },
      "outputs": [
        {
          "output_type": "stream",
          "name": "stdout",
          "text": [
            "Looking in indexes: https://pypi.org/simple, https://us-python.pkg.dev/colab-wheels/public/simple/\n",
            "Collecting scikit-learn\n",
            "  Downloading scikit_learn-1.0.2-cp37-cp37m-manylinux_2_17_x86_64.manylinux2014_x86_64.whl (24.8 MB)\n",
            "\u001b[K     |████████████████████████████████| 24.8 MB 1.4 MB/s \n",
            "\u001b[?25hRequirement already satisfied: threadpoolctl>=2.0.0 in /usr/local/lib/python3.7/dist-packages (from scikit-learn) (3.1.0)\n",
            "Requirement already satisfied: scipy>=1.1.0 in /usr/local/lib/python3.7/dist-packages (from scikit-learn) (1.7.3)\n",
            "Requirement already satisfied: numpy>=1.14.6 in /usr/local/lib/python3.7/dist-packages (from scikit-learn) (1.21.6)\n",
            "Requirement already satisfied: joblib>=0.11 in /usr/local/lib/python3.7/dist-packages (from scikit-learn) (1.2.0)\n",
            "Installing collected packages: scikit-learn\n",
            "Successfully installed scikit-learn-1.0.2\n"
          ]
        }
      ],
      "source": [
        "pip install scikit-learn"
      ]
    },
    {
      "cell_type": "code",
      "execution_count": 9,
      "metadata": {
        "colab": {
          "base_uri": "https://localhost:8080/"
        },
        "id": "bxGhVTfiN6ge",
        "outputId": "40096c98-8bcc-4120-a023-f3d27a97d3bf"
      },
      "outputs": [
        {
          "output_type": "stream",
          "name": "stdout",
          "text": [
            "Looking in indexes: https://pypi.org/simple, https://us-python.pkg.dev/colab-wheels/public/simple/\n",
            "Requirement already satisfied: librosa in /usr/local/lib/python3.7/dist-packages (0.8.1)\n",
            "Requirement already satisfied: numpy>=1.15.0 in /usr/local/lib/python3.7/dist-packages (from librosa) (1.21.6)\n",
            "Requirement already satisfied: audioread>=2.0.0 in /usr/local/lib/python3.7/dist-packages (from librosa) (3.0.0)\n",
            "Requirement already satisfied: scipy>=1.0.0 in /usr/local/lib/python3.7/dist-packages (from librosa) (1.7.3)\n",
            "Requirement already satisfied: decorator>=3.0.0 in /usr/local/lib/python3.7/dist-packages (from librosa) (4.4.2)\n",
            "Requirement already satisfied: packaging>=20.0 in /usr/local/lib/python3.7/dist-packages (from librosa) (21.3)\n",
            "Requirement already satisfied: numba>=0.43.0 in /usr/local/lib/python3.7/dist-packages (from librosa) (0.56.3)\n",
            "Requirement already satisfied: resampy>=0.2.2 in /usr/local/lib/python3.7/dist-packages (from librosa) (0.4.2)\n",
            "Requirement already satisfied: pooch>=1.0 in /usr/local/lib/python3.7/dist-packages (from librosa) (1.6.0)\n",
            "Requirement already satisfied: joblib>=0.14 in /usr/local/lib/python3.7/dist-packages (from librosa) (1.2.0)\n",
            "Requirement already satisfied: soundfile>=0.10.2 in /usr/local/lib/python3.7/dist-packages (from librosa) (0.11.0)\n",
            "Requirement already satisfied: scikit-learn!=0.19.0,>=0.14.0 in /usr/local/lib/python3.7/dist-packages (from librosa) (1.0.2)\n",
            "Requirement already satisfied: importlib-metadata in /usr/local/lib/python3.7/dist-packages (from numba>=0.43.0->librosa) (4.13.0)\n",
            "Requirement already satisfied: setuptools in /usr/local/lib/python3.7/dist-packages (from numba>=0.43.0->librosa) (57.4.0)\n",
            "Requirement already satisfied: llvmlite<0.40,>=0.39.0dev0 in /usr/local/lib/python3.7/dist-packages (from numba>=0.43.0->librosa) (0.39.1)\n",
            "Requirement already satisfied: pyparsing!=3.0.5,>=2.0.2 in /usr/local/lib/python3.7/dist-packages (from packaging>=20.0->librosa) (3.0.9)\n",
            "Requirement already satisfied: appdirs>=1.3.0 in /usr/local/lib/python3.7/dist-packages (from pooch>=1.0->librosa) (1.4.4)\n",
            "Requirement already satisfied: requests>=2.19.0 in /usr/local/lib/python3.7/dist-packages (from pooch>=1.0->librosa) (2.23.0)\n",
            "Requirement already satisfied: chardet<4,>=3.0.2 in /usr/local/lib/python3.7/dist-packages (from requests>=2.19.0->pooch>=1.0->librosa) (3.0.4)\n",
            "Requirement already satisfied: idna<3,>=2.5 in /usr/local/lib/python3.7/dist-packages (from requests>=2.19.0->pooch>=1.0->librosa) (2.10)\n",
            "Requirement already satisfied: certifi>=2017.4.17 in /usr/local/lib/python3.7/dist-packages (from requests>=2.19.0->pooch>=1.0->librosa) (2022.9.24)\n",
            "Requirement already satisfied: urllib3!=1.25.0,!=1.25.1,<1.26,>=1.21.1 in /usr/local/lib/python3.7/dist-packages (from requests>=2.19.0->pooch>=1.0->librosa) (1.24.3)\n",
            "Requirement already satisfied: threadpoolctl>=2.0.0 in /usr/local/lib/python3.7/dist-packages (from scikit-learn!=0.19.0,>=0.14.0->librosa) (3.1.0)\n",
            "Requirement already satisfied: cffi>=1.0 in /usr/local/lib/python3.7/dist-packages (from soundfile>=0.10.2->librosa) (1.15.1)\n",
            "Requirement already satisfied: pycparser in /usr/local/lib/python3.7/dist-packages (from cffi>=1.0->soundfile>=0.10.2->librosa) (2.21)\n",
            "Requirement already satisfied: zipp>=0.5 in /usr/local/lib/python3.7/dist-packages (from importlib-metadata->numba>=0.43.0->librosa) (3.10.0)\n",
            "Requirement already satisfied: typing-extensions>=3.6.4 in /usr/local/lib/python3.7/dist-packages (from importlib-metadata->numba>=0.43.0->librosa) (4.1.1)\n"
          ]
        }
      ],
      "source": [
        "pip install librosa"
      ]
    },
    {
      "cell_type": "code",
      "execution_count": 10,
      "metadata": {
        "colab": {
          "base_uri": "https://localhost:8080/",
          "height": 1000
        },
        "id": "HmHglC1fOD0q",
        "outputId": "80cd172b-4a08-42b7-a49c-246d4fe867d7"
      },
      "outputs": [
        {
          "output_type": "stream",
          "name": "stdout",
          "text": [
            "Looking in indexes: https://pypi.org/simple, https://us-python.pkg.dev/colab-wheels/public/simple/\n",
            "Collecting pyAudioProcessing\n",
            "  Downloading pyAudioProcessing-1.1.13-py3-none-any.whl (1.0 MB)\n",
            "\u001b[K     |████████████████████████████████| 1.0 MB 7.9 MB/s \n",
            "\u001b[?25hCollecting scikit-learn==0.24.2\n",
            "  Downloading scikit_learn-0.24.2-cp37-cp37m-manylinux2010_x86_64.whl (22.3 MB)\n",
            "\u001b[K     |████████████████████████████████| 22.3 MB 82.0 MB/s \n",
            "\u001b[?25hRequirement already satisfied: pydub==0.25.1 in /usr/local/lib/python3.7/dist-packages (from pyAudioProcessing) (0.25.1)\n",
            "Collecting matplotlib==3.3.4\n",
            "  Downloading matplotlib-3.3.4-cp37-cp37m-manylinux1_x86_64.whl (11.5 MB)\n",
            "\u001b[K     |████████████████████████████████| 11.5 MB 40.7 MB/s \n",
            "\u001b[?25hRequirement already satisfied: ffmpeg==1.4 in /usr/local/lib/python3.7/dist-packages (from pyAudioProcessing) (1.4)\n",
            "Requirement already satisfied: numpy==1.21.6 in /usr/local/lib/python3.7/dist-packages (from pyAudioProcessing) (1.21.6)\n",
            "Collecting pytest==6.2.3\n",
            "  Downloading pytest-6.2.3-py3-none-any.whl (280 kB)\n",
            "\u001b[K     |████████████████████████████████| 280 kB 53.6 MB/s \n",
            "\u001b[?25hCollecting scipy==1.5.4\n",
            "  Downloading scipy-1.5.4-cp37-cp37m-manylinux1_x86_64.whl (25.9 MB)\n",
            "\u001b[K     |████████████████████████████████| 25.9 MB 1.5 MB/s \n",
            "\u001b[?25hRequirement already satisfied: cycler>=0.10 in /usr/local/lib/python3.7/dist-packages (from matplotlib==3.3.4->pyAudioProcessing) (0.11.0)\n",
            "Requirement already satisfied: pyparsing!=2.0.4,!=2.1.2,!=2.1.6,>=2.0.3 in /usr/local/lib/python3.7/dist-packages (from matplotlib==3.3.4->pyAudioProcessing) (3.0.9)\n",
            "Requirement already satisfied: kiwisolver>=1.0.1 in /usr/local/lib/python3.7/dist-packages (from matplotlib==3.3.4->pyAudioProcessing) (1.4.4)\n",
            "Requirement already satisfied: python-dateutil>=2.1 in /usr/local/lib/python3.7/dist-packages (from matplotlib==3.3.4->pyAudioProcessing) (2.8.2)\n",
            "Requirement already satisfied: pillow>=6.2.0 in /usr/local/lib/python3.7/dist-packages (from matplotlib==3.3.4->pyAudioProcessing) (7.1.2)\n",
            "Requirement already satisfied: py>=1.8.2 in /usr/local/lib/python3.7/dist-packages (from pytest==6.2.3->pyAudioProcessing) (1.11.0)\n",
            "Requirement already satisfied: attrs>=19.2.0 in /usr/local/lib/python3.7/dist-packages (from pytest==6.2.3->pyAudioProcessing) (22.1.0)\n",
            "Collecting iniconfig\n",
            "  Downloading iniconfig-1.1.1-py2.py3-none-any.whl (5.0 kB)\n",
            "Collecting pluggy<1.0.0a1,>=0.12\n",
            "  Downloading pluggy-0.13.1-py2.py3-none-any.whl (18 kB)\n",
            "Requirement already satisfied: importlib-metadata>=0.12 in /usr/local/lib/python3.7/dist-packages (from pytest==6.2.3->pyAudioProcessing) (4.13.0)\n",
            "Requirement already satisfied: packaging in /usr/local/lib/python3.7/dist-packages (from pytest==6.2.3->pyAudioProcessing) (21.3)\n",
            "Requirement already satisfied: toml in /usr/local/lib/python3.7/dist-packages (from pytest==6.2.3->pyAudioProcessing) (0.10.2)\n",
            "Requirement already satisfied: threadpoolctl>=2.0.0 in /usr/local/lib/python3.7/dist-packages (from scikit-learn==0.24.2->pyAudioProcessing) (3.1.0)\n",
            "Requirement already satisfied: joblib>=0.11 in /usr/local/lib/python3.7/dist-packages (from scikit-learn==0.24.2->pyAudioProcessing) (1.2.0)\n",
            "Requirement already satisfied: typing-extensions>=3.6.4 in /usr/local/lib/python3.7/dist-packages (from importlib-metadata>=0.12->pytest==6.2.3->pyAudioProcessing) (4.1.1)\n",
            "Requirement already satisfied: zipp>=0.5 in /usr/local/lib/python3.7/dist-packages (from importlib-metadata>=0.12->pytest==6.2.3->pyAudioProcessing) (3.10.0)\n",
            "Requirement already satisfied: six>=1.5 in /usr/local/lib/python3.7/dist-packages (from python-dateutil>=2.1->matplotlib==3.3.4->pyAudioProcessing) (1.15.0)\n",
            "Installing collected packages: scipy, pluggy, iniconfig, scikit-learn, pytest, matplotlib, pyAudioProcessing\n",
            "  Attempting uninstall: scipy\n",
            "    Found existing installation: scipy 1.7.3\n",
            "    Uninstalling scipy-1.7.3:\n",
            "      Successfully uninstalled scipy-1.7.3\n",
            "  Attempting uninstall: pluggy\n",
            "    Found existing installation: pluggy 0.7.1\n",
            "    Uninstalling pluggy-0.7.1:\n",
            "      Successfully uninstalled pluggy-0.7.1\n",
            "  Attempting uninstall: scikit-learn\n",
            "    Found existing installation: scikit-learn 1.0.2\n",
            "    Uninstalling scikit-learn-1.0.2:\n",
            "      Successfully uninstalled scikit-learn-1.0.2\n",
            "  Attempting uninstall: pytest\n",
            "    Found existing installation: pytest 3.6.4\n",
            "    Uninstalling pytest-3.6.4:\n",
            "      Successfully uninstalled pytest-3.6.4\n",
            "  Attempting uninstall: matplotlib\n",
            "    Found existing installation: matplotlib 3.2.2\n",
            "    Uninstalling matplotlib-3.2.2:\n",
            "      Successfully uninstalled matplotlib-3.2.2\n",
            "\u001b[31mERROR: pip's dependency resolver does not currently take into account all the packages that are installed. This behaviour is the source of the following dependency conflicts.\n",
            "yellowbrick 1.5 requires scikit-learn>=1.0.0, but you have scikit-learn 0.24.2 which is incompatible.\u001b[0m\n",
            "Successfully installed iniconfig-1.1.1 matplotlib-3.3.4 pluggy-0.13.1 pyAudioProcessing-1.1.13 pytest-6.2.3 scikit-learn-0.24.2 scipy-1.5.4\n"
          ]
        },
        {
          "output_type": "display_data",
          "data": {
            "application/vnd.colab-display-data+json": {
              "pip_warning": {
                "packages": [
                  "matplotlib",
                  "mpl_toolkits"
                ]
              }
            }
          },
          "metadata": {}
        }
      ],
      "source": [
        "pip install pyAudioProcessing"
      ]
    },
    {
      "cell_type": "code",
      "execution_count": 11,
      "metadata": {
        "id": "qnSxOsNek_HZ"
      },
      "outputs": [],
      "source": [
        "import numpy as np\n",
        "import pandas as pd\n",
        "import seaborn as sns\n",
        "import matplotlib as plt\n",
        "import itertools\n",
        "import os\n",
        "import sys\n",
        "import pywt\n",
        "import librosa\n",
        "import sklearn\n",
        "import scipy\n",
        "import scipy.io\n",
        "import scipy.io.wavfile\n",
        "from scipy import signal\n",
        "from scipy.stats import kurtosis, skew, tstd\n",
        "from scipy.signal import periodogram, welch, butter, lfilter, freqz\n",
        "from os import path\n",
        "from pydub import AudioSegment\n",
        "import tensorflow as tf\n",
        "from tensorflow import keras\n",
        "from keras import optimizers\n",
        "from keras.models import Model, load_model, Sequential\n",
        "from keras.layers import Input, Dense, Dropout, AlphaDropout, Activation, Flatten, LSTM\n",
        "from keras.callbacks import ModelCheckpoint, TensorBoard,EarlyStopping,ReduceLROnPlateau,ProgbarLogger\n",
        "from sklearn.model_selection import train_test_split, GridSearchCV\n",
        "from sklearn.metrics import confusion_matrix, precision_recall_curve, recall_score, classification_report, auc, roc_curve, precision_recall_fscore_support, f1_score, accuracy_score\n",
        "from sklearn.preprocessing import OneHotEncoder, MinMaxScaler, LabelEncoder\n",
        "from sklearn.linear_model import LogisticRegression\n",
        "from keras.utils import np_utils\n",
        "from keras.wrappers.scikit_learn import KerasClassifier\n",
        "from pyAudioProcessing.extract_features import get_features"
      ]
    },
    {
      "cell_type": "code",
      "execution_count": 12,
      "metadata": {
        "id": "JAwo4_o8kWps"
      },
      "outputs": [],
      "source": [
        "mdata = pd.read_csv('/content/drive/MyDrive/ReCirCor/training_data.csv')\n",
        "input_dir = '/content/drive/MyDrive/ReCirCor/training_data/training_data'"
      ]
    },
    {
      "cell_type": "code",
      "execution_count": 13,
      "metadata": {
        "id": "tQGgbkbEkWMC"
      },
      "outputs": [],
      "source": [
        "#Gets all the txt files\n",
        "def getfilenames(inputdir):\n",
        "    Fname = list()\n",
        "    Fname = sorted([fname for fname in os.listdir(inputdir) if not fname.startswith('.')and fname.endswith('.txt')])\n",
        "    \n",
        "    return Fname"
      ]
    },
    {
      "cell_type": "code",
      "execution_count": 14,
      "metadata": {
        "colab": {
          "base_uri": "https://localhost:8080/"
        },
        "id": "EVkWBerrOGYV",
        "outputId": "6693054e-d523-4a7a-eb5c-e79824b0f2cd"
      },
      "outputs": [
        {
          "output_type": "execute_result",
          "data": {
            "text/plain": [
              "23"
            ]
          },
          "metadata": {},
          "execution_count": 14
        }
      ],
      "source": [
        "#List of Labels - 0 for normal, 1 for murmur\n",
        "labels = [0,0,0,0,0,1,1,1,1,1,1,1,1,0,1,1,1,0,0,0,1,1,1]\n",
        "len(labels)"
      ]
    },
    {
      "cell_type": "code",
      "execution_count": 15,
      "metadata": {
        "id": "ZLsrJmWijLMi"
      },
      "outputs": [],
      "source": [
        "#They were originally named differently and I have renamed and numbered them for ease of access.\n",
        "#The michigan heart sound recordings are in mp3 format\n",
        "#The recordings are converted to wav format for easy processing as most python libraries require the audio format to be wav.\n",
        "\n",
        "def converttowav(filepath):\n",
        "  destinationpath = filepath.split('.')[0] + '.wav'\n",
        "  sound = AudioSegment.from_mp3(filepath)\n",
        "  sound.export(destinationpath, format = \"wav\")\n",
        "\n",
        "filepathslist = list()\n",
        "for i in range(23):\n",
        "  filepath = str(i+1) + '.mp3'\n",
        "  converttowav(filepath)\n",
        "  filepathslist.append(str(i+1)+'.wav')"
      ]
    },
    {
      "cell_type": "code",
      "execution_count": 16,
      "metadata": {
        "id": "lmO-BEaqma9y"
      },
      "outputs": [],
      "source": [
        "#Creating an empty dataframe with columns to store filenames and the respective labels\n",
        "dataframe = pd.DataFrame(columns = ['filename', 'labels'])"
      ]
    },
    {
      "cell_type": "code",
      "execution_count": 17,
      "metadata": {
        "colab": {
          "base_uri": "https://localhost:8080/"
        },
        "id": "pV5QoIa4tT8E",
        "outputId": "04ecbd2e-43ec-4eb6-941a-d1871dd2e328"
      },
      "outputs": [
        {
          "output_type": "execute_result",
          "data": {
            "text/plain": [
              "['1.wav',\n",
              " '2.wav',\n",
              " '3.wav',\n",
              " '4.wav',\n",
              " '5.wav',\n",
              " '6.wav',\n",
              " '7.wav',\n",
              " '8.wav',\n",
              " '9.wav',\n",
              " '10.wav',\n",
              " '11.wav',\n",
              " '12.wav',\n",
              " '13.wav',\n",
              " '14.wav',\n",
              " '15.wav',\n",
              " '16.wav',\n",
              " '17.wav',\n",
              " '18.wav',\n",
              " '19.wav',\n",
              " '20.wav',\n",
              " '21.wav',\n",
              " '22.wav',\n",
              " '23.wav']"
            ]
          },
          "metadata": {},
          "execution_count": 17
        }
      ],
      "source": [
        "filepathslist"
      ]
    },
    {
      "cell_type": "code",
      "execution_count": 18,
      "metadata": {
        "colab": {
          "base_uri": "https://localhost:8080/"
        },
        "id": "ByxRbYTMtVV1",
        "outputId": "e80ffdb0-a98b-4d83-c8f7-c0bc5909c5df"
      },
      "outputs": [
        {
          "output_type": "execute_result",
          "data": {
            "text/plain": [
              "[0, 0, 0, 0, 0, 1, 1, 1, 1, 1, 1, 1, 1, 0, 1, 1, 1, 0, 0, 0, 1, 1, 1]"
            ]
          },
          "metadata": {},
          "execution_count": 18
        }
      ],
      "source": [
        "labels"
      ]
    },
    {
      "cell_type": "code",
      "execution_count": 19,
      "metadata": {
        "colab": {
          "base_uri": "https://localhost:8080/"
        },
        "id": "u7fv7cJW-FLQ",
        "outputId": "e03f9951-c721-4486-b927-1e1c538b0501"
      },
      "outputs": [
        {
          "output_type": "execute_result",
          "data": {
            "text/plain": [
              "0"
            ]
          },
          "metadata": {},
          "execution_count": 19
        }
      ],
      "source": [
        "labels[18]"
      ]
    },
    {
      "cell_type": "code",
      "execution_count": 20,
      "metadata": {
        "id": "mvJtQAqAtZV1"
      },
      "outputs": [],
      "source": [
        "#Inserting filename and label values into dataframe\n",
        "dataframe['filename'] = filepathslist\n",
        "dataframe['labels'] = labels"
      ]
    },
    {
      "cell_type": "code",
      "execution_count": 21,
      "metadata": {
        "id": "YNrxwfvq6_xt"
      },
      "outputs": [],
      "source": [
        "dataframenew = pd.DataFrame(columns = ['new ID', 'wav filename', 'labels'])"
      ]
    },
    {
      "cell_type": "code",
      "execution_count": 22,
      "metadata": {
        "id": "gYjnj8Gl9ivz"
      },
      "outputs": [],
      "source": [
        "import random"
      ]
    },
    {
      "cell_type": "code",
      "execution_count": 23,
      "metadata": {
        "id": "7DJFj1aL8XQu"
      },
      "outputs": [],
      "source": [
        "newID = list()\n",
        "wavfilename = list()\n",
        "newlabels = list()\n",
        "for i in range(150):\n",
        "  x = random.randint(1,23)\n",
        "  newID.append(str(i+1))\n",
        "  wavfilename.append(str(x)+'.wav')\n",
        "  newlabels.append(labels[x-1])"
      ]
    },
    {
      "cell_type": "code",
      "execution_count": 24,
      "metadata": {
        "id": "8APCYUt8jreu"
      },
      "outputs": [],
      "source": [
        "#Get only murmur recordings\n",
        "def getrecmur(inputdir):\n",
        "    fname = getfilenames(inputdir)\n",
        "    items = []\n",
        "    rinfo = []\n",
        "    recf = []\n",
        "    recfile = []\n",
        "    for i in fname:\n",
        "        i = inputdir + '/' + i\n",
        "        with open(i, 'r') as f:\n",
        "            content = f.readlines()\n",
        "        numloc = int(content[0].split(' ')[1])\n",
        "        for i in range(numloc):\n",
        "            for p in range(len(content)):\n",
        "                t = content[p].split('\\n')\n",
        "                for it in t:\n",
        "                    if it.startswith('#Murmur:'):\n",
        "                        tar = it.split(': ')[1]\n",
        "                        if tar == 'Present':\n",
        "                          recinfo = content[i+1].split(' ')\n",
        "                          rinfo.append(recinfo)\n",
        "    for items in rinfo:\n",
        "        for i in range(len(items)):\n",
        "            if items[i].endswith('.wav'):\n",
        "                recfile = input_dir + '/' + items[i]\n",
        "        recf.append(recfile)\n",
        "    return rinfo, recf\n",
        "\n",
        "rin, ref = getrecmur(input_dir)"
      ]
    },
    {
      "cell_type": "code",
      "source": [
        "ref2 = list()\n",
        "reflabel = list()\n",
        "rfl = 1\n",
        "for i in range(100):\n",
        "  ref2.append(ref[i])\n",
        "  reflabel.append(rfl)"
      ],
      "metadata": {
        "id": "8mg5tyHsyKRj"
      },
      "execution_count": 25,
      "outputs": []
    },
    {
      "cell_type": "code",
      "execution_count": 26,
      "metadata": {
        "colab": {
          "base_uri": "https://localhost:8080/"
        },
        "id": "TXgRi2Tvkf35",
        "outputId": "9b66d9f8-647c-4ca0-dba3-83abdeff29a5"
      },
      "outputs": [
        {
          "output_type": "execute_result",
          "data": {
            "text/plain": [
              "616"
            ]
          },
          "metadata": {},
          "execution_count": 26
        }
      ],
      "source": [
        "len(rin)"
      ]
    },
    {
      "cell_type": "code",
      "execution_count": 27,
      "metadata": {
        "colab": {
          "base_uri": "https://localhost:8080/"
        },
        "id": "NvcBJLpskhLK",
        "outputId": "0bfac95b-7cef-4312-83e3-db765e0d0859"
      },
      "outputs": [
        {
          "output_type": "execute_result",
          "data": {
            "text/plain": [
              "['/content/drive/MyDrive/ReCirCor/training_data/training_data/13918_AV.wav',\n",
              " '/content/drive/MyDrive/ReCirCor/training_data/training_data/13918_PV.wav',\n",
              " '/content/drive/MyDrive/ReCirCor/training_data/training_data/13918_TV.wav',\n",
              " '/content/drive/MyDrive/ReCirCor/training_data/training_data/13918_MV.wav',\n",
              " '/content/drive/MyDrive/ReCirCor/training_data/training_data/14241_AV.wav',\n",
              " '/content/drive/MyDrive/ReCirCor/training_data/training_data/14241_PV.wav',\n",
              " '/content/drive/MyDrive/ReCirCor/training_data/training_data/14241_TV.wav',\n",
              " '/content/drive/MyDrive/ReCirCor/training_data/training_data/14241_MV.wav',\n",
              " '/content/drive/MyDrive/ReCirCor/training_data/training_data/29045_AV.wav',\n",
              " '/content/drive/MyDrive/ReCirCor/training_data/training_data/29045_PV.wav',\n",
              " '/content/drive/MyDrive/ReCirCor/training_data/training_data/29045_TV.wav',\n",
              " '/content/drive/MyDrive/ReCirCor/training_data/training_data/29045_MV.wav',\n",
              " '/content/drive/MyDrive/ReCirCor/training_data/training_data/33151_AV.wav',\n",
              " '/content/drive/MyDrive/ReCirCor/training_data/training_data/33151_PV.wav',\n",
              " '/content/drive/MyDrive/ReCirCor/training_data/training_data/33151_TV.wav',\n",
              " '/content/drive/MyDrive/ReCirCor/training_data/training_data/33151_MV.wav',\n",
              " '/content/drive/MyDrive/ReCirCor/training_data/training_data/36327_AV.wav',\n",
              " '/content/drive/MyDrive/ReCirCor/training_data/training_data/36327_PV.wav',\n",
              " '/content/drive/MyDrive/ReCirCor/training_data/training_data/36327_TV.wav',\n",
              " '/content/drive/MyDrive/ReCirCor/training_data/training_data/36327_MV.wav',\n",
              " '/content/drive/MyDrive/ReCirCor/training_data/training_data/40840_AV.wav',\n",
              " '/content/drive/MyDrive/ReCirCor/training_data/training_data/40840_PV.wav',\n",
              " '/content/drive/MyDrive/ReCirCor/training_data/training_data/40840_TV.wav',\n",
              " '/content/drive/MyDrive/ReCirCor/training_data/training_data/40840_MV.wav',\n",
              " '/content/drive/MyDrive/ReCirCor/training_data/training_data/44514_AV.wav',\n",
              " '/content/drive/MyDrive/ReCirCor/training_data/training_data/44514_PV.wav',\n",
              " '/content/drive/MyDrive/ReCirCor/training_data/training_data/44514_TV.wav',\n",
              " '/content/drive/MyDrive/ReCirCor/training_data/training_data/44514_MV.wav',\n",
              " '/content/drive/MyDrive/ReCirCor/training_data/training_data/45843_AV.wav',\n",
              " '/content/drive/MyDrive/ReCirCor/training_data/training_data/45843_PV.wav',\n",
              " '/content/drive/MyDrive/ReCirCor/training_data/training_data/45843_TV.wav',\n",
              " '/content/drive/MyDrive/ReCirCor/training_data/training_data/45843_MV.wav',\n",
              " '/content/drive/MyDrive/ReCirCor/training_data/training_data/46065_AV.wav',\n",
              " '/content/drive/MyDrive/ReCirCor/training_data/training_data/46065_PV.wav',\n",
              " '/content/drive/MyDrive/ReCirCor/training_data/training_data/46065_TV.wav',\n",
              " '/content/drive/MyDrive/ReCirCor/training_data/training_data/46065_MV.wav',\n",
              " '/content/drive/MyDrive/ReCirCor/training_data/training_data/46579_AV.wav',\n",
              " '/content/drive/MyDrive/ReCirCor/training_data/training_data/46579_PV.wav',\n",
              " '/content/drive/MyDrive/ReCirCor/training_data/training_data/46579_TV.wav',\n",
              " '/content/drive/MyDrive/ReCirCor/training_data/training_data/46579_MV.wav',\n",
              " '/content/drive/MyDrive/ReCirCor/training_data/training_data/46778_MV.wav',\n",
              " '/content/drive/MyDrive/ReCirCor/training_data/training_data/47002_AV.wav',\n",
              " '/content/drive/MyDrive/ReCirCor/training_data/training_data/47002_MV.wav',\n",
              " '/content/drive/MyDrive/ReCirCor/training_data/training_data/49572_PV.wav',\n",
              " '/content/drive/MyDrive/ReCirCor/training_data/training_data/49572_TV.wav',\n",
              " '/content/drive/MyDrive/ReCirCor/training_data/training_data/49572_MV.wav',\n",
              " '/content/drive/MyDrive/ReCirCor/training_data/training_data/49574_AV.wav',\n",
              " '/content/drive/MyDrive/ReCirCor/training_data/training_data/49574_PV.wav',\n",
              " '/content/drive/MyDrive/ReCirCor/training_data/training_data/49574_TV.wav',\n",
              " '/content/drive/MyDrive/ReCirCor/training_data/training_data/49574_MV.wav',\n",
              " '/content/drive/MyDrive/ReCirCor/training_data/training_data/49595_AV.wav',\n",
              " '/content/drive/MyDrive/ReCirCor/training_data/training_data/49595_MV.wav',\n",
              " '/content/drive/MyDrive/ReCirCor/training_data/training_data/49627_AV.wav',\n",
              " '/content/drive/MyDrive/ReCirCor/training_data/training_data/49627_PV.wav',\n",
              " '/content/drive/MyDrive/ReCirCor/training_data/training_data/49627_TV.wav',\n",
              " '/content/drive/MyDrive/ReCirCor/training_data/training_data/49627_MV.wav',\n",
              " '/content/drive/MyDrive/ReCirCor/training_data/training_data/49628_AV.wav',\n",
              " '/content/drive/MyDrive/ReCirCor/training_data/training_data/49628_PV.wav',\n",
              " '/content/drive/MyDrive/ReCirCor/training_data/training_data/49628_TV.wav',\n",
              " '/content/drive/MyDrive/ReCirCor/training_data/training_data/49628_MV.wav',\n",
              " '/content/drive/MyDrive/ReCirCor/training_data/training_data/49630_AV.wav',\n",
              " '/content/drive/MyDrive/ReCirCor/training_data/training_data/49630_PV.wav',\n",
              " '/content/drive/MyDrive/ReCirCor/training_data/training_data/49630_TV.wav',\n",
              " '/content/drive/MyDrive/ReCirCor/training_data/training_data/49630_MV.wav',\n",
              " '/content/drive/MyDrive/ReCirCor/training_data/training_data/49691_AV.wav',\n",
              " '/content/drive/MyDrive/ReCirCor/training_data/training_data/49691_PV.wav',\n",
              " '/content/drive/MyDrive/ReCirCor/training_data/training_data/49691_TV.wav',\n",
              " '/content/drive/MyDrive/ReCirCor/training_data/training_data/49691_MV.wav',\n",
              " '/content/drive/MyDrive/ReCirCor/training_data/training_data/49712_AV.wav',\n",
              " '/content/drive/MyDrive/ReCirCor/training_data/training_data/49712_PV.wav',\n",
              " '/content/drive/MyDrive/ReCirCor/training_data/training_data/49712_TV.wav',\n",
              " '/content/drive/MyDrive/ReCirCor/training_data/training_data/49712_MV.wav',\n",
              " '/content/drive/MyDrive/ReCirCor/training_data/training_data/49748_AV_1.wav',\n",
              " '/content/drive/MyDrive/ReCirCor/training_data/training_data/49748_AV_2.wav',\n",
              " '/content/drive/MyDrive/ReCirCor/training_data/training_data/49748_PV_1.wav',\n",
              " '/content/drive/MyDrive/ReCirCor/training_data/training_data/49748_PV_2.wav',\n",
              " '/content/drive/MyDrive/ReCirCor/training_data/training_data/49748_TV.wav',\n",
              " '/content/drive/MyDrive/ReCirCor/training_data/training_data/49748_MV.wav',\n",
              " '/content/drive/MyDrive/ReCirCor/training_data/training_data/49751_AV.wav',\n",
              " '/content/drive/MyDrive/ReCirCor/training_data/training_data/49751_PV.wav',\n",
              " '/content/drive/MyDrive/ReCirCor/training_data/training_data/49751_TV.wav',\n",
              " '/content/drive/MyDrive/ReCirCor/training_data/training_data/49751_MV.wav',\n",
              " '/content/drive/MyDrive/ReCirCor/training_data/training_data/49754_AV.wav',\n",
              " '/content/drive/MyDrive/ReCirCor/training_data/training_data/49754_PV.wav',\n",
              " '/content/drive/MyDrive/ReCirCor/training_data/training_data/49754_TV.wav',\n",
              " '/content/drive/MyDrive/ReCirCor/training_data/training_data/49754_MV.wav',\n",
              " '/content/drive/MyDrive/ReCirCor/training_data/training_data/49821_AV.wav',\n",
              " '/content/drive/MyDrive/ReCirCor/training_data/training_data/49821_PV.wav',\n",
              " '/content/drive/MyDrive/ReCirCor/training_data/training_data/49821_TV.wav',\n",
              " '/content/drive/MyDrive/ReCirCor/training_data/training_data/49821_MV.wav',\n",
              " '/content/drive/MyDrive/ReCirCor/training_data/training_data/49823_PV.wav',\n",
              " '/content/drive/MyDrive/ReCirCor/training_data/training_data/49823_TV.wav',\n",
              " '/content/drive/MyDrive/ReCirCor/training_data/training_data/49823_MV.wav',\n",
              " '/content/drive/MyDrive/ReCirCor/training_data/training_data/49824_AV.wav',\n",
              " '/content/drive/MyDrive/ReCirCor/training_data/training_data/49824_PV.wav',\n",
              " '/content/drive/MyDrive/ReCirCor/training_data/training_data/49824_MV.wav',\n",
              " '/content/drive/MyDrive/ReCirCor/training_data/training_data/49838_MV.wav',\n",
              " '/content/drive/MyDrive/ReCirCor/training_data/training_data/49850_AV.wav',\n",
              " '/content/drive/MyDrive/ReCirCor/training_data/training_data/49850_MV.wav',\n",
              " '/content/drive/MyDrive/ReCirCor/training_data/training_data/49897_AV.wav',\n",
              " '/content/drive/MyDrive/ReCirCor/training_data/training_data/49897_PV.wav',\n",
              " '/content/drive/MyDrive/ReCirCor/training_data/training_data/49897_TV.wav',\n",
              " '/content/drive/MyDrive/ReCirCor/training_data/training_data/49897_MV.wav',\n",
              " '/content/drive/MyDrive/ReCirCor/training_data/training_data/49900_AV.wav',\n",
              " '/content/drive/MyDrive/ReCirCor/training_data/training_data/49900_MV.wav',\n",
              " '/content/drive/MyDrive/ReCirCor/training_data/training_data/49931_AV.wav',\n",
              " '/content/drive/MyDrive/ReCirCor/training_data/training_data/49931_PV.wav',\n",
              " '/content/drive/MyDrive/ReCirCor/training_data/training_data/49931_TV.wav',\n",
              " '/content/drive/MyDrive/ReCirCor/training_data/training_data/49966_MV.wav',\n",
              " '/content/drive/MyDrive/ReCirCor/training_data/training_data/49989_PV.wav',\n",
              " '/content/drive/MyDrive/ReCirCor/training_data/training_data/49989_MV.wav',\n",
              " '/content/drive/MyDrive/ReCirCor/training_data/training_data/49994_AV.wav',\n",
              " '/content/drive/MyDrive/ReCirCor/training_data/training_data/49994_PV.wav',\n",
              " '/content/drive/MyDrive/ReCirCor/training_data/training_data/49994_TV.wav',\n",
              " '/content/drive/MyDrive/ReCirCor/training_data/training_data/49994_MV.wav',\n",
              " '/content/drive/MyDrive/ReCirCor/training_data/training_data/50054_AV.wav',\n",
              " '/content/drive/MyDrive/ReCirCor/training_data/training_data/50054_PV.wav',\n",
              " '/content/drive/MyDrive/ReCirCor/training_data/training_data/50054_TV.wav',\n",
              " '/content/drive/MyDrive/ReCirCor/training_data/training_data/50054_MV.wav',\n",
              " '/content/drive/MyDrive/ReCirCor/training_data/training_data/50056_AV.wav',\n",
              " '/content/drive/MyDrive/ReCirCor/training_data/training_data/50056_PV.wav',\n",
              " '/content/drive/MyDrive/ReCirCor/training_data/training_data/50056_TV.wav',\n",
              " '/content/drive/MyDrive/ReCirCor/training_data/training_data/50056_MV.wav',\n",
              " '/content/drive/MyDrive/ReCirCor/training_data/training_data/50099_PV.wav',\n",
              " '/content/drive/MyDrive/ReCirCor/training_data/training_data/50099_TV.wav',\n",
              " '/content/drive/MyDrive/ReCirCor/training_data/training_data/50099_MV.wav',\n",
              " '/content/drive/MyDrive/ReCirCor/training_data/training_data/50115_AV.wav',\n",
              " '/content/drive/MyDrive/ReCirCor/training_data/training_data/50115_PV_1.wav',\n",
              " '/content/drive/MyDrive/ReCirCor/training_data/training_data/50115_PV_2.wav',\n",
              " '/content/drive/MyDrive/ReCirCor/training_data/training_data/50115_TV_1.wav',\n",
              " '/content/drive/MyDrive/ReCirCor/training_data/training_data/50115_TV_2.wav',\n",
              " '/content/drive/MyDrive/ReCirCor/training_data/training_data/50115_MV.wav',\n",
              " '/content/drive/MyDrive/ReCirCor/training_data/training_data/50118_PV.wav',\n",
              " '/content/drive/MyDrive/ReCirCor/training_data/training_data/50118_TV.wav',\n",
              " '/content/drive/MyDrive/ReCirCor/training_data/training_data/50118_MV.wav',\n",
              " '/content/drive/MyDrive/ReCirCor/training_data/training_data/50127_AV.wav',\n",
              " '/content/drive/MyDrive/ReCirCor/training_data/training_data/50127_PV.wav',\n",
              " '/content/drive/MyDrive/ReCirCor/training_data/training_data/50127_TV.wav',\n",
              " '/content/drive/MyDrive/ReCirCor/training_data/training_data/50127_MV.wav',\n",
              " '/content/drive/MyDrive/ReCirCor/training_data/training_data/50129_AV.wav',\n",
              " '/content/drive/MyDrive/ReCirCor/training_data/training_data/50129_PV.wav',\n",
              " '/content/drive/MyDrive/ReCirCor/training_data/training_data/50129_TV.wav',\n",
              " '/content/drive/MyDrive/ReCirCor/training_data/training_data/50129_MV.wav',\n",
              " '/content/drive/MyDrive/ReCirCor/training_data/training_data/50136_AV.wav',\n",
              " '/content/drive/MyDrive/ReCirCor/training_data/training_data/50136_MV.wav',\n",
              " '/content/drive/MyDrive/ReCirCor/training_data/training_data/50138_AV.wav',\n",
              " '/content/drive/MyDrive/ReCirCor/training_data/training_data/50138_MV.wav',\n",
              " '/content/drive/MyDrive/ReCirCor/training_data/training_data/50149_PV.wav',\n",
              " '/content/drive/MyDrive/ReCirCor/training_data/training_data/50149_MV.wav',\n",
              " '/content/drive/MyDrive/ReCirCor/training_data/training_data/50150_AV.wav',\n",
              " '/content/drive/MyDrive/ReCirCor/training_data/training_data/50150_PV.wav',\n",
              " '/content/drive/MyDrive/ReCirCor/training_data/training_data/50150_TV.wav',\n",
              " '/content/drive/MyDrive/ReCirCor/training_data/training_data/50150_MV.wav',\n",
              " '/content/drive/MyDrive/ReCirCor/training_data/training_data/50159_PV.wav',\n",
              " '/content/drive/MyDrive/ReCirCor/training_data/training_data/50159_TV.wav',\n",
              " '/content/drive/MyDrive/ReCirCor/training_data/training_data/50159_MV.wav',\n",
              " '/content/drive/MyDrive/ReCirCor/training_data/training_data/50161_PV.wav',\n",
              " '/content/drive/MyDrive/ReCirCor/training_data/training_data/50161_TV.wav',\n",
              " '/content/drive/MyDrive/ReCirCor/training_data/training_data/50161_MV.wav',\n",
              " '/content/drive/MyDrive/ReCirCor/training_data/training_data/50209_AV.wav',\n",
              " '/content/drive/MyDrive/ReCirCor/training_data/training_data/50209_PV.wav',\n",
              " '/content/drive/MyDrive/ReCirCor/training_data/training_data/50209_TV.wav',\n",
              " '/content/drive/MyDrive/ReCirCor/training_data/training_data/50209_MV.wav',\n",
              " '/content/drive/MyDrive/ReCirCor/training_data/training_data/50220_AV.wav',\n",
              " '/content/drive/MyDrive/ReCirCor/training_data/training_data/50220_MV.wav',\n",
              " '/content/drive/MyDrive/ReCirCor/training_data/training_data/50221_AV.wav',\n",
              " '/content/drive/MyDrive/ReCirCor/training_data/training_data/50221_MV.wav',\n",
              " '/content/drive/MyDrive/ReCirCor/training_data/training_data/50229_AV.wav',\n",
              " '/content/drive/MyDrive/ReCirCor/training_data/training_data/50229_PV.wav',\n",
              " '/content/drive/MyDrive/ReCirCor/training_data/training_data/50229_TV.wav',\n",
              " '/content/drive/MyDrive/ReCirCor/training_data/training_data/50229_MV.wav',\n",
              " '/content/drive/MyDrive/ReCirCor/training_data/training_data/50233_AV.wav',\n",
              " '/content/drive/MyDrive/ReCirCor/training_data/training_data/50233_PV.wav',\n",
              " '/content/drive/MyDrive/ReCirCor/training_data/training_data/50233_TV.wav',\n",
              " '/content/drive/MyDrive/ReCirCor/training_data/training_data/50233_MV.wav',\n",
              " '/content/drive/MyDrive/ReCirCor/training_data/training_data/50238_AV.wav',\n",
              " '/content/drive/MyDrive/ReCirCor/training_data/training_data/50238_PV.wav',\n",
              " '/content/drive/MyDrive/ReCirCor/training_data/training_data/50238_TV.wav',\n",
              " '/content/drive/MyDrive/ReCirCor/training_data/training_data/50238_MV.wav',\n",
              " '/content/drive/MyDrive/ReCirCor/training_data/training_data/50256_AV.wav',\n",
              " '/content/drive/MyDrive/ReCirCor/training_data/training_data/50256_PV.wav',\n",
              " '/content/drive/MyDrive/ReCirCor/training_data/training_data/50256_TV.wav',\n",
              " '/content/drive/MyDrive/ReCirCor/training_data/training_data/50256_MV.wav',\n",
              " '/content/drive/MyDrive/ReCirCor/training_data/training_data/50258_PV.wav',\n",
              " '/content/drive/MyDrive/ReCirCor/training_data/training_data/50258_TV.wav',\n",
              " '/content/drive/MyDrive/ReCirCor/training_data/training_data/50258_MV.wav',\n",
              " '/content/drive/MyDrive/ReCirCor/training_data/training_data/50260_AV.wav',\n",
              " '/content/drive/MyDrive/ReCirCor/training_data/training_data/50260_PV.wav',\n",
              " '/content/drive/MyDrive/ReCirCor/training_data/training_data/50260_TV.wav',\n",
              " '/content/drive/MyDrive/ReCirCor/training_data/training_data/50260_MV.wav',\n",
              " '/content/drive/MyDrive/ReCirCor/training_data/training_data/50277_AV.wav',\n",
              " '/content/drive/MyDrive/ReCirCor/training_data/training_data/50277_PV.wav',\n",
              " '/content/drive/MyDrive/ReCirCor/training_data/training_data/50277_TV.wav',\n",
              " '/content/drive/MyDrive/ReCirCor/training_data/training_data/50277_MV.wav',\n",
              " '/content/drive/MyDrive/ReCirCor/training_data/training_data/50280_AV.wav',\n",
              " '/content/drive/MyDrive/ReCirCor/training_data/training_data/50280_PV.wav',\n",
              " '/content/drive/MyDrive/ReCirCor/training_data/training_data/50280_TV.wav',\n",
              " '/content/drive/MyDrive/ReCirCor/training_data/training_data/50285_MV.wav',\n",
              " '/content/drive/MyDrive/ReCirCor/training_data/training_data/50289_AV.wav',\n",
              " '/content/drive/MyDrive/ReCirCor/training_data/training_data/50289_PV.wav',\n",
              " '/content/drive/MyDrive/ReCirCor/training_data/training_data/50289_TV.wav',\n",
              " '/content/drive/MyDrive/ReCirCor/training_data/training_data/50289_MV.wav',\n",
              " '/content/drive/MyDrive/ReCirCor/training_data/training_data/50319_AV.wav',\n",
              " '/content/drive/MyDrive/ReCirCor/training_data/training_data/50319_PV.wav',\n",
              " '/content/drive/MyDrive/ReCirCor/training_data/training_data/50319_TV.wav',\n",
              " '/content/drive/MyDrive/ReCirCor/training_data/training_data/50319_MV.wav',\n",
              " '/content/drive/MyDrive/ReCirCor/training_data/training_data/50326_AV.wav',\n",
              " '/content/drive/MyDrive/ReCirCor/training_data/training_data/50326_PV.wav',\n",
              " '/content/drive/MyDrive/ReCirCor/training_data/training_data/50326_TV.wav',\n",
              " '/content/drive/MyDrive/ReCirCor/training_data/training_data/50326_MV.wav',\n",
              " '/content/drive/MyDrive/ReCirCor/training_data/training_data/50331_AV.wav',\n",
              " '/content/drive/MyDrive/ReCirCor/training_data/training_data/50331_PV.wav',\n",
              " '/content/drive/MyDrive/ReCirCor/training_data/training_data/50331_TV.wav',\n",
              " '/content/drive/MyDrive/ReCirCor/training_data/training_data/50331_MV.wav',\n",
              " '/content/drive/MyDrive/ReCirCor/training_data/training_data/50332_AV.wav',\n",
              " '/content/drive/MyDrive/ReCirCor/training_data/training_data/50332_MV.wav',\n",
              " '/content/drive/MyDrive/ReCirCor/training_data/training_data/50629_AV.wav',\n",
              " '/content/drive/MyDrive/ReCirCor/training_data/training_data/50629_MV.wav',\n",
              " '/content/drive/MyDrive/ReCirCor/training_data/training_data/50656_AV.wav',\n",
              " '/content/drive/MyDrive/ReCirCor/training_data/training_data/50656_PV.wav',\n",
              " '/content/drive/MyDrive/ReCirCor/training_data/training_data/50656_TV_1.wav',\n",
              " '/content/drive/MyDrive/ReCirCor/training_data/training_data/50656_TV_2.wav',\n",
              " '/content/drive/MyDrive/ReCirCor/training_data/training_data/50656_MV.wav',\n",
              " '/content/drive/MyDrive/ReCirCor/training_data/training_data/50676_AV.wav',\n",
              " '/content/drive/MyDrive/ReCirCor/training_data/training_data/50676_PV.wav',\n",
              " '/content/drive/MyDrive/ReCirCor/training_data/training_data/50676_TV.wav',\n",
              " '/content/drive/MyDrive/ReCirCor/training_data/training_data/50676_MV.wav',\n",
              " '/content/drive/MyDrive/ReCirCor/training_data/training_data/50734_AV.wav',\n",
              " '/content/drive/MyDrive/ReCirCor/training_data/training_data/50734_PV.wav',\n",
              " '/content/drive/MyDrive/ReCirCor/training_data/training_data/50734_TV.wav',\n",
              " '/content/drive/MyDrive/ReCirCor/training_data/training_data/50734_MV.wav',\n",
              " '/content/drive/MyDrive/ReCirCor/training_data/training_data/50734_Phc.wav',\n",
              " '/content/drive/MyDrive/ReCirCor/training_data/training_data/50735_AV.wav',\n",
              " '/content/drive/MyDrive/ReCirCor/training_data/training_data/50735_PV.wav',\n",
              " '/content/drive/MyDrive/ReCirCor/training_data/training_data/50735_TV.wav',\n",
              " '/content/drive/MyDrive/ReCirCor/training_data/training_data/50735_MV.wav',\n",
              " '/content/drive/MyDrive/ReCirCor/training_data/training_data/50736_AV.wav',\n",
              " '/content/drive/MyDrive/ReCirCor/training_data/training_data/50736_PV.wav',\n",
              " '/content/drive/MyDrive/ReCirCor/training_data/training_data/50736_TV.wav',\n",
              " '/content/drive/MyDrive/ReCirCor/training_data/training_data/50744_AV.wav',\n",
              " '/content/drive/MyDrive/ReCirCor/training_data/training_data/50744_PV.wav',\n",
              " '/content/drive/MyDrive/ReCirCor/training_data/training_data/50744_TV.wav',\n",
              " '/content/drive/MyDrive/ReCirCor/training_data/training_data/50744_MV.wav',\n",
              " '/content/drive/MyDrive/ReCirCor/training_data/training_data/50746_AV.wav',\n",
              " '/content/drive/MyDrive/ReCirCor/training_data/training_data/50746_PV.wav',\n",
              " '/content/drive/MyDrive/ReCirCor/training_data/training_data/50746_TV.wav',\n",
              " '/content/drive/MyDrive/ReCirCor/training_data/training_data/50746_MV.wav',\n",
              " '/content/drive/MyDrive/ReCirCor/training_data/training_data/50757_AV.wav',\n",
              " '/content/drive/MyDrive/ReCirCor/training_data/training_data/50757_PV.wav',\n",
              " '/content/drive/MyDrive/ReCirCor/training_data/training_data/50757_TV.wav',\n",
              " '/content/drive/MyDrive/ReCirCor/training_data/training_data/50757_MV.wav',\n",
              " '/content/drive/MyDrive/ReCirCor/training_data/training_data/50781_AV.wav',\n",
              " '/content/drive/MyDrive/ReCirCor/training_data/training_data/50781_PV.wav',\n",
              " '/content/drive/MyDrive/ReCirCor/training_data/training_data/50781_TV.wav',\n",
              " '/content/drive/MyDrive/ReCirCor/training_data/training_data/50781_MV.wav',\n",
              " '/content/drive/MyDrive/ReCirCor/training_data/training_data/50790_AV.wav',\n",
              " '/content/drive/MyDrive/ReCirCor/training_data/training_data/50790_MV.wav',\n",
              " '/content/drive/MyDrive/ReCirCor/training_data/training_data/51064_MV.wav',\n",
              " '/content/drive/MyDrive/ReCirCor/training_data/training_data/55945_AV.wav',\n",
              " '/content/drive/MyDrive/ReCirCor/training_data/training_data/55945_PV.wav',\n",
              " '/content/drive/MyDrive/ReCirCor/training_data/training_data/55945_TV.wav',\n",
              " '/content/drive/MyDrive/ReCirCor/training_data/training_data/55945_MV.wav',\n",
              " '/content/drive/MyDrive/ReCirCor/training_data/training_data/57700_PV.wav',\n",
              " '/content/drive/MyDrive/ReCirCor/training_data/training_data/57700_TV.wav',\n",
              " '/content/drive/MyDrive/ReCirCor/training_data/training_data/57700_MV.wav',\n",
              " '/content/drive/MyDrive/ReCirCor/training_data/training_data/57706_AV.wav',\n",
              " '/content/drive/MyDrive/ReCirCor/training_data/training_data/57706_PV.wav',\n",
              " '/content/drive/MyDrive/ReCirCor/training_data/training_data/57706_TV.wav',\n",
              " '/content/drive/MyDrive/ReCirCor/training_data/training_data/57706_MV.wav',\n",
              " '/content/drive/MyDrive/ReCirCor/training_data/training_data/61117_AV.wav',\n",
              " '/content/drive/MyDrive/ReCirCor/training_data/training_data/61117_PV.wav',\n",
              " '/content/drive/MyDrive/ReCirCor/training_data/training_data/61117_TV.wav',\n",
              " '/content/drive/MyDrive/ReCirCor/training_data/training_data/61117_MV.wav',\n",
              " '/content/drive/MyDrive/ReCirCor/training_data/training_data/64256_PV.wav',\n",
              " '/content/drive/MyDrive/ReCirCor/training_data/training_data/64256_TV.wav',\n",
              " '/content/drive/MyDrive/ReCirCor/training_data/training_data/64256_MV.wav',\n",
              " '/content/drive/MyDrive/ReCirCor/training_data/training_data/68194_AV.wav',\n",
              " '/content/drive/MyDrive/ReCirCor/training_data/training_data/68194_PV.wav',\n",
              " '/content/drive/MyDrive/ReCirCor/training_data/training_data/68194_TV.wav',\n",
              " '/content/drive/MyDrive/ReCirCor/training_data/training_data/68194_MV.wav',\n",
              " '/content/drive/MyDrive/ReCirCor/training_data/training_data/68204_AV.wav',\n",
              " '/content/drive/MyDrive/ReCirCor/training_data/training_data/68204_PV.wav',\n",
              " '/content/drive/MyDrive/ReCirCor/training_data/training_data/68204_TV.wav',\n",
              " '/content/drive/MyDrive/ReCirCor/training_data/training_data/68204_MV.wav',\n",
              " '/content/drive/MyDrive/ReCirCor/training_data/training_data/68255_AV.wav',\n",
              " '/content/drive/MyDrive/ReCirCor/training_data/training_data/68255_PV.wav',\n",
              " '/content/drive/MyDrive/ReCirCor/training_data/training_data/68255_TV.wav',\n",
              " '/content/drive/MyDrive/ReCirCor/training_data/training_data/68255_MV.wav',\n",
              " '/content/drive/MyDrive/ReCirCor/training_data/training_data/68279_PV.wav',\n",
              " '/content/drive/MyDrive/ReCirCor/training_data/training_data/68279_TV.wav',\n",
              " '/content/drive/MyDrive/ReCirCor/training_data/training_data/68279_MV.wav',\n",
              " '/content/drive/MyDrive/ReCirCor/training_data/training_data/68303_AV.wav',\n",
              " '/content/drive/MyDrive/ReCirCor/training_data/training_data/68303_PV.wav',\n",
              " '/content/drive/MyDrive/ReCirCor/training_data/training_data/68303_TV.wav',\n",
              " '/content/drive/MyDrive/ReCirCor/training_data/training_data/68303_MV.wav',\n",
              " '/content/drive/MyDrive/ReCirCor/training_data/training_data/68306_AV.wav',\n",
              " '/content/drive/MyDrive/ReCirCor/training_data/training_data/68306_PV.wav',\n",
              " '/content/drive/MyDrive/ReCirCor/training_data/training_data/68306_TV.wav',\n",
              " '/content/drive/MyDrive/ReCirCor/training_data/training_data/68306_MV.wav',\n",
              " '/content/drive/MyDrive/ReCirCor/training_data/training_data/68337_AV.wav',\n",
              " '/content/drive/MyDrive/ReCirCor/training_data/training_data/68337_PV.wav',\n",
              " '/content/drive/MyDrive/ReCirCor/training_data/training_data/68337_TV.wav',\n",
              " '/content/drive/MyDrive/ReCirCor/training_data/training_data/68337_MV.wav',\n",
              " '/content/drive/MyDrive/ReCirCor/training_data/training_data/68363_AV.wav',\n",
              " '/content/drive/MyDrive/ReCirCor/training_data/training_data/68363_MV.wav',\n",
              " '/content/drive/MyDrive/ReCirCor/training_data/training_data/68374_AV.wav',\n",
              " '/content/drive/MyDrive/ReCirCor/training_data/training_data/68374_MV.wav',\n",
              " '/content/drive/MyDrive/ReCirCor/training_data/training_data/68379_AV.wav',\n",
              " '/content/drive/MyDrive/ReCirCor/training_data/training_data/68379_PV.wav',\n",
              " '/content/drive/MyDrive/ReCirCor/training_data/training_data/68379_TV.wav',\n",
              " '/content/drive/MyDrive/ReCirCor/training_data/training_data/68379_MV.wav',\n",
              " '/content/drive/MyDrive/ReCirCor/training_data/training_data/68423_AV.wav',\n",
              " '/content/drive/MyDrive/ReCirCor/training_data/training_data/68423_PV.wav',\n",
              " '/content/drive/MyDrive/ReCirCor/training_data/training_data/68423_TV.wav',\n",
              " '/content/drive/MyDrive/ReCirCor/training_data/training_data/68423_MV.wav',\n",
              " '/content/drive/MyDrive/ReCirCor/training_data/training_data/68425_AV.wav',\n",
              " '/content/drive/MyDrive/ReCirCor/training_data/training_data/68425_PV.wav',\n",
              " '/content/drive/MyDrive/ReCirCor/training_data/training_data/68425_TV.wav',\n",
              " '/content/drive/MyDrive/ReCirCor/training_data/training_data/68425_MV.wav',\n",
              " '/content/drive/MyDrive/ReCirCor/training_data/training_data/68432_AV.wav',\n",
              " '/content/drive/MyDrive/ReCirCor/training_data/training_data/68432_PV.wav',\n",
              " '/content/drive/MyDrive/ReCirCor/training_data/training_data/68432_TV.wav',\n",
              " '/content/drive/MyDrive/ReCirCor/training_data/training_data/68432_MV.wav',\n",
              " '/content/drive/MyDrive/ReCirCor/training_data/training_data/68435_AV.wav',\n",
              " '/content/drive/MyDrive/ReCirCor/training_data/training_data/68435_MV.wav',\n",
              " '/content/drive/MyDrive/ReCirCor/training_data/training_data/68444_AV.wav',\n",
              " '/content/drive/MyDrive/ReCirCor/training_data/training_data/68444_PV.wav',\n",
              " '/content/drive/MyDrive/ReCirCor/training_data/training_data/68444_TV.wav',\n",
              " '/content/drive/MyDrive/ReCirCor/training_data/training_data/68444_MV.wav',\n",
              " '/content/drive/MyDrive/ReCirCor/training_data/training_data/68456_AV.wav',\n",
              " '/content/drive/MyDrive/ReCirCor/training_data/training_data/68456_PV.wav',\n",
              " '/content/drive/MyDrive/ReCirCor/training_data/training_data/68456_TV.wav',\n",
              " '/content/drive/MyDrive/ReCirCor/training_data/training_data/68456_MV.wav',\n",
              " '/content/drive/MyDrive/ReCirCor/training_data/training_data/68487_AV.wav',\n",
              " '/content/drive/MyDrive/ReCirCor/training_data/training_data/68487_PV.wav',\n",
              " '/content/drive/MyDrive/ReCirCor/training_data/training_data/68487_TV.wav',\n",
              " '/content/drive/MyDrive/ReCirCor/training_data/training_data/68487_MV.wav',\n",
              " '/content/drive/MyDrive/ReCirCor/training_data/training_data/68560_AV.wav',\n",
              " '/content/drive/MyDrive/ReCirCor/training_data/training_data/68560_PV.wav',\n",
              " '/content/drive/MyDrive/ReCirCor/training_data/training_data/68560_TV.wav',\n",
              " '/content/drive/MyDrive/ReCirCor/training_data/training_data/68560_MV.wav',\n",
              " '/content/drive/MyDrive/ReCirCor/training_data/training_data/68567_AV.wav',\n",
              " '/content/drive/MyDrive/ReCirCor/training_data/training_data/68567_PV.wav',\n",
              " '/content/drive/MyDrive/ReCirCor/training_data/training_data/68567_TV.wav',\n",
              " '/content/drive/MyDrive/ReCirCor/training_data/training_data/68567_MV.wav',\n",
              " '/content/drive/MyDrive/ReCirCor/training_data/training_data/68582_AV.wav',\n",
              " '/content/drive/MyDrive/ReCirCor/training_data/training_data/68582_PV.wav',\n",
              " '/content/drive/MyDrive/ReCirCor/training_data/training_data/68582_TV.wav',\n",
              " '/content/drive/MyDrive/ReCirCor/training_data/training_data/68582_MV.wav',\n",
              " '/content/drive/MyDrive/ReCirCor/training_data/training_data/68708_AV.wav',\n",
              " '/content/drive/MyDrive/ReCirCor/training_data/training_data/68708_PV.wav',\n",
              " '/content/drive/MyDrive/ReCirCor/training_data/training_data/68708_TV.wav',\n",
              " '/content/drive/MyDrive/ReCirCor/training_data/training_data/68708_MV.wav',\n",
              " '/content/drive/MyDrive/ReCirCor/training_data/training_data/68740_AV.wav',\n",
              " '/content/drive/MyDrive/ReCirCor/training_data/training_data/68740_PV.wav',\n",
              " '/content/drive/MyDrive/ReCirCor/training_data/training_data/68740_TV.wav',\n",
              " '/content/drive/MyDrive/ReCirCor/training_data/training_data/68740_MV.wav',\n",
              " '/content/drive/MyDrive/ReCirCor/training_data/training_data/68874_AV.wav',\n",
              " '/content/drive/MyDrive/ReCirCor/training_data/training_data/68874_PV.wav',\n",
              " '/content/drive/MyDrive/ReCirCor/training_data/training_data/68874_TV.wav',\n",
              " '/content/drive/MyDrive/ReCirCor/training_data/training_data/68874_MV.wav',\n",
              " '/content/drive/MyDrive/ReCirCor/training_data/training_data/69068_AV.wav',\n",
              " '/content/drive/MyDrive/ReCirCor/training_data/training_data/69068_PV.wav',\n",
              " '/content/drive/MyDrive/ReCirCor/training_data/training_data/69068_TV.wav',\n",
              " '/content/drive/MyDrive/ReCirCor/training_data/training_data/69068_MV.wav',\n",
              " '/content/drive/MyDrive/ReCirCor/training_data/training_data/69079_AV.wav',\n",
              " '/content/drive/MyDrive/ReCirCor/training_data/training_data/69079_PV.wav',\n",
              " '/content/drive/MyDrive/ReCirCor/training_data/training_data/69079_TV.wav',\n",
              " '/content/drive/MyDrive/ReCirCor/training_data/training_data/69079_MV.wav',\n",
              " '/content/drive/MyDrive/ReCirCor/training_data/training_data/69093_AV.wav',\n",
              " '/content/drive/MyDrive/ReCirCor/training_data/training_data/69093_PV.wav',\n",
              " '/content/drive/MyDrive/ReCirCor/training_data/training_data/69093_TV.wav',\n",
              " '/content/drive/MyDrive/ReCirCor/training_data/training_data/69093_MV.wav',\n",
              " '/content/drive/MyDrive/ReCirCor/training_data/training_data/69096_AV.wav',\n",
              " '/content/drive/MyDrive/ReCirCor/training_data/training_data/69096_PV.wav',\n",
              " '/content/drive/MyDrive/ReCirCor/training_data/training_data/69096_TV.wav',\n",
              " '/content/drive/MyDrive/ReCirCor/training_data/training_data/69096_MV.wav',\n",
              " '/content/drive/MyDrive/ReCirCor/training_data/training_data/69120_AV.wav',\n",
              " '/content/drive/MyDrive/ReCirCor/training_data/training_data/69120_PV.wav',\n",
              " '/content/drive/MyDrive/ReCirCor/training_data/training_data/69120_TV.wav',\n",
              " '/content/drive/MyDrive/ReCirCor/training_data/training_data/69120_MV.wav',\n",
              " '/content/drive/MyDrive/ReCirCor/training_data/training_data/69147_AV.wav',\n",
              " '/content/drive/MyDrive/ReCirCor/training_data/training_data/69147_PV.wav',\n",
              " '/content/drive/MyDrive/ReCirCor/training_data/training_data/69147_TV.wav',\n",
              " '/content/drive/MyDrive/ReCirCor/training_data/training_data/69147_MV.wav',\n",
              " '/content/drive/MyDrive/ReCirCor/training_data/training_data/69155_PV.wav',\n",
              " '/content/drive/MyDrive/ReCirCor/training_data/training_data/69155_TV.wav',\n",
              " '/content/drive/MyDrive/ReCirCor/training_data/training_data/69155_MV.wav',\n",
              " '/content/drive/MyDrive/ReCirCor/training_data/training_data/72283_PV.wav',\n",
              " '/content/drive/MyDrive/ReCirCor/training_data/training_data/72283_TV.wav',\n",
              " '/content/drive/MyDrive/ReCirCor/training_data/training_data/72283_MV.wav',\n",
              " '/content/drive/MyDrive/ReCirCor/training_data/training_data/73497_AV.wav',\n",
              " '/content/drive/MyDrive/ReCirCor/training_data/training_data/73497_PV.wav',\n",
              " '/content/drive/MyDrive/ReCirCor/training_data/training_data/73497_TV.wav',\n",
              " '/content/drive/MyDrive/ReCirCor/training_data/training_data/73497_MV.wav',\n",
              " '/content/drive/MyDrive/ReCirCor/training_data/training_data/76240_AV.wav',\n",
              " '/content/drive/MyDrive/ReCirCor/training_data/training_data/76240_PV.wav',\n",
              " '/content/drive/MyDrive/ReCirCor/training_data/training_data/76240_TV.wav',\n",
              " '/content/drive/MyDrive/ReCirCor/training_data/training_data/76240_MV.wav',\n",
              " '/content/drive/MyDrive/ReCirCor/training_data/training_data/77373_AV.wav',\n",
              " '/content/drive/MyDrive/ReCirCor/training_data/training_data/77373_PV.wav',\n",
              " '/content/drive/MyDrive/ReCirCor/training_data/training_data/77373_TV.wav',\n",
              " '/content/drive/MyDrive/ReCirCor/training_data/training_data/77373_MV.wav',\n",
              " '/content/drive/MyDrive/ReCirCor/training_data/training_data/78280_AV.wav',\n",
              " '/content/drive/MyDrive/ReCirCor/training_data/training_data/78280_MV.wav',\n",
              " '/content/drive/MyDrive/ReCirCor/training_data/training_data/83094_MV.wav',\n",
              " '/content/drive/MyDrive/ReCirCor/training_data/training_data/84690_TV.wav',\n",
              " '/content/drive/MyDrive/ReCirCor/training_data/training_data/84690_MV.wav',\n",
              " '/content/drive/MyDrive/ReCirCor/training_data/training_data/84690_Phc.wav',\n",
              " '/content/drive/MyDrive/ReCirCor/training_data/training_data/84692_AV.wav',\n",
              " '/content/drive/MyDrive/ReCirCor/training_data/training_data/84692_PV.wav',\n",
              " '/content/drive/MyDrive/ReCirCor/training_data/training_data/84692_TV.wav',\n",
              " '/content/drive/MyDrive/ReCirCor/training_data/training_data/84692_MV.wav',\n",
              " '/content/drive/MyDrive/ReCirCor/training_data/training_data/84693_AV.wav',\n",
              " '/content/drive/MyDrive/ReCirCor/training_data/training_data/84693_PV.wav',\n",
              " '/content/drive/MyDrive/ReCirCor/training_data/training_data/84693_TV.wav',\n",
              " '/content/drive/MyDrive/ReCirCor/training_data/training_data/84693_MV.wav',\n",
              " '/content/drive/MyDrive/ReCirCor/training_data/training_data/84695_AV.wav',\n",
              " '/content/drive/MyDrive/ReCirCor/training_data/training_data/84695_PV.wav',\n",
              " '/content/drive/MyDrive/ReCirCor/training_data/training_data/84695_TV.wav',\n",
              " '/content/drive/MyDrive/ReCirCor/training_data/training_data/84695_MV.wav',\n",
              " '/content/drive/MyDrive/ReCirCor/training_data/training_data/84702_PV.wav',\n",
              " '/content/drive/MyDrive/ReCirCor/training_data/training_data/84702_TV.wav',\n",
              " '/content/drive/MyDrive/ReCirCor/training_data/training_data/84702_MV.wav',\n",
              " '/content/drive/MyDrive/ReCirCor/training_data/training_data/84714_AV.wav',\n",
              " '/content/drive/MyDrive/ReCirCor/training_data/training_data/84714_TV.wav',\n",
              " '/content/drive/MyDrive/ReCirCor/training_data/training_data/84714_MV.wav',\n",
              " '/content/drive/MyDrive/ReCirCor/training_data/training_data/84718_AV.wav',\n",
              " '/content/drive/MyDrive/ReCirCor/training_data/training_data/84718_PV.wav',\n",
              " '/content/drive/MyDrive/ReCirCor/training_data/training_data/84718_TV.wav',\n",
              " '/content/drive/MyDrive/ReCirCor/training_data/training_data/84718_MV.wav',\n",
              " '/content/drive/MyDrive/ReCirCor/training_data/training_data/84730_AV.wav',\n",
              " '/content/drive/MyDrive/ReCirCor/training_data/training_data/84730_PV.wav',\n",
              " '/content/drive/MyDrive/ReCirCor/training_data/training_data/84730_TV.wav',\n",
              " '/content/drive/MyDrive/ReCirCor/training_data/training_data/84730_MV.wav',\n",
              " '/content/drive/MyDrive/ReCirCor/training_data/training_data/84732_AV.wav',\n",
              " '/content/drive/MyDrive/ReCirCor/training_data/training_data/84732_MV.wav',\n",
              " '/content/drive/MyDrive/ReCirCor/training_data/training_data/84751_AV.wav',\n",
              " '/content/drive/MyDrive/ReCirCor/training_data/training_data/84751_PV.wav',\n",
              " '/content/drive/MyDrive/ReCirCor/training_data/training_data/84751_TV.wav',\n",
              " '/content/drive/MyDrive/ReCirCor/training_data/training_data/84751_MV.wav',\n",
              " '/content/drive/MyDrive/ReCirCor/training_data/training_data/84786_AV.wav',\n",
              " '/content/drive/MyDrive/ReCirCor/training_data/training_data/84786_PV.wav',\n",
              " '/content/drive/MyDrive/ReCirCor/training_data/training_data/84786_MV.wav',\n",
              " '/content/drive/MyDrive/ReCirCor/training_data/training_data/84802_AV.wav',\n",
              " '/content/drive/MyDrive/ReCirCor/training_data/training_data/84802_PV.wav',\n",
              " '/content/drive/MyDrive/ReCirCor/training_data/training_data/84802_TV.wav',\n",
              " '/content/drive/MyDrive/ReCirCor/training_data/training_data/84802_MV.wav',\n",
              " '/content/drive/MyDrive/ReCirCor/training_data/training_data/84834_AV.wav',\n",
              " '/content/drive/MyDrive/ReCirCor/training_data/training_data/84834_PV.wav',\n",
              " '/content/drive/MyDrive/ReCirCor/training_data/training_data/84834_TV.wav',\n",
              " '/content/drive/MyDrive/ReCirCor/training_data/training_data/84834_MV.wav',\n",
              " '/content/drive/MyDrive/ReCirCor/training_data/training_data/84840_TV.wav',\n",
              " '/content/drive/MyDrive/ReCirCor/training_data/training_data/84840_MV.wav',\n",
              " '/content/drive/MyDrive/ReCirCor/training_data/training_data/84853_AV.wav',\n",
              " '/content/drive/MyDrive/ReCirCor/training_data/training_data/84853_PV.wav',\n",
              " '/content/drive/MyDrive/ReCirCor/training_data/training_data/84853_TV.wav',\n",
              " '/content/drive/MyDrive/ReCirCor/training_data/training_data/84853_MV.wav',\n",
              " '/content/drive/MyDrive/ReCirCor/training_data/training_data/84854_AV.wav',\n",
              " '/content/drive/MyDrive/ReCirCor/training_data/training_data/84854_PV.wav',\n",
              " '/content/drive/MyDrive/ReCirCor/training_data/training_data/84854_TV.wav',\n",
              " '/content/drive/MyDrive/ReCirCor/training_data/training_data/84854_MV.wav',\n",
              " '/content/drive/MyDrive/ReCirCor/training_data/training_data/84857_AV.wav',\n",
              " '/content/drive/MyDrive/ReCirCor/training_data/training_data/84857_MV.wav',\n",
              " '/content/drive/MyDrive/ReCirCor/training_data/training_data/84863_AV.wav',\n",
              " '/content/drive/MyDrive/ReCirCor/training_data/training_data/84863_PV.wav',\n",
              " '/content/drive/MyDrive/ReCirCor/training_data/training_data/84863_TV.wav',\n",
              " '/content/drive/MyDrive/ReCirCor/training_data/training_data/84863_MV.wav',\n",
              " '/content/drive/MyDrive/ReCirCor/training_data/training_data/84864_AV.wav',\n",
              " '/content/drive/MyDrive/ReCirCor/training_data/training_data/84864_PV.wav',\n",
              " '/content/drive/MyDrive/ReCirCor/training_data/training_data/84864_TV.wav',\n",
              " '/content/drive/MyDrive/ReCirCor/training_data/training_data/84864_MV.wav',\n",
              " '/content/drive/MyDrive/ReCirCor/training_data/training_data/84865_AV.wav',\n",
              " '/content/drive/MyDrive/ReCirCor/training_data/training_data/84865_PV.wav',\n",
              " '/content/drive/MyDrive/ReCirCor/training_data/training_data/84865_TV.wav',\n",
              " '/content/drive/MyDrive/ReCirCor/training_data/training_data/84865_MV.wav',\n",
              " '/content/drive/MyDrive/ReCirCor/training_data/training_data/84882_AV.wav',\n",
              " '/content/drive/MyDrive/ReCirCor/training_data/training_data/84882_PV.wav',\n",
              " '/content/drive/MyDrive/ReCirCor/training_data/training_data/84882_TV.wav',\n",
              " '/content/drive/MyDrive/ReCirCor/training_data/training_data/84882_MV.wav',\n",
              " '/content/drive/MyDrive/ReCirCor/training_data/training_data/84885_AV.wav',\n",
              " '/content/drive/MyDrive/ReCirCor/training_data/training_data/84885_MV.wav',\n",
              " '/content/drive/MyDrive/ReCirCor/training_data/training_data/84896_AV.wav',\n",
              " '/content/drive/MyDrive/ReCirCor/training_data/training_data/84896_PV.wav',\n",
              " '/content/drive/MyDrive/ReCirCor/training_data/training_data/84896_TV.wav',\n",
              " '/content/drive/MyDrive/ReCirCor/training_data/training_data/84896_MV.wav',\n",
              " '/content/drive/MyDrive/ReCirCor/training_data/training_data/84937_AV.wav',\n",
              " '/content/drive/MyDrive/ReCirCor/training_data/training_data/84937_PV.wav',\n",
              " '/content/drive/MyDrive/ReCirCor/training_data/training_data/84937_TV.wav',\n",
              " '/content/drive/MyDrive/ReCirCor/training_data/training_data/84937_MV.wav',\n",
              " '/content/drive/MyDrive/ReCirCor/training_data/training_data/84949_AV.wav',\n",
              " '/content/drive/MyDrive/ReCirCor/training_data/training_data/84949_PV.wav',\n",
              " '/content/drive/MyDrive/ReCirCor/training_data/training_data/84949_TV.wav',\n",
              " '/content/drive/MyDrive/ReCirCor/training_data/training_data/84949_MV.wav',\n",
              " '/content/drive/MyDrive/ReCirCor/training_data/training_data/85002_AV.wav',\n",
              " '/content/drive/MyDrive/ReCirCor/training_data/training_data/85002_PV.wav',\n",
              " '/content/drive/MyDrive/ReCirCor/training_data/training_data/85002_TV.wav',\n",
              " '/content/drive/MyDrive/ReCirCor/training_data/training_data/85002_MV.wav',\n",
              " '/content/drive/MyDrive/ReCirCor/training_data/training_data/85004_MV.wav',\n",
              " '/content/drive/MyDrive/ReCirCor/training_data/training_data/85024_AV.wav',\n",
              " '/content/drive/MyDrive/ReCirCor/training_data/training_data/85024_PV.wav',\n",
              " '/content/drive/MyDrive/ReCirCor/training_data/training_data/85024_TV.wav',\n",
              " '/content/drive/MyDrive/ReCirCor/training_data/training_data/85024_MV.wav',\n",
              " '/content/drive/MyDrive/ReCirCor/training_data/training_data/85030_AV.wav',\n",
              " '/content/drive/MyDrive/ReCirCor/training_data/training_data/85030_PV.wav',\n",
              " '/content/drive/MyDrive/ReCirCor/training_data/training_data/85030_TV.wav',\n",
              " '/content/drive/MyDrive/ReCirCor/training_data/training_data/85030_MV.wav',\n",
              " '/content/drive/MyDrive/ReCirCor/training_data/training_data/85031_AV.wav',\n",
              " '/content/drive/MyDrive/ReCirCor/training_data/training_data/85031_PV.wav',\n",
              " '/content/drive/MyDrive/ReCirCor/training_data/training_data/85031_TV.wav',\n",
              " '/content/drive/MyDrive/ReCirCor/training_data/training_data/85031_MV.wav',\n",
              " '/content/drive/MyDrive/ReCirCor/training_data/training_data/85036_AV.wav',\n",
              " '/content/drive/MyDrive/ReCirCor/training_data/training_data/85036_PV.wav',\n",
              " '/content/drive/MyDrive/ReCirCor/training_data/training_data/85036_TV.wav',\n",
              " '/content/drive/MyDrive/ReCirCor/training_data/training_data/85036_MV.wav',\n",
              " '/content/drive/MyDrive/ReCirCor/training_data/training_data/85037_AV.wav',\n",
              " '/content/drive/MyDrive/ReCirCor/training_data/training_data/85037_PV.wav',\n",
              " '/content/drive/MyDrive/ReCirCor/training_data/training_data/85037_TV.wav',\n",
              " '/content/drive/MyDrive/ReCirCor/training_data/training_data/85037_MV.wav',\n",
              " '/content/drive/MyDrive/ReCirCor/training_data/training_data/85042_AV.wav',\n",
              " '/content/drive/MyDrive/ReCirCor/training_data/training_data/85042_PV.wav',\n",
              " '/content/drive/MyDrive/ReCirCor/training_data/training_data/85042_TV.wav',\n",
              " '/content/drive/MyDrive/ReCirCor/training_data/training_data/85042_MV.wav',\n",
              " '/content/drive/MyDrive/ReCirCor/training_data/training_data/85055_AV.wav',\n",
              " '/content/drive/MyDrive/ReCirCor/training_data/training_data/85055_PV.wav',\n",
              " '/content/drive/MyDrive/ReCirCor/training_data/training_data/85055_TV.wav',\n",
              " '/content/drive/MyDrive/ReCirCor/training_data/training_data/85057_AV.wav',\n",
              " '/content/drive/MyDrive/ReCirCor/training_data/training_data/85057_PV.wav',\n",
              " '/content/drive/MyDrive/ReCirCor/training_data/training_data/85057_TV.wav',\n",
              " '/content/drive/MyDrive/ReCirCor/training_data/training_data/85057_MV.wav',\n",
              " '/content/drive/MyDrive/ReCirCor/training_data/training_data/85069_AV.wav',\n",
              " '/content/drive/MyDrive/ReCirCor/training_data/training_data/85069_PV.wav',\n",
              " '/content/drive/MyDrive/ReCirCor/training_data/training_data/85069_TV.wav',\n",
              " '/content/drive/MyDrive/ReCirCor/training_data/training_data/85069_MV.wav',\n",
              " '/content/drive/MyDrive/ReCirCor/training_data/training_data/85079_AV.wav',\n",
              " '/content/drive/MyDrive/ReCirCor/training_data/training_data/85079_PV.wav',\n",
              " '/content/drive/MyDrive/ReCirCor/training_data/training_data/85079_TV.wav',\n",
              " '/content/drive/MyDrive/ReCirCor/training_data/training_data/85079_MV.wav',\n",
              " '/content/drive/MyDrive/ReCirCor/training_data/training_data/85080_AV.wav',\n",
              " '/content/drive/MyDrive/ReCirCor/training_data/training_data/85080_PV.wav',\n",
              " '/content/drive/MyDrive/ReCirCor/training_data/training_data/85080_TV.wav',\n",
              " '/content/drive/MyDrive/ReCirCor/training_data/training_data/85080_MV.wav',\n",
              " '/content/drive/MyDrive/ReCirCor/training_data/training_data/85087_AV.wav',\n",
              " '/content/drive/MyDrive/ReCirCor/training_data/training_data/85087_PV.wav',\n",
              " '/content/drive/MyDrive/ReCirCor/training_data/training_data/85087_TV.wav',\n",
              " '/content/drive/MyDrive/ReCirCor/training_data/training_data/85087_MV.wav',\n",
              " '/content/drive/MyDrive/ReCirCor/training_data/training_data/85108_AV.wav',\n",
              " '/content/drive/MyDrive/ReCirCor/training_data/training_data/85108_PV.wav',\n",
              " '/content/drive/MyDrive/ReCirCor/training_data/training_data/85108_TV.wav',\n",
              " '/content/drive/MyDrive/ReCirCor/training_data/training_data/85108_MV.wav',\n",
              " '/content/drive/MyDrive/ReCirCor/training_data/training_data/85110_AV.wav',\n",
              " '/content/drive/MyDrive/ReCirCor/training_data/training_data/85110_PV.wav',\n",
              " '/content/drive/MyDrive/ReCirCor/training_data/training_data/85110_TV.wav',\n",
              " '/content/drive/MyDrive/ReCirCor/training_data/training_data/85110_MV.wav',\n",
              " '/content/drive/MyDrive/ReCirCor/training_data/training_data/85119_AV.wav',\n",
              " '/content/drive/MyDrive/ReCirCor/training_data/training_data/85119_PV.wav',\n",
              " '/content/drive/MyDrive/ReCirCor/training_data/training_data/85119_TV.wav',\n",
              " '/content/drive/MyDrive/ReCirCor/training_data/training_data/85119_MV.wav',\n",
              " '/content/drive/MyDrive/ReCirCor/training_data/training_data/85132_AV.wav',\n",
              " '/content/drive/MyDrive/ReCirCor/training_data/training_data/85132_PV.wav',\n",
              " '/content/drive/MyDrive/ReCirCor/training_data/training_data/85132_TV.wav',\n",
              " '/content/drive/MyDrive/ReCirCor/training_data/training_data/85132_MV.wav',\n",
              " '/content/drive/MyDrive/ReCirCor/training_data/training_data/85133_AV.wav',\n",
              " '/content/drive/MyDrive/ReCirCor/training_data/training_data/85133_PV.wav',\n",
              " '/content/drive/MyDrive/ReCirCor/training_data/training_data/85133_TV.wav',\n",
              " '/content/drive/MyDrive/ReCirCor/training_data/training_data/85133_MV.wav',\n",
              " '/content/drive/MyDrive/ReCirCor/training_data/training_data/85135_PV.wav',\n",
              " '/content/drive/MyDrive/ReCirCor/training_data/training_data/85135_TV.wav',\n",
              " '/content/drive/MyDrive/ReCirCor/training_data/training_data/85135_MV.wav',\n",
              " '/content/drive/MyDrive/ReCirCor/training_data/training_data/85145_MV.wav',\n",
              " '/content/drive/MyDrive/ReCirCor/training_data/training_data/85165_AV.wav',\n",
              " '/content/drive/MyDrive/ReCirCor/training_data/training_data/85165_MV.wav',\n",
              " '/content/drive/MyDrive/ReCirCor/training_data/training_data/85169_AV.wav',\n",
              " '/content/drive/MyDrive/ReCirCor/training_data/training_data/85169_PV.wav',\n",
              " '/content/drive/MyDrive/ReCirCor/training_data/training_data/85169_TV.wav',\n",
              " '/content/drive/MyDrive/ReCirCor/training_data/training_data/85169_MV.wav',\n",
              " '/content/drive/MyDrive/ReCirCor/training_data/training_data/85172_AV.wav',\n",
              " '/content/drive/MyDrive/ReCirCor/training_data/training_data/85172_PV.wav',\n",
              " '/content/drive/MyDrive/ReCirCor/training_data/training_data/85172_TV.wav',\n",
              " '/content/drive/MyDrive/ReCirCor/training_data/training_data/85172_MV.wav',\n",
              " '/content/drive/MyDrive/ReCirCor/training_data/training_data/85198_AV.wav',\n",
              " '/content/drive/MyDrive/ReCirCor/training_data/training_data/85198_PV.wav',\n",
              " '/content/drive/MyDrive/ReCirCor/training_data/training_data/85198_TV.wav',\n",
              " '/content/drive/MyDrive/ReCirCor/training_data/training_data/85198_MV.wav',\n",
              " '/content/drive/MyDrive/ReCirCor/training_data/training_data/85199_AV.wav',\n",
              " '/content/drive/MyDrive/ReCirCor/training_data/training_data/85199_PV.wav',\n",
              " '/content/drive/MyDrive/ReCirCor/training_data/training_data/85207_AV.wav',\n",
              " '/content/drive/MyDrive/ReCirCor/training_data/training_data/85207_PV.wav',\n",
              " '/content/drive/MyDrive/ReCirCor/training_data/training_data/85207_TV.wav',\n",
              " '/content/drive/MyDrive/ReCirCor/training_data/training_data/85207_MV.wav',\n",
              " '/content/drive/MyDrive/ReCirCor/training_data/training_data/85219_AV.wav',\n",
              " '/content/drive/MyDrive/ReCirCor/training_data/training_data/85219_PV.wav',\n",
              " '/content/drive/MyDrive/ReCirCor/training_data/training_data/85219_TV.wav',\n",
              " '/content/drive/MyDrive/ReCirCor/training_data/training_data/85219_MV.wav',\n",
              " '/content/drive/MyDrive/ReCirCor/training_data/training_data/85243_AV.wav',\n",
              " '/content/drive/MyDrive/ReCirCor/training_data/training_data/85243_PV.wav',\n",
              " '/content/drive/MyDrive/ReCirCor/training_data/training_data/85259_AV.wav',\n",
              " '/content/drive/MyDrive/ReCirCor/training_data/training_data/85259_MV.wav',\n",
              " '/content/drive/MyDrive/ReCirCor/training_data/training_data/85261_AV.wav',\n",
              " '/content/drive/MyDrive/ReCirCor/training_data/training_data/85261_PV.wav',\n",
              " '/content/drive/MyDrive/ReCirCor/training_data/training_data/85261_TV.wav',\n",
              " '/content/drive/MyDrive/ReCirCor/training_data/training_data/85261_MV.wav',\n",
              " '/content/drive/MyDrive/ReCirCor/training_data/training_data/85269_AV.wav',\n",
              " '/content/drive/MyDrive/ReCirCor/training_data/training_data/85269_PV.wav',\n",
              " '/content/drive/MyDrive/ReCirCor/training_data/training_data/85276_MV.wav',\n",
              " '/content/drive/MyDrive/ReCirCor/training_data/training_data/85306_AV.wav',\n",
              " '/content/drive/MyDrive/ReCirCor/training_data/training_data/85306_MV.wav',\n",
              " '/content/drive/MyDrive/ReCirCor/training_data/training_data/85339_MV.wav',\n",
              " '/content/drive/MyDrive/ReCirCor/training_data/training_data/85343_AV.wav',\n",
              " '/content/drive/MyDrive/ReCirCor/training_data/training_data/85343_PV.wav',\n",
              " '/content/drive/MyDrive/ReCirCor/training_data/training_data/85343_TV.wav',\n",
              " '/content/drive/MyDrive/ReCirCor/training_data/training_data/85343_MV.wav',\n",
              " '/content/drive/MyDrive/ReCirCor/training_data/training_data/9979_AV.wav',\n",
              " '/content/drive/MyDrive/ReCirCor/training_data/training_data/9979_PV.wav',\n",
              " '/content/drive/MyDrive/ReCirCor/training_data/training_data/9979_TV.wav',\n",
              " '/content/drive/MyDrive/ReCirCor/training_data/training_data/9979_MV.wav']"
            ]
          },
          "metadata": {},
          "execution_count": 27
        }
      ],
      "source": [
        "ref"
      ]
    },
    {
      "cell_type": "code",
      "execution_count": 28,
      "metadata": {
        "colab": {
          "base_uri": "https://localhost:8080/"
        },
        "id": "5dgVsly3oIG5",
        "outputId": "b0276f31-6c97-4dcd-fbc3-2216af418f86"
      },
      "outputs": [
        {
          "output_type": "execute_result",
          "data": {
            "text/plain": [
              "150"
            ]
          },
          "metadata": {},
          "execution_count": 28
        }
      ],
      "source": [
        "len(newID)"
      ]
    },
    {
      "cell_type": "code",
      "execution_count": 29,
      "metadata": {
        "colab": {
          "base_uri": "https://localhost:8080/",
          "height": 424
        },
        "id": "c68DLjv1_JAU",
        "outputId": "fd578de2-02a9-4309-8bab-5b4f391cff7e"
      },
      "outputs": [
        {
          "output_type": "execute_result",
          "data": {
            "text/plain": [
              "    new ID wav filename  labels\n",
              "0        1       10.wav       1\n",
              "1        2       17.wav       1\n",
              "2        3       18.wav       0\n",
              "3        4        2.wav       0\n",
              "4        5        8.wav       1\n",
              "..     ...          ...     ...\n",
              "145    146       15.wav       1\n",
              "146    147       20.wav       0\n",
              "147    148       19.wav       0\n",
              "148    149       17.wav       1\n",
              "149    150        4.wav       0\n",
              "\n",
              "[150 rows x 3 columns]"
            ],
            "text/html": [
              "\n",
              "  <div id=\"df-4290a9dd-f030-4767-b196-e92b9266710c\">\n",
              "    <div class=\"colab-df-container\">\n",
              "      <div>\n",
              "<style scoped>\n",
              "    .dataframe tbody tr th:only-of-type {\n",
              "        vertical-align: middle;\n",
              "    }\n",
              "\n",
              "    .dataframe tbody tr th {\n",
              "        vertical-align: top;\n",
              "    }\n",
              "\n",
              "    .dataframe thead th {\n",
              "        text-align: right;\n",
              "    }\n",
              "</style>\n",
              "<table border=\"1\" class=\"dataframe\">\n",
              "  <thead>\n",
              "    <tr style=\"text-align: right;\">\n",
              "      <th></th>\n",
              "      <th>new ID</th>\n",
              "      <th>wav filename</th>\n",
              "      <th>labels</th>\n",
              "    </tr>\n",
              "  </thead>\n",
              "  <tbody>\n",
              "    <tr>\n",
              "      <th>0</th>\n",
              "      <td>1</td>\n",
              "      <td>10.wav</td>\n",
              "      <td>1</td>\n",
              "    </tr>\n",
              "    <tr>\n",
              "      <th>1</th>\n",
              "      <td>2</td>\n",
              "      <td>17.wav</td>\n",
              "      <td>1</td>\n",
              "    </tr>\n",
              "    <tr>\n",
              "      <th>2</th>\n",
              "      <td>3</td>\n",
              "      <td>18.wav</td>\n",
              "      <td>0</td>\n",
              "    </tr>\n",
              "    <tr>\n",
              "      <th>3</th>\n",
              "      <td>4</td>\n",
              "      <td>2.wav</td>\n",
              "      <td>0</td>\n",
              "    </tr>\n",
              "    <tr>\n",
              "      <th>4</th>\n",
              "      <td>5</td>\n",
              "      <td>8.wav</td>\n",
              "      <td>1</td>\n",
              "    </tr>\n",
              "    <tr>\n",
              "      <th>...</th>\n",
              "      <td>...</td>\n",
              "      <td>...</td>\n",
              "      <td>...</td>\n",
              "    </tr>\n",
              "    <tr>\n",
              "      <th>145</th>\n",
              "      <td>146</td>\n",
              "      <td>15.wav</td>\n",
              "      <td>1</td>\n",
              "    </tr>\n",
              "    <tr>\n",
              "      <th>146</th>\n",
              "      <td>147</td>\n",
              "      <td>20.wav</td>\n",
              "      <td>0</td>\n",
              "    </tr>\n",
              "    <tr>\n",
              "      <th>147</th>\n",
              "      <td>148</td>\n",
              "      <td>19.wav</td>\n",
              "      <td>0</td>\n",
              "    </tr>\n",
              "    <tr>\n",
              "      <th>148</th>\n",
              "      <td>149</td>\n",
              "      <td>17.wav</td>\n",
              "      <td>1</td>\n",
              "    </tr>\n",
              "    <tr>\n",
              "      <th>149</th>\n",
              "      <td>150</td>\n",
              "      <td>4.wav</td>\n",
              "      <td>0</td>\n",
              "    </tr>\n",
              "  </tbody>\n",
              "</table>\n",
              "<p>150 rows × 3 columns</p>\n",
              "</div>\n",
              "      <button class=\"colab-df-convert\" onclick=\"convertToInteractive('df-4290a9dd-f030-4767-b196-e92b9266710c')\"\n",
              "              title=\"Convert this dataframe to an interactive table.\"\n",
              "              style=\"display:none;\">\n",
              "        \n",
              "  <svg xmlns=\"http://www.w3.org/2000/svg\" height=\"24px\"viewBox=\"0 0 24 24\"\n",
              "       width=\"24px\">\n",
              "    <path d=\"M0 0h24v24H0V0z\" fill=\"none\"/>\n",
              "    <path d=\"M18.56 5.44l.94 2.06.94-2.06 2.06-.94-2.06-.94-.94-2.06-.94 2.06-2.06.94zm-11 1L8.5 8.5l.94-2.06 2.06-.94-2.06-.94L8.5 2.5l-.94 2.06-2.06.94zm10 10l.94 2.06.94-2.06 2.06-.94-2.06-.94-.94-2.06-.94 2.06-2.06.94z\"/><path d=\"M17.41 7.96l-1.37-1.37c-.4-.4-.92-.59-1.43-.59-.52 0-1.04.2-1.43.59L10.3 9.45l-7.72 7.72c-.78.78-.78 2.05 0 2.83L4 21.41c.39.39.9.59 1.41.59.51 0 1.02-.2 1.41-.59l7.78-7.78 2.81-2.81c.8-.78.8-2.07 0-2.86zM5.41 20L4 18.59l7.72-7.72 1.47 1.35L5.41 20z\"/>\n",
              "  </svg>\n",
              "      </button>\n",
              "      \n",
              "  <style>\n",
              "    .colab-df-container {\n",
              "      display:flex;\n",
              "      flex-wrap:wrap;\n",
              "      gap: 12px;\n",
              "    }\n",
              "\n",
              "    .colab-df-convert {\n",
              "      background-color: #E8F0FE;\n",
              "      border: none;\n",
              "      border-radius: 50%;\n",
              "      cursor: pointer;\n",
              "      display: none;\n",
              "      fill: #1967D2;\n",
              "      height: 32px;\n",
              "      padding: 0 0 0 0;\n",
              "      width: 32px;\n",
              "    }\n",
              "\n",
              "    .colab-df-convert:hover {\n",
              "      background-color: #E2EBFA;\n",
              "      box-shadow: 0px 1px 2px rgba(60, 64, 67, 0.3), 0px 1px 3px 1px rgba(60, 64, 67, 0.15);\n",
              "      fill: #174EA6;\n",
              "    }\n",
              "\n",
              "    [theme=dark] .colab-df-convert {\n",
              "      background-color: #3B4455;\n",
              "      fill: #D2E3FC;\n",
              "    }\n",
              "\n",
              "    [theme=dark] .colab-df-convert:hover {\n",
              "      background-color: #434B5C;\n",
              "      box-shadow: 0px 1px 3px 1px rgba(0, 0, 0, 0.15);\n",
              "      filter: drop-shadow(0px 1px 2px rgba(0, 0, 0, 0.3));\n",
              "      fill: #FFFFFF;\n",
              "    }\n",
              "  </style>\n",
              "\n",
              "      <script>\n",
              "        const buttonEl =\n",
              "          document.querySelector('#df-4290a9dd-f030-4767-b196-e92b9266710c button.colab-df-convert');\n",
              "        buttonEl.style.display =\n",
              "          google.colab.kernel.accessAllowed ? 'block' : 'none';\n",
              "\n",
              "        async function convertToInteractive(key) {\n",
              "          const element = document.querySelector('#df-4290a9dd-f030-4767-b196-e92b9266710c');\n",
              "          const dataTable =\n",
              "            await google.colab.kernel.invokeFunction('convertToInteractive',\n",
              "                                                     [key], {});\n",
              "          if (!dataTable) return;\n",
              "\n",
              "          const docLinkHtml = 'Like what you see? Visit the ' +\n",
              "            '<a target=\"_blank\" href=https://colab.research.google.com/notebooks/data_table.ipynb>data table notebook</a>'\n",
              "            + ' to learn more about interactive tables.';\n",
              "          element.innerHTML = '';\n",
              "          dataTable['output_type'] = 'display_data';\n",
              "          await google.colab.output.renderOutput(dataTable, element);\n",
              "          const docLink = document.createElement('div');\n",
              "          docLink.innerHTML = docLinkHtml;\n",
              "          element.appendChild(docLink);\n",
              "        }\n",
              "      </script>\n",
              "    </div>\n",
              "  </div>\n",
              "  "
            ]
          },
          "metadata": {},
          "execution_count": 29
        }
      ],
      "source": [
        "dataframenew['new ID'] = newID\n",
        "dataframenew['wav filename'] = wavfilename\n",
        "dataframenew['labels'] = newlabels\n",
        "dataframenew"
      ]
    },
    {
      "cell_type": "code",
      "execution_count": 30,
      "metadata": {
        "colab": {
          "base_uri": "https://localhost:8080/",
          "height": 770
        },
        "id": "--htr29DthpR",
        "outputId": "d68d2a6b-daf8-4287-9582-5f1108942d4c"
      },
      "outputs": [
        {
          "output_type": "execute_result",
          "data": {
            "text/plain": [
              "   filename  labels\n",
              "0     1.wav       0\n",
              "1     2.wav       0\n",
              "2     3.wav       0\n",
              "3     4.wav       0\n",
              "4     5.wav       0\n",
              "5     6.wav       1\n",
              "6     7.wav       1\n",
              "7     8.wav       1\n",
              "8     9.wav       1\n",
              "9    10.wav       1\n",
              "10   11.wav       1\n",
              "11   12.wav       1\n",
              "12   13.wav       1\n",
              "13   14.wav       0\n",
              "14   15.wav       1\n",
              "15   16.wav       1\n",
              "16   17.wav       1\n",
              "17   18.wav       0\n",
              "18   19.wav       0\n",
              "19   20.wav       0\n",
              "20   21.wav       1\n",
              "21   22.wav       1\n",
              "22   23.wav       1"
            ],
            "text/html": [
              "\n",
              "  <div id=\"df-22f62c9a-ef7d-4b55-a20a-e2049518555a\">\n",
              "    <div class=\"colab-df-container\">\n",
              "      <div>\n",
              "<style scoped>\n",
              "    .dataframe tbody tr th:only-of-type {\n",
              "        vertical-align: middle;\n",
              "    }\n",
              "\n",
              "    .dataframe tbody tr th {\n",
              "        vertical-align: top;\n",
              "    }\n",
              "\n",
              "    .dataframe thead th {\n",
              "        text-align: right;\n",
              "    }\n",
              "</style>\n",
              "<table border=\"1\" class=\"dataframe\">\n",
              "  <thead>\n",
              "    <tr style=\"text-align: right;\">\n",
              "      <th></th>\n",
              "      <th>filename</th>\n",
              "      <th>labels</th>\n",
              "    </tr>\n",
              "  </thead>\n",
              "  <tbody>\n",
              "    <tr>\n",
              "      <th>0</th>\n",
              "      <td>1.wav</td>\n",
              "      <td>0</td>\n",
              "    </tr>\n",
              "    <tr>\n",
              "      <th>1</th>\n",
              "      <td>2.wav</td>\n",
              "      <td>0</td>\n",
              "    </tr>\n",
              "    <tr>\n",
              "      <th>2</th>\n",
              "      <td>3.wav</td>\n",
              "      <td>0</td>\n",
              "    </tr>\n",
              "    <tr>\n",
              "      <th>3</th>\n",
              "      <td>4.wav</td>\n",
              "      <td>0</td>\n",
              "    </tr>\n",
              "    <tr>\n",
              "      <th>4</th>\n",
              "      <td>5.wav</td>\n",
              "      <td>0</td>\n",
              "    </tr>\n",
              "    <tr>\n",
              "      <th>5</th>\n",
              "      <td>6.wav</td>\n",
              "      <td>1</td>\n",
              "    </tr>\n",
              "    <tr>\n",
              "      <th>6</th>\n",
              "      <td>7.wav</td>\n",
              "      <td>1</td>\n",
              "    </tr>\n",
              "    <tr>\n",
              "      <th>7</th>\n",
              "      <td>8.wav</td>\n",
              "      <td>1</td>\n",
              "    </tr>\n",
              "    <tr>\n",
              "      <th>8</th>\n",
              "      <td>9.wav</td>\n",
              "      <td>1</td>\n",
              "    </tr>\n",
              "    <tr>\n",
              "      <th>9</th>\n",
              "      <td>10.wav</td>\n",
              "      <td>1</td>\n",
              "    </tr>\n",
              "    <tr>\n",
              "      <th>10</th>\n",
              "      <td>11.wav</td>\n",
              "      <td>1</td>\n",
              "    </tr>\n",
              "    <tr>\n",
              "      <th>11</th>\n",
              "      <td>12.wav</td>\n",
              "      <td>1</td>\n",
              "    </tr>\n",
              "    <tr>\n",
              "      <th>12</th>\n",
              "      <td>13.wav</td>\n",
              "      <td>1</td>\n",
              "    </tr>\n",
              "    <tr>\n",
              "      <th>13</th>\n",
              "      <td>14.wav</td>\n",
              "      <td>0</td>\n",
              "    </tr>\n",
              "    <tr>\n",
              "      <th>14</th>\n",
              "      <td>15.wav</td>\n",
              "      <td>1</td>\n",
              "    </tr>\n",
              "    <tr>\n",
              "      <th>15</th>\n",
              "      <td>16.wav</td>\n",
              "      <td>1</td>\n",
              "    </tr>\n",
              "    <tr>\n",
              "      <th>16</th>\n",
              "      <td>17.wav</td>\n",
              "      <td>1</td>\n",
              "    </tr>\n",
              "    <tr>\n",
              "      <th>17</th>\n",
              "      <td>18.wav</td>\n",
              "      <td>0</td>\n",
              "    </tr>\n",
              "    <tr>\n",
              "      <th>18</th>\n",
              "      <td>19.wav</td>\n",
              "      <td>0</td>\n",
              "    </tr>\n",
              "    <tr>\n",
              "      <th>19</th>\n",
              "      <td>20.wav</td>\n",
              "      <td>0</td>\n",
              "    </tr>\n",
              "    <tr>\n",
              "      <th>20</th>\n",
              "      <td>21.wav</td>\n",
              "      <td>1</td>\n",
              "    </tr>\n",
              "    <tr>\n",
              "      <th>21</th>\n",
              "      <td>22.wav</td>\n",
              "      <td>1</td>\n",
              "    </tr>\n",
              "    <tr>\n",
              "      <th>22</th>\n",
              "      <td>23.wav</td>\n",
              "      <td>1</td>\n",
              "    </tr>\n",
              "  </tbody>\n",
              "</table>\n",
              "</div>\n",
              "      <button class=\"colab-df-convert\" onclick=\"convertToInteractive('df-22f62c9a-ef7d-4b55-a20a-e2049518555a')\"\n",
              "              title=\"Convert this dataframe to an interactive table.\"\n",
              "              style=\"display:none;\">\n",
              "        \n",
              "  <svg xmlns=\"http://www.w3.org/2000/svg\" height=\"24px\"viewBox=\"0 0 24 24\"\n",
              "       width=\"24px\">\n",
              "    <path d=\"M0 0h24v24H0V0z\" fill=\"none\"/>\n",
              "    <path d=\"M18.56 5.44l.94 2.06.94-2.06 2.06-.94-2.06-.94-.94-2.06-.94 2.06-2.06.94zm-11 1L8.5 8.5l.94-2.06 2.06-.94-2.06-.94L8.5 2.5l-.94 2.06-2.06.94zm10 10l.94 2.06.94-2.06 2.06-.94-2.06-.94-.94-2.06-.94 2.06-2.06.94z\"/><path d=\"M17.41 7.96l-1.37-1.37c-.4-.4-.92-.59-1.43-.59-.52 0-1.04.2-1.43.59L10.3 9.45l-7.72 7.72c-.78.78-.78 2.05 0 2.83L4 21.41c.39.39.9.59 1.41.59.51 0 1.02-.2 1.41-.59l7.78-7.78 2.81-2.81c.8-.78.8-2.07 0-2.86zM5.41 20L4 18.59l7.72-7.72 1.47 1.35L5.41 20z\"/>\n",
              "  </svg>\n",
              "      </button>\n",
              "      \n",
              "  <style>\n",
              "    .colab-df-container {\n",
              "      display:flex;\n",
              "      flex-wrap:wrap;\n",
              "      gap: 12px;\n",
              "    }\n",
              "\n",
              "    .colab-df-convert {\n",
              "      background-color: #E8F0FE;\n",
              "      border: none;\n",
              "      border-radius: 50%;\n",
              "      cursor: pointer;\n",
              "      display: none;\n",
              "      fill: #1967D2;\n",
              "      height: 32px;\n",
              "      padding: 0 0 0 0;\n",
              "      width: 32px;\n",
              "    }\n",
              "\n",
              "    .colab-df-convert:hover {\n",
              "      background-color: #E2EBFA;\n",
              "      box-shadow: 0px 1px 2px rgba(60, 64, 67, 0.3), 0px 1px 3px 1px rgba(60, 64, 67, 0.15);\n",
              "      fill: #174EA6;\n",
              "    }\n",
              "\n",
              "    [theme=dark] .colab-df-convert {\n",
              "      background-color: #3B4455;\n",
              "      fill: #D2E3FC;\n",
              "    }\n",
              "\n",
              "    [theme=dark] .colab-df-convert:hover {\n",
              "      background-color: #434B5C;\n",
              "      box-shadow: 0px 1px 3px 1px rgba(0, 0, 0, 0.15);\n",
              "      filter: drop-shadow(0px 1px 2px rgba(0, 0, 0, 0.3));\n",
              "      fill: #FFFFFF;\n",
              "    }\n",
              "  </style>\n",
              "\n",
              "      <script>\n",
              "        const buttonEl =\n",
              "          document.querySelector('#df-22f62c9a-ef7d-4b55-a20a-e2049518555a button.colab-df-convert');\n",
              "        buttonEl.style.display =\n",
              "          google.colab.kernel.accessAllowed ? 'block' : 'none';\n",
              "\n",
              "        async function convertToInteractive(key) {\n",
              "          const element = document.querySelector('#df-22f62c9a-ef7d-4b55-a20a-e2049518555a');\n",
              "          const dataTable =\n",
              "            await google.colab.kernel.invokeFunction('convertToInteractive',\n",
              "                                                     [key], {});\n",
              "          if (!dataTable) return;\n",
              "\n",
              "          const docLinkHtml = 'Like what you see? Visit the ' +\n",
              "            '<a target=\"_blank\" href=https://colab.research.google.com/notebooks/data_table.ipynb>data table notebook</a>'\n",
              "            + ' to learn more about interactive tables.';\n",
              "          element.innerHTML = '';\n",
              "          dataTable['output_type'] = 'display_data';\n",
              "          await google.colab.output.renderOutput(dataTable, element);\n",
              "          const docLink = document.createElement('div');\n",
              "          docLink.innerHTML = docLinkHtml;\n",
              "          element.appendChild(docLink);\n",
              "        }\n",
              "      </script>\n",
              "    </div>\n",
              "  </div>\n",
              "  "
            ]
          },
          "metadata": {},
          "execution_count": 30
        }
      ],
      "source": [
        "dataframe"
      ]
    },
    {
      "cell_type": "code",
      "execution_count": 31,
      "metadata": {
        "colab": {
          "base_uri": "https://localhost:8080/"
        },
        "id": "jNL7ZPja6X3g",
        "outputId": "31c40ffe-e8c1-49be-8b1b-b452e437a033"
      },
      "outputs": [
        {
          "output_type": "execute_result",
          "data": {
            "text/plain": [
              "1    93\n",
              "0    57\n",
              "Name: labels, dtype: int64"
            ]
          },
          "metadata": {},
          "execution_count": 31
        }
      ],
      "source": [
        "dataframenew['labels'].value_counts()"
      ]
    },
    {
      "cell_type": "code",
      "execution_count": 32,
      "metadata": {
        "id": "kq_Zq06vFTvw"
      },
      "outputs": [],
      "source": [
        "X_train = dataframenew['new ID']\n",
        "y_Train = dataframenew['labels']"
      ]
    },
    {
      "cell_type": "code",
      "execution_count": 33,
      "metadata": {
        "id": "PLm19edPFde2"
      },
      "outputs": [],
      "source": [
        "X_test = ref2\n",
        "y_Test = reflabel"
      ]
    },
    {
      "cell_type": "code",
      "execution_count": 34,
      "metadata": {
        "colab": {
          "base_uri": "https://localhost:8080/"
        },
        "id": "rZSOp2-eFgLB",
        "outputId": "0748ac6b-25d0-4594-c8f9-83fb0214d3ed"
      },
      "outputs": [
        {
          "output_type": "execute_result",
          "data": {
            "text/plain": [
              "['/content/drive/MyDrive/ReCirCor/training_data/training_data/13918_AV.wav',\n",
              " '/content/drive/MyDrive/ReCirCor/training_data/training_data/13918_PV.wav',\n",
              " '/content/drive/MyDrive/ReCirCor/training_data/training_data/13918_TV.wav',\n",
              " '/content/drive/MyDrive/ReCirCor/training_data/training_data/13918_MV.wav',\n",
              " '/content/drive/MyDrive/ReCirCor/training_data/training_data/14241_AV.wav',\n",
              " '/content/drive/MyDrive/ReCirCor/training_data/training_data/14241_PV.wav',\n",
              " '/content/drive/MyDrive/ReCirCor/training_data/training_data/14241_TV.wav',\n",
              " '/content/drive/MyDrive/ReCirCor/training_data/training_data/14241_MV.wav',\n",
              " '/content/drive/MyDrive/ReCirCor/training_data/training_data/29045_AV.wav',\n",
              " '/content/drive/MyDrive/ReCirCor/training_data/training_data/29045_PV.wav',\n",
              " '/content/drive/MyDrive/ReCirCor/training_data/training_data/29045_TV.wav',\n",
              " '/content/drive/MyDrive/ReCirCor/training_data/training_data/29045_MV.wav',\n",
              " '/content/drive/MyDrive/ReCirCor/training_data/training_data/33151_AV.wav',\n",
              " '/content/drive/MyDrive/ReCirCor/training_data/training_data/33151_PV.wav',\n",
              " '/content/drive/MyDrive/ReCirCor/training_data/training_data/33151_TV.wav',\n",
              " '/content/drive/MyDrive/ReCirCor/training_data/training_data/33151_MV.wav',\n",
              " '/content/drive/MyDrive/ReCirCor/training_data/training_data/36327_AV.wav',\n",
              " '/content/drive/MyDrive/ReCirCor/training_data/training_data/36327_PV.wav',\n",
              " '/content/drive/MyDrive/ReCirCor/training_data/training_data/36327_TV.wav',\n",
              " '/content/drive/MyDrive/ReCirCor/training_data/training_data/36327_MV.wav',\n",
              " '/content/drive/MyDrive/ReCirCor/training_data/training_data/40840_AV.wav',\n",
              " '/content/drive/MyDrive/ReCirCor/training_data/training_data/40840_PV.wav',\n",
              " '/content/drive/MyDrive/ReCirCor/training_data/training_data/40840_TV.wav',\n",
              " '/content/drive/MyDrive/ReCirCor/training_data/training_data/40840_MV.wav',\n",
              " '/content/drive/MyDrive/ReCirCor/training_data/training_data/44514_AV.wav',\n",
              " '/content/drive/MyDrive/ReCirCor/training_data/training_data/44514_PV.wav',\n",
              " '/content/drive/MyDrive/ReCirCor/training_data/training_data/44514_TV.wav',\n",
              " '/content/drive/MyDrive/ReCirCor/training_data/training_data/44514_MV.wav',\n",
              " '/content/drive/MyDrive/ReCirCor/training_data/training_data/45843_AV.wav',\n",
              " '/content/drive/MyDrive/ReCirCor/training_data/training_data/45843_PV.wav',\n",
              " '/content/drive/MyDrive/ReCirCor/training_data/training_data/45843_TV.wav',\n",
              " '/content/drive/MyDrive/ReCirCor/training_data/training_data/45843_MV.wav',\n",
              " '/content/drive/MyDrive/ReCirCor/training_data/training_data/46065_AV.wav',\n",
              " '/content/drive/MyDrive/ReCirCor/training_data/training_data/46065_PV.wav',\n",
              " '/content/drive/MyDrive/ReCirCor/training_data/training_data/46065_TV.wav',\n",
              " '/content/drive/MyDrive/ReCirCor/training_data/training_data/46065_MV.wav',\n",
              " '/content/drive/MyDrive/ReCirCor/training_data/training_data/46579_AV.wav',\n",
              " '/content/drive/MyDrive/ReCirCor/training_data/training_data/46579_PV.wav',\n",
              " '/content/drive/MyDrive/ReCirCor/training_data/training_data/46579_TV.wav',\n",
              " '/content/drive/MyDrive/ReCirCor/training_data/training_data/46579_MV.wav',\n",
              " '/content/drive/MyDrive/ReCirCor/training_data/training_data/46778_MV.wav',\n",
              " '/content/drive/MyDrive/ReCirCor/training_data/training_data/47002_AV.wav',\n",
              " '/content/drive/MyDrive/ReCirCor/training_data/training_data/47002_MV.wav',\n",
              " '/content/drive/MyDrive/ReCirCor/training_data/training_data/49572_PV.wav',\n",
              " '/content/drive/MyDrive/ReCirCor/training_data/training_data/49572_TV.wav',\n",
              " '/content/drive/MyDrive/ReCirCor/training_data/training_data/49572_MV.wav',\n",
              " '/content/drive/MyDrive/ReCirCor/training_data/training_data/49574_AV.wav',\n",
              " '/content/drive/MyDrive/ReCirCor/training_data/training_data/49574_PV.wav',\n",
              " '/content/drive/MyDrive/ReCirCor/training_data/training_data/49574_TV.wav',\n",
              " '/content/drive/MyDrive/ReCirCor/training_data/training_data/49574_MV.wav',\n",
              " '/content/drive/MyDrive/ReCirCor/training_data/training_data/49595_AV.wav',\n",
              " '/content/drive/MyDrive/ReCirCor/training_data/training_data/49595_MV.wav',\n",
              " '/content/drive/MyDrive/ReCirCor/training_data/training_data/49627_AV.wav',\n",
              " '/content/drive/MyDrive/ReCirCor/training_data/training_data/49627_PV.wav',\n",
              " '/content/drive/MyDrive/ReCirCor/training_data/training_data/49627_TV.wav',\n",
              " '/content/drive/MyDrive/ReCirCor/training_data/training_data/49627_MV.wav',\n",
              " '/content/drive/MyDrive/ReCirCor/training_data/training_data/49628_AV.wav',\n",
              " '/content/drive/MyDrive/ReCirCor/training_data/training_data/49628_PV.wav',\n",
              " '/content/drive/MyDrive/ReCirCor/training_data/training_data/49628_TV.wav',\n",
              " '/content/drive/MyDrive/ReCirCor/training_data/training_data/49628_MV.wav',\n",
              " '/content/drive/MyDrive/ReCirCor/training_data/training_data/49630_AV.wav',\n",
              " '/content/drive/MyDrive/ReCirCor/training_data/training_data/49630_PV.wav',\n",
              " '/content/drive/MyDrive/ReCirCor/training_data/training_data/49630_TV.wav',\n",
              " '/content/drive/MyDrive/ReCirCor/training_data/training_data/49630_MV.wav',\n",
              " '/content/drive/MyDrive/ReCirCor/training_data/training_data/49691_AV.wav',\n",
              " '/content/drive/MyDrive/ReCirCor/training_data/training_data/49691_PV.wav',\n",
              " '/content/drive/MyDrive/ReCirCor/training_data/training_data/49691_TV.wav',\n",
              " '/content/drive/MyDrive/ReCirCor/training_data/training_data/49691_MV.wav',\n",
              " '/content/drive/MyDrive/ReCirCor/training_data/training_data/49712_AV.wav',\n",
              " '/content/drive/MyDrive/ReCirCor/training_data/training_data/49712_PV.wav',\n",
              " '/content/drive/MyDrive/ReCirCor/training_data/training_data/49712_TV.wav',\n",
              " '/content/drive/MyDrive/ReCirCor/training_data/training_data/49712_MV.wav',\n",
              " '/content/drive/MyDrive/ReCirCor/training_data/training_data/49748_AV_1.wav',\n",
              " '/content/drive/MyDrive/ReCirCor/training_data/training_data/49748_AV_2.wav',\n",
              " '/content/drive/MyDrive/ReCirCor/training_data/training_data/49748_PV_1.wav',\n",
              " '/content/drive/MyDrive/ReCirCor/training_data/training_data/49748_PV_2.wav',\n",
              " '/content/drive/MyDrive/ReCirCor/training_data/training_data/49748_TV.wav',\n",
              " '/content/drive/MyDrive/ReCirCor/training_data/training_data/49748_MV.wav',\n",
              " '/content/drive/MyDrive/ReCirCor/training_data/training_data/49751_AV.wav',\n",
              " '/content/drive/MyDrive/ReCirCor/training_data/training_data/49751_PV.wav',\n",
              " '/content/drive/MyDrive/ReCirCor/training_data/training_data/49751_TV.wav',\n",
              " '/content/drive/MyDrive/ReCirCor/training_data/training_data/49751_MV.wav',\n",
              " '/content/drive/MyDrive/ReCirCor/training_data/training_data/49754_AV.wav',\n",
              " '/content/drive/MyDrive/ReCirCor/training_data/training_data/49754_PV.wav',\n",
              " '/content/drive/MyDrive/ReCirCor/training_data/training_data/49754_TV.wav',\n",
              " '/content/drive/MyDrive/ReCirCor/training_data/training_data/49754_MV.wav',\n",
              " '/content/drive/MyDrive/ReCirCor/training_data/training_data/49821_AV.wav',\n",
              " '/content/drive/MyDrive/ReCirCor/training_data/training_data/49821_PV.wav',\n",
              " '/content/drive/MyDrive/ReCirCor/training_data/training_data/49821_TV.wav',\n",
              " '/content/drive/MyDrive/ReCirCor/training_data/training_data/49821_MV.wav',\n",
              " '/content/drive/MyDrive/ReCirCor/training_data/training_data/49823_PV.wav',\n",
              " '/content/drive/MyDrive/ReCirCor/training_data/training_data/49823_TV.wav',\n",
              " '/content/drive/MyDrive/ReCirCor/training_data/training_data/49823_MV.wav',\n",
              " '/content/drive/MyDrive/ReCirCor/training_data/training_data/49824_AV.wav',\n",
              " '/content/drive/MyDrive/ReCirCor/training_data/training_data/49824_PV.wav',\n",
              " '/content/drive/MyDrive/ReCirCor/training_data/training_data/49824_MV.wav',\n",
              " '/content/drive/MyDrive/ReCirCor/training_data/training_data/49838_MV.wav',\n",
              " '/content/drive/MyDrive/ReCirCor/training_data/training_data/49850_AV.wav',\n",
              " '/content/drive/MyDrive/ReCirCor/training_data/training_data/49850_MV.wav',\n",
              " '/content/drive/MyDrive/ReCirCor/training_data/training_data/49897_AV.wav']"
            ]
          },
          "metadata": {},
          "execution_count": 34
        }
      ],
      "source": [
        "X_test"
      ]
    },
    {
      "cell_type": "code",
      "execution_count": 35,
      "metadata": {
        "id": "EbbG1rPZMID8"
      },
      "outputs": [],
      "source": [
        "#Computing Features - \n",
        "\n",
        "#Discrete Wavelet Transform\n",
        "def computeDWTs(x):\n",
        "    #approximation and detail coefficients\n",
        "    res = np.array([])\n",
        "    ca, cd = pywt.dwt(x, 'db8')\n",
        "    #Compute mean, stdev, skew, kurtosis\n",
        "    camean = np.mean(ca)\n",
        "    res = np.hstack((res,camean))\n",
        "    castdev = tstd(ca)\n",
        "    res = np.hstack((res,castdev))\n",
        "    caskew = skew(ca)\n",
        "    res = np.hstack((res,caskew))\n",
        "    cakurtosis = kurtosis(ca)\n",
        "    res = np.hstack((res,cakurtosis))\n",
        "    cdmean = np.mean(cd)\n",
        "    res = np.hstack((res,cdmean))\n",
        "    cdstdev = tstd(cd)\n",
        "    res = np.hstack((res,cdstdev))\n",
        "    cdskew = skew(cd)\n",
        "    res = np.hstack((res,cdskew))\n",
        "    cdkurtosis = kurtosis(cd)\n",
        "    res = np.hstack((res, cdkurtosis))\n",
        "    return res\n",
        "\n",
        "#Computing the Spectral Entropy of the signal - Shannon Entropy of the Power Spectral Density (PSD) of the data\n",
        "def SpectralEntropy(Signal, SampleRate, method = 'fft', nperseg = None, normalize = False):\n",
        "    Signal = np.array(Signal)\n",
        "    if method == 'fft':\n",
        "      _, psd = periodogram(Signal, SampleRate)\n",
        "    elif method == 'welch':\n",
        "      _, psd = welch(Signal, SampleRate, nperseg=nperseg)\n",
        "    psd_norm = np.divide(psd, psd.sum())\n",
        "    se = -np.multiply(psd_norm, np.log2(psd_norm)).sum()\n",
        "    if normalize:\n",
        "        se /= np.log2(psd_norm.size)\n",
        "    return se\n",
        "\n",
        "#Computing the Power Spectral Density(PSD) of signal - \n",
        "def computepsd(x):\n",
        "    freq, psd = signal.welch(x)\n",
        "    return psd\n",
        "\n",
        "#Computing Mel-frequency cepstral coefficients, Gammatone frequency cepstral coefficients, RMS Energy, Zero-crossing rate, mean, variance, skew, and kurtosis of the signal\n",
        "def computeMFCC(x, sr):\n",
        "    mfccs = np.mean(librosa.feature.mfcc(y = x, sr = sr, n_mfcc = 13).T, axis = 0)\n",
        "    return mfccs\n",
        "\n",
        "def computeGFCC(file_name):\n",
        "    gfcc = get_features(file=file_name, feature_names=[\"gfcc\"])\n",
        "    gfcc = np.array(gfcc['audio'][file_name]['features'])\n",
        "    return gfcc\n",
        "\n",
        "def computeRMSEn(x):\n",
        "    rmsen = np.mean(librosa.feature.rms(x, frame_length=2048, hop_length=1024, center=True).T, axis = 0)\n",
        "    return rmsen\n",
        "\n",
        "def computeZCR(x):\n",
        "    zcr = np.mean(librosa.feature.zero_crossing_rate(y = x, frame_length=2048, hop_length=1024).T, axis = 0)\n",
        "    return zcr\n",
        "\n",
        "def computestats(x):\n",
        "#Mean, Variance, Skew, Kurtosis\n",
        "    stats = []\n",
        "    me = np.mean(x)\n",
        "    stats.append(me)\n",
        "    variance = np.var(x)\n",
        "    stats.append(variance)\n",
        "    sk = skew(x)\n",
        "    stats.append(sk)\n",
        "    kurt = kurtosis(x)\n",
        "    stats.append(kurt)\n",
        "    return stats"
      ]
    },
    {
      "cell_type": "code",
      "execution_count": 36,
      "metadata": {
        "id": "RLB-Pv-FuBgW"
      },
      "outputs": [],
      "source": [
        "#Function to extract the required features\n",
        "def extractfeatures(file_name, x, sr, *, mfcc: bool = False, dwt: bool = False, spectral_entropy: bool = False, psd: bool = False, gfcc: bool = False, rmse: bool = False, zcr: bool = False, stats: bool = False):\n",
        "    finalfeatures = np.array([])\n",
        "    if mfcc:\n",
        "        mfccs = computeMFCC(x, sr)\n",
        "        finalfeatures = np.hstack((finalfeatures, mfccs))\n",
        "    if dwt:\n",
        "        dwtr = computeDWTs(x)\n",
        "        finalfeatures = np.hstack((finalfeatures, dwtr))\n",
        "    if spectral_entropy:\n",
        "        specen = SpectralEntropy(x, sr)\n",
        "        finalfeatures = np.hstack((finalfeatures,specen))\n",
        "    if psd:\n",
        "        psds = computepsd(x)\n",
        "        finalfeatures = np.hstack((finalfeatures, psds))\n",
        "    if gfcc:\n",
        "        gfccs = computeGFCC(file_name)\n",
        "        finalfeatures = np.hstack((finalfeatures, gfccs))\n",
        "    if rmse:\n",
        "        rmses = computeRMSEn(x)\n",
        "        finalfeatures = np.hstack((finalfeatures, rmses))\n",
        "    if zcr:\n",
        "        zcrs = computeZCR(x)\n",
        "        finalfeatures = np.hstack((finalfeatures, zcrs))\n",
        "    if stats:\n",
        "        stats1 = computestats(x)\n",
        "        finalfeatures = np.hstack((finalfeatures, stats1))\n",
        "    return finalfeatures"
      ]
    },
    {
      "cell_type": "code",
      "execution_count": 37,
      "metadata": {
        "id": "KMuJyDaMuShW"
      },
      "outputs": [],
      "source": [
        "#loads audio and extracts required features\n",
        "def load_file_data(file_num, duration=15, sr = 4000):\n",
        "    input_length=sr*duration\n",
        "    notfeatures = []\n",
        "    i = 0\n",
        "    for file_no in file_num:\n",
        "        try:\n",
        "            #sound_file = folder + '/' + file_name\n",
        "            sfile = int(file_no)\n",
        "            sound_file = dataframenew['wav filename'][sfile-1]\n",
        "            print (\"load file \", i, sound_file)\n",
        "            x, sr = librosa.load(sound_file,duration=duration,res_type='kaiser_fast')\n",
        "            dur = librosa.get_duration(y=x, sr=sr)\n",
        "            #Padding audio signal\n",
        "            if (round(dur) < duration):\n",
        "                print (\"fixing audio length:\", file_no, sound_file)\n",
        "                y = librosa.util.fix_length(x, input_length)\n",
        "            feature = extractfeatures(sound_file, x, sr, mfcc = True, dwt = True, psd = True, rmse = True, zcr = True,stats = True)\n",
        "            notfeatures.append(feature)          \n",
        "        except Exception as e:\n",
        "            print(e)\n",
        "            #notfeatures = np.asarray(features, dtype=np.float32)\n",
        "        i = i+1 \n",
        "    return notfeatures"
      ]
    },
    {
      "cell_type": "code",
      "source": [
        "#loads audio and extracts required features\n",
        "def load_file_data2(file_names, duration=15, sr = 4000):\n",
        "    input_length=sr*duration\n",
        "    notfeatures = []\n",
        "    for file_name in file_names:\n",
        "        try:\n",
        "            sound_file = file_name\n",
        "            print (\"load file \",sound_file)\n",
        "            x, sr = librosa.load(sound_file,duration=duration,res_type='kaiser_fast')\n",
        "            #x = filter(x1,sr)\n",
        "            dur = librosa.get_duration(y=x, sr=sr)\n",
        "            #Padding audio signal\n",
        "            if (round(dur) < duration):\n",
        "                print (\"fixing audio lenght :\", file_name)\n",
        "                y = librosa.util.fix_length(x, input_length)\n",
        "            #y = audio_norm(y)\n",
        "            feature = extractfeatures(sound_file, x, sr, mfcc = True, dwt = True, psd = True, rmse = True, zcr = True, stats = True)\n",
        "            notfeatures.append(feature)           \n",
        "        except Exception as e:\n",
        "            print(e)\n",
        "            #notfeatures = np.asarray(features, dtype=np.float32)\n",
        "    return notfeatures"
      ],
      "metadata": {
        "id": "ZsntuzpAzGYw"
      },
      "execution_count": 38,
      "outputs": []
    },
    {
      "cell_type": "code",
      "execution_count": 39,
      "metadata": {
        "colab": {
          "base_uri": "https://localhost:8080/"
        },
        "id": "d1gjD-mGvUJv",
        "outputId": "87ecb3e6-9d7a-43ac-8231-6888af1bebda"
      },
      "outputs": [
        {
          "output_type": "stream",
          "name": "stdout",
          "text": [
            "load file  0 10.wav\n",
            "load file  1 17.wav\n",
            "load file  2 18.wav\n",
            "load file  3 2.wav\n",
            "load file  4 8.wav\n",
            "load file  5 12.wav\n",
            "load file  6 15.wav\n",
            "load file  7 13.wav\n",
            "load file  8 18.wav\n",
            "load file  9 13.wav\n",
            "load file  10 16.wav\n",
            "load file  11 13.wav\n",
            "load file  12 19.wav\n",
            "load file  13 1.wav\n",
            "load file  14 15.wav\n",
            "load file  15 12.wav\n",
            "load file  16 13.wav\n",
            "load file  17 6.wav\n",
            "load file  18 13.wav\n",
            "load file  19 15.wav\n",
            "load file  20 5.wav\n",
            "load file  21 7.wav\n",
            "load file  22 18.wav\n",
            "load file  23 4.wav\n",
            "load file  24 15.wav\n",
            "load file  25 21.wav\n",
            "load file  26 23.wav\n",
            "load file  27 1.wav\n",
            "load file  28 13.wav\n",
            "load file  29 23.wav\n",
            "load file  30 7.wav\n",
            "load file  31 20.wav\n",
            "load file  32 15.wav\n",
            "load file  33 18.wav\n",
            "load file  34 22.wav\n",
            "load file  35 12.wav\n",
            "load file  36 4.wav\n",
            "load file  37 3.wav\n",
            "load file  38 7.wav\n",
            "load file  39 16.wav\n",
            "load file  40 8.wav\n",
            "load file  41 9.wav\n",
            "load file  42 6.wav\n",
            "load file  43 17.wav\n",
            "load file  44 10.wav\n",
            "load file  45 2.wav\n",
            "load file  46 12.wav\n",
            "load file  47 7.wav\n",
            "load file  48 19.wav\n",
            "load file  49 7.wav\n",
            "load file  50 2.wav\n",
            "load file  51 3.wav\n",
            "load file  52 8.wav\n",
            "load file  53 12.wav\n",
            "load file  54 14.wav\n",
            "load file  55 6.wav\n",
            "load file  56 17.wav\n",
            "load file  57 3.wav\n",
            "load file  58 23.wav\n",
            "load file  59 4.wav\n",
            "load file  60 10.wav\n",
            "load file  61 22.wav\n",
            "load file  62 17.wav\n",
            "load file  63 4.wav\n",
            "load file  64 9.wav\n",
            "load file  65 8.wav\n",
            "load file  66 4.wav\n",
            "load file  67 18.wav\n",
            "load file  68 11.wav\n",
            "load file  69 10.wav\n",
            "load file  70 20.wav\n",
            "load file  71 12.wav\n",
            "load file  72 4.wav\n",
            "load file  73 20.wav\n",
            "load file  74 22.wav\n",
            "load file  75 20.wav\n",
            "load file  76 12.wav\n",
            "load file  77 12.wav\n",
            "load file  78 7.wav\n",
            "load file  79 23.wav\n",
            "load file  80 8.wav\n",
            "load file  81 11.wav\n",
            "load file  82 4.wav\n",
            "load file  83 23.wav\n",
            "load file  84 5.wav\n",
            "load file  85 2.wav\n",
            "load file  86 18.wav\n",
            "load file  87 12.wav\n",
            "load file  88 7.wav\n",
            "load file  89 11.wav\n",
            "load file  90 15.wav\n",
            "load file  91 5.wav\n",
            "load file  92 7.wav\n",
            "load file  93 15.wav\n",
            "load file  94 9.wav\n",
            "load file  95 22.wav\n",
            "load file  96 19.wav\n",
            "load file  97 22.wav\n",
            "load file  98 5.wav\n",
            "load file  99 22.wav\n",
            "load file  100 19.wav\n",
            "load file  101 17.wav\n",
            "load file  102 5.wav\n",
            "load file  103 21.wav\n",
            "load file  104 1.wav\n",
            "load file  105 2.wav\n",
            "load file  106 22.wav\n",
            "load file  107 18.wav\n",
            "load file  108 9.wav\n",
            "load file  109 2.wav\n",
            "load file  110 13.wav\n",
            "load file  111 21.wav\n",
            "load file  112 1.wav\n",
            "load file  113 8.wav\n",
            "load file  114 9.wav\n",
            "load file  115 13.wav\n",
            "load file  116 4.wav\n",
            "load file  117 4.wav\n",
            "load file  118 12.wav\n",
            "load file  119 9.wav\n",
            "load file  120 8.wav\n",
            "load file  121 13.wav\n",
            "load file  122 2.wav\n",
            "load file  123 5.wav\n",
            "load file  124 15.wav\n",
            "load file  125 4.wav\n",
            "load file  126 23.wav\n",
            "load file  127 17.wav\n",
            "load file  128 14.wav\n",
            "load file  129 2.wav\n",
            "load file  130 10.wav\n",
            "load file  131 3.wav\n",
            "load file  132 11.wav\n",
            "load file  133 14.wav\n",
            "load file  134 6.wav\n",
            "load file  135 10.wav\n",
            "load file  136 21.wav\n",
            "load file  137 14.wav\n",
            "load file  138 21.wav\n",
            "load file  139 21.wav\n",
            "load file  140 20.wav\n",
            "load file  141 22.wav\n",
            "load file  142 19.wav\n",
            "load file  143 14.wav\n",
            "load file  144 8.wav\n",
            "load file  145 15.wav\n",
            "load file  146 20.wav\n",
            "load file  147 19.wav\n",
            "load file  148 17.wav\n",
            "load file  149 4.wav\n",
            "load file  /content/drive/MyDrive/ReCirCor/training_data/training_data/13918_AV.wav\n",
            "fixing audio lenght : /content/drive/MyDrive/ReCirCor/training_data/training_data/13918_AV.wav\n",
            "load file  /content/drive/MyDrive/ReCirCor/training_data/training_data/13918_PV.wav\n",
            "fixing audio lenght : /content/drive/MyDrive/ReCirCor/training_data/training_data/13918_PV.wav\n",
            "load file  /content/drive/MyDrive/ReCirCor/training_data/training_data/13918_TV.wav\n",
            "fixing audio lenght : /content/drive/MyDrive/ReCirCor/training_data/training_data/13918_TV.wav\n",
            "load file  /content/drive/MyDrive/ReCirCor/training_data/training_data/13918_MV.wav\n",
            "load file  /content/drive/MyDrive/ReCirCor/training_data/training_data/14241_AV.wav\n",
            "load file  /content/drive/MyDrive/ReCirCor/training_data/training_data/14241_PV.wav\n",
            "load file  /content/drive/MyDrive/ReCirCor/training_data/training_data/14241_TV.wav\n",
            "load file  /content/drive/MyDrive/ReCirCor/training_data/training_data/14241_MV.wav\n",
            "load file  /content/drive/MyDrive/ReCirCor/training_data/training_data/29045_AV.wav\n",
            "load file  /content/drive/MyDrive/ReCirCor/training_data/training_data/29045_PV.wav\n",
            "load file  /content/drive/MyDrive/ReCirCor/training_data/training_data/29045_TV.wav\n",
            "load file  /content/drive/MyDrive/ReCirCor/training_data/training_data/29045_MV.wav\n",
            "load file  /content/drive/MyDrive/ReCirCor/training_data/training_data/33151_AV.wav\n",
            "fixing audio lenght : /content/drive/MyDrive/ReCirCor/training_data/training_data/33151_AV.wav\n",
            "load file  /content/drive/MyDrive/ReCirCor/training_data/training_data/33151_PV.wav\n",
            "load file  /content/drive/MyDrive/ReCirCor/training_data/training_data/33151_TV.wav\n",
            "load file  /content/drive/MyDrive/ReCirCor/training_data/training_data/33151_MV.wav\n",
            "load file  /content/drive/MyDrive/ReCirCor/training_data/training_data/36327_AV.wav\n",
            "load file  /content/drive/MyDrive/ReCirCor/training_data/training_data/36327_PV.wav\n",
            "load file  /content/drive/MyDrive/ReCirCor/training_data/training_data/36327_TV.wav\n",
            "load file  /content/drive/MyDrive/ReCirCor/training_data/training_data/36327_MV.wav\n",
            "load file  /content/drive/MyDrive/ReCirCor/training_data/training_data/40840_AV.wav\n",
            "load file  /content/drive/MyDrive/ReCirCor/training_data/training_data/40840_PV.wav\n",
            "load file  /content/drive/MyDrive/ReCirCor/training_data/training_data/40840_TV.wav\n",
            "load file  /content/drive/MyDrive/ReCirCor/training_data/training_data/40840_MV.wav\n",
            "load file  /content/drive/MyDrive/ReCirCor/training_data/training_data/44514_AV.wav\n",
            "load file  /content/drive/MyDrive/ReCirCor/training_data/training_data/44514_PV.wav\n",
            "load file  /content/drive/MyDrive/ReCirCor/training_data/training_data/44514_TV.wav\n",
            "load file  /content/drive/MyDrive/ReCirCor/training_data/training_data/44514_MV.wav\n",
            "load file  /content/drive/MyDrive/ReCirCor/training_data/training_data/45843_AV.wav\n",
            "load file  /content/drive/MyDrive/ReCirCor/training_data/training_data/45843_PV.wav\n",
            "load file  /content/drive/MyDrive/ReCirCor/training_data/training_data/45843_TV.wav\n",
            "load file  /content/drive/MyDrive/ReCirCor/training_data/training_data/45843_MV.wav\n",
            "load file  /content/drive/MyDrive/ReCirCor/training_data/training_data/46065_AV.wav\n",
            "load file  /content/drive/MyDrive/ReCirCor/training_data/training_data/46065_PV.wav\n",
            "load file  /content/drive/MyDrive/ReCirCor/training_data/training_data/46065_TV.wav\n",
            "fixing audio lenght : /content/drive/MyDrive/ReCirCor/training_data/training_data/46065_TV.wav\n",
            "load file  /content/drive/MyDrive/ReCirCor/training_data/training_data/46065_MV.wav\n",
            "load file  /content/drive/MyDrive/ReCirCor/training_data/training_data/46579_AV.wav\n",
            "load file  /content/drive/MyDrive/ReCirCor/training_data/training_data/46579_PV.wav\n",
            "load file  /content/drive/MyDrive/ReCirCor/training_data/training_data/46579_TV.wav\n",
            "load file  /content/drive/MyDrive/ReCirCor/training_data/training_data/46579_MV.wav\n",
            "load file  /content/drive/MyDrive/ReCirCor/training_data/training_data/46778_MV.wav\n",
            "fixing audio lenght : /content/drive/MyDrive/ReCirCor/training_data/training_data/46778_MV.wav\n",
            "load file  /content/drive/MyDrive/ReCirCor/training_data/training_data/47002_AV.wav\n",
            "load file  /content/drive/MyDrive/ReCirCor/training_data/training_data/47002_MV.wav\n",
            "load file  /content/drive/MyDrive/ReCirCor/training_data/training_data/49572_PV.wav\n",
            "load file  /content/drive/MyDrive/ReCirCor/training_data/training_data/49572_TV.wav\n",
            "load file  /content/drive/MyDrive/ReCirCor/training_data/training_data/49572_MV.wav\n",
            "load file  /content/drive/MyDrive/ReCirCor/training_data/training_data/49574_AV.wav\n",
            "load file  /content/drive/MyDrive/ReCirCor/training_data/training_data/49574_PV.wav\n",
            "load file  /content/drive/MyDrive/ReCirCor/training_data/training_data/49574_TV.wav\n",
            "load file  /content/drive/MyDrive/ReCirCor/training_data/training_data/49574_MV.wav\n",
            "load file  /content/drive/MyDrive/ReCirCor/training_data/training_data/49595_AV.wav\n",
            "load file  /content/drive/MyDrive/ReCirCor/training_data/training_data/49595_MV.wav\n",
            "load file  /content/drive/MyDrive/ReCirCor/training_data/training_data/49627_AV.wav\n",
            "load file  /content/drive/MyDrive/ReCirCor/training_data/training_data/49627_PV.wav\n",
            "load file  /content/drive/MyDrive/ReCirCor/training_data/training_data/49627_TV.wav\n",
            "load file  /content/drive/MyDrive/ReCirCor/training_data/training_data/49627_MV.wav\n",
            "load file  /content/drive/MyDrive/ReCirCor/training_data/training_data/49628_AV.wav\n",
            "load file  /content/drive/MyDrive/ReCirCor/training_data/training_data/49628_PV.wav\n",
            "load file  /content/drive/MyDrive/ReCirCor/training_data/training_data/49628_TV.wav\n",
            "load file  /content/drive/MyDrive/ReCirCor/training_data/training_data/49628_MV.wav\n",
            "load file  /content/drive/MyDrive/ReCirCor/training_data/training_data/49630_AV.wav\n",
            "load file  /content/drive/MyDrive/ReCirCor/training_data/training_data/49630_PV.wav\n",
            "load file  /content/drive/MyDrive/ReCirCor/training_data/training_data/49630_TV.wav\n",
            "load file  /content/drive/MyDrive/ReCirCor/training_data/training_data/49630_MV.wav\n",
            "load file  /content/drive/MyDrive/ReCirCor/training_data/training_data/49691_AV.wav\n",
            "load file  /content/drive/MyDrive/ReCirCor/training_data/training_data/49691_PV.wav\n",
            "load file  /content/drive/MyDrive/ReCirCor/training_data/training_data/49691_TV.wav\n",
            "load file  /content/drive/MyDrive/ReCirCor/training_data/training_data/49691_MV.wav\n",
            "load file  /content/drive/MyDrive/ReCirCor/training_data/training_data/49712_AV.wav\n",
            "load file  /content/drive/MyDrive/ReCirCor/training_data/training_data/49712_PV.wav\n",
            "load file  /content/drive/MyDrive/ReCirCor/training_data/training_data/49712_TV.wav\n",
            "load file  /content/drive/MyDrive/ReCirCor/training_data/training_data/49712_MV.wav\n",
            "load file  /content/drive/MyDrive/ReCirCor/training_data/training_data/49748_AV_1.wav\n",
            "load file  /content/drive/MyDrive/ReCirCor/training_data/training_data/49748_AV_2.wav\n",
            "load file  /content/drive/MyDrive/ReCirCor/training_data/training_data/49748_PV_1.wav\n",
            "load file  /content/drive/MyDrive/ReCirCor/training_data/training_data/49748_PV_2.wav\n",
            "load file  /content/drive/MyDrive/ReCirCor/training_data/training_data/49748_TV.wav\n",
            "load file  /content/drive/MyDrive/ReCirCor/training_data/training_data/49748_MV.wav\n",
            "load file  /content/drive/MyDrive/ReCirCor/training_data/training_data/49751_AV.wav\n",
            "load file  /content/drive/MyDrive/ReCirCor/training_data/training_data/49751_PV.wav\n",
            "load file  /content/drive/MyDrive/ReCirCor/training_data/training_data/49751_TV.wav\n",
            "load file  /content/drive/MyDrive/ReCirCor/training_data/training_data/49751_MV.wav\n",
            "load file  /content/drive/MyDrive/ReCirCor/training_data/training_data/49754_AV.wav\n",
            "load file  /content/drive/MyDrive/ReCirCor/training_data/training_data/49754_PV.wav\n",
            "load file  /content/drive/MyDrive/ReCirCor/training_data/training_data/49754_TV.wav\n",
            "load file  /content/drive/MyDrive/ReCirCor/training_data/training_data/49754_MV.wav\n",
            "load file  /content/drive/MyDrive/ReCirCor/training_data/training_data/49821_AV.wav\n",
            "load file  /content/drive/MyDrive/ReCirCor/training_data/training_data/49821_PV.wav\n",
            "load file  /content/drive/MyDrive/ReCirCor/training_data/training_data/49821_TV.wav\n",
            "load file  /content/drive/MyDrive/ReCirCor/training_data/training_data/49821_MV.wav\n",
            "load file  /content/drive/MyDrive/ReCirCor/training_data/training_data/49823_PV.wav\n",
            "load file  /content/drive/MyDrive/ReCirCor/training_data/training_data/49823_TV.wav\n",
            "load file  /content/drive/MyDrive/ReCirCor/training_data/training_data/49823_MV.wav\n",
            "load file  /content/drive/MyDrive/ReCirCor/training_data/training_data/49824_AV.wav\n",
            "load file  /content/drive/MyDrive/ReCirCor/training_data/training_data/49824_PV.wav\n",
            "load file  /content/drive/MyDrive/ReCirCor/training_data/training_data/49824_MV.wav\n",
            "load file  /content/drive/MyDrive/ReCirCor/training_data/training_data/49838_MV.wav\n",
            "load file  /content/drive/MyDrive/ReCirCor/training_data/training_data/49850_AV.wav\n",
            "load file  /content/drive/MyDrive/ReCirCor/training_data/training_data/49850_MV.wav\n",
            "load file  /content/drive/MyDrive/ReCirCor/training_data/training_data/49897_AV.wav\n"
          ]
        }
      ],
      "source": [
        "x_train = []\n",
        "x_test = []\n",
        "x_train = load_file_data(X_train)\n",
        "x_test = load_file_data2(X_test)"
      ]
    },
    {
      "cell_type": "code",
      "execution_count": 40,
      "metadata": {
        "id": "5PWP-MYlya5Y"
      },
      "outputs": [],
      "source": [
        "x_train = np.asarray(x_train).astype(np.float32)\n",
        "x_test = np.asarray(x_test).astype(np.float32)"
      ]
    },
    {
      "cell_type": "code",
      "execution_count": 41,
      "metadata": {
        "id": "8e5oAH9jyd5y",
        "colab": {
          "base_uri": "https://localhost:8080/"
        },
        "outputId": "3a7564e5-219e-433e-a28d-448908cffafc"
      },
      "outputs": [
        {
          "output_type": "execute_result",
          "data": {
            "text/plain": [
              "(100, 156)"
            ]
          },
          "metadata": {},
          "execution_count": 41
        }
      ],
      "source": [
        "x_test.shape"
      ]
    },
    {
      "cell_type": "code",
      "execution_count": 42,
      "metadata": {
        "id": "A0w0S_fJGU-c",
        "colab": {
          "base_uri": "https://localhost:8080/"
        },
        "outputId": "6e2d4d22-d0d5-4c9f-da16-2a8d2f3d3f67"
      },
      "outputs": [
        {
          "output_type": "execute_result",
          "data": {
            "text/plain": [
              "(150, 156)"
            ]
          },
          "metadata": {},
          "execution_count": 42
        }
      ],
      "source": [
        "x_train.shape"
      ]
    },
    {
      "cell_type": "code",
      "source": [
        "y_Train.dtype"
      ],
      "metadata": {
        "id": "J8bSwbp8vJF1",
        "colab": {
          "base_uri": "https://localhost:8080/"
        },
        "outputId": "4b42b11d-a157-400c-8a64-049fcab614ff"
      },
      "execution_count": 43,
      "outputs": [
        {
          "output_type": "execute_result",
          "data": {
            "text/plain": [
              "dtype('int64')"
            ]
          },
          "metadata": {},
          "execution_count": 43
        }
      ]
    },
    {
      "cell_type": "code",
      "execution_count": 44,
      "metadata": {
        "id": "JBnxKGd9TYyY"
      },
      "outputs": [],
      "source": [
        "y_Train = np.asarray(y_Train).astype(np.float32)"
      ]
    },
    {
      "cell_type": "code",
      "execution_count": 45,
      "metadata": {
        "id": "pfNN82FhTZ4I"
      },
      "outputs": [],
      "source": [
        "y_Test = np.asarray(y_Test).astype(np.float32)"
      ]
    },
    {
      "cell_type": "code",
      "execution_count": 46,
      "metadata": {
        "id": "PMkku5T8Y3m8"
      },
      "outputs": [],
      "source": [
        "traindataframe = pd.DataFrame(columns = ['x_train ID', 'labels'])\n",
        "testdataframe = pd.DataFrame(columns = ['x_test ID', 'labels'])\n",
        "traindataframe['x_train ID'] = X_train\n",
        "testdataframe['x_test ID'] = X_test\n",
        "traindataframe['labels'] = y_Train\n",
        "testdataframe['labels'] = y_Test"
      ]
    },
    {
      "cell_type": "code",
      "execution_count": 47,
      "metadata": {
        "id": "0bwHQY7Kalgz",
        "colab": {
          "base_uri": "https://localhost:8080/",
          "height": 424
        },
        "outputId": "229f455b-855b-4a1b-b4c9-79722d469be6"
      },
      "outputs": [
        {
          "output_type": "execute_result",
          "data": {
            "text/plain": [
              "                                            x_test ID  labels\n",
              "0   /content/drive/MyDrive/ReCirCor/training_data/...     1.0\n",
              "1   /content/drive/MyDrive/ReCirCor/training_data/...     1.0\n",
              "2   /content/drive/MyDrive/ReCirCor/training_data/...     1.0\n",
              "3   /content/drive/MyDrive/ReCirCor/training_data/...     1.0\n",
              "4   /content/drive/MyDrive/ReCirCor/training_data/...     1.0\n",
              "..                                                ...     ...\n",
              "95  /content/drive/MyDrive/ReCirCor/training_data/...     1.0\n",
              "96  /content/drive/MyDrive/ReCirCor/training_data/...     1.0\n",
              "97  /content/drive/MyDrive/ReCirCor/training_data/...     1.0\n",
              "98  /content/drive/MyDrive/ReCirCor/training_data/...     1.0\n",
              "99  /content/drive/MyDrive/ReCirCor/training_data/...     1.0\n",
              "\n",
              "[100 rows x 2 columns]"
            ],
            "text/html": [
              "\n",
              "  <div id=\"df-5f7be97f-705d-4686-a3c0-514c73649f8f\">\n",
              "    <div class=\"colab-df-container\">\n",
              "      <div>\n",
              "<style scoped>\n",
              "    .dataframe tbody tr th:only-of-type {\n",
              "        vertical-align: middle;\n",
              "    }\n",
              "\n",
              "    .dataframe tbody tr th {\n",
              "        vertical-align: top;\n",
              "    }\n",
              "\n",
              "    .dataframe thead th {\n",
              "        text-align: right;\n",
              "    }\n",
              "</style>\n",
              "<table border=\"1\" class=\"dataframe\">\n",
              "  <thead>\n",
              "    <tr style=\"text-align: right;\">\n",
              "      <th></th>\n",
              "      <th>x_test ID</th>\n",
              "      <th>labels</th>\n",
              "    </tr>\n",
              "  </thead>\n",
              "  <tbody>\n",
              "    <tr>\n",
              "      <th>0</th>\n",
              "      <td>/content/drive/MyDrive/ReCirCor/training_data/...</td>\n",
              "      <td>1.0</td>\n",
              "    </tr>\n",
              "    <tr>\n",
              "      <th>1</th>\n",
              "      <td>/content/drive/MyDrive/ReCirCor/training_data/...</td>\n",
              "      <td>1.0</td>\n",
              "    </tr>\n",
              "    <tr>\n",
              "      <th>2</th>\n",
              "      <td>/content/drive/MyDrive/ReCirCor/training_data/...</td>\n",
              "      <td>1.0</td>\n",
              "    </tr>\n",
              "    <tr>\n",
              "      <th>3</th>\n",
              "      <td>/content/drive/MyDrive/ReCirCor/training_data/...</td>\n",
              "      <td>1.0</td>\n",
              "    </tr>\n",
              "    <tr>\n",
              "      <th>4</th>\n",
              "      <td>/content/drive/MyDrive/ReCirCor/training_data/...</td>\n",
              "      <td>1.0</td>\n",
              "    </tr>\n",
              "    <tr>\n",
              "      <th>...</th>\n",
              "      <td>...</td>\n",
              "      <td>...</td>\n",
              "    </tr>\n",
              "    <tr>\n",
              "      <th>95</th>\n",
              "      <td>/content/drive/MyDrive/ReCirCor/training_data/...</td>\n",
              "      <td>1.0</td>\n",
              "    </tr>\n",
              "    <tr>\n",
              "      <th>96</th>\n",
              "      <td>/content/drive/MyDrive/ReCirCor/training_data/...</td>\n",
              "      <td>1.0</td>\n",
              "    </tr>\n",
              "    <tr>\n",
              "      <th>97</th>\n",
              "      <td>/content/drive/MyDrive/ReCirCor/training_data/...</td>\n",
              "      <td>1.0</td>\n",
              "    </tr>\n",
              "    <tr>\n",
              "      <th>98</th>\n",
              "      <td>/content/drive/MyDrive/ReCirCor/training_data/...</td>\n",
              "      <td>1.0</td>\n",
              "    </tr>\n",
              "    <tr>\n",
              "      <th>99</th>\n",
              "      <td>/content/drive/MyDrive/ReCirCor/training_data/...</td>\n",
              "      <td>1.0</td>\n",
              "    </tr>\n",
              "  </tbody>\n",
              "</table>\n",
              "<p>100 rows × 2 columns</p>\n",
              "</div>\n",
              "      <button class=\"colab-df-convert\" onclick=\"convertToInteractive('df-5f7be97f-705d-4686-a3c0-514c73649f8f')\"\n",
              "              title=\"Convert this dataframe to an interactive table.\"\n",
              "              style=\"display:none;\">\n",
              "        \n",
              "  <svg xmlns=\"http://www.w3.org/2000/svg\" height=\"24px\"viewBox=\"0 0 24 24\"\n",
              "       width=\"24px\">\n",
              "    <path d=\"M0 0h24v24H0V0z\" fill=\"none\"/>\n",
              "    <path d=\"M18.56 5.44l.94 2.06.94-2.06 2.06-.94-2.06-.94-.94-2.06-.94 2.06-2.06.94zm-11 1L8.5 8.5l.94-2.06 2.06-.94-2.06-.94L8.5 2.5l-.94 2.06-2.06.94zm10 10l.94 2.06.94-2.06 2.06-.94-2.06-.94-.94-2.06-.94 2.06-2.06.94z\"/><path d=\"M17.41 7.96l-1.37-1.37c-.4-.4-.92-.59-1.43-.59-.52 0-1.04.2-1.43.59L10.3 9.45l-7.72 7.72c-.78.78-.78 2.05 0 2.83L4 21.41c.39.39.9.59 1.41.59.51 0 1.02-.2 1.41-.59l7.78-7.78 2.81-2.81c.8-.78.8-2.07 0-2.86zM5.41 20L4 18.59l7.72-7.72 1.47 1.35L5.41 20z\"/>\n",
              "  </svg>\n",
              "      </button>\n",
              "      \n",
              "  <style>\n",
              "    .colab-df-container {\n",
              "      display:flex;\n",
              "      flex-wrap:wrap;\n",
              "      gap: 12px;\n",
              "    }\n",
              "\n",
              "    .colab-df-convert {\n",
              "      background-color: #E8F0FE;\n",
              "      border: none;\n",
              "      border-radius: 50%;\n",
              "      cursor: pointer;\n",
              "      display: none;\n",
              "      fill: #1967D2;\n",
              "      height: 32px;\n",
              "      padding: 0 0 0 0;\n",
              "      width: 32px;\n",
              "    }\n",
              "\n",
              "    .colab-df-convert:hover {\n",
              "      background-color: #E2EBFA;\n",
              "      box-shadow: 0px 1px 2px rgba(60, 64, 67, 0.3), 0px 1px 3px 1px rgba(60, 64, 67, 0.15);\n",
              "      fill: #174EA6;\n",
              "    }\n",
              "\n",
              "    [theme=dark] .colab-df-convert {\n",
              "      background-color: #3B4455;\n",
              "      fill: #D2E3FC;\n",
              "    }\n",
              "\n",
              "    [theme=dark] .colab-df-convert:hover {\n",
              "      background-color: #434B5C;\n",
              "      box-shadow: 0px 1px 3px 1px rgba(0, 0, 0, 0.15);\n",
              "      filter: drop-shadow(0px 1px 2px rgba(0, 0, 0, 0.3));\n",
              "      fill: #FFFFFF;\n",
              "    }\n",
              "  </style>\n",
              "\n",
              "      <script>\n",
              "        const buttonEl =\n",
              "          document.querySelector('#df-5f7be97f-705d-4686-a3c0-514c73649f8f button.colab-df-convert');\n",
              "        buttonEl.style.display =\n",
              "          google.colab.kernel.accessAllowed ? 'block' : 'none';\n",
              "\n",
              "        async function convertToInteractive(key) {\n",
              "          const element = document.querySelector('#df-5f7be97f-705d-4686-a3c0-514c73649f8f');\n",
              "          const dataTable =\n",
              "            await google.colab.kernel.invokeFunction('convertToInteractive',\n",
              "                                                     [key], {});\n",
              "          if (!dataTable) return;\n",
              "\n",
              "          const docLinkHtml = 'Like what you see? Visit the ' +\n",
              "            '<a target=\"_blank\" href=https://colab.research.google.com/notebooks/data_table.ipynb>data table notebook</a>'\n",
              "            + ' to learn more about interactive tables.';\n",
              "          element.innerHTML = '';\n",
              "          dataTable['output_type'] = 'display_data';\n",
              "          await google.colab.output.renderOutput(dataTable, element);\n",
              "          const docLink = document.createElement('div');\n",
              "          docLink.innerHTML = docLinkHtml;\n",
              "          element.appendChild(docLink);\n",
              "        }\n",
              "      </script>\n",
              "    </div>\n",
              "  </div>\n",
              "  "
            ]
          },
          "metadata": {},
          "execution_count": 47
        }
      ],
      "source": [
        "testdataframe"
      ]
    },
    {
      "cell_type": "code",
      "execution_count": 49,
      "metadata": {
        "id": "3DPlh5hrzlAw",
        "colab": {
          "base_uri": "https://localhost:8080/"
        },
        "outputId": "b9d29e50-c04a-4247-8344-ac6ac02a7dc7"
      },
      "outputs": [
        {
          "output_type": "stream",
          "name": "stdout",
          "text": [
            "Looking in indexes: https://pypi.org/simple, https://us-python.pkg.dev/colab-wheels/public/simple/\n",
            "Collecting keras-tuner\n",
            "  Downloading keras_tuner-1.1.3-py3-none-any.whl (135 kB)\n",
            "\u001b[K     |████████████████████████████████| 135 kB 8.4 MB/s \n",
            "\u001b[?25hRequirement already satisfied: ipython in /usr/local/lib/python3.7/dist-packages (from keras-tuner) (7.9.0)\n",
            "Requirement already satisfied: requests in /usr/local/lib/python3.7/dist-packages (from keras-tuner) (2.23.0)\n",
            "Collecting kt-legacy\n",
            "  Downloading kt_legacy-1.0.4-py3-none-any.whl (9.6 kB)\n",
            "Requirement already satisfied: numpy in /usr/local/lib/python3.7/dist-packages (from keras-tuner) (1.21.6)\n",
            "Requirement already satisfied: tensorboard in /usr/local/lib/python3.7/dist-packages (from keras-tuner) (2.9.1)\n",
            "Requirement already satisfied: packaging in /usr/local/lib/python3.7/dist-packages (from keras-tuner) (21.3)\n",
            "Requirement already satisfied: pickleshare in /usr/local/lib/python3.7/dist-packages (from ipython->keras-tuner) (0.7.5)\n",
            "Requirement already satisfied: pygments in /usr/local/lib/python3.7/dist-packages (from ipython->keras-tuner) (2.6.1)\n",
            "Requirement already satisfied: traitlets>=4.2 in /usr/local/lib/python3.7/dist-packages (from ipython->keras-tuner) (5.1.1)\n",
            "Requirement already satisfied: prompt-toolkit<2.1.0,>=2.0.0 in /usr/local/lib/python3.7/dist-packages (from ipython->keras-tuner) (2.0.10)\n",
            "Requirement already satisfied: backcall in /usr/local/lib/python3.7/dist-packages (from ipython->keras-tuner) (0.2.0)\n",
            "Requirement already satisfied: jedi>=0.10 in /usr/local/lib/python3.7/dist-packages (from ipython->keras-tuner) (0.18.1)\n",
            "Requirement already satisfied: setuptools>=18.5 in /usr/local/lib/python3.7/dist-packages (from ipython->keras-tuner) (57.4.0)\n",
            "Requirement already satisfied: pexpect in /usr/local/lib/python3.7/dist-packages (from ipython->keras-tuner) (4.8.0)\n",
            "Requirement already satisfied: decorator in /usr/local/lib/python3.7/dist-packages (from ipython->keras-tuner) (4.4.2)\n",
            "Requirement already satisfied: parso<0.9.0,>=0.8.0 in /usr/local/lib/python3.7/dist-packages (from jedi>=0.10->ipython->keras-tuner) (0.8.3)\n",
            "Requirement already satisfied: wcwidth in /usr/local/lib/python3.7/dist-packages (from prompt-toolkit<2.1.0,>=2.0.0->ipython->keras-tuner) (0.2.5)\n",
            "Requirement already satisfied: six>=1.9.0 in /usr/local/lib/python3.7/dist-packages (from prompt-toolkit<2.1.0,>=2.0.0->ipython->keras-tuner) (1.15.0)\n",
            "Requirement already satisfied: pyparsing!=3.0.5,>=2.0.2 in /usr/local/lib/python3.7/dist-packages (from packaging->keras-tuner) (3.0.9)\n",
            "Requirement already satisfied: ptyprocess>=0.5 in /usr/local/lib/python3.7/dist-packages (from pexpect->ipython->keras-tuner) (0.7.0)\n",
            "Requirement already satisfied: chardet<4,>=3.0.2 in /usr/local/lib/python3.7/dist-packages (from requests->keras-tuner) (3.0.4)\n",
            "Requirement already satisfied: idna<3,>=2.5 in /usr/local/lib/python3.7/dist-packages (from requests->keras-tuner) (2.10)\n",
            "Requirement already satisfied: urllib3!=1.25.0,!=1.25.1,<1.26,>=1.21.1 in /usr/local/lib/python3.7/dist-packages (from requests->keras-tuner) (1.24.3)\n",
            "Requirement already satisfied: certifi>=2017.4.17 in /usr/local/lib/python3.7/dist-packages (from requests->keras-tuner) (2022.9.24)\n",
            "Requirement already satisfied: google-auth-oauthlib<0.5,>=0.4.1 in /usr/local/lib/python3.7/dist-packages (from tensorboard->keras-tuner) (0.4.6)\n",
            "Requirement already satisfied: tensorboard-plugin-wit>=1.6.0 in /usr/local/lib/python3.7/dist-packages (from tensorboard->keras-tuner) (1.8.1)\n",
            "Requirement already satisfied: absl-py>=0.4 in /usr/local/lib/python3.7/dist-packages (from tensorboard->keras-tuner) (1.3.0)\n",
            "Requirement already satisfied: google-auth<3,>=1.6.3 in /usr/local/lib/python3.7/dist-packages (from tensorboard->keras-tuner) (1.35.0)\n",
            "Requirement already satisfied: grpcio>=1.24.3 in /usr/local/lib/python3.7/dist-packages (from tensorboard->keras-tuner) (1.50.0)\n",
            "Requirement already satisfied: tensorboard-data-server<0.7.0,>=0.6.0 in /usr/local/lib/python3.7/dist-packages (from tensorboard->keras-tuner) (0.6.1)\n",
            "Requirement already satisfied: werkzeug>=1.0.1 in /usr/local/lib/python3.7/dist-packages (from tensorboard->keras-tuner) (1.0.1)\n",
            "Requirement already satisfied: markdown>=2.6.8 in /usr/local/lib/python3.7/dist-packages (from tensorboard->keras-tuner) (3.4.1)\n",
            "Requirement already satisfied: wheel>=0.26 in /usr/local/lib/python3.7/dist-packages (from tensorboard->keras-tuner) (0.37.1)\n",
            "Requirement already satisfied: protobuf<3.20,>=3.9.2 in /usr/local/lib/python3.7/dist-packages (from tensorboard->keras-tuner) (3.17.3)\n",
            "Requirement already satisfied: cachetools<5.0,>=2.0.0 in /usr/local/lib/python3.7/dist-packages (from google-auth<3,>=1.6.3->tensorboard->keras-tuner) (4.2.4)\n",
            "Requirement already satisfied: rsa<5,>=3.1.4 in /usr/local/lib/python3.7/dist-packages (from google-auth<3,>=1.6.3->tensorboard->keras-tuner) (4.9)\n",
            "Requirement already satisfied: pyasn1-modules>=0.2.1 in /usr/local/lib/python3.7/dist-packages (from google-auth<3,>=1.6.3->tensorboard->keras-tuner) (0.2.8)\n",
            "Requirement already satisfied: requests-oauthlib>=0.7.0 in /usr/local/lib/python3.7/dist-packages (from google-auth-oauthlib<0.5,>=0.4.1->tensorboard->keras-tuner) (1.3.1)\n",
            "Requirement already satisfied: importlib-metadata>=4.4 in /usr/local/lib/python3.7/dist-packages (from markdown>=2.6.8->tensorboard->keras-tuner) (4.13.0)\n",
            "Requirement already satisfied: typing-extensions>=3.6.4 in /usr/local/lib/python3.7/dist-packages (from importlib-metadata>=4.4->markdown>=2.6.8->tensorboard->keras-tuner) (4.1.1)\n",
            "Requirement already satisfied: zipp>=0.5 in /usr/local/lib/python3.7/dist-packages (from importlib-metadata>=4.4->markdown>=2.6.8->tensorboard->keras-tuner) (3.10.0)\n",
            "Requirement already satisfied: pyasn1<0.5.0,>=0.4.6 in /usr/local/lib/python3.7/dist-packages (from pyasn1-modules>=0.2.1->google-auth<3,>=1.6.3->tensorboard->keras-tuner) (0.4.8)\n",
            "Requirement already satisfied: oauthlib>=3.0.0 in /usr/local/lib/python3.7/dist-packages (from requests-oauthlib>=0.7.0->google-auth-oauthlib<0.5,>=0.4.1->tensorboard->keras-tuner) (3.2.2)\n",
            "Installing collected packages: kt-legacy, keras-tuner\n",
            "Successfully installed keras-tuner-1.1.3 kt-legacy-1.0.4\n"
          ]
        }
      ],
      "source": [
        "pip install keras-tuner"
      ]
    },
    {
      "cell_type": "code",
      "execution_count": 50,
      "metadata": {
        "id": "rLAig70EykgL",
        "colab": {
          "base_uri": "https://localhost:8080/"
        },
        "outputId": "8fb98667-9add-4a18-972d-0e4a4012a350"
      },
      "outputs": [
        {
          "output_type": "stream",
          "name": "stdout",
          "text": [
            "Trial 90 Complete [00h 00m 04s]\n",
            "val_accuracy: 0.5666666626930237\n",
            "\n",
            "Best val_accuracy So Far: 0.8666666746139526\n",
            "Total elapsed time: 00h 03m 26s\n"
          ]
        }
      ],
      "source": [
        "import kerastuner\n",
        "from kerastuner.tuners import RandomSearch, Hyperband, BayesianOptimization\n",
        "def model_builder(hp):\n",
        "  model = Sequential()\n",
        "  hp_units1 = hp.Int('units_', min_value=2, max_value=64, step=4)\n",
        "  model.add(tf.keras.layers.Dense(units = hp_units1, input_dim = x_train.shape[1]))\n",
        "\n",
        "  # Tune the number of dense layers\n",
        "  for i in range(hp.Int('num_layers', 1, 5)):\n",
        "    \n",
        "    # Tune the number of units in the each dense layer\n",
        "    hp_units = hp.Int('units_'+str(i), min_value=2, max_value=64, step=4)\n",
        "    model.add(tf.keras.layers.Dense(units=hp_units, activation='relu'))\n",
        "    \n",
        "    # Tune the dropout rate in the each dense layer\n",
        "    hp_dropout = hp.Float('rate', min_value=0.0, max_value=0.5, step=0.1)\n",
        "    model.add(tf.keras.layers.Dropout(hp_dropout))\n",
        "    \n",
        "  # Add dense output layer\n",
        "  model.add(tf.keras.layers.Dense(1, activation='sigmoid'))\n",
        "\n",
        "  # Tune the learning rate for the optimizer\n",
        "  hp_learning_rate = hp.Choice('learning_rate', values=[1e-2, 1e-3, 1e-4])\n",
        "  model.compile(optimizer=tf.keras.optimizers.Adam(learning_rate=hp_learning_rate),loss='binary_crossentropy',\n",
        "                metrics=['accuracy'])\n",
        "\n",
        "  return model\n",
        "\n",
        "#tf.keras.metrics.Recall()\n",
        "#tuner = BayesianOptimization(model_builder,\n",
        "#max_trials=50,\n",
        "#objective='val_accuracy',\n",
        "#overwrite=True)\n",
        "\n",
        "tuner = Hyperband(model_builder,\n",
        "objective=kerastuner.Objective(\"val_accuracy\", direction=\"max\"),\n",
        "max_epochs=50,\n",
        "factor=3, overwrite = True)\n",
        "\n",
        "tuner.search(x_train,y_Train, epochs=50, validation_split=0.2)\n",
        "# Get the optimal hyperparameters\n",
        "best_hps=tuner.get_best_hyperparameters(num_trials=1)[0]\n",
        "\n",
        "model = tuner.hypermodel.build(best_hps)"
      ]
    },
    {
      "cell_type": "code",
      "execution_count": 51,
      "metadata": {
        "id": "b9ODNrNyzjTP",
        "colab": {
          "base_uri": "https://localhost:8080/"
        },
        "outputId": "6990fc13-9e88-4cb2-f961-576e5356297e"
      },
      "outputs": [
        {
          "output_type": "stream",
          "name": "stdout",
          "text": [
            "Epoch 1/50\n",
            "12/12 [==============================] - 1s 16ms/step - loss: 174.2760 - accuracy: 0.6000 - val_loss: 59.0378 - val_accuracy: 0.7000\n",
            "Epoch 2/50\n",
            "12/12 [==============================] - 0s 4ms/step - loss: 133.3629 - accuracy: 0.6167 - val_loss: 217.6993 - val_accuracy: 0.7333\n",
            "Epoch 3/50\n",
            "12/12 [==============================] - 0s 4ms/step - loss: 154.2311 - accuracy: 0.6750 - val_loss: 88.6245 - val_accuracy: 0.7333\n",
            "Epoch 4/50\n",
            "12/12 [==============================] - 0s 4ms/step - loss: 48.1361 - accuracy: 0.7500 - val_loss: 106.4428 - val_accuracy: 0.7000\n",
            "Epoch 5/50\n",
            "12/12 [==============================] - 0s 4ms/step - loss: 25.6965 - accuracy: 0.8000 - val_loss: 2.8988 - val_accuracy: 0.7333\n",
            "Epoch 6/50\n",
            "12/12 [==============================] - 0s 4ms/step - loss: 14.4332 - accuracy: 0.8250 - val_loss: 4.7051 - val_accuracy: 0.7333\n",
            "Epoch 7/50\n",
            "12/12 [==============================] - 0s 5ms/step - loss: 6.1327 - accuracy: 0.7917 - val_loss: 7.6751 - val_accuracy: 0.8000\n",
            "Epoch 8/50\n",
            "12/12 [==============================] - 0s 4ms/step - loss: 2.7792 - accuracy: 0.7833 - val_loss: 0.3484 - val_accuracy: 0.7667\n",
            "Epoch 9/50\n",
            "12/12 [==============================] - 0s 4ms/step - loss: 0.6546 - accuracy: 0.7250 - val_loss: 0.3520 - val_accuracy: 0.7667\n",
            "Epoch 10/50\n",
            "12/12 [==============================] - 0s 6ms/step - loss: 0.3080 - accuracy: 0.7750 - val_loss: 0.3521 - val_accuracy: 0.7667\n",
            "Epoch 11/50\n",
            "12/12 [==============================] - 0s 4ms/step - loss: 0.3408 - accuracy: 0.7667 - val_loss: 0.3499 - val_accuracy: 0.7667\n",
            "Epoch 12/50\n",
            "12/12 [==============================] - 0s 6ms/step - loss: 0.2886 - accuracy: 0.7917 - val_loss: 0.3487 - val_accuracy: 0.7667\n",
            "Epoch 13/50\n",
            "12/12 [==============================] - 0s 6ms/step - loss: 0.2794 - accuracy: 0.7917 - val_loss: 0.3481 - val_accuracy: 0.7667\n",
            "Epoch 14/50\n",
            "12/12 [==============================] - 0s 5ms/step - loss: 0.2806 - accuracy: 0.7917 - val_loss: 0.3500 - val_accuracy: 0.7667\n",
            "Epoch 15/50\n",
            "12/12 [==============================] - 0s 5ms/step - loss: 0.2941 - accuracy: 0.7833 - val_loss: 0.3527 - val_accuracy: 0.7667\n",
            "Epoch 16/50\n",
            "12/12 [==============================] - 0s 4ms/step - loss: 0.2864 - accuracy: 0.7917 - val_loss: 0.3492 - val_accuracy: 0.7667\n",
            "Epoch 17/50\n",
            "12/12 [==============================] - 0s 4ms/step - loss: 0.2789 - accuracy: 0.7917 - val_loss: 0.3477 - val_accuracy: 0.7667\n",
            "Epoch 18/50\n",
            "12/12 [==============================] - 0s 4ms/step - loss: 0.2797 - accuracy: 0.7917 - val_loss: 0.3474 - val_accuracy: 0.7667\n",
            "Epoch 19/50\n",
            "12/12 [==============================] - 0s 5ms/step - loss: 0.2778 - accuracy: 0.7917 - val_loss: 0.3473 - val_accuracy: 0.7667\n",
            "Epoch 20/50\n",
            "12/12 [==============================] - 0s 6ms/step - loss: 0.2776 - accuracy: 0.8000 - val_loss: 0.3474 - val_accuracy: 0.7333\n",
            "Epoch 21/50\n",
            "12/12 [==============================] - 0s 4ms/step - loss: 0.2818 - accuracy: 0.8083 - val_loss: 0.3477 - val_accuracy: 0.7333\n",
            "Epoch 22/50\n",
            "12/12 [==============================] - 0s 5ms/step - loss: 0.2821 - accuracy: 0.8083 - val_loss: 0.3478 - val_accuracy: 0.7333\n",
            "Epoch 23/50\n",
            "12/12 [==============================] - 0s 4ms/step - loss: 0.2834 - accuracy: 0.8083 - val_loss: 0.3480 - val_accuracy: 0.7333\n",
            "Epoch 24/50\n",
            "12/12 [==============================] - 0s 6ms/step - loss: 0.2806 - accuracy: 0.8083 - val_loss: 0.3478 - val_accuracy: 0.7333\n",
            "Epoch 25/50\n",
            "12/12 [==============================] - 0s 4ms/step - loss: 0.2795 - accuracy: 0.8083 - val_loss: 0.3480 - val_accuracy: 0.7333\n",
            "Epoch 26/50\n",
            "12/12 [==============================] - 0s 6ms/step - loss: 0.2787 - accuracy: 0.8083 - val_loss: 0.3477 - val_accuracy: 0.7333\n",
            "Epoch 27/50\n",
            "12/12 [==============================] - 0s 5ms/step - loss: 0.2779 - accuracy: 0.8083 - val_loss: 0.3479 - val_accuracy: 0.7333\n",
            "Epoch 28/50\n",
            "12/12 [==============================] - 0s 5ms/step - loss: 0.2837 - accuracy: 0.8083 - val_loss: 0.3496 - val_accuracy: 0.7333\n",
            "Epoch 29/50\n",
            "12/12 [==============================] - 0s 4ms/step - loss: 0.3058 - accuracy: 0.7917 - val_loss: 0.3530 - val_accuracy: 0.7333\n",
            "Epoch 30/50\n",
            "12/12 [==============================] - 0s 4ms/step - loss: 0.3056 - accuracy: 0.8000 - val_loss: 0.3565 - val_accuracy: 0.7333\n",
            "Epoch 31/50\n",
            "12/12 [==============================] - 0s 4ms/step - loss: 0.2962 - accuracy: 0.8083 - val_loss: 0.3529 - val_accuracy: 0.7333\n",
            "Epoch 32/50\n",
            "12/12 [==============================] - 0s 4ms/step - loss: 0.2833 - accuracy: 0.8083 - val_loss: 0.3502 - val_accuracy: 0.7333\n",
            "Epoch 33/50\n",
            "12/12 [==============================] - 0s 4ms/step - loss: 0.2956 - accuracy: 0.8000 - val_loss: 0.3533 - val_accuracy: 0.7333\n",
            "Epoch 34/50\n",
            "12/12 [==============================] - 0s 4ms/step - loss: 0.3691 - accuracy: 0.7667 - val_loss: 0.3640 - val_accuracy: 0.7333\n",
            "Epoch 35/50\n",
            "12/12 [==============================] - 0s 4ms/step - loss: 0.3443 - accuracy: 0.7917 - val_loss: 0.3652 - val_accuracy: 0.7333\n",
            "Epoch 36/50\n",
            "12/12 [==============================] - 0s 4ms/step - loss: 0.3103 - accuracy: 0.8000 - val_loss: 0.3553 - val_accuracy: 0.7333\n",
            "Epoch 37/50\n",
            "12/12 [==============================] - 0s 6ms/step - loss: 0.2907 - accuracy: 0.8000 - val_loss: 0.3457 - val_accuracy: 0.7333\n",
            "Epoch 38/50\n",
            "12/12 [==============================] - 0s 5ms/step - loss: 0.2715 - accuracy: 0.8083 - val_loss: 0.4266 - val_accuracy: 0.7333\n",
            "Epoch 39/50\n",
            "12/12 [==============================] - 0s 4ms/step - loss: 0.2942 - accuracy: 0.8083 - val_loss: 0.3495 - val_accuracy: 0.7333\n",
            "Epoch 40/50\n",
            "12/12 [==============================] - 0s 4ms/step - loss: 0.2790 - accuracy: 0.8083 - val_loss: 0.3488 - val_accuracy: 0.7333\n",
            "Epoch 41/50\n",
            "12/12 [==============================] - 0s 6ms/step - loss: 0.2778 - accuracy: 0.8083 - val_loss: 0.3452 - val_accuracy: 0.7333\n",
            "Epoch 42/50\n",
            "12/12 [==============================] - 0s 4ms/step - loss: 0.3447 - accuracy: 0.8083 - val_loss: 0.3504 - val_accuracy: 0.7333\n",
            "Epoch 43/50\n",
            "12/12 [==============================] - 0s 4ms/step - loss: 0.2803 - accuracy: 0.8083 - val_loss: 0.3487 - val_accuracy: 0.7333\n",
            "Epoch 44/50\n",
            "12/12 [==============================] - 0s 6ms/step - loss: 0.2820 - accuracy: 0.8083 - val_loss: 0.3484 - val_accuracy: 0.7333\n",
            "Epoch 45/50\n",
            "12/12 [==============================] - 0s 4ms/step - loss: 0.2784 - accuracy: 0.8083 - val_loss: 0.3485 - val_accuracy: 0.7333\n",
            "Epoch 46/50\n",
            "12/12 [==============================] - 0s 5ms/step - loss: 0.2792 - accuracy: 0.8083 - val_loss: 0.3493 - val_accuracy: 0.7333\n",
            "Epoch 47/50\n",
            "12/12 [==============================] - 0s 4ms/step - loss: 0.2839 - accuracy: 0.8083 - val_loss: 0.3482 - val_accuracy: 0.7333\n",
            "Epoch 48/50\n",
            "12/12 [==============================] - 0s 4ms/step - loss: 0.2807 - accuracy: 0.8083 - val_loss: 0.3492 - val_accuracy: 0.7333\n",
            "Epoch 49/50\n",
            "12/12 [==============================] - 0s 4ms/step - loss: 0.2790 - accuracy: 0.8083 - val_loss: 0.3489 - val_accuracy: 0.7333\n",
            "Epoch 50/50\n",
            "12/12 [==============================] - 0s 4ms/step - loss: 0.2778 - accuracy: 0.8083 - val_loss: 0.3487 - val_accuracy: 0.7333\n"
          ]
        }
      ],
      "source": [
        "history = model.fit(x_train, y_Train, batch_size = 10, epochs=50, validation_split = 0.2, verbose = 1)"
      ]
    },
    {
      "cell_type": "code",
      "execution_count": 52,
      "metadata": {
        "id": "Cx0OeOas7161",
        "colab": {
          "base_uri": "https://localhost:8080/"
        },
        "outputId": "7aeff444-1d8b-4b03-e28d-bbc21ee4eda8"
      },
      "outputs": [
        {
          "output_type": "stream",
          "name": "stdout",
          "text": [
            "4/4 [==============================] - 0s 3ms/step\n",
            "4/4 [==============================] - 0s 3ms/step\n"
          ]
        }
      ],
      "source": [
        "y_predict = np.argmax(model.predict(x_test), axis=-1)\n",
        "y_pred = model.predict(x_test)\n",
        "y_pred=np.argmax(y_pred, axis=1)"
      ]
    },
    {
      "cell_type": "code",
      "execution_count": 53,
      "metadata": {
        "id": "2Hr27j_h8Klr",
        "colab": {
          "base_uri": "https://localhost:8080/"
        },
        "outputId": "1e396a37-fb7b-46be-bc76-e9585ad8311e"
      },
      "outputs": [
        {
          "output_type": "stream",
          "name": "stdout",
          "text": [
            "Classification Report : \n",
            "\n",
            "               precision    recall  f1-score   support\n",
            "\n",
            "         0.0       0.00      0.00      0.00       0.0\n",
            "         1.0       0.00      0.00      0.00     100.0\n",
            "\n",
            "    accuracy                           0.00     100.0\n",
            "   macro avg       0.00      0.00      0.00     100.0\n",
            "weighted avg       0.00      0.00      0.00     100.0\n",
            "\n"
          ]
        }
      ],
      "source": [
        "print(\"Classification Report : \\n\\n\", classification_report(y_Test, y_pred))"
      ]
    },
    {
      "cell_type": "code",
      "execution_count": 54,
      "metadata": {
        "id": "xGtMtodRC9En",
        "colab": {
          "base_uri": "https://localhost:8080/",
          "height": 424
        },
        "outputId": "f37670a5-6831-4f7b-8355-327fae546bd0"
      },
      "outputs": [
        {
          "output_type": "execute_result",
          "data": {
            "text/plain": [
              "                                                Input  \\\n",
              "0   /content/drive/MyDrive/ReCirCor/training_data/...   \n",
              "1   /content/drive/MyDrive/ReCirCor/training_data/...   \n",
              "2   /content/drive/MyDrive/ReCirCor/training_data/...   \n",
              "3   /content/drive/MyDrive/ReCirCor/training_data/...   \n",
              "4   /content/drive/MyDrive/ReCirCor/training_data/...   \n",
              "..                                                ...   \n",
              "95  /content/drive/MyDrive/ReCirCor/training_data/...   \n",
              "96  /content/drive/MyDrive/ReCirCor/training_data/...   \n",
              "97  /content/drive/MyDrive/ReCirCor/training_data/...   \n",
              "98  /content/drive/MyDrive/ReCirCor/training_data/...   \n",
              "99  /content/drive/MyDrive/ReCirCor/training_data/...   \n",
              "\n",
              "                                         Wav filename  Real Values  \\\n",
              "0   /content/drive/MyDrive/ReCirCor/training_data/...          1.0   \n",
              "1   /content/drive/MyDrive/ReCirCor/training_data/...          1.0   \n",
              "2   /content/drive/MyDrive/ReCirCor/training_data/...          1.0   \n",
              "3   /content/drive/MyDrive/ReCirCor/training_data/...          1.0   \n",
              "4   /content/drive/MyDrive/ReCirCor/training_data/...          1.0   \n",
              "..                                                ...          ...   \n",
              "95  /content/drive/MyDrive/ReCirCor/training_data/...          1.0   \n",
              "96  /content/drive/MyDrive/ReCirCor/training_data/...          1.0   \n",
              "97  /content/drive/MyDrive/ReCirCor/training_data/...          1.0   \n",
              "98  /content/drive/MyDrive/ReCirCor/training_data/...          1.0   \n",
              "99  /content/drive/MyDrive/ReCirCor/training_data/...          1.0   \n",
              "\n",
              "    Predicted Values  \n",
              "0                  0  \n",
              "1                  0  \n",
              "2                  0  \n",
              "3                  0  \n",
              "4                  0  \n",
              "..               ...  \n",
              "95                 0  \n",
              "96                 0  \n",
              "97                 0  \n",
              "98                 0  \n",
              "99                 0  \n",
              "\n",
              "[100 rows x 4 columns]"
            ],
            "text/html": [
              "\n",
              "  <div id=\"df-23f46683-b9ec-44b1-b4bf-ac664d5be477\">\n",
              "    <div class=\"colab-df-container\">\n",
              "      <div>\n",
              "<style scoped>\n",
              "    .dataframe tbody tr th:only-of-type {\n",
              "        vertical-align: middle;\n",
              "    }\n",
              "\n",
              "    .dataframe tbody tr th {\n",
              "        vertical-align: top;\n",
              "    }\n",
              "\n",
              "    .dataframe thead th {\n",
              "        text-align: right;\n",
              "    }\n",
              "</style>\n",
              "<table border=\"1\" class=\"dataframe\">\n",
              "  <thead>\n",
              "    <tr style=\"text-align: right;\">\n",
              "      <th></th>\n",
              "      <th>Input</th>\n",
              "      <th>Wav filename</th>\n",
              "      <th>Real Values</th>\n",
              "      <th>Predicted Values</th>\n",
              "    </tr>\n",
              "  </thead>\n",
              "  <tbody>\n",
              "    <tr>\n",
              "      <th>0</th>\n",
              "      <td>/content/drive/MyDrive/ReCirCor/training_data/...</td>\n",
              "      <td>/content/drive/MyDrive/ReCirCor/training_data/...</td>\n",
              "      <td>1.0</td>\n",
              "      <td>0</td>\n",
              "    </tr>\n",
              "    <tr>\n",
              "      <th>1</th>\n",
              "      <td>/content/drive/MyDrive/ReCirCor/training_data/...</td>\n",
              "      <td>/content/drive/MyDrive/ReCirCor/training_data/...</td>\n",
              "      <td>1.0</td>\n",
              "      <td>0</td>\n",
              "    </tr>\n",
              "    <tr>\n",
              "      <th>2</th>\n",
              "      <td>/content/drive/MyDrive/ReCirCor/training_data/...</td>\n",
              "      <td>/content/drive/MyDrive/ReCirCor/training_data/...</td>\n",
              "      <td>1.0</td>\n",
              "      <td>0</td>\n",
              "    </tr>\n",
              "    <tr>\n",
              "      <th>3</th>\n",
              "      <td>/content/drive/MyDrive/ReCirCor/training_data/...</td>\n",
              "      <td>/content/drive/MyDrive/ReCirCor/training_data/...</td>\n",
              "      <td>1.0</td>\n",
              "      <td>0</td>\n",
              "    </tr>\n",
              "    <tr>\n",
              "      <th>4</th>\n",
              "      <td>/content/drive/MyDrive/ReCirCor/training_data/...</td>\n",
              "      <td>/content/drive/MyDrive/ReCirCor/training_data/...</td>\n",
              "      <td>1.0</td>\n",
              "      <td>0</td>\n",
              "    </tr>\n",
              "    <tr>\n",
              "      <th>...</th>\n",
              "      <td>...</td>\n",
              "      <td>...</td>\n",
              "      <td>...</td>\n",
              "      <td>...</td>\n",
              "    </tr>\n",
              "    <tr>\n",
              "      <th>95</th>\n",
              "      <td>/content/drive/MyDrive/ReCirCor/training_data/...</td>\n",
              "      <td>/content/drive/MyDrive/ReCirCor/training_data/...</td>\n",
              "      <td>1.0</td>\n",
              "      <td>0</td>\n",
              "    </tr>\n",
              "    <tr>\n",
              "      <th>96</th>\n",
              "      <td>/content/drive/MyDrive/ReCirCor/training_data/...</td>\n",
              "      <td>/content/drive/MyDrive/ReCirCor/training_data/...</td>\n",
              "      <td>1.0</td>\n",
              "      <td>0</td>\n",
              "    </tr>\n",
              "    <tr>\n",
              "      <th>97</th>\n",
              "      <td>/content/drive/MyDrive/ReCirCor/training_data/...</td>\n",
              "      <td>/content/drive/MyDrive/ReCirCor/training_data/...</td>\n",
              "      <td>1.0</td>\n",
              "      <td>0</td>\n",
              "    </tr>\n",
              "    <tr>\n",
              "      <th>98</th>\n",
              "      <td>/content/drive/MyDrive/ReCirCor/training_data/...</td>\n",
              "      <td>/content/drive/MyDrive/ReCirCor/training_data/...</td>\n",
              "      <td>1.0</td>\n",
              "      <td>0</td>\n",
              "    </tr>\n",
              "    <tr>\n",
              "      <th>99</th>\n",
              "      <td>/content/drive/MyDrive/ReCirCor/training_data/...</td>\n",
              "      <td>/content/drive/MyDrive/ReCirCor/training_data/...</td>\n",
              "      <td>1.0</td>\n",
              "      <td>0</td>\n",
              "    </tr>\n",
              "  </tbody>\n",
              "</table>\n",
              "<p>100 rows × 4 columns</p>\n",
              "</div>\n",
              "      <button class=\"colab-df-convert\" onclick=\"convertToInteractive('df-23f46683-b9ec-44b1-b4bf-ac664d5be477')\"\n",
              "              title=\"Convert this dataframe to an interactive table.\"\n",
              "              style=\"display:none;\">\n",
              "        \n",
              "  <svg xmlns=\"http://www.w3.org/2000/svg\" height=\"24px\"viewBox=\"0 0 24 24\"\n",
              "       width=\"24px\">\n",
              "    <path d=\"M0 0h24v24H0V0z\" fill=\"none\"/>\n",
              "    <path d=\"M18.56 5.44l.94 2.06.94-2.06 2.06-.94-2.06-.94-.94-2.06-.94 2.06-2.06.94zm-11 1L8.5 8.5l.94-2.06 2.06-.94-2.06-.94L8.5 2.5l-.94 2.06-2.06.94zm10 10l.94 2.06.94-2.06 2.06-.94-2.06-.94-.94-2.06-.94 2.06-2.06.94z\"/><path d=\"M17.41 7.96l-1.37-1.37c-.4-.4-.92-.59-1.43-.59-.52 0-1.04.2-1.43.59L10.3 9.45l-7.72 7.72c-.78.78-.78 2.05 0 2.83L4 21.41c.39.39.9.59 1.41.59.51 0 1.02-.2 1.41-.59l7.78-7.78 2.81-2.81c.8-.78.8-2.07 0-2.86zM5.41 20L4 18.59l7.72-7.72 1.47 1.35L5.41 20z\"/>\n",
              "  </svg>\n",
              "      </button>\n",
              "      \n",
              "  <style>\n",
              "    .colab-df-container {\n",
              "      display:flex;\n",
              "      flex-wrap:wrap;\n",
              "      gap: 12px;\n",
              "    }\n",
              "\n",
              "    .colab-df-convert {\n",
              "      background-color: #E8F0FE;\n",
              "      border: none;\n",
              "      border-radius: 50%;\n",
              "      cursor: pointer;\n",
              "      display: none;\n",
              "      fill: #1967D2;\n",
              "      height: 32px;\n",
              "      padding: 0 0 0 0;\n",
              "      width: 32px;\n",
              "    }\n",
              "\n",
              "    .colab-df-convert:hover {\n",
              "      background-color: #E2EBFA;\n",
              "      box-shadow: 0px 1px 2px rgba(60, 64, 67, 0.3), 0px 1px 3px 1px rgba(60, 64, 67, 0.15);\n",
              "      fill: #174EA6;\n",
              "    }\n",
              "\n",
              "    [theme=dark] .colab-df-convert {\n",
              "      background-color: #3B4455;\n",
              "      fill: #D2E3FC;\n",
              "    }\n",
              "\n",
              "    [theme=dark] .colab-df-convert:hover {\n",
              "      background-color: #434B5C;\n",
              "      box-shadow: 0px 1px 3px 1px rgba(0, 0, 0, 0.15);\n",
              "      filter: drop-shadow(0px 1px 2px rgba(0, 0, 0, 0.3));\n",
              "      fill: #FFFFFF;\n",
              "    }\n",
              "  </style>\n",
              "\n",
              "      <script>\n",
              "        const buttonEl =\n",
              "          document.querySelector('#df-23f46683-b9ec-44b1-b4bf-ac664d5be477 button.colab-df-convert');\n",
              "        buttonEl.style.display =\n",
              "          google.colab.kernel.accessAllowed ? 'block' : 'none';\n",
              "\n",
              "        async function convertToInteractive(key) {\n",
              "          const element = document.querySelector('#df-23f46683-b9ec-44b1-b4bf-ac664d5be477');\n",
              "          const dataTable =\n",
              "            await google.colab.kernel.invokeFunction('convertToInteractive',\n",
              "                                                     [key], {});\n",
              "          if (!dataTable) return;\n",
              "\n",
              "          const docLinkHtml = 'Like what you see? Visit the ' +\n",
              "            '<a target=\"_blank\" href=https://colab.research.google.com/notebooks/data_table.ipynb>data table notebook</a>'\n",
              "            + ' to learn more about interactive tables.';\n",
              "          element.innerHTML = '';\n",
              "          dataTable['output_type'] = 'display_data';\n",
              "          await google.colab.output.renderOutput(dataTable, element);\n",
              "          const docLink = document.createElement('div');\n",
              "          docLink.innerHTML = docLinkHtml;\n",
              "          element.appendChild(docLink);\n",
              "        }\n",
              "      </script>\n",
              "    </div>\n",
              "  </div>\n",
              "  "
            ]
          },
          "metadata": {},
          "execution_count": 54
        }
      ],
      "source": [
        "df = pd.DataFrame({'Input':X_test, 'Wav filename':X_test, 'Real Values':y_Test, 'Predicted Values':y_pred})\n",
        "df"
      ]
    },
    {
      "cell_type": "code",
      "execution_count": 55,
      "metadata": {
        "id": "3VRoiiidJYyx",
        "colab": {
          "base_uri": "https://localhost:8080/"
        },
        "outputId": "d507db42-a156-41e0-8eef-1acfe313f6ea"
      },
      "outputs": [
        {
          "output_type": "execute_result",
          "data": {
            "text/plain": [
              "AdaBoostClassifier(n_estimators=100, random_state=0)"
            ]
          },
          "metadata": {},
          "execution_count": 55
        }
      ],
      "source": [
        "from sklearn.ensemble import AdaBoostClassifier\n",
        "from sklearn.datasets import make_classification\n",
        "clf = AdaBoostClassifier(n_estimators=100, random_state=0)\n",
        "clf.fit(x_train, y_Train)"
      ]
    },
    {
      "cell_type": "code",
      "execution_count": 56,
      "metadata": {
        "id": "ZKLspsm5Kejh",
        "colab": {
          "base_uri": "https://localhost:8080/"
        },
        "outputId": "e65b7a22-370f-4012-be70-8a319bf01cdc"
      },
      "outputs": [
        {
          "output_type": "execute_result",
          "data": {
            "text/plain": [
              "1.0"
            ]
          },
          "metadata": {},
          "execution_count": 56
        }
      ],
      "source": [
        "clf.score(x_test, y_Test)"
      ]
    },
    {
      "cell_type": "code",
      "execution_count": 57,
      "metadata": {
        "id": "VAaIYhFPKjSR",
        "colab": {
          "base_uri": "https://localhost:8080/"
        },
        "outputId": "44f63095-729c-48fa-8322-1e6a0b928558"
      },
      "outputs": [
        {
          "output_type": "stream",
          "name": "stdout",
          "text": [
            "Classification Report : \n",
            "\n",
            "               precision    recall  f1-score   support\n",
            "\n",
            "         1.0       1.00      1.00      1.00       100\n",
            "\n",
            "    accuracy                           1.00       100\n",
            "   macro avg       1.00      1.00      1.00       100\n",
            "weighted avg       1.00      1.00      1.00       100\n",
            "\n"
          ]
        }
      ],
      "source": [
        "y_pred1 = clf.predict(x_test)\n",
        "print(\"Classification Report : \\n\\n\", classification_report(y_Test, y_pred1))"
      ]
    },
    {
      "cell_type": "code",
      "execution_count": 59,
      "metadata": {
        "id": "-CdkIHBvKwY0"
      },
      "outputs": [],
      "source": [
        "from sklearn.ensemble import GradientBoostingClassifier\n",
        "from sklearn.ensemble import RandomForestClassifier\n",
        "from sklearn.linear_model import SGDClassifier\n",
        "from sklearn.svm import LinearSVC\n",
        "from sklearn.svm import SVC"
      ]
    },
    {
      "cell_type": "code",
      "execution_count": 60,
      "metadata": {
        "id": "_ngbxGLFB4HK",
        "colab": {
          "base_uri": "https://localhost:8080/"
        },
        "outputId": "0cce4130-3dca-4ddc-e16a-dd8372bfbf05"
      },
      "outputs": [
        {
          "output_type": "execute_result",
          "data": {
            "text/plain": [
              "1.0"
            ]
          },
          "metadata": {},
          "execution_count": 60
        }
      ],
      "source": [
        "clf2 = LinearSVC(penalty='l2', loss='hinge')\n",
        "clf2.fit(x_train, y_Train)\n",
        "clf2.score(x_test, y_Test)"
      ]
    },
    {
      "cell_type": "code",
      "execution_count": 61,
      "metadata": {
        "id": "WRIR32oVCxuF",
        "colab": {
          "base_uri": "https://localhost:8080/"
        },
        "outputId": "2b2db3f3-8c41-4d4d-f2fe-ca3a3673f094"
      },
      "outputs": [
        {
          "output_type": "stream",
          "name": "stdout",
          "text": [
            "Classification Report : \n",
            "\n",
            "               precision    recall  f1-score   support\n",
            "\n",
            "         1.0       1.00      1.00      1.00       100\n",
            "\n",
            "    accuracy                           1.00       100\n",
            "   macro avg       1.00      1.00      1.00       100\n",
            "weighted avg       1.00      1.00      1.00       100\n",
            "\n"
          ]
        }
      ],
      "source": [
        "y_pred2 = clf2.predict(x_test)\n",
        "print(\"Classification Report : \\n\\n\", classification_report(y_Test, y_pred2))"
      ]
    },
    {
      "cell_type": "code",
      "execution_count": 62,
      "metadata": {
        "id": "-RZmdLs9ONie"
      },
      "outputs": [],
      "source": [
        "clf4 = SGDClassifier(loss = 'hinge').fit(x_train, y_Train)"
      ]
    },
    {
      "cell_type": "code",
      "execution_count": 63,
      "metadata": {
        "id": "vQdTWEMfOmRd",
        "colab": {
          "base_uri": "https://localhost:8080/"
        },
        "outputId": "e2495293-42d5-4288-a108-0d1eb909e07b"
      },
      "outputs": [
        {
          "output_type": "execute_result",
          "data": {
            "text/plain": [
              "1.0"
            ]
          },
          "metadata": {},
          "execution_count": 63
        }
      ],
      "source": [
        "clf4.score(x_test, y_Test)"
      ]
    },
    {
      "cell_type": "code",
      "execution_count": 64,
      "metadata": {
        "id": "Ssg51r4IOogK",
        "colab": {
          "base_uri": "https://localhost:8080/"
        },
        "outputId": "d7d37dac-0792-4924-99fe-7b6899bb000d"
      },
      "outputs": [
        {
          "output_type": "stream",
          "name": "stdout",
          "text": [
            "Classification Report : \n",
            "\n",
            "               precision    recall  f1-score   support\n",
            "\n",
            "         1.0       1.00      1.00      1.00       100\n",
            "\n",
            "    accuracy                           1.00       100\n",
            "   macro avg       1.00      1.00      1.00       100\n",
            "weighted avg       1.00      1.00      1.00       100\n",
            "\n"
          ]
        }
      ],
      "source": [
        "y_pred4 = clf4.predict(x_test)\n",
        "#y_pred=np.argmax(y_pred, axis=1)\n",
        "print(\"Classification Report : \\n\\n\", classification_report(y_Test, y_pred4))"
      ]
    }
  ],
  "metadata": {
    "colab": {
      "collapsed_sections": [],
      "provenance": []
    },
    "kernelspec": {
      "display_name": "Python 3",
      "name": "python3"
    },
    "language_info": {
      "name": "python"
    }
  },
  "nbformat": 4,
  "nbformat_minor": 0
}